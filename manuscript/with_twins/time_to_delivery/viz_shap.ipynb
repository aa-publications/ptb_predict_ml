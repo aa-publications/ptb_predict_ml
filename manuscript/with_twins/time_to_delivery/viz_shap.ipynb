{
 "cells": [
  {
   "cell_type": "code",
   "execution_count": 1,
   "metadata": {},
   "outputs": [
    {
     "data": {
      "text/html": [
       "<style>.container {width:90% !important; }</style>"
      ],
      "text/plain": [
       "<IPython.core.display.HTML object>"
      ]
     },
     "metadata": {},
     "output_type": "display_data"
    }
   ],
   "source": [
    "import os, sys\n",
    "import numpy as np\n",
    "import pandas as pd \n",
    "import seaborn as sns\n",
    "import matplotlib.pyplot as plt \n",
    "import glob \n",
    "import pickle \n",
    "\n",
    "\n",
    "from datetime import datetime\n",
    "from IPython.core.interactiveshell import InteractiveShell\n",
    "InteractiveShell.ast_node_interactivity = \"all\" \n",
    "from IPython.core.display import display, HTML    \n",
    "display(HTML(\"<style>.container {width:90% !important; }</style>\"))\n",
    "%matplotlib inline\n",
    "np.set_printoptions(precision=5, suppress=True) \n",
    "\n",
    "DATE = datetime.now().strftime('%Y-%m-%d')"
   ]
  },
  {
   "cell_type": "code",
   "execution_count": 2,
   "metadata": {},
   "outputs": [],
   "source": [
    "%load_ext rpy2.ipython"
   ]
  },
  {
   "cell_type": "code",
   "execution_count": 3,
   "metadata": {},
   "outputs": [],
   "source": [
    "sys.path.append(\"/dors/capra_lab/users/abraha1/projects/PTB_phenotyping/scripts/rand_forest_ptb_classification/manuscript/0_helper_func\")\n",
    "from manip_trained_models_funcs import unpack_input_data, upickle_xgbmodel, extract_train_df, extract_test_df\n",
    "\n",
    "sys.path.append(\"/dors/capra_lab/users/abraha1/projects/PTB_phenotyping/scripts/rand_forest_ptb_classification/shap_feat_importance/\")\n",
    "from shaply_funcs import filter_shap"
   ]
  },
  {
   "cell_type": "code",
   "execution_count": 4,
   "metadata": {},
   "outputs": [],
   "source": [
    "FEAT_DIR=\"/dors/capra_lab/users/abraha1/projects/PTB_phenotyping/results/ptb_predict_machine_learning/2019-02-02_manuscript_time_to_delivery_icd_cpt/without_age_race_count/up_to_90_days/\"\n",
    "SHAP_VAL_DIR=\"/dors/capra_lab/users/abraha1/projects/PTB_phenotyping/scripts/rand_forest_ptb_classification/manuscript/time_to_delivery/feature_importance/shap_pickle\"\n",
    "\n",
    "INPUT_DF_FILE=os.path.join(FEAT_DIR, 'input_data_up_to_90_days_before_delivery_icd9_cpt_count-2019-02-16.tsv')\n",
    "XGB_MODEL_FILE=os.path.join(FEAT_DIR, 'best_xgb_model_up_to_90_days_before_delivery_icd9_cpt_count-2019-02-16.pickle')\n",
    "SHAP_TRAIN_PICKLE = os.path.join(SHAP_VAL_DIR, '2019-06-13_up_to_90_days_shap_train.pickle')\n",
    "SHAP_TEST_PICKLE = os.path.join(SHAP_VAL_DIR, '2019-06-13_up_to_90_days_shap_test.pickle')\n",
    "\n",
    "\n",
    "OUTPUT_DIR=\"/dors/capra_lab/users/abraha1/projects/PTB_phenotyping/scripts/rand_forest_ptb_classification/manuscript/time_to_delivery/\""
   ]
  },
  {
   "cell_type": "code",
   "execution_count": 5,
   "metadata": {},
   "outputs": [],
   "source": [
    "def melt_feat_and_shap(shap_array, df_w_labels, top_feats_df):\n",
    "    \"\"\"Short summary.\n",
    "\n",
    "    Parameters\n",
    "    ----------\n",
    "    shap_array : numpy array\n",
    "        shap values w/ GRIDs (rows) and features (columns)\n",
    "        NOTE: last column is expected to be the sum of the row in shap array\n",
    "\n",
    "    df_w_labels : pd.DataFrame\n",
    "        GRIDs(row) by features (columns) w/ value of the feature. last two columns are 'label' and 'partition'\n",
    "\n",
    "    top_feats_df : pd.DataFrame\n",
    "        top feature extracted based on shap\n",
    "\n",
    "    Returns\n",
    "    -------\n",
    "    top_feat_shap_df: pd.DataFrame\n",
    "        Long dataframe with one row per GRID-FEATURE-FEATURE_VALUE-SHAP_VALUE\n",
    "\n",
    "    \"\"\"\n",
    "\n",
    "    # convert shap array to df w/ GRIDS as index and column names\n",
    "    shap_df = pd.DataFrame(shap_array[:,:-1], columns = df_w_labels.iloc[:, 1:-2].columns)\n",
    "    shap_df.index = df_w_labels.GRID\n",
    "    shap_df.reset_index(inplace=True)\n",
    "\n",
    "    # keep only the top features\n",
    "    col_to_keep=['GRID'] + top_feats_df.feature.tolist()\n",
    "    top_shap_df = shap_df.loc[:, col_to_keep]\n",
    "    top_feat_df = df_w_labels.loc[:, col_to_keep]\n",
    "\n",
    "    # melt so that one row per GRID-FEATURE-FEATURE_VALUE-SHAP_VALUE\n",
    "    long_top_feat_count_df = pd.melt(top_feat_df, id_vars=\"GRID\", var_name='feat', value_name='feat_count')\n",
    "    long_top_shap_df = pd.melt(top_shap_df, id_vars=\"GRID\", var_name='feat', value_name='feat_shap')\n",
    "\n",
    "    top_feat_shap_df = pd.merge(long_top_feat_count_df, long_top_shap_df, on=['GRID','feat'], how='inner')\n",
    "\n",
    "    return top_feat_shap_df"
   ]
  },
  {
   "cell_type": "markdown",
   "metadata": {},
   "source": [
    "# MAIN"
   ]
  },
  {
   "cell_type": "code",
   "execution_count": 6,
   "metadata": {},
   "outputs": [
    {
     "name": "stdout",
     "output_type": "stream",
     "text": [
      "loading input_data_up_to_90_days_before_delivery_icd9_cpt_count-2019-02-16.tsv ...\n",
      "loading best_xgb_model_up_to_90_days_before_delivery_icd9_cpt_count-2019-02-16.pickle ...\n",
      "done loading. took 1.80 minutes\n"
     ]
    },
    {
     "name": "stderr",
     "output_type": "stream",
     "text": [
      "/dors/capra_lab/users/abraha1/conda/envs/py36_r_ml/lib/python3.6/site-packages/sklearn/base.py:251: UserWarning: Trying to unpickle estimator LabelEncoder from version 0.20.1 when using version 0.20.2. This might lead to breaking code or invalid results. Use at your own risk.\n",
      "  UserWarning)\n"
     ]
    }
   ],
   "source": [
    "# load feature matrix, labels, and xgboost model\n",
    "X_train, y_train, X_test, y_test, xgb_model, input_df =  unpack_input_data(INPUT_DF_FILE, XGB_MODEL_FILE)\n",
    "train_df, train_df_w_labels = extract_train_df(input_df)\n",
    "test_df, test_df_w_labels = extract_test_df(input_df)\n"
   ]
  },
  {
   "cell_type": "code",
   "execution_count": 7,
   "metadata": {},
   "outputs": [],
   "source": [
    "\n",
    "# load pickled shap values\n",
    "train_shap = pickle.load( open( SHAP_TRAIN_PICKLE, 'rb'))\n",
    "test_shap = pickle.load( open( SHAP_TEST_PICKLE, 'rb'))\n",
    "\n",
    "# take top 10 shap features\n",
    "train_top_feats_descrip = filter_shap(train_shap[:,:-1], train_df, top_n=10)\n",
    "long_shap_feat_df = melt_feat_and_shap(train_shap, train_df_w_labels, train_top_feats_descrip)"
   ]
  },
  {
   "cell_type": "code",
   "execution_count": 8,
   "metadata": {},
   "outputs": [
    {
     "data": {
      "text/html": [
       "<div>\n",
       "<style scoped>\n",
       "    .dataframe tbody tr th:only-of-type {\n",
       "        vertical-align: middle;\n",
       "    }\n",
       "\n",
       "    .dataframe tbody tr th {\n",
       "        vertical-align: top;\n",
       "    }\n",
       "\n",
       "    .dataframe thead th {\n",
       "        text-align: right;\n",
       "    }\n",
       "</style>\n",
       "<table border=\"1\" class=\"dataframe\">\n",
       "  <thead>\n",
       "    <tr style=\"text-align: right;\">\n",
       "      <th></th>\n",
       "      <th>GRID</th>\n",
       "      <th>feat</th>\n",
       "      <th>feat_count</th>\n",
       "      <th>feat_shap</th>\n",
       "    </tr>\n",
       "  </thead>\n",
       "  <tbody>\n",
       "    <tr>\n",
       "      <th>0</th>\n",
       "      <td>R200006865</td>\n",
       "      <td>82950</td>\n",
       "      <td>1.0</td>\n",
       "      <td>-1.419176</td>\n",
       "    </tr>\n",
       "    <tr>\n",
       "      <th>1</th>\n",
       "      <td>R200021053</td>\n",
       "      <td>82950</td>\n",
       "      <td>0.0</td>\n",
       "      <td>0.351517</td>\n",
       "    </tr>\n",
       "    <tr>\n",
       "      <th>2</th>\n",
       "      <td>R200021270</td>\n",
       "      <td>82950</td>\n",
       "      <td>0.0</td>\n",
       "      <td>0.322940</td>\n",
       "    </tr>\n",
       "    <tr>\n",
       "      <th>3</th>\n",
       "      <td>R200021729</td>\n",
       "      <td>82950</td>\n",
       "      <td>0.0</td>\n",
       "      <td>0.393706</td>\n",
       "    </tr>\n",
       "    <tr>\n",
       "      <th>4</th>\n",
       "      <td>R200026839</td>\n",
       "      <td>82950</td>\n",
       "      <td>0.0</td>\n",
       "      <td>0.408525</td>\n",
       "    </tr>\n",
       "  </tbody>\n",
       "</table>\n",
       "</div>"
      ],
      "text/plain": [
       "         GRID   feat  feat_count  feat_shap\n",
       "0  R200006865  82950         1.0  -1.419176\n",
       "1  R200021053  82950         0.0   0.351517\n",
       "2  R200021270  82950         0.0   0.322940\n",
       "3  R200021729  82950         0.0   0.393706\n",
       "4  R200026839  82950         0.0   0.408525"
      ]
     },
     "execution_count": 8,
     "metadata": {},
     "output_type": "execute_result"
    }
   ],
   "source": [
    "long_shap_feat_df.head()"
   ]
  },
  {
   "cell_type": "code",
   "execution_count": 9,
   "metadata": {},
   "outputs": [
    {
     "data": {
      "text/plain": [
       "array(['82950', 'V22.0', '76805', '0502F', 'V22.1', '76811', 'V28.81',\n",
       "       '76816', '86850', 'V28.3'], dtype=object)"
      ]
     },
     "execution_count": 9,
     "metadata": {},
     "output_type": "execute_result"
    }
   ],
   "source": [
    "long_shap_feat_df.feat.unique()"
   ]
  },
  {
   "cell_type": "code",
   "execution_count": 10,
   "metadata": {},
   "outputs": [],
   "source": [
    "df = pd.read_csv(os.path.join(OUTPUT_DIR, 'long_shap_feat_df.tsv'), sep=\"\\t\")"
   ]
  },
  {
   "cell_type": "code",
   "execution_count": 11,
   "metadata": {},
   "outputs": [
    {
     "data": {
      "text/html": [
       "<div>\n",
       "<style scoped>\n",
       "    .dataframe tbody tr th:only-of-type {\n",
       "        vertical-align: middle;\n",
       "    }\n",
       "\n",
       "    .dataframe tbody tr th {\n",
       "        vertical-align: top;\n",
       "    }\n",
       "\n",
       "    .dataframe thead th {\n",
       "        text-align: right;\n",
       "    }\n",
       "</style>\n",
       "<table border=\"1\" class=\"dataframe\">\n",
       "  <thead>\n",
       "    <tr style=\"text-align: right;\">\n",
       "      <th></th>\n",
       "      <th>GRID</th>\n",
       "      <th>feat</th>\n",
       "      <th>feat_count</th>\n",
       "      <th>feat_shap</th>\n",
       "    </tr>\n",
       "  </thead>\n",
       "  <tbody>\n",
       "    <tr>\n",
       "      <th>0</th>\n",
       "      <td>R200006865</td>\n",
       "      <td>82950</td>\n",
       "      <td>1.0</td>\n",
       "      <td>-1.419176</td>\n",
       "    </tr>\n",
       "    <tr>\n",
       "      <th>1</th>\n",
       "      <td>R200021053</td>\n",
       "      <td>82950</td>\n",
       "      <td>0.0</td>\n",
       "      <td>0.351517</td>\n",
       "    </tr>\n",
       "    <tr>\n",
       "      <th>2</th>\n",
       "      <td>R200021270</td>\n",
       "      <td>82950</td>\n",
       "      <td>0.0</td>\n",
       "      <td>0.322940</td>\n",
       "    </tr>\n",
       "    <tr>\n",
       "      <th>3</th>\n",
       "      <td>R200021729</td>\n",
       "      <td>82950</td>\n",
       "      <td>0.0</td>\n",
       "      <td>0.393706</td>\n",
       "    </tr>\n",
       "    <tr>\n",
       "      <th>4</th>\n",
       "      <td>R200026839</td>\n",
       "      <td>82950</td>\n",
       "      <td>0.0</td>\n",
       "      <td>0.408525</td>\n",
       "    </tr>\n",
       "  </tbody>\n",
       "</table>\n",
       "</div>"
      ],
      "text/plain": [
       "         GRID   feat  feat_count  feat_shap\n",
       "0  R200006865  82950         1.0  -1.419176\n",
       "1  R200021053  82950         0.0   0.351517\n",
       "2  R200021270  82950         0.0   0.322940\n",
       "3  R200021729  82950         0.0   0.393706\n",
       "4  R200026839  82950         0.0   0.408525"
      ]
     },
     "execution_count": 11,
     "metadata": {},
     "output_type": "execute_result"
    }
   ],
   "source": [
    "df.head()"
   ]
  },
  {
   "cell_type": "code",
   "execution_count": 12,
   "metadata": {},
   "outputs": [
    {
     "data": {
      "text/plain": [
       "array(['82950', 'V22.0', '76805', '0502F', 'V22.1', '76811', 'V28.81',\n",
       "       '76816', '86850', 'V28.3'], dtype=object)"
      ]
     },
     "execution_count": 12,
     "metadata": {},
     "output_type": "execute_result"
    }
   ],
   "source": [
    "df.feat.unique()"
   ]
  },
  {
   "cell_type": "code",
   "execution_count": null,
   "metadata": {},
   "outputs": [],
   "source": []
  }
 ],
 "metadata": {
  "kernelspec": {
   "display_name": "Python 3",
   "language": "python",
   "name": "python3"
  },
  "language_info": {
   "codemirror_mode": {
    "name": "ipython",
    "version": 3
   },
   "file_extension": ".py",
   "mimetype": "text/x-python",
   "name": "python",
   "nbconvert_exporter": "python",
   "pygments_lexer": "ipython3",
   "version": "3.6.7"
  }
 },
 "nbformat": 4,
 "nbformat_minor": 2
}
