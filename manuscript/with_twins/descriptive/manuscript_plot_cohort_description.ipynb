{
 "cells": [
  {
   "cell_type": "code",
   "execution_count": 1,
   "metadata": {
    "ExecuteTime": {
     "end_time": "2020-07-01T16:09:22.367091Z",
     "start_time": "2020-07-01T16:09:14.712011Z"
    }
   },
   "outputs": [
    {
     "data": {
      "text/html": [
       "<style>.container {width:98% !important; }</style>"
      ],
      "text/plain": [
       "<IPython.core.display.HTML object>"
      ]
     },
     "metadata": {},
     "output_type": "display_data"
    }
   ],
   "source": [
    "import os, sys\n",
    "import numpy as np\n",
    "import pandas as pd \n",
    "import seaborn as sns\n",
    "import matplotlib.pyplot as plt \n",
    "import glob \n",
    "\n",
    "from IPython.core.interactiveshell import InteractiveShell\n",
    "InteractiveShell.ast_node_interactivity = \"all\" \n",
    "from IPython.core.display import display, HTML    \n",
    "display(HTML(\"<style>.container {width:98% !important; }</style>\"))\n",
    "%matplotlib inline\n",
    "np.set_printoptions(precision=5, suppress=True) \n",
    "\n",
    "from datetime import datetime\n",
    "DATE = datetime.now().strftime('%Y-%m-%d')"
   ]
  },
  {
   "cell_type": "code",
   "execution_count": 2,
   "metadata": {
    "ExecuteTime": {
     "end_time": "2020-07-01T16:09:23.099126Z",
     "start_time": "2020-07-01T16:09:22.369634Z"
    }
   },
   "outputs": [],
   "source": [
    "sys.path.append('/dors/capra_lab/users/abraha1/projects/PTB_phenotyping/scripts/rand_forest_ptb_classification')\n",
    "from train_test_rf import load_labels"
   ]
  },
  {
   "cell_type": "code",
   "execution_count": 3,
   "metadata": {
    "ExecuteTime": {
     "end_time": "2020-07-01T16:09:25.044347Z",
     "start_time": "2020-07-01T16:09:23.103873Z"
    }
   },
   "outputs": [],
   "source": [
    "%load_ext rpy2.ipython"
   ]
  },
  {
   "cell_type": "code",
   "execution_count": 4,
   "metadata": {
    "ExecuteTime": {
     "end_time": "2020-07-01T16:09:25.053959Z",
     "start_time": "2020-07-01T16:09:25.047673Z"
    }
   },
   "outputs": [],
   "source": [
    "# PATH\n",
    "DELIVERY_LABELS_FILE = \"/dors/capra_lab/users/abraha1/projects/PTB_phenotyping/data/combined_cohorts_07_12_2018/full_dataset_characterization/est_delivery_date_at_least_one_icd_cpt_ega.tsv\"\n",
    "RACE_FILE = \"/dors/capra_lab/users/abraha1/projects/PTB_phenotyping/data/ptb_predict_machine_learning/demographics/demographics_matrix.tsv\"\n",
    "AGE_FILE=\"/dors/capra_lab/users/abraha1/projects/PTB_phenotyping/data/ptb_predict_machine_learning/demographics/years_at_delivery_matrix.tsv\"\n",
    "OB_STRU_FILE=\"/dors/capra_lab/users/abraha1/projects/PTB_phenotyping/data/ptb_predict_machine_learning/ob_notes_variables/filtered_wide_ob_notes_w_na_binary_and_counts.tsv\"\n",
    "OB_UNSTRUC_FILE=\"/dors/capra_lab/users/abraha1/projects/PTB_phenotyping/data/ptb_predict_machine_learning/feature_matrices/ob_notes_unstruct/filtered_cui_counts_ob_notes_feat_mat.tsv\"\n",
    "BINARY_LABS_FILE=\"/dors/capra_lab/users/abraha1/projects/PTB_phenotyping/data/ptb_predict_machine_learning/feature_matrices/clincal_labs/binary_feat_matrix/binary_present_labs_first_preg_all_stats_feat_mat.tsv\"\n",
    "PRS_FILE=\"/dors/capra_lab/users/abraha1/projects/PTB_phenotyping/scripts/polygenic_risk_scores/zhang_with_covars/GRID_PRS.tsv\""
   ]
  },
  {
   "cell_type": "code",
   "execution_count": 5,
   "metadata": {
    "ExecuteTime": {
     "end_time": "2020-07-01T16:09:25.090018Z",
     "start_time": "2020-07-01T16:09:25.056240Z"
    }
   },
   "outputs": [],
   "source": [
    "AGE_RACE_DATASET=\"/dors/capra_lab/users/abraha1/projects/PTB_phenotyping/results/ptb_predict_machine_learning/2019-01-21_manuscript_add_ehr_data/age_race/input_data_vs_age_race__icd_cpt-2019-02-03.tsv\""
   ]
  },
  {
   "cell_type": "code",
   "execution_count": 6,
   "metadata": {
    "ExecuteTime": {
     "end_time": "2020-07-01T16:09:25.100271Z",
     "start_time": "2020-07-01T16:09:25.094877Z"
    }
   },
   "outputs": [],
   "source": [
    "OUTPUT_DIR=\"/dors/capra_lab/users/abraha1/projects/PTB_phenotyping/scripts/rand_forest_ptb_classification/manuscript/descriptive\""
   ]
  },
  {
   "cell_type": "markdown",
   "metadata": {},
   "source": [
    "# Main"
   ]
  },
  {
   "cell_type": "code",
   "execution_count": 7,
   "metadata": {
    "ExecuteTime": {
     "end_time": "2020-07-01T16:12:37.825805Z",
     "start_time": "2020-07-01T16:09:25.102398Z"
    }
   },
   "outputs": [
    {
     "name": "stdout",
     "output_type": "stream",
     "text": [
      "Loading delivery labels...\n",
      "\t0 out of 39008\n",
      "\t5000 out of 39008\n",
      "\t10000 out of 39008\n",
      "\t15000 out of 39008\n",
      "\t20000 out of 39008\n",
      "\t25000 out of 39008\n",
      "\t30000 out of 39008\n",
      "\t35000 out of 39008\n",
      "\tCreated delivery-type labels df with shape:36379,3\n"
     ]
    }
   ],
   "source": [
    "# load the first delivery label \n",
    "final_labels_df = load_labels(DELIVERY_LABELS_FILE)"
   ]
  },
  {
   "cell_type": "code",
   "execution_count": 8,
   "metadata": {
    "ExecuteTime": {
     "end_time": "2020-07-01T16:12:37.850253Z",
     "start_time": "2020-07-01T16:12:37.828579Z"
    }
   },
   "outputs": [
    {
     "data": {
      "text/plain": [
       "(36379, 3)"
      ]
     },
     "execution_count": 8,
     "metadata": {},
     "output_type": "execute_result"
    },
    {
     "data": {
      "text/plain": [
       "36379"
      ]
     },
     "execution_count": 8,
     "metadata": {},
     "output_type": "execute_result"
    }
   ],
   "source": [
    "final_labels_df.shape\n",
    "final_labels_df.GRID.nunique()\n",
    "grid_label_dict = dict(zip(final_labels_df.GRID, final_labels_df.label))"
   ]
  },
  {
   "cell_type": "code",
   "execution_count": 9,
   "metadata": {
    "ExecuteTime": {
     "end_time": "2020-07-01T16:12:38.047741Z",
     "start_time": "2020-07-01T16:12:37.854049Z"
    }
   },
   "outputs": [],
   "source": [
    "# load age and race df\n",
    "age_df = pd.read_csv(AGE_FILE, sep=\"\\t\")\n",
    "race_df = pd.read_csv(RACE_FILE, sep=\"\\t\")"
   ]
  },
  {
   "cell_type": "code",
   "execution_count": 10,
   "metadata": {
    "ExecuteTime": {
     "end_time": "2020-07-01T16:12:38.065315Z",
     "start_time": "2020-07-01T16:12:38.050279Z"
    }
   },
   "outputs": [
    {
     "data": {
      "text/plain": [
       "(36379, 2)"
      ]
     },
     "execution_count": 10,
     "metadata": {},
     "output_type": "execute_result"
    },
    {
     "data": {
      "text/plain": [
       "36379"
      ]
     },
     "execution_count": 10,
     "metadata": {},
     "output_type": "execute_result"
    }
   ],
   "source": [
    "age_df.shape\n",
    "age_df.GRID.nunique()"
   ]
  },
  {
   "cell_type": "code",
   "execution_count": 11,
   "metadata": {
    "ExecuteTime": {
     "end_time": "2020-07-01T16:12:53.321695Z",
     "start_time": "2020-07-01T16:12:38.067434Z"
    }
   },
   "outputs": [],
   "source": [
    "# load the GRIDS that were used to compare how much performance gain there is when adding age and race\n",
    "grids_df=pd.read_csv(AGE_RACE_DATASET, sep=\"\\t\", usecols=['GRID'])\n",
    "\n",
    "# keep only GRIDS that were in the above group\n",
    "keep_age_df = age_df[age_df.GRID.isin(grids_df.GRID)].copy()"
   ]
  },
  {
   "cell_type": "code",
   "execution_count": 12,
   "metadata": {
    "ExecuteTime": {
     "end_time": "2020-07-01T16:12:53.415183Z",
     "start_time": "2020-07-01T16:12:53.323833Z"
    }
   },
   "outputs": [
    {
     "data": {
      "text/html": [
       "<div>\n",
       "<style scoped>\n",
       "    .dataframe tbody tr th:only-of-type {\n",
       "        vertical-align: middle;\n",
       "    }\n",
       "\n",
       "    .dataframe tbody tr th {\n",
       "        vertical-align: top;\n",
       "    }\n",
       "\n",
       "    .dataframe thead th {\n",
       "        text-align: right;\n",
       "    }\n",
       "</style>\n",
       "<table border=\"1\" class=\"dataframe\">\n",
       "  <thead>\n",
       "    <tr style=\"text-align: right;\">\n",
       "      <th></th>\n",
       "      <th>GRID</th>\n",
       "      <th>years_at_delivery</th>\n",
       "    </tr>\n",
       "  </thead>\n",
       "  <tbody>\n",
       "    <tr>\n",
       "      <th>1</th>\n",
       "      <td>R200006865</td>\n",
       "      <td>32.0</td>\n",
       "    </tr>\n",
       "    <tr>\n",
       "      <th>2</th>\n",
       "      <td>R200009152</td>\n",
       "      <td>35.0</td>\n",
       "    </tr>\n",
       "    <tr>\n",
       "      <th>3</th>\n",
       "      <td>R200009182</td>\n",
       "      <td>21.0</td>\n",
       "    </tr>\n",
       "    <tr>\n",
       "      <th>6</th>\n",
       "      <td>R200014259</td>\n",
       "      <td>20.0</td>\n",
       "    </tr>\n",
       "    <tr>\n",
       "      <th>7</th>\n",
       "      <td>R200020899</td>\n",
       "      <td>22.0</td>\n",
       "    </tr>\n",
       "  </tbody>\n",
       "</table>\n",
       "</div>"
      ],
      "text/plain": [
       "         GRID  years_at_delivery\n",
       "1  R200006865               32.0\n",
       "2  R200009152               35.0\n",
       "3  R200009182               21.0\n",
       "6  R200014259               20.0\n",
       "7  R200020899               22.0"
      ]
     },
     "execution_count": 12,
     "metadata": {},
     "output_type": "execute_result"
    },
    {
     "data": {
      "text/plain": [
       "33569"
      ]
     },
     "execution_count": 12,
     "metadata": {},
     "output_type": "execute_result"
    },
    {
     "data": {
      "text/plain": [
       "(33569, 2)"
      ]
     },
     "execution_count": 12,
     "metadata": {},
     "output_type": "execute_result"
    }
   ],
   "source": [
    "keep_age_df.head()\n",
    "keep_age_df.GRID.nunique()\n",
    "keep_age_df.shape\n",
    "keep_age_df['label'] = keep_age_df.GRID.map(grid_label_dict)"
   ]
  },
  {
   "cell_type": "code",
   "execution_count": 13,
   "metadata": {
    "ExecuteTime": {
     "end_time": "2020-07-01T16:12:53.433628Z",
     "start_time": "2020-07-01T16:12:53.416798Z"
    }
   },
   "outputs": [
    {
     "data": {
      "text/html": [
       "<div>\n",
       "<style scoped>\n",
       "    .dataframe tbody tr th:only-of-type {\n",
       "        vertical-align: middle;\n",
       "    }\n",
       "\n",
       "    .dataframe tbody tr th {\n",
       "        vertical-align: top;\n",
       "    }\n",
       "\n",
       "    .dataframe thead th {\n",
       "        text-align: right;\n",
       "    }\n",
       "</style>\n",
       "<table border=\"1\" class=\"dataframe\">\n",
       "  <thead>\n",
       "    <tr style=\"text-align: right;\">\n",
       "      <th></th>\n",
       "      <th>GRID</th>\n",
       "      <th>delivery_date</th>\n",
       "      <th>label</th>\n",
       "    </tr>\n",
       "  </thead>\n",
       "  <tbody>\n",
       "    <tr>\n",
       "      <th>0</th>\n",
       "      <td>R200000594</td>\n",
       "      <td>2006-04-05</td>\n",
       "      <td>preterm</td>\n",
       "    </tr>\n",
       "    <tr>\n",
       "      <th>1</th>\n",
       "      <td>R200006865</td>\n",
       "      <td>2015-12-19</td>\n",
       "      <td>term</td>\n",
       "    </tr>\n",
       "  </tbody>\n",
       "</table>\n",
       "</div>"
      ],
      "text/plain": [
       "         GRID delivery_date    label\n",
       "0  R200000594    2006-04-05  preterm\n",
       "1  R200006865    2015-12-19     term"
      ]
     },
     "execution_count": 13,
     "metadata": {},
     "output_type": "execute_result"
    },
    {
     "data": {
      "text/html": [
       "<div>\n",
       "<style scoped>\n",
       "    .dataframe tbody tr th:only-of-type {\n",
       "        vertical-align: middle;\n",
       "    }\n",
       "\n",
       "    .dataframe tbody tr th {\n",
       "        vertical-align: top;\n",
       "    }\n",
       "\n",
       "    .dataframe thead th {\n",
       "        text-align: right;\n",
       "    }\n",
       "</style>\n",
       "<table border=\"1\" class=\"dataframe\">\n",
       "  <thead>\n",
       "    <tr style=\"text-align: right;\">\n",
       "      <th></th>\n",
       "      <th>GRID</th>\n",
       "      <th>years_at_delivery</th>\n",
       "      <th>label</th>\n",
       "    </tr>\n",
       "  </thead>\n",
       "  <tbody>\n",
       "    <tr>\n",
       "      <th>1</th>\n",
       "      <td>R200006865</td>\n",
       "      <td>32.0</td>\n",
       "      <td>term</td>\n",
       "    </tr>\n",
       "    <tr>\n",
       "      <th>2</th>\n",
       "      <td>R200009152</td>\n",
       "      <td>35.0</td>\n",
       "      <td>postterm</td>\n",
       "    </tr>\n",
       "  </tbody>\n",
       "</table>\n",
       "</div>"
      ],
      "text/plain": [
       "         GRID  years_at_delivery     label\n",
       "1  R200006865               32.0      term\n",
       "2  R200009152               35.0  postterm"
      ]
     },
     "execution_count": 13,
     "metadata": {},
     "output_type": "execute_result"
    }
   ],
   "source": [
    "final_labels_df.head(2)\n",
    "keep_age_df.head(2)"
   ]
  },
  {
   "cell_type": "code",
   "execution_count": 14,
   "metadata": {
    "ExecuteTime": {
     "end_time": "2020-07-01T16:12:53.594146Z",
     "start_time": "2020-07-01T16:12:53.436465Z"
    }
   },
   "outputs": [
    {
     "data": {
      "text/plain": [
       "count    7257.000000\n",
       "mean       27.122227\n",
       "std         6.323734\n",
       "min        11.000000\n",
       "25%        22.000000\n",
       "50%        27.000000\n",
       "75%        32.000000\n",
       "max        55.000000\n",
       "Name: years_at_delivery, dtype: float64"
      ]
     },
     "execution_count": 14,
     "metadata": {},
     "output_type": "execute_result"
    },
    {
     "data": {
      "text/plain": [
       "count    25590.000000\n",
       "mean        27.365963\n",
       "std          5.791996\n",
       "min         13.000000\n",
       "25%         23.000000\n",
       "50%         27.000000\n",
       "75%         31.000000\n",
       "max         56.000000\n",
       "Name: years_at_delivery, dtype: float64"
      ]
     },
     "execution_count": 14,
     "metadata": {},
     "output_type": "execute_result"
    },
    {
     "data": {
      "text/plain": [
       "count    722.000000\n",
       "mean      28.362881\n",
       "std        5.117608\n",
       "min       14.000000\n",
       "25%       25.000000\n",
       "50%       28.000000\n",
       "75%       32.000000\n",
       "max       44.000000\n",
       "Name: years_at_delivery, dtype: float64"
      ]
     },
     "execution_count": 14,
     "metadata": {},
     "output_type": "execute_result"
    }
   ],
   "source": [
    "# preterm Age at Delivery statistics\n",
    "keep_age_df.loc[keep_age_df['label'] =='preterm', 'years_at_delivery'].describe()\n",
    "\n",
    "#  term\n",
    "keep_age_df.loc[keep_age_df['label'] =='term', 'years_at_delivery'].describe()\n",
    "\n",
    "#  postterm \n",
    "keep_age_df.loc[keep_age_df['label'] =='postterm', 'years_at_delivery'].describe()"
   ]
  },
  {
   "cell_type": "code",
   "execution_count": 15,
   "metadata": {
    "ExecuteTime": {
     "end_time": "2020-07-01T16:12:55.454630Z",
     "start_time": "2020-07-01T16:12:53.595938Z"
    }
   },
   "outputs": [
    {
     "name": "stderr",
     "output_type": "stream",
     "text": [
      "/dors/capra_lab/users/abraha1/conda/envs/py36_r_ml/lib/python3.6/site-packages/rpy2/rinterface/__init__.py:145: RRuntimeWarning: \n",
      "Attaching package: ‘dplyr’\n",
      "\n",
      "\n",
      "  warnings.warn(x, RRuntimeWarning)\n",
      "/dors/capra_lab/users/abraha1/conda/envs/py36_r_ml/lib/python3.6/site-packages/rpy2/rinterface/__init__.py:145: RRuntimeWarning: The following objects are masked from ‘package:stats’:\n",
      "\n",
      "    filter, lag\n",
      "\n",
      "\n",
      "  warnings.warn(x, RRuntimeWarning)\n",
      "/dors/capra_lab/users/abraha1/conda/envs/py36_r_ml/lib/python3.6/site-packages/rpy2/rinterface/__init__.py:145: RRuntimeWarning: The following objects are masked from ‘package:base’:\n",
      "\n",
      "    intersect, setdiff, setequal, union\n",
      "\n",
      "\n",
      "  warnings.warn(x, RRuntimeWarning)\n",
      "/dors/capra_lab/users/abraha1/conda/envs/py36_r_ml/lib/python3.6/site-packages/rpy2/rinterface/__init__.py:145: RRuntimeWarning: Loading required package: magrittr\n",
      "\n",
      "  warnings.warn(x, RRuntimeWarning)\n",
      "/dors/capra_lab/users/abraha1/conda/envs/py36_r_ml/lib/python3.6/site-packages/rpy2/rinterface/__init__.py:145: RRuntimeWarning: \n",
      "********************************************************\n",
      "\n",
      "  warnings.warn(x, RRuntimeWarning)\n",
      "/dors/capra_lab/users/abraha1/conda/envs/py36_r_ml/lib/python3.6/site-packages/rpy2/rinterface/__init__.py:145: RRuntimeWarning: Note: As of version 1.0.0, cowplot does not change the\n",
      "\n",
      "  warnings.warn(x, RRuntimeWarning)\n",
      "/dors/capra_lab/users/abraha1/conda/envs/py36_r_ml/lib/python3.6/site-packages/rpy2/rinterface/__init__.py:145: RRuntimeWarning:   default ggplot2 theme anymore. To recover the previous\n",
      "\n",
      "  warnings.warn(x, RRuntimeWarning)\n",
      "/dors/capra_lab/users/abraha1/conda/envs/py36_r_ml/lib/python3.6/site-packages/rpy2/rinterface/__init__.py:145: RRuntimeWarning:   behavior, execute:\n",
      "  theme_set(theme_cowplot())\n",
      "\n",
      "  warnings.warn(x, RRuntimeWarning)\n",
      "/dors/capra_lab/users/abraha1/conda/envs/py36_r_ml/lib/python3.6/site-packages/rpy2/rinterface/__init__.py:145: RRuntimeWarning: ********************************************************\n",
      "\n",
      "\n",
      "  warnings.warn(x, RRuntimeWarning)\n",
      "/dors/capra_lab/users/abraha1/conda/envs/py36_r_ml/lib/python3.6/site-packages/rpy2/rinterface/__init__.py:145: RRuntimeWarning: \n",
      "Attaching package: ‘cowplot’\n",
      "\n",
      "\n",
      "  warnings.warn(x, RRuntimeWarning)\n",
      "/dors/capra_lab/users/abraha1/conda/envs/py36_r_ml/lib/python3.6/site-packages/rpy2/rinterface/__init__.py:145: RRuntimeWarning: The following object is masked from ‘package:ggpubr’:\n",
      "\n",
      "    get_legend\n",
      "\n",
      "\n",
      "  warnings.warn(x, RRuntimeWarning)\n"
     ]
    }
   ],
   "source": [
    "%%R -i keep_age_df -i DATE -i OUTPUT_DIR\n",
    "library(ggplot2)\n",
    "library(dplyr)\n",
    "library(ggpubr)\n",
    "library(cowplot)\n",
    "library(forcats)"
   ]
  },
  {
   "cell_type": "markdown",
   "metadata": {},
   "source": [
    "# age distribution"
   ]
  },
  {
   "cell_type": "code",
   "execution_count": 16,
   "metadata": {
    "ExecuteTime": {
     "end_time": "2020-07-01T16:12:55.504184Z",
     "start_time": "2020-07-01T16:12:55.456757Z"
    }
   },
   "outputs": [
    {
     "data": {
      "text/plain": [
       "count    33569.000000\n",
       "mean        27.334714\n",
       "std          5.900255\n",
       "min         11.000000\n",
       "25%         23.000000\n",
       "50%         27.000000\n",
       "75%         31.000000\n",
       "max         56.000000\n",
       "Name: years_at_delivery, dtype: float64"
      ]
     },
     "execution_count": 16,
     "metadata": {},
     "output_type": "execute_result"
    }
   ],
   "source": [
    "keep_age_df.years_at_delivery.describe()"
   ]
  },
  {
   "cell_type": "code",
   "execution_count": 10,
   "metadata": {
    "ExecuteTime": {
     "end_time": "2020-01-21T15:26:12.484754Z",
     "start_time": "2020-01-21T15:26:11.621097Z"
    }
   },
   "outputs": [],
   "source": [
    "%%R \n",
    "\n",
    "# plot distribution of age at delviery \n",
    "\n",
    "base_font_size=10\n",
    "\n",
    "bxplt <- keep_age_df %>% select(years_at_delivery) %>%\n",
    "  ggplot(aes(x=\"\", y = years_at_delivery)) +\n",
    "  geom_boxplot(fill = \"lightblue\", color = \"black\") + \n",
    "  coord_flip() +\n",
    "  theme_pubr(base_family=\"Arial\", base_size=12) +\n",
    "  xlab(\"\") + ylab(\"Age at Birth\") + \n",
    "  theme(axis.text.y=element_blank(),\n",
    "        axis.ticks.y=element_blank(),\n",
    "        axis.line.y=element_blank())  \n",
    "\n",
    "hist <- keep_age_df %>% select(years_at_delivery) %>%\n",
    "  ggplot() +\n",
    "  geom_histogram(aes(x = years_at_delivery, y = (..count..)),\n",
    "                 position = \"identity\", binwidth = 1, \n",
    "                 fill = \"lightblue\", color = \"black\") +\n",
    "  ylab(\"Count of Women\") + xlab(\"\") + theme_pubr(base_family=\"Arial\", base_size=base_font_size)\n",
    "\n",
    "bxplt <- keep_age_df %>% select(years_at_delivery) %>%\n",
    "  ggplot(aes(x=\"\", y = years_at_delivery)) +\n",
    "  geom_boxplot(fill = \"lightblue\", color = \"black\") + \n",
    "  coord_flip() +\n",
    "  theme_pubr(base_family=\"Arial\", base_size=base_font_size) +\n",
    "  xlab(\"\") + ylab(\"Age at Birth\") + \n",
    "  theme(axis.text.y=element_blank(),\n",
    "        axis.ticks.y=element_blank(),\n",
    "        axis.line.y=element_blank())  \n",
    "\n",
    "\n",
    "# combine figures \n",
    "bx_hist = plot_grid(hist, bxplt, \n",
    "                   ncol = 1, rel_heights = c(2.5, 1),\n",
    "                   align = 'v', axis = 'lr') \n",
    "\n",
    "bx_hist\n",
    "save.file=file.path(OUTPUT_DIR, sprintf('%s_age_distribtuion.pdf',DATE))\n",
    "# ggsave(save.file,bx_hist,  device = cairo_pdf, height=3.5, width=3.5, units=\"in\")\n",
    "\n",
    "\n",
    "# save figures seperately\n",
    "# save.hist=file.path(OUTPUT_DIR, sprintf('%s_age_hist.pdf',DATE))\n",
    "# save.bxplt=file.path(OUTPUT_DIR, sprintf('%s_age_bxplt.pdf',DATE))\n",
    "\n",
    "# ggsave(save.hist, hist,  device = cairo_pdf, height=2, width=2, units=\"in\")\n",
    "# ggsave(save.bxplt,bxplt,  device = cairo_pdf, height=1, width=2, units=\"in\")"
   ]
  },
  {
   "cell_type": "code",
   "execution_count": 12,
   "metadata": {
    "ExecuteTime": {
     "end_time": "2020-01-21T15:26:29.761038Z",
     "start_time": "2020-01-21T15:26:29.048770Z"
    }
   },
   "outputs": [
    {
     "data": {
      "image/png": "[encoded data removed]"
     },
     "metadata": {},
     "output_type": "display_data"
    }
   ],
   "source": [
    "%%R \n",
    "bx_hist"
   ]
  },
  {
   "cell_type": "markdown",
   "metadata": {
    "heading_collapsed": true
   },
   "source": [
    "# race"
   ]
  },
  {
   "cell_type": "code",
   "execution_count": 32,
   "metadata": {
    "ExecuteTime": {
     "end_time": "2020-01-21T15:40:34.701511Z",
     "start_time": "2020-01-21T15:40:34.520198Z"
    },
    "hidden": true
   },
   "outputs": [],
   "source": [
    "race_df=pd.read_csv(RACE_FILE, sep=\"\\t\")"
   ]
  },
  {
   "cell_type": "code",
   "execution_count": 43,
   "metadata": {
    "ExecuteTime": {
     "end_time": "2020-01-21T15:42:43.666855Z",
     "start_time": "2020-01-21T15:42:43.627298Z"
    },
    "hidden": true
   },
   "outputs": [],
   "source": [
    "keep_race_df = race_df[race_df.GRID.isin(grids_df.GRID)].copy()\n",
    "keep_race_df.set_index('GRID', inplace=True)"
   ]
  },
  {
   "cell_type": "code",
   "execution_count": 44,
   "metadata": {
    "ExecuteTime": {
     "end_time": "2020-01-21T15:42:44.942949Z",
     "start_time": "2020-01-21T15:42:44.920697Z"
    },
    "hidden": true
   },
   "outputs": [
    {
     "data": {
      "text/html": [
       "<div>\n",
       "<style scoped>\n",
       "    .dataframe tbody tr th:only-of-type {\n",
       "        vertical-align: middle;\n",
       "    }\n",
       "\n",
       "    .dataframe tbody tr th {\n",
       "        vertical-align: top;\n",
       "    }\n",
       "\n",
       "    .dataframe thead th {\n",
       "        text-align: right;\n",
       "    }\n",
       "</style>\n",
       "<table border=\"1\" class=\"dataframe\">\n",
       "  <thead>\n",
       "    <tr style=\"text-align: right;\">\n",
       "      <th></th>\n",
       "      <th>RACE_LIST_AFRICAN_AMERICAN</th>\n",
       "      <th>RACE_LIST_ASIAN</th>\n",
       "      <th>RACE_LIST_CAUCASIAN</th>\n",
       "      <th>RACE_LIST_HISPANIC</th>\n",
       "      <th>RACE_LIST_NATIVE_AMERICAN</th>\n",
       "      <th>RACE_LIST_OTHER</th>\n",
       "    </tr>\n",
       "    <tr>\n",
       "      <th>GRID</th>\n",
       "      <th></th>\n",
       "      <th></th>\n",
       "      <th></th>\n",
       "      <th></th>\n",
       "      <th></th>\n",
       "      <th></th>\n",
       "    </tr>\n",
       "  </thead>\n",
       "  <tbody>\n",
       "    <tr>\n",
       "      <th>R200006865</th>\n",
       "      <td>0</td>\n",
       "      <td>0</td>\n",
       "      <td>1</td>\n",
       "      <td>0</td>\n",
       "      <td>0</td>\n",
       "      <td>0</td>\n",
       "    </tr>\n",
       "    <tr>\n",
       "      <th>R200009152</th>\n",
       "      <td>0</td>\n",
       "      <td>0</td>\n",
       "      <td>1</td>\n",
       "      <td>0</td>\n",
       "      <td>0</td>\n",
       "      <td>0</td>\n",
       "    </tr>\n",
       "  </tbody>\n",
       "</table>\n",
       "</div>"
      ],
      "text/plain": [
       "            RACE_LIST_AFRICAN_AMERICAN  RACE_LIST_ASIAN  RACE_LIST_CAUCASIAN  \\\n",
       "GRID                                                                           \n",
       "R200006865                           0                0                    1   \n",
       "R200009152                           0                0                    1   \n",
       "\n",
       "            RACE_LIST_HISPANIC  RACE_LIST_NATIVE_AMERICAN  RACE_LIST_OTHER  \n",
       "GRID                                                                        \n",
       "R200006865                   0                          0                0  \n",
       "R200009152                   0                          0                0  "
      ]
     },
     "execution_count": 44,
     "metadata": {},
     "output_type": "execute_result"
    },
    {
     "data": {
      "text/plain": [
       "33569"
      ]
     },
     "execution_count": 44,
     "metadata": {},
     "output_type": "execute_result"
    },
    {
     "data": {
      "text/plain": [
       "(33569, 7)"
      ]
     },
     "execution_count": 44,
     "metadata": {},
     "output_type": "execute_result"
    }
   ],
   "source": [
    "keep_race_df.head(2)\n",
    "keep_race_df.reset_index(inplace=True)\n",
    "keep_race_df.GRID.nunique()\n",
    "keep_race_df.shape"
   ]
  },
  {
   "cell_type": "code",
   "execution_count": 45,
   "metadata": {
    "ExecuteTime": {
     "end_time": "2020-01-21T15:43:03.780363Z",
     "start_time": "2020-01-21T15:43:03.765452Z"
    },
    "hidden": true
   },
   "outputs": [],
   "source": [
    "# count of each type of race \n",
    "keep_race_df.set_index('GRID', inplace=True, drop=True)\n",
    "count_df = pd.DataFrame(keep_race_df.sum(0)).reset_index()\n",
    "count_df.columns = ['race','count']"
   ]
  },
  {
   "cell_type": "code",
   "execution_count": 48,
   "metadata": {
    "ExecuteTime": {
     "end_time": "2020-01-21T15:43:45.345860Z",
     "start_time": "2020-01-21T15:43:45.302000Z"
    },
    "hidden": true
   },
   "outputs": [],
   "source": [
    "# add type of delivery \n",
    "keep_race_df.reset_index(inplace=True)\n",
    "keep_race_df['label'] = keep_race_df.GRID.map(grid_label_dict)"
   ]
  },
  {
   "cell_type": "code",
   "execution_count": 57,
   "metadata": {
    "ExecuteTime": {
     "end_time": "2020-01-21T15:47:27.473663Z",
     "start_time": "2020-01-21T15:47:27.428077Z"
    },
    "hidden": true
   },
   "outputs": [
    {
     "data": {
      "text/plain": [
       "RACE_LIST_AFRICAN_AMERICAN    1485\n",
       "RACE_LIST_ASIAN                209\n",
       "RACE_LIST_CAUCASIAN           4835\n",
       "RACE_LIST_HISPANIC             658\n",
       "RACE_LIST_NATIVE_AMERICAN       12\n",
       "RACE_LIST_OTHER                 71\n",
       "dtype: int64"
      ]
     },
     "execution_count": 57,
     "metadata": {},
     "output_type": "execute_result"
    },
    {
     "data": {
      "text/plain": [
       "RACE_LIST_AFRICAN_AMERICAN     4605\n",
       "RACE_LIST_ASIAN                1392\n",
       "RACE_LIST_CAUCASIAN           15942\n",
       "RACE_LIST_HISPANIC             3278\n",
       "RACE_LIST_NATIVE_AMERICAN        71\n",
       "RACE_LIST_OTHER                 330\n",
       "dtype: int64"
      ]
     },
     "execution_count": 57,
     "metadata": {},
     "output_type": "execute_result"
    }
   ],
   "source": [
    "# count of each type of race \n",
    "\n",
    "# preterm\n",
    "ptb_race_df = keep_race_df.loc[keep_race_df['label']=='preterm'].copy()\n",
    "ptb_race_df.set_index('GRID', inplace=True, drop=True)\n",
    "ptb_race_df.drop('label', axis=1, inplace=True)\n",
    "\n",
    "# preterm race count\n",
    "ptb_race_df.sum()\n",
    "\n",
    "\n",
    "# term\n",
    "term_race_df = keep_race_df.loc[keep_race_df['label']=='term'].copy()\n",
    "term_race_df.set_index('GRID', inplace=True, drop=True)\n",
    "term_race_df.drop('label', axis=1, inplace=True)\n",
    "\n",
    "# preterm race count\n",
    "term_race_df.sum()\n"
   ]
  },
  {
   "cell_type": "code",
   "execution_count": 56,
   "metadata": {
    "ExecuteTime": {
     "end_time": "2020-01-21T15:46:26.248226Z",
     "start_time": "2020-01-21T15:46:26.236496Z"
    },
    "hidden": true
   },
   "outputs": [
    {
     "data": {
      "text/plain": [
       "RACE_LIST_AFRICAN_AMERICAN    1485\n",
       "RACE_LIST_ASIAN                209\n",
       "RACE_LIST_CAUCASIAN           4835\n",
       "RACE_LIST_HISPANIC             658\n",
       "RACE_LIST_NATIVE_AMERICAN       12\n",
       "RACE_LIST_OTHER                 71\n",
       "dtype: int64"
      ]
     },
     "execution_count": 56,
     "metadata": {},
     "output_type": "execute_result"
    }
   ],
   "source": []
  },
  {
   "cell_type": "code",
   "execution_count": 49,
   "metadata": {
    "ExecuteTime": {
     "end_time": "2020-01-21T15:43:51.531338Z",
     "start_time": "2020-01-21T15:43:51.511708Z"
    },
    "hidden": true
   },
   "outputs": [
    {
     "data": {
      "text/html": [
       "<div>\n",
       "<style scoped>\n",
       "    .dataframe tbody tr th:only-of-type {\n",
       "        vertical-align: middle;\n",
       "    }\n",
       "\n",
       "    .dataframe tbody tr th {\n",
       "        vertical-align: top;\n",
       "    }\n",
       "\n",
       "    .dataframe thead th {\n",
       "        text-align: right;\n",
       "    }\n",
       "</style>\n",
       "<table border=\"1\" class=\"dataframe\">\n",
       "  <thead>\n",
       "    <tr style=\"text-align: right;\">\n",
       "      <th></th>\n",
       "      <th>GRID</th>\n",
       "      <th>RACE_LIST_AFRICAN_AMERICAN</th>\n",
       "      <th>RACE_LIST_ASIAN</th>\n",
       "      <th>RACE_LIST_CAUCASIAN</th>\n",
       "      <th>RACE_LIST_HISPANIC</th>\n",
       "      <th>RACE_LIST_NATIVE_AMERICAN</th>\n",
       "      <th>RACE_LIST_OTHER</th>\n",
       "      <th>label</th>\n",
       "    </tr>\n",
       "  </thead>\n",
       "  <tbody>\n",
       "    <tr>\n",
       "      <th>0</th>\n",
       "      <td>R200006865</td>\n",
       "      <td>0</td>\n",
       "      <td>0</td>\n",
       "      <td>1</td>\n",
       "      <td>0</td>\n",
       "      <td>0</td>\n",
       "      <td>0</td>\n",
       "      <td>term</td>\n",
       "    </tr>\n",
       "    <tr>\n",
       "      <th>1</th>\n",
       "      <td>R200009152</td>\n",
       "      <td>0</td>\n",
       "      <td>0</td>\n",
       "      <td>1</td>\n",
       "      <td>0</td>\n",
       "      <td>0</td>\n",
       "      <td>0</td>\n",
       "      <td>postterm</td>\n",
       "    </tr>\n",
       "    <tr>\n",
       "      <th>2</th>\n",
       "      <td>R200009182</td>\n",
       "      <td>0</td>\n",
       "      <td>0</td>\n",
       "      <td>1</td>\n",
       "      <td>0</td>\n",
       "      <td>0</td>\n",
       "      <td>0</td>\n",
       "      <td>term</td>\n",
       "    </tr>\n",
       "    <tr>\n",
       "      <th>3</th>\n",
       "      <td>R200014259</td>\n",
       "      <td>0</td>\n",
       "      <td>0</td>\n",
       "      <td>1</td>\n",
       "      <td>0</td>\n",
       "      <td>0</td>\n",
       "      <td>0</td>\n",
       "      <td>preterm</td>\n",
       "    </tr>\n",
       "    <tr>\n",
       "      <th>4</th>\n",
       "      <td>R200020899</td>\n",
       "      <td>0</td>\n",
       "      <td>0</td>\n",
       "      <td>1</td>\n",
       "      <td>0</td>\n",
       "      <td>0</td>\n",
       "      <td>0</td>\n",
       "      <td>term</td>\n",
       "    </tr>\n",
       "  </tbody>\n",
       "</table>\n",
       "</div>"
      ],
      "text/plain": [
       "         GRID  RACE_LIST_AFRICAN_AMERICAN  RACE_LIST_ASIAN  \\\n",
       "0  R200006865                           0                0   \n",
       "1  R200009152                           0                0   \n",
       "2  R200009182                           0                0   \n",
       "3  R200014259                           0                0   \n",
       "4  R200020899                           0                0   \n",
       "\n",
       "   RACE_LIST_CAUCASIAN  RACE_LIST_HISPANIC  RACE_LIST_NATIVE_AMERICAN  \\\n",
       "0                    1                   0                          0   \n",
       "1                    1                   0                          0   \n",
       "2                    1                   0                          0   \n",
       "3                    1                   0                          0   \n",
       "4                    1                   0                          0   \n",
       "\n",
       "   RACE_LIST_OTHER     label  \n",
       "0                0      term  \n",
       "1                0  postterm  \n",
       "2                0      term  \n",
       "3                0   preterm  \n",
       "4                0      term  "
      ]
     },
     "execution_count": 49,
     "metadata": {},
     "output_type": "execute_result"
    }
   ],
   "source": [
    "keep_race_df.head()"
   ]
  },
  {
   "cell_type": "code",
   "execution_count": 21,
   "metadata": {
    "ExecuteTime": {
     "end_time": "2020-01-20T20:17:32.350844Z",
     "start_time": "2020-01-20T20:17:32.345776Z"
    },
    "hidden": true
   },
   "outputs": [],
   "source": [
    "rename_races = { 'RACE_LIST_AFRICAN_AMERICAN':'African American',\n",
    "                 'RACE_LIST_ASIAN':'Asian',\n",
    "                 'RACE_LIST_CAUCASIAN': \"White\", \n",
    "                 'RACE_LIST_HISPANIC': \"Hispanic\",\n",
    "                 'RACE_LIST_NATIVE_AMERICAN':\"Native American\", \n",
    "                 'RACE_LIST_OTHER':\"Other\"}"
   ]
  },
  {
   "cell_type": "code",
   "execution_count": 22,
   "metadata": {
    "ExecuteTime": {
     "end_time": "2020-01-20T20:17:32.572403Z",
     "start_time": "2020-01-20T20:17:32.560031Z"
    },
    "hidden": true
   },
   "outputs": [],
   "source": [
    "count_df['Race'] = count_df.race.map(rename_races)\n",
    "count_df.drop('race', axis=1, inplace=True)"
   ]
  },
  {
   "cell_type": "code",
   "execution_count": 23,
   "metadata": {
    "ExecuteTime": {
     "end_time": "2020-01-20T20:17:33.094519Z",
     "start_time": "2020-01-20T20:17:33.055379Z"
    },
    "hidden": true
   },
   "outputs": [
    {
     "data": {
      "text/html": [
       "<div>\n",
       "<style scoped>\n",
       "    .dataframe tbody tr th:only-of-type {\n",
       "        vertical-align: middle;\n",
       "    }\n",
       "\n",
       "    .dataframe tbody tr th {\n",
       "        vertical-align: top;\n",
       "    }\n",
       "\n",
       "    .dataframe thead th {\n",
       "        text-align: right;\n",
       "    }\n",
       "</style>\n",
       "<table border=\"1\" class=\"dataframe\">\n",
       "  <thead>\n",
       "    <tr style=\"text-align: right;\">\n",
       "      <th></th>\n",
       "      <th>count</th>\n",
       "      <th>Race</th>\n",
       "    </tr>\n",
       "  </thead>\n",
       "  <tbody>\n",
       "    <tr>\n",
       "      <th>4</th>\n",
       "      <td>84</td>\n",
       "      <td>Native American</td>\n",
       "    </tr>\n",
       "    <tr>\n",
       "      <th>5</th>\n",
       "      <td>409</td>\n",
       "      <td>Other</td>\n",
       "    </tr>\n",
       "    <tr>\n",
       "      <th>1</th>\n",
       "      <td>1617</td>\n",
       "      <td>Asian</td>\n",
       "    </tr>\n",
       "    <tr>\n",
       "      <th>3</th>\n",
       "      <td>3979</td>\n",
       "      <td>Hispanic</td>\n",
       "    </tr>\n",
       "    <tr>\n",
       "      <th>0</th>\n",
       "      <td>6178</td>\n",
       "      <td>African American</td>\n",
       "    </tr>\n",
       "    <tr>\n",
       "      <th>2</th>\n",
       "      <td>21343</td>\n",
       "      <td>White</td>\n",
       "    </tr>\n",
       "  </tbody>\n",
       "</table>\n",
       "</div>"
      ],
      "text/plain": [
       "   count              Race\n",
       "4     84   Native American\n",
       "5    409             Other\n",
       "1   1617             Asian\n",
       "3   3979          Hispanic\n",
       "0   6178  African American\n",
       "2  21343             White"
      ]
     },
     "execution_count": 23,
     "metadata": {},
     "output_type": "execute_result"
    }
   ],
   "source": [
    "count_df.sort_values('count')"
   ]
  },
  {
   "cell_type": "code",
   "execution_count": 24,
   "metadata": {
    "ExecuteTime": {
     "end_time": "2020-01-20T20:17:36.821376Z",
     "start_time": "2020-01-20T20:17:36.734884Z"
    },
    "hidden": true
   },
   "outputs": [],
   "source": [
    "%%R -i count_df\n",
    "\n",
    "\n",
    "head(count_df)\n",
    "count_df = count_df %>% arrange(desc(count))\n",
    "count_df$Race <- as.factor(count_df$Race)\n",
    "\n",
    "sorted = c('White','African American','Hispanic','Asian','Other','Native American')\n",
    "count_df$Race <- factor(count_df$Race, levels=sorted)\n",
    "\n",
    "\n",
    "race_plt = ggplot(data=count_df, aes(x=Race, y=count/1000)) + geom_bar(stat='identity', fill=\"lightblue\") + \n",
    "    geom_text(aes(label=count, vjust=-0.25), size=2.0) + theme_pubr(base_family=\"Arial\", base_size=base_font_size) + \n",
    "    ylab(\"Count of Women (Thousands)\") + theme(axis.text.x = element_text(angle = -30, hjust = 0),\n",
    "                                                plot.margin = unit(c(.25, 1, 0, 0.25), \"cm\"))\n",
    "\n",
    "race_plt\n",
    "\n",
    "\n",
    "save.file=file.path(OUTPUT_DIR, sprintf('%s_race_distribtuion.pdf',DATE))\n",
    "# ggsave(save.file,race_plt,  device = cairo_pdf, height=3, width=3, units=\"in\")"
   ]
  },
  {
   "cell_type": "markdown",
   "metadata": {
    "heading_collapsed": true
   },
   "source": [
    "# ega\n"
   ]
  },
  {
   "cell_type": "code",
   "execution_count": 17,
   "metadata": {
    "ExecuteTime": {
     "end_time": "2020-04-21T21:20:35.804927Z",
     "start_time": "2020-04-21T21:20:35.538580Z"
    },
    "hidden": true
   },
   "outputs": [],
   "source": [
    "ega_df = pd.read_csv(DELIVERY_LABELS_FILE, sep=\"\\t\")"
   ]
  },
  {
   "cell_type": "code",
   "execution_count": 20,
   "metadata": {
    "ExecuteTime": {
     "end_time": "2020-04-21T21:22:34.242570Z",
     "start_time": "2020-04-21T21:22:34.215297Z"
    },
    "hidden": true
   },
   "outputs": [
    {
     "data": {
      "text/html": [
       "<div>\n",
       "<style scoped>\n",
       "    .dataframe tbody tr th:only-of-type {\n",
       "        vertical-align: middle;\n",
       "    }\n",
       "\n",
       "    .dataframe tbody tr th {\n",
       "        vertical-align: top;\n",
       "    }\n",
       "\n",
       "    .dataframe thead th {\n",
       "        text-align: right;\n",
       "    }\n",
       "</style>\n",
       "<table border=\"1\" class=\"dataframe\">\n",
       "  <thead>\n",
       "    <tr style=\"text-align: right;\">\n",
       "      <th></th>\n",
       "      <th>GRID</th>\n",
       "      <th>consensus_delivery</th>\n",
       "      <th>num_codes</th>\n",
       "      <th>max_diff_days</th>\n",
       "      <th>icd_exists</th>\n",
       "      <th>cpt_exists</th>\n",
       "      <th>ega_exists</th>\n",
       "      <th>icd_label</th>\n",
       "      <th>ega_label</th>\n",
       "      <th>consensus_label</th>\n",
       "      <th>delivery_id</th>\n",
       "    </tr>\n",
       "  </thead>\n",
       "  <tbody>\n",
       "    <tr>\n",
       "      <th>0</th>\n",
       "      <td>R200000594</td>\n",
       "      <td>2006-04-05</td>\n",
       "      <td>2</td>\n",
       "      <td>2</td>\n",
       "      <td>True</td>\n",
       "      <td>True</td>\n",
       "      <td>False</td>\n",
       "      <td>preterm</td>\n",
       "      <td>None</td>\n",
       "      <td>preterm</td>\n",
       "      <td>2006-04-05_R200000594</td>\n",
       "    </tr>\n",
       "    <tr>\n",
       "      <th>1</th>\n",
       "      <td>R200006865</td>\n",
       "      <td>2015-12-19</td>\n",
       "      <td>2</td>\n",
       "      <td>2</td>\n",
       "      <td>True</td>\n",
       "      <td>True</td>\n",
       "      <td>False</td>\n",
       "      <td>preterm, term</td>\n",
       "      <td>None</td>\n",
       "      <td>term</td>\n",
       "      <td>2015-12-19_R200006865</td>\n",
       "    </tr>\n",
       "    <tr>\n",
       "      <th>2</th>\n",
       "      <td>R200009152</td>\n",
       "      <td>2007-04-26</td>\n",
       "      <td>2</td>\n",
       "      <td>0</td>\n",
       "      <td>True</td>\n",
       "      <td>True</td>\n",
       "      <td>False</td>\n",
       "      <td>postterm, term</td>\n",
       "      <td>None</td>\n",
       "      <td>postterm</td>\n",
       "      <td>2007-04-26_R200009152</td>\n",
       "    </tr>\n",
       "    <tr>\n",
       "      <th>3</th>\n",
       "      <td>R200009182</td>\n",
       "      <td>2014-07-13</td>\n",
       "      <td>2</td>\n",
       "      <td>0</td>\n",
       "      <td>False</td>\n",
       "      <td>True</td>\n",
       "      <td>True</td>\n",
       "      <td>None</td>\n",
       "      <td>term</td>\n",
       "      <td>term</td>\n",
       "      <td>2014-07-13_R200009182</td>\n",
       "    </tr>\n",
       "    <tr>\n",
       "      <th>4</th>\n",
       "      <td>R200009647</td>\n",
       "      <td>2014-01-15</td>\n",
       "      <td>3</td>\n",
       "      <td>3</td>\n",
       "      <td>True</td>\n",
       "      <td>True</td>\n",
       "      <td>True</td>\n",
       "      <td>preterm</td>\n",
       "      <td>preterm</td>\n",
       "      <td>preterm</td>\n",
       "      <td>2014-01-15_R200009647</td>\n",
       "    </tr>\n",
       "  </tbody>\n",
       "</table>\n",
       "</div>"
      ],
      "text/plain": [
       "         GRID consensus_delivery  num_codes  max_diff_days  icd_exists  \\\n",
       "0  R200000594         2006-04-05          2              2        True   \n",
       "1  R200006865         2015-12-19          2              2        True   \n",
       "2  R200009152         2007-04-26          2              0        True   \n",
       "3  R200009182         2014-07-13          2              0       False   \n",
       "4  R200009647         2014-01-15          3              3        True   \n",
       "\n",
       "   cpt_exists  ega_exists       icd_label ega_label consensus_label  \\\n",
       "0        True       False         preterm      None         preterm   \n",
       "1        True       False   preterm, term      None            term   \n",
       "2        True       False  postterm, term      None        postterm   \n",
       "3        True        True            None      term            term   \n",
       "4        True        True         preterm   preterm         preterm   \n",
       "\n",
       "             delivery_id  \n",
       "0  2006-04-05_R200000594  \n",
       "1  2015-12-19_R200006865  \n",
       "2  2007-04-26_R200009152  \n",
       "3  2014-07-13_R200009182  \n",
       "4  2014-01-15_R200009647  "
      ]
     },
     "execution_count": 20,
     "metadata": {},
     "output_type": "execute_result"
    }
   ],
   "source": [
    "ega_df.head()"
   ]
  },
  {
   "cell_type": "code",
   "execution_count": 21,
   "metadata": {
    "ExecuteTime": {
     "end_time": "2020-04-21T21:22:34.661570Z",
     "start_time": "2020-04-21T21:22:34.461770Z"
    },
    "hidden": true
   },
   "outputs": [],
   "source": [
    "eega_df=pd.read_csv(\"/dors/capra_lab/users/abraha1/prelim_studies/crp_gest_age_assoc/data/EGA_w-in_3days_of_delivery.tsv\", sep=\"\\t\")"
   ]
  },
  {
   "cell_type": "code",
   "execution_count": 22,
   "metadata": {
    "ExecuteTime": {
     "end_time": "2020-04-21T21:22:39.881945Z",
     "start_time": "2020-04-21T21:22:39.835422Z"
    },
    "hidden": true
   },
   "outputs": [],
   "source": [
    "# convert to datetime\n",
    "eega_df.delivery_date = pd.to_datetime(eega_df.delivery_date)\n",
    "final_labels_df.delivery_date = pd.to_datetime(final_labels_df.delivery_date)"
   ]
  },
  {
   "cell_type": "code",
   "execution_count": 23,
   "metadata": {
    "ExecuteTime": {
     "end_time": "2020-04-21T21:22:40.134170Z",
     "start_time": "2020-04-21T21:22:40.108024Z"
    },
    "hidden": true
   },
   "outputs": [
    {
     "data": {
      "text/html": [
       "<div>\n",
       "<style scoped>\n",
       "    .dataframe tbody tr th:only-of-type {\n",
       "        vertical-align: middle;\n",
       "    }\n",
       "\n",
       "    .dataframe tbody tr th {\n",
       "        vertical-align: top;\n",
       "    }\n",
       "\n",
       "    .dataframe thead th {\n",
       "        text-align: right;\n",
       "    }\n",
       "</style>\n",
       "<table border=\"1\" class=\"dataframe\">\n",
       "  <thead>\n",
       "    <tr style=\"text-align: right;\">\n",
       "      <th></th>\n",
       "      <th>DOB</th>\n",
       "      <th>GRID</th>\n",
       "      <th>max_delivery_days_since_dob</th>\n",
       "      <th>num_cpt_codes</th>\n",
       "      <th>range_dates_days</th>\n",
       "      <th>delivery_date</th>\n",
       "      <th>closest_ega</th>\n",
       "      <th>closest_ega_DATE</th>\n",
       "      <th>diff</th>\n",
       "      <th>label</th>\n",
       "    </tr>\n",
       "  </thead>\n",
       "  <tbody>\n",
       "    <tr>\n",
       "      <th>0</th>\n",
       "      <td>1993-07-04</td>\n",
       "      <td>R200009182</td>\n",
       "      <td>7679 days 00:00:00.000000000</td>\n",
       "      <td>2</td>\n",
       "      <td>1</td>\n",
       "      <td>2014-07-13</td>\n",
       "      <td>39.143</td>\n",
       "      <td>2014-07-13</td>\n",
       "      <td>0 days 00:00:00.000000000</td>\n",
       "      <td>None</td>\n",
       "    </tr>\n",
       "    <tr>\n",
       "      <th>1</th>\n",
       "      <td>1987-12-03</td>\n",
       "      <td>R200010144</td>\n",
       "      <td>10152 days 00:00:00.000000000</td>\n",
       "      <td>2</td>\n",
       "      <td>1</td>\n",
       "      <td>2015-09-19</td>\n",
       "      <td>38.100</td>\n",
       "      <td>2015-09-19</td>\n",
       "      <td>0 days 00:00:00.000000000</td>\n",
       "      <td>None</td>\n",
       "    </tr>\n",
       "    <tr>\n",
       "      <th>2</th>\n",
       "      <td>1986-11-10</td>\n",
       "      <td>R200014259</td>\n",
       "      <td>7655 days 00:00:00.000000000</td>\n",
       "      <td>1</td>\n",
       "      <td>0</td>\n",
       "      <td>2007-10-26</td>\n",
       "      <td>31.000</td>\n",
       "      <td>2007-10-26</td>\n",
       "      <td>0 days 00:00:00.000000000</td>\n",
       "      <td>None</td>\n",
       "    </tr>\n",
       "    <tr>\n",
       "      <th>3</th>\n",
       "      <td>1986-03-06</td>\n",
       "      <td>R200020899</td>\n",
       "      <td>10192 days 00:00:00.000000000</td>\n",
       "      <td>1</td>\n",
       "      <td>0</td>\n",
       "      <td>2014-01-30</td>\n",
       "      <td>39.571</td>\n",
       "      <td>2014-01-30</td>\n",
       "      <td>0 days 00:00:00.000000000</td>\n",
       "      <td>None</td>\n",
       "    </tr>\n",
       "    <tr>\n",
       "      <th>4</th>\n",
       "      <td>1986-03-06</td>\n",
       "      <td>R200020899</td>\n",
       "      <td>9147 days 00:00:00.000000000</td>\n",
       "      <td>1</td>\n",
       "      <td>0</td>\n",
       "      <td>2011-03-22</td>\n",
       "      <td>40.429</td>\n",
       "      <td>2011-03-22</td>\n",
       "      <td>0 days 00:00:00.000000000</td>\n",
       "      <td>None</td>\n",
       "    </tr>\n",
       "  </tbody>\n",
       "</table>\n",
       "</div>"
      ],
      "text/plain": [
       "          DOB        GRID    max_delivery_days_since_dob  num_cpt_codes  \\\n",
       "0  1993-07-04  R200009182   7679 days 00:00:00.000000000              2   \n",
       "1  1987-12-03  R200010144  10152 days 00:00:00.000000000              2   \n",
       "2  1986-11-10  R200014259   7655 days 00:00:00.000000000              1   \n",
       "3  1986-03-06  R200020899  10192 days 00:00:00.000000000              1   \n",
       "4  1986-03-06  R200020899   9147 days 00:00:00.000000000              1   \n",
       "\n",
       "   range_dates_days delivery_date  closest_ega closest_ega_DATE  \\\n",
       "0                 1    2014-07-13       39.143       2014-07-13   \n",
       "1                 1    2015-09-19       38.100       2015-09-19   \n",
       "2                 0    2007-10-26       31.000       2007-10-26   \n",
       "3                 0    2014-01-30       39.571       2014-01-30   \n",
       "4                 0    2011-03-22       40.429       2011-03-22   \n",
       "\n",
       "                        diff label  \n",
       "0  0 days 00:00:00.000000000  None  \n",
       "1  0 days 00:00:00.000000000  None  \n",
       "2  0 days 00:00:00.000000000  None  \n",
       "3  0 days 00:00:00.000000000  None  \n",
       "4  0 days 00:00:00.000000000  None  "
      ]
     },
     "execution_count": 23,
     "metadata": {},
     "output_type": "execute_result"
    }
   ],
   "source": [
    "eega_df['label'] = 'None'\n",
    "eega_df.head()"
   ]
  },
  {
   "cell_type": "code",
   "execution_count": 24,
   "metadata": {
    "ExecuteTime": {
     "end_time": "2020-04-21T21:22:43.971357Z",
     "start_time": "2020-04-21T21:22:43.909272Z"
    },
    "hidden": true
   },
   "outputs": [
    {
     "data": {
      "text/plain": [
       "(31709, 10)"
      ]
     },
     "execution_count": 24,
     "metadata": {},
     "output_type": "execute_result"
    },
    {
     "data": {
      "text/plain": [
       "(28500, 10)"
      ]
     },
     "execution_count": 24,
     "metadata": {},
     "output_type": "execute_result"
    }
   ],
   "source": [
    "# ega overlap with demographic data \n",
    "eega_df.shape\n",
    "eega_df[eega_df.GRID.isin(grids_df.GRID)].shape"
   ]
  },
  {
   "cell_type": "code",
   "execution_count": 25,
   "metadata": {
    "ExecuteTime": {
     "end_time": "2020-04-21T21:22:44.481991Z",
     "start_time": "2020-04-21T21:22:44.467582Z"
    },
    "hidden": true
   },
   "outputs": [
    {
     "data": {
      "text/plain": [
       "38.530783689173425"
      ]
     },
     "execution_count": 25,
     "metadata": {},
     "output_type": "execute_result"
    },
    {
     "data": {
      "text/plain": [
       "39.286"
      ]
     },
     "execution_count": 25,
     "metadata": {},
     "output_type": "execute_result"
    }
   ],
   "source": [
    "# summary stats\n",
    "eega_df.closest_ega.mean()\n",
    "eega_df.closest_ega.median()"
   ]
  },
  {
   "cell_type": "code",
   "execution_count": 26,
   "metadata": {
    "ExecuteTime": {
     "end_time": "2020-04-21T21:27:32.803154Z",
     "start_time": "2020-04-21T21:22:45.043720Z"
    },
    "hidden": true
   },
   "outputs": [],
   "source": [
    "# add label \n",
    "\n",
    "ega_w_label_df = pd.DataFrame()\n",
    "for index, row in eega_df.iterrows(): \n",
    "\n",
    "    for index, lb_row in final_labels_df.loc[final_labels_df['GRID']==row.GRID].iterrows(): \n",
    "        \n",
    "        if np.absolute((lb_row.delivery_date - row.delivery_date).days) < 3:\n",
    "            \n",
    "            temp_df = pd.DataFrame({'GRID':[row.GRID], 'closest_ega':[row.closest_ega],\n",
    "                                    'delivery_date': [row.delivery_date], 'label': [lb_row.label]})\n",
    "            ega_w_label_df= ega_w_label_df.append(temp_df)\n",
    "\n",
    "    "
   ]
  },
  {
   "cell_type": "code",
   "execution_count": 27,
   "metadata": {
    "ExecuteTime": {
     "end_time": "2020-04-21T21:27:32.852701Z",
     "start_time": "2020-04-21T21:27:32.810693Z"
    },
    "hidden": true
   },
   "outputs": [
    {
     "data": {
      "text/plain": [
       "(31709, 10)"
      ]
     },
     "execution_count": 27,
     "metadata": {},
     "output_type": "execute_result"
    },
    {
     "data": {
      "text/plain": [
       "26135"
      ]
     },
     "execution_count": 27,
     "metadata": {},
     "output_type": "execute_result"
    },
    {
     "name": "stdout",
     "output_type": "stream",
     "text": [
      "--\n"
     ]
    },
    {
     "data": {
      "text/plain": [
       "(21967, 4)"
      ]
     },
     "execution_count": 27,
     "metadata": {},
     "output_type": "execute_result"
    },
    {
     "data": {
      "text/plain": [
       "21967"
      ]
     },
     "execution_count": 27,
     "metadata": {},
     "output_type": "execute_result"
    }
   ],
   "source": [
    "# compare counts \n",
    "eega_df.shape\n",
    "eega_df.GRID.nunique()\n",
    "print(\"--\")\n",
    "ega_w_label_df.shape\n",
    "ega_w_label_df.GRID.nunique()"
   ]
  },
  {
   "cell_type": "code",
   "execution_count": 28,
   "metadata": {
    "ExecuteTime": {
     "end_time": "2020-04-21T21:27:32.873761Z",
     "start_time": "2020-04-21T21:27:32.858630Z"
    },
    "hidden": true
   },
   "outputs": [],
   "source": [
    "# covert ega to days\n",
    "ega_w_label_df['ega_days'] = ega_w_label_df['closest_ega']*7"
   ]
  },
  {
   "cell_type": "code",
   "execution_count": 29,
   "metadata": {
    "ExecuteTime": {
     "end_time": "2020-04-21T21:27:33.568208Z",
     "start_time": "2020-04-21T21:27:32.882618Z"
    },
    "hidden": true
   },
   "outputs": [
    {
     "data": {
      "text/plain": [
       "count    3380.000000\n",
       "mean      230.322659\n",
       "std        31.281680\n",
       "min        70.000000\n",
       "25%       217.000000\n",
       "50%       241.003000\n",
       "75%       254.002000\n",
       "max       259.000000\n",
       "Name: ega_days, dtype: float64"
      ]
     },
     "execution_count": 29,
     "metadata": {},
     "output_type": "execute_result"
    },
    {
     "data": {
      "text/plain": [
       "<matplotlib.axes._subplots.AxesSubplot at 0x2b5d86986860>"
      ]
     },
     "execution_count": 29,
     "metadata": {},
     "output_type": "execute_result"
    },
    {
     "data": {
      "text/plain": [
       "<matplotlib.lines.Line2D at 0x2b5d869862b0>"
      ]
     },
     "execution_count": 29,
     "metadata": {},
     "output_type": "execute_result"
    }
   ],
   "source": [
    "# plot distriubtion\n",
    "sns.set(context='talk', style='ticks', rc={'figure.facecolor':'white', 'figure.figsize':(6,6),'xtick.bottom': True}, font_scale=1.2)\n",
    "plt_df = ega_w_label_df.loc[ega_w_label_df['label'] == 'preterm'].copy()\n",
    "plt_df.ega_days.describe()\n",
    "fig, ax = plt.subplots(figsize=(8,8))\n",
    "sns.distplot(plt_df.ega_days, ax =ax, color='red')\n",
    "plt.axvline(x=230, c='k')\n",
    "plt.show()"
   ]
  },
  {
   "cell_type": "code",
   "execution_count": 30,
   "metadata": {
    "ExecuteTime": {
     "end_time": "2020-04-21T21:27:33.758459Z",
     "start_time": "2020-04-21T21:27:33.575422Z"
    },
    "hidden": true
   },
   "outputs": [
    {
     "data": {
      "text/plain": [
       "count    18125.000000\n",
       "mean       276.476762\n",
       "std          8.947339\n",
       "min        136.997000\n",
       "25%        271.999000\n",
       "50%        276.997000\n",
       "75%        283.003000\n",
       "max        294.000000\n",
       "Name: ega_days, dtype: float64"
      ]
     },
     "execution_count": 30,
     "metadata": {},
     "output_type": "execute_result"
    },
    {
     "data": {
      "text/plain": [
       "<matplotlib.axes._subplots.AxesSubplot at 0x2b5d89d069b0>"
      ]
     },
     "execution_count": 30,
     "metadata": {},
     "output_type": "execute_result"
    },
    {
     "data": {
      "text/plain": [
       "<matplotlib.lines.Line2D at 0x2b5d89d28f98>"
      ]
     },
     "execution_count": 30,
     "metadata": {},
     "output_type": "execute_result"
    }
   ],
   "source": [
    "sns.set(context='talk', style='ticks', rc={'figure.facecolor':'white', 'figure.figsize':(6,6),'xtick.bottom': True}, font_scale=1.2)\n",
    "plt_df = ega_w_label_df.loc[ega_w_label_df['label'] == 'term'].copy()\n",
    "plt_df.ega_days.describe()\n",
    "fig, ax = plt.subplots(figsize=(8,8))\n",
    "sns.distplot(plt_df.ega_days, ax =ax, color='blue')\n",
    "plt.axvline(x=230, c='k')\n",
    "plt.show()"
   ]
  },
  {
   "cell_type": "code",
   "execution_count": 31,
   "metadata": {
    "ExecuteTime": {
     "end_time": "2020-04-21T21:27:33.802189Z",
     "start_time": "2020-04-21T21:27:33.764236Z"
    },
    "hidden": true
   },
   "outputs": [
    {
     "data": {
      "text/html": [
       "<div>\n",
       "<style scoped>\n",
       "    .dataframe tbody tr th:only-of-type {\n",
       "        vertical-align: middle;\n",
       "    }\n",
       "\n",
       "    .dataframe tbody tr th {\n",
       "        vertical-align: top;\n",
       "    }\n",
       "\n",
       "    .dataframe thead th {\n",
       "        text-align: right;\n",
       "    }\n",
       "</style>\n",
       "<table border=\"1\" class=\"dataframe\">\n",
       "  <thead>\n",
       "    <tr style=\"text-align: right;\">\n",
       "      <th></th>\n",
       "      <th>DOB</th>\n",
       "      <th>GRID</th>\n",
       "      <th>max_delivery_days_since_dob</th>\n",
       "      <th>num_cpt_codes</th>\n",
       "      <th>range_dates_days</th>\n",
       "      <th>delivery_date</th>\n",
       "      <th>closest_ega</th>\n",
       "      <th>closest_ega_DATE</th>\n",
       "      <th>diff</th>\n",
       "      <th>label</th>\n",
       "    </tr>\n",
       "  </thead>\n",
       "  <tbody>\n",
       "    <tr>\n",
       "      <th>0</th>\n",
       "      <td>1993-07-04</td>\n",
       "      <td>R200009182</td>\n",
       "      <td>7679 days 00:00:00.000000000</td>\n",
       "      <td>2</td>\n",
       "      <td>1</td>\n",
       "      <td>2014-07-13</td>\n",
       "      <td>39.143</td>\n",
       "      <td>2014-07-13</td>\n",
       "      <td>0 days 00:00:00.000000000</td>\n",
       "      <td>None</td>\n",
       "    </tr>\n",
       "    <tr>\n",
       "      <th>1</th>\n",
       "      <td>1987-12-03</td>\n",
       "      <td>R200010144</td>\n",
       "      <td>10152 days 00:00:00.000000000</td>\n",
       "      <td>2</td>\n",
       "      <td>1</td>\n",
       "      <td>2015-09-19</td>\n",
       "      <td>38.100</td>\n",
       "      <td>2015-09-19</td>\n",
       "      <td>0 days 00:00:00.000000000</td>\n",
       "      <td>None</td>\n",
       "    </tr>\n",
       "    <tr>\n",
       "      <th>2</th>\n",
       "      <td>1986-11-10</td>\n",
       "      <td>R200014259</td>\n",
       "      <td>7655 days 00:00:00.000000000</td>\n",
       "      <td>1</td>\n",
       "      <td>0</td>\n",
       "      <td>2007-10-26</td>\n",
       "      <td>31.000</td>\n",
       "      <td>2007-10-26</td>\n",
       "      <td>0 days 00:00:00.000000000</td>\n",
       "      <td>None</td>\n",
       "    </tr>\n",
       "    <tr>\n",
       "      <th>3</th>\n",
       "      <td>1986-03-06</td>\n",
       "      <td>R200020899</td>\n",
       "      <td>10192 days 00:00:00.000000000</td>\n",
       "      <td>1</td>\n",
       "      <td>0</td>\n",
       "      <td>2014-01-30</td>\n",
       "      <td>39.571</td>\n",
       "      <td>2014-01-30</td>\n",
       "      <td>0 days 00:00:00.000000000</td>\n",
       "      <td>None</td>\n",
       "    </tr>\n",
       "    <tr>\n",
       "      <th>4</th>\n",
       "      <td>1986-03-06</td>\n",
       "      <td>R200020899</td>\n",
       "      <td>9147 days 00:00:00.000000000</td>\n",
       "      <td>1</td>\n",
       "      <td>0</td>\n",
       "      <td>2011-03-22</td>\n",
       "      <td>40.429</td>\n",
       "      <td>2011-03-22</td>\n",
       "      <td>0 days 00:00:00.000000000</td>\n",
       "      <td>None</td>\n",
       "    </tr>\n",
       "  </tbody>\n",
       "</table>\n",
       "</div>"
      ],
      "text/plain": [
       "          DOB        GRID    max_delivery_days_since_dob  num_cpt_codes  \\\n",
       "0  1993-07-04  R200009182   7679 days 00:00:00.000000000              2   \n",
       "1  1987-12-03  R200010144  10152 days 00:00:00.000000000              2   \n",
       "2  1986-11-10  R200014259   7655 days 00:00:00.000000000              1   \n",
       "3  1986-03-06  R200020899  10192 days 00:00:00.000000000              1   \n",
       "4  1986-03-06  R200020899   9147 days 00:00:00.000000000              1   \n",
       "\n",
       "   range_dates_days delivery_date  closest_ega closest_ega_DATE  \\\n",
       "0                 1    2014-07-13       39.143       2014-07-13   \n",
       "1                 1    2015-09-19       38.100       2015-09-19   \n",
       "2                 0    2007-10-26       31.000       2007-10-26   \n",
       "3                 0    2014-01-30       39.571       2014-01-30   \n",
       "4                 0    2011-03-22       40.429       2011-03-22   \n",
       "\n",
       "                        diff label  \n",
       "0  0 days 00:00:00.000000000  None  \n",
       "1  0 days 00:00:00.000000000  None  \n",
       "2  0 days 00:00:00.000000000  None  \n",
       "3  0 days 00:00:00.000000000  None  \n",
       "4  0 days 00:00:00.000000000  None  "
      ]
     },
     "execution_count": 31,
     "metadata": {},
     "output_type": "execute_result"
    },
    {
     "data": {
      "text/plain": [
       "(31709, 10)"
      ]
     },
     "execution_count": 31,
     "metadata": {},
     "output_type": "execute_result"
    },
    {
     "data": {
      "text/plain": [
       "5574"
      ]
     },
     "execution_count": 31,
     "metadata": {},
     "output_type": "execute_result"
    }
   ],
   "source": [
    "# summary stats for eega_df\n",
    "eega_df.head()\n",
    "eega_df.shape\n",
    "eega_df.GRID.duplicated().sum()"
   ]
  },
  {
   "cell_type": "code",
   "execution_count": 36,
   "metadata": {
    "ExecuteTime": {
     "end_time": "2020-04-21T21:45:01.528704Z",
     "start_time": "2020-04-21T21:45:01.497361Z"
    },
    "hidden": true
   },
   "outputs": [
    {
     "data": {
      "text/plain": [
       "26135"
      ]
     },
     "execution_count": 36,
     "metadata": {},
     "output_type": "execute_result"
    },
    {
     "data": {
      "text/plain": [
       "count    31709.000000\n",
       "mean        38.530784\n",
       "std          3.131680\n",
       "min         10.000000\n",
       "25%         38.143000\n",
       "50%         39.286000\n",
       "75%         40.286000\n",
       "max         46.000000\n",
       "Name: closest_ega, dtype: float64"
      ]
     },
     "execution_count": 36,
     "metadata": {},
     "output_type": "execute_result"
    }
   ],
   "source": [
    "eega_df.GRID.nunique()\n",
    "eega_df.closest_ega.describe()"
   ]
  },
  {
   "cell_type": "code",
   "execution_count": 35,
   "metadata": {
    "ExecuteTime": {
     "end_time": "2020-04-21T21:44:36.335370Z",
     "start_time": "2020-04-21T21:44:36.318356Z"
    },
    "hidden": true
   },
   "outputs": [
    {
     "data": {
      "text/plain": [
       "63"
      ]
     },
     "execution_count": 35,
     "metadata": {},
     "output_type": "execute_result"
    },
    {
     "data": {
      "text/plain": [
       "0.001986817622756946"
      ]
     },
     "execution_count": 35,
     "metadata": {},
     "output_type": "execute_result"
    }
   ],
   "source": [
    "np.sum(eega_df.closest_ega < 20)\n",
    "np.sum(eega_df.closest_ega < 20)/eega_df.shape[0]"
   ]
  },
  {
   "cell_type": "code",
   "execution_count": 31,
   "metadata": {
    "ExecuteTime": {
     "end_time": "2020-01-20T20:18:05.099835Z",
     "start_time": "2020-01-20T20:18:03.904007Z"
    },
    "hidden": true
   },
   "outputs": [],
   "source": [
    "%%R -i eega_df\n",
    "\n",
    "# plot ega\n",
    "\n",
    "base_font_size=10\n",
    "\n",
    "eega_df2 <-\n",
    "  eega_df %>%\n",
    "  mutate(outlier = (closest_ega > median(closest_ega) + IQR(closest_ega) * 1.5) | (closest_ega < median(closest_ega) - IQR(closest_ega) * 1.5) ) \n",
    "\n",
    "\n",
    "\n",
    "bxplt <- eega_df %>%\n",
    "  ggplot(aes(x=\"\", y = closest_ega)) + \n",
    "  geom_boxplot(fill = \"lightblue\", color = \"black\", outlier.size = 0.5, outlier.alpha = 0.5) +              \n",
    "  coord_flip() +\n",
    "  theme_pubr(base_family=\"Arial\", base_size=12) +\n",
    "  xlab(\"\") + ylab(\"Estimated Gest. Age\") + \n",
    "  theme(axis.text.y=element_blank(),\n",
    "        axis.ticks.y=element_blank(),\n",
    "        axis.line.y=element_blank())  \n",
    "\n",
    "hist <- eega_df %>% select(closest_ega) %>%\n",
    "  ggplot() +\n",
    "  geom_histogram(aes(x = closest_ega, y = (..count..)),\n",
    "                 position = \"identity\", binwidth = 1, \n",
    "                 fill = \"lightblue\", color = \"black\") +\n",
    "                 geom_vline(xintercept = 38.5, color = \"darkred\", size=0.8) + \n",
    "                 ylab(\"Count of Women\") + xlab(\"\") + theme_pubr(base_family=\"Arial\", base_size=base_font_size) + \n",
    "                 scale_x_continuous(breaks=c( seq(0,45, 3))) + theme(axis.text.x = element_text(size=8))\n",
    "\n",
    "\n",
    "\n",
    "# combine figures \n",
    "bx_hist = plot_grid(hist, bxplt, \n",
    "                   ncol = 1, rel_heights = c(2.5, 1),\n",
    "                   align = 'v', axis = 'lr') \n",
    "\n",
    "\n",
    "bx_hist\n",
    "save.file=file.path(OUTPUT_DIR, sprintf('%s_ega_distribtuion.pdf',DATE))\n",
    "# ggsave(save.file,bx_hist,  device = cairo_pdf, height=3.5, width=3.5, units=\"in\")\n",
    "\n",
    "\n",
    "# save figures seperately\n",
    "# save.hist=file.path(OUTPUT_DIR, sprintf('%s_age_hist.pdf',DATE))\n",
    "# save.bxplt=file.path(OUTPUT_DIR, sprintf('%s_age_bxplt.pdf',DATE))\n",
    "\n",
    "# ggsave(save.hist, hist,  device = cairo_pdf, height=2, width=2, units=\"in\")\n",
    "# ggsave(save.bxplt,bxplt,  device = cairo_pdf, height=1, width=2, units=\"in\")"
   ]
  },
  {
   "cell_type": "code",
   "execution_count": 33,
   "metadata": {
    "ExecuteTime": {
     "end_time": "2020-01-20T20:18:21.402000Z",
     "start_time": "2020-01-20T20:18:20.677729Z"
    },
    "hidden": true
   },
   "outputs": [
    {
     "data": {
      "image/png": "[encoded data removed]"
     },
     "metadata": {},
     "output_type": "display_data"
    }
   ],
   "source": [
    "%%R \n",
    "hist"
   ]
  },
  {
   "cell_type": "code",
   "execution_count": null,
   "metadata": {
    "hidden": true
   },
   "outputs": [],
   "source": [
    "# REPEAT PLOT BUT REMOVE DUPLICATED INDIVIDUAL \n",
    "\n"
   ]
  },
  {
   "cell_type": "code",
   "execution_count": 43,
   "metadata": {
    "ExecuteTime": {
     "end_time": "2020-04-21T22:06:19.645001Z",
     "start_time": "2020-04-21T22:06:19.574000Z"
    },
    "hidden": true
   },
   "outputs": [],
   "source": [
    "sorted_temp = eega_df.sort_values(['GRID','delivery_date'])\n",
    "\n",
    "eega_df_no_dups = sorted_temp[~sorted_temp.duplicated(subset='GRID', keep='first')]"
   ]
  },
  {
   "cell_type": "code",
   "execution_count": 50,
   "metadata": {
    "ExecuteTime": {
     "end_time": "2020-04-21T22:09:28.939083Z",
     "start_time": "2020-04-21T22:09:25.418674Z"
    },
    "hidden": true
   },
   "outputs": [],
   "source": [
    "%%R -i eega_df_no_dups\n",
    "\n",
    "# plot ega\n",
    "\n",
    "eega_df=eega_df_no_dups\n",
    "\n",
    "base_font_size=10\n",
    "\n",
    "eega_df2 <-\n",
    "  eega_df %>%\n",
    "  mutate(outlier = (closest_ega > median(closest_ega) + IQR(closest_ega) * 1.5) | (closest_ega < median(closest_ega) - IQR(closest_ega) * 1.5) ) \n",
    "\n",
    "\n",
    "\n",
    "bxplt <- eega_df %>%\n",
    "  ggplot(aes(x=\"\", y = closest_ega)) + \n",
    "  geom_boxplot(fill = \"lightblue\", color = \"black\", outlier.size = 0.5, outlier.alpha = 0.5) +              \n",
    "  coord_flip() +\n",
    "  theme_pubr(base_family=\"Arial\", base_size=12) +\n",
    "  xlab(\"\") + ylab(\"Estimated Gest. Age\") + \n",
    "  theme(axis.text.y=element_blank(),\n",
    "        axis.ticks.y=element_blank(),\n",
    "        axis.line.y=element_blank())  \n",
    "\n",
    "hist <- eega_df %>% select(closest_ega) %>%\n",
    "  ggplot() +\n",
    "  geom_histogram(aes(x = closest_ega, y = (..count..)),\n",
    "                 position = \"identity\", binwidth = 1, \n",
    "                 fill = \"lightblue\", color = \"black\") +\n",
    "                 geom_vline(xintercept = 38.5, color = \"darkred\", size=0.8) + \n",
    "                 ylab(\"Count of Women\") + xlab(\"\") + theme_pubr(base_family=\"Arial\", base_size=base_font_size) + \n",
    "                 scale_x_continuous(breaks=c( seq(0,45, 3))) + theme(axis.text.x = element_text(size=8))\n",
    "\n",
    "\n",
    "\n",
    "# combine figures \n",
    "bx_hist = plot_grid(hist, bxplt, \n",
    "                   ncol = 1, rel_heights = c(2.5, 1),\n",
    "                   align = 'v', axis = 'lr') \n",
    "\n",
    "\n",
    "# bx_hist\n",
    "# save.file=file.path(OUTPUT_DIR, sprintf('%s_ega_distribtuion_no_dups_w_in_3days.pdf',DATE))\n",
    "# ggsave(save.file,bx_hist,  device = cairo_pdf, height=3.5, width=3.5, units=\"in\")\n",
    "\n",
    "\n",
    "# save figures seperately\n",
    "save.hist=file.path(OUTPUT_DIR, sprintf('%s_age_hist_no_dups_w_in_3days.pdf',DATE))\n",
    "save.bxplt=file.path(OUTPUT_DIR, sprintf('%s_age_bxplt_no_dups_w_in_3days.pdf',DATE))\n",
    "\n",
    "# ggsave(save.hist, hist,  device = cairo_pdf, height=2, width=2, units=\"in\")\n",
    "# ggsave(save.bxplt,bxplt,  device = cairo_pdf, height=1, width=2, units=\"in\")"
   ]
  },
  {
   "cell_type": "code",
   "execution_count": 48,
   "metadata": {
    "ExecuteTime": {
     "end_time": "2020-04-21T22:08:46.802535Z",
     "start_time": "2020-04-21T22:08:46.309627Z"
    },
    "hidden": true
   },
   "outputs": [
    {
     "data": {
      "image/png": "[encoded data removed]"
     },
     "metadata": {},
     "output_type": "display_data"
    }
   ],
   "source": [
    "%%R \n",
    "hist"
   ]
  },
  {
   "cell_type": "code",
   "execution_count": 53,
   "metadata": {
    "ExecuteTime": {
     "end_time": "2020-04-21T22:13:55.043888Z",
     "start_time": "2020-04-21T22:13:55.023724Z"
    },
    "hidden": true
   },
   "outputs": [
    {
     "data": {
      "text/plain": [
       "count    26135.000000\n",
       "mean        38.466291\n",
       "std          3.235134\n",
       "min         10.000000\n",
       "25%         38.000000\n",
       "50%         39.286000\n",
       "75%         40.286000\n",
       "max         46.000000\n",
       "Name: closest_ega, dtype: float64"
      ]
     },
     "execution_count": 53,
     "metadata": {},
     "output_type": "execute_result"
    },
    {
     "data": {
      "text/plain": [
       "39.286"
      ]
     },
     "execution_count": 53,
     "metadata": {},
     "output_type": "execute_result"
    }
   ],
   "source": [
    "eega_df_no_dups.closest_ega.describe()\n",
    "np.median(eega_df_no_dups.closest_ega)"
   ]
  },
  {
   "cell_type": "code",
   "execution_count": 52,
   "metadata": {
    "ExecuteTime": {
     "end_time": "2020-04-21T22:12:25.801767Z",
     "start_time": "2020-04-21T22:12:25.784734Z"
    },
    "hidden": true
   },
   "outputs": [
    {
     "data": {
      "text/plain": [
       "49"
      ]
     },
     "execution_count": 52,
     "metadata": {},
     "output_type": "execute_result"
    },
    {
     "data": {
      "text/plain": [
       "0.0015453025954776246"
      ]
     },
     "execution_count": 52,
     "metadata": {},
     "output_type": "execute_result"
    }
   ],
   "source": [
    "np.sum(eega_df_no_dups.closest_ega < 20)\n",
    "np.sum(eega_df_no_dups.closest_ega < 20)/eega_df.shape[0]"
   ]
  },
  {
   "cell_type": "code",
   "execution_count": null,
   "metadata": {
    "hidden": true
   },
   "outputs": [],
   "source": []
  }
 ],
 "metadata": {
  "kernelspec": {
   "display_name": "Python 3",
   "language": "python",
   "name": "python3"
  },
  "language_info": {
   "codemirror_mode": {
    "name": "ipython",
    "version": 3
   },
   "file_extension": ".py",
   "mimetype": "text/x-python",
   "name": "python",
   "nbconvert_exporter": "python",
   "pygments_lexer": "ipython3",
   "version": "3.6.7"
  },
  "toc": {
   "base_numbering": 1,
   "nav_menu": {},
   "number_sections": true,
   "sideBar": true,
   "skip_h1_title": false,
   "title_cell": "Table of Contents",
   "title_sidebar": "Contents",
   "toc_cell": false,
   "toc_position": {},
   "toc_section_display": true,
   "toc_window_display": false
  }
 },
 "nbformat": 4,
 "nbformat_minor": 2
}
