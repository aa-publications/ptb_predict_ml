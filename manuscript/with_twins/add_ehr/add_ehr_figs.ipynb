{
 "cells": [
  {
   "cell_type": "markdown",
   "metadata": {},
   "source": [
    "# Figures for Adding EHR Data with Raw Count of ICD-9 & CPT  "
   ]
  },
  {
   "cell_type": "code",
   "execution_count": 32,
   "metadata": {
    "ExecuteTime": {
     "end_time": "2019-10-09T15:15:53.936925Z",
     "start_time": "2019-10-09T15:15:53.917328Z"
    }
   },
   "outputs": [
    {
     "data": {
      "text/html": [
       "<style>.container {width:90% !important; }</style>"
      ],
      "text/plain": [
       "<IPython.core.display.HTML object>"
      ]
     },
     "metadata": {},
     "output_type": "display_data"
    }
   ],
   "source": [
    "import os, sys\n",
    "import numpy as np\n",
    "import pandas as pd \n",
    "import seaborn as sns\n",
    "import matplotlib.pyplot as plt \n",
    "import glob \n",
    "import pickle \n",
    "from scipy.cluster.hierarchy import linkage,leaves_list\n",
    "from scipy.interpolate import interp1d\n",
    "from cycler import cycler\n",
    "from collections import OrderedDict \n",
    "\n",
    "from datetime import datetime\n",
    "from IPython.core.interactiveshell import InteractiveShell\n",
    "InteractiveShell.ast_node_interactivity = \"all\" \n",
    "from IPython.core.display import display, HTML    \n",
    "display(HTML(\"<style>.container {width:90% !important; }</style>\"))\n",
    "%matplotlib inline\n",
    "np.set_printoptions(precision=5, suppress=True) \n",
    "\n",
    "DATE = datetime.now().strftime('%Y-%m-%d')"
   ]
  },
  {
   "cell_type": "code",
   "execution_count": 2,
   "metadata": {
    "ExecuteTime": {
     "end_time": "2019-10-09T15:10:59.252437Z",
     "start_time": "2019-10-09T15:10:52.074664Z"
    }
   },
   "outputs": [],
   "source": [
    "sys.path.append('/dors/capra_lab/users/abraha1/projects/PTB_phenotyping/scripts/rand_forest_ptb_classification')\n",
    "from hyperparam_tune import validate_best_model"
   ]
  },
  {
   "cell_type": "code",
   "execution_count": 3,
   "metadata": {
    "ExecuteTime": {
     "end_time": "2019-10-09T15:11:09.642111Z",
     "start_time": "2019-10-09T15:10:59.258258Z"
    }
   },
   "outputs": [],
   "source": [
    "import shap"
   ]
  },
  {
   "cell_type": "code",
   "execution_count": 4,
   "metadata": {
    "ExecuteTime": {
     "end_time": "2019-10-09T15:11:14.300660Z",
     "start_time": "2019-10-09T15:11:09.648871Z"
    },
    "scrolled": true
   },
   "outputs": [],
   "source": [
    "%load_ext rpy2.ipython"
   ]
  },
  {
   "cell_type": "code",
   "execution_count": 5,
   "metadata": {
    "ExecuteTime": {
     "end_time": "2019-10-09T15:11:14.313465Z",
     "start_time": "2019-10-09T15:11:14.307779Z"
    }
   },
   "outputs": [],
   "source": [
    "ROOT_DATA_DIR = \"/dors/capra_lab/users/abraha1/projects/PTB_phenotyping/results/ptb_predict_machine_learning/2019-01-21_manuscript_add_ehr_data\" \n",
    "BIN_CLIN_DATA_DIR = \"/dors/capra_lab/users/abraha1/projects/PTB_phenotyping/results/ptb_predict_machine_learning/2019_09_05_add_clin_labs/bin_labs\"\n",
    "CLIN_DATA_DIR = \"/dors/capra_lab/users/abraha1/projects/PTB_phenotyping/results/ptb_predict_machine_learning/2019_09_05_add_clin_labs/lab_values\"\n",
    "OUTPUT_DIR = \"/dors/capra_lab/users/abraha1/projects/PTB_phenotyping/scripts/rand_forest_ptb_classification/manuscript/add_ehr_data\""
   ]
  },
  {
   "cell_type": "markdown",
   "metadata": {
    "heading_collapsed": true
   },
   "source": [
    "## Functions"
   ]
  },
  {
   "cell_type": "code",
   "execution_count": 6,
   "metadata": {
    "ExecuteTime": {
     "end_time": "2019-10-09T15:11:14.339090Z",
     "start_time": "2019-10-09T15:11:14.317096Z"
    },
    "code_folding": [
     0
    ],
    "hidden": true
   },
   "outputs": [],
   "source": [
    "def get_test_performance(input_file, model_file):\n",
    "    \n",
    "    \n",
    "    input_data = pd.read_csv(input_file, sep=\"\\t\")\n",
    "    print(\"done loading {}\".format(os.path.basename(input_file)))\n",
    "    \n",
    "    held_out_df = input_data.loc[input_data['partition']=='held_out'].copy()\n",
    "    train_df = input_data.loc[input_data['partition']=='grid_cv'].copy()\n",
    "    held_out_df.set_index('GRID',inplace=True)\n",
    "    train_df.set_index('GRID',inplace=True)\n",
    "    \n",
    "    X_test = held_out_df.iloc[:,:-2]\n",
    "    y_test = held_out_df.label.apply(lambda x: 1 if x == 'preterm' else 0).values\n",
    "\n",
    "    \n",
    "    xgb_model = pickle.load(open(model_file, \"rb\"))\n",
    "    \n",
    "    return X_test, y_test, xgb_model "
   ]
  },
  {
   "cell_type": "code",
   "execution_count": 7,
   "metadata": {
    "ExecuteTime": {
     "end_time": "2019-10-09T15:11:14.369152Z",
     "start_time": "2019-10-09T15:11:14.344280Z"
    },
    "code_folding": [
     0
    ],
    "hidden": true
   },
   "outputs": [],
   "source": [
    "def plot_roc(store_fpr, store_tpr, aucs, plt_prefix='', roc_fig_file=None):\n",
    "    '''\n",
    "    plot auroc curve(s) with mean and std; save if a roc_fig_file is provided\n",
    "\n",
    "        INPUTS:\n",
    "            * store_fpr, store_tpr, aucs: a list where each element represents data for one curve\n",
    "            * plt_prefix: label to add to the title of plot\n",
    "            * roc_fig_file: full path to save file\n",
    "            * savefig: boolean to save or not save figure\n",
    "\n",
    "        note: first three must be a list; will not plot mean and std if only one curve\n",
    "    '''\n",
    "    print(\"Creating roc plot.....\")\n",
    "\n",
    "    interp_fpr = np.linspace(0, 1, 100)\n",
    "    store_tpr_interp = []\n",
    "\n",
    "    ax = plt.figure()\n",
    "    plt.plot([0, 1], [0, 1], linestyle='--', lw=4, color='r', label='Chance', alpha=.8)\n",
    "\n",
    "    # plot each cv iteration\n",
    "    for cv_iter, fpr_tpr_auc in enumerate(zip(store_fpr, store_tpr, aucs)):\n",
    "        # set_trace()\n",
    "        fpr, tpr, auc = fpr_tpr_auc\n",
    "        plt.plot(fpr, tpr, lw=4, alpha=0.9, label=\"#{}(AUC={:.3f})\".format(cv_iter, auc))\n",
    "\n",
    "        lin_fx = interp1d(fpr, tpr, kind='linear')\n",
    "        interp_tpr = lin_fx(interp_fpr)\n",
    "\n",
    "        # store_tpr_interp.append(np.interp(mean_fpr, fpr, tpr))\n",
    "        # store_tpr_interp[-1][0] = 0.0\n",
    "        store_tpr_interp.append(interp_tpr)\n",
    "\n",
    "    # plot mean and std only if more than one curve present\n",
    "    if len(store_fpr) != 1:\n",
    "        # plot mean, sd, and shade in between\n",
    "        mean_tpr = np.mean(store_tpr_interp, axis=0)\n",
    "        # mean_tpr[-1] = 1.0\n",
    "        mean_auc = metrics.auc(interp_fpr, mean_tpr)\n",
    "        std_auc = np.std(aucs)\n",
    "        plt.plot(interp_fpr, mean_tpr, color='b',\n",
    "                 label=\"Mean(AUC={:.2f}+/-{:.2f})\".format(mean_auc, std_auc),\n",
    "                 lw=2, alpha=.8)\n",
    "\n",
    "        std_tpr = np.std(store_tpr_interp, axis=0)\n",
    "        tprs_upper = np.minimum(mean_tpr + 2*std_tpr, 1)\n",
    "        tprs_lower = np.maximum(mean_tpr - 2*std_tpr, 0)\n",
    "        plt.fill_between(interp_fpr, tprs_lower, tprs_upper, color='grey', alpha=.2,\n",
    "                         label=\"+/- 2 S.D.\")\n",
    "\n",
    "    plt.xlim([-0.05, 1.05])\n",
    "    plt.ylim([-0.05, 1.05])\n",
    "    plt.xlabel('False Positive Rate')\n",
    "    plt.ylabel('True Positive Rate')\n",
    "    plt.title('ROC for {}:\\nPrediting PTB vs. non-PTB'.format(plt_prefix))\n",
    "    plt.legend(loc=\"lower right\")\n",
    "\n",
    "    if roc_fig_file:\n",
    "        plt.savefig(roc_fig_file)\n",
    "        print(\"\\tDone. AUROC curve saved to:\\n\\t{}\".format(roc_fig_file))\n",
    "\n",
    "    return ax"
   ]
  },
  {
   "cell_type": "code",
   "execution_count": 8,
   "metadata": {
    "ExecuteTime": {
     "end_time": "2019-10-09T15:11:14.400095Z",
     "start_time": "2019-10-09T15:11:14.373518Z"
    },
    "code_folding": [
     0
    ],
    "hidden": true
   },
   "outputs": [],
   "source": [
    "def plot_pr(precisions, recalls, avg_prs, plt_prefix, pr_fig_file=None, pos_prop=None):\n",
    "    ''' plot PR curve(s) with mean and std; save if pr_fig_file is provided\n",
    "\n",
    "        INPUTS:\n",
    "            * precisions, recalls, avg_prs: must be a list where each element represents data for one curve\n",
    "            * plt_prefix: label to add to the title of plot\n",
    "            * pr_fig_file: full path to save file\n",
    "            * pos_prop: total true positives / total samples (i.e. proportion of positves)\n",
    "\n",
    "        note: first three must be a list; will not plot mean and std if only one curve\n",
    "    '''\n",
    "    print(\"Creating PR curve plot ...\")\n",
    "    # mean_rc = np.linspace(0, 1, 100)\n",
    "    interp_rc = np.linspace(0, 1, 100)\n",
    "\n",
    "    store_pr_interp = []\n",
    "    ax = plt.figure()\n",
    "\n",
    "    # plot line of random chance\n",
    "    if pos_prop:\n",
    "        plt.plot([0, 1], [pos_prop, pos_prop], linestyle='--', lw=4,\n",
    "                 color='r', label='Chance({:.3f})'.format(pos_prop), alpha=.8)\n",
    "\n",
    "    # plot each cv_iter\n",
    "    for cv_iter, pr_rc_avg in enumerate(zip(precisions, recalls, avg_prs)):\n",
    "\n",
    "        pr_array, rc_array, pr_avg = pr_rc_avg\n",
    "        # plt.plot(rc_array, pr_array, lw=1, color='k', alpha=0.4)\n",
    "        plt.step(rc_array, pr_array, lw=4, alpha=0.8, where='post', label=\"#{}(AvgPR={:.3f})\".format(cv_iter, pr_avg))\n",
    "\n",
    "        # interpolate recall to have the same length array for taking mean\n",
    "        lin_fx = interp1d(rc_array, pr_array, kind='linear')\n",
    "        interp_pr = lin_fx(interp_rc)\n",
    "        store_pr_interp.append(interp_pr)\n",
    "\n",
    "    # set_trace()\n",
    "\n",
    "    # plot mean and std only if more than one curve present\n",
    "    if len(precisions) != 1:\n",
    "        # mean and std\n",
    "        mean_pr = np.mean(store_pr_interp, axis=0)\n",
    "        mean_avg_pr = np.mean(avg_prs)\n",
    "        std_avg_pr = np.std(avg_prs)\n",
    "\n",
    "        # std of each pr-curve\n",
    "        std_pr = np.std(store_pr_interp, axis=0)\n",
    "        pr_upper = np.minimum(mean_pr + 2*std_pr, 1)\n",
    "        pr_lower = np.maximum(mean_pr - 2*std_pr, 0)\n",
    "        plt.fill_between(interp_rc, pr_lower, pr_upper, color='grey', alpha=.2,\n",
    "                         label=\"+/- 2 S.D.\")\n",
    "\n",
    "        plt.plot(interp_rc, mean_pr, color='b',\n",
    "                 label=\"Mean(AUC={:.2f}+/-{:.2f})\".format(mean_avg_pr, std_avg_pr), lw=2, alpha=0.8)\n",
    "\n",
    "    plt.ylim([0.0, 1.05])\n",
    "    plt.xlim([0.0, 1.0])\n",
    "    plt.xlabel('Recall')\n",
    "    plt.ylabel('Precision')\n",
    "    plt.title('PR Curve for {}:\\nPrediting PTB vs. non-PTB'.format(plt_prefix))\n",
    "    plt.legend(loc=\"lower right\")\n",
    "\n",
    "    if pr_fig_file:\n",
    "        plt.savefig(pr_fig_file)\n",
    "        print(\"\\tPR curve saved to:\\n\\t{}\".format(pr_fig_file))\n",
    "\n",
    "    return ax"
   ]
  },
  {
   "cell_type": "markdown",
   "metadata": {
    "heading_collapsed": true
   },
   "source": [
    "## Load Data "
   ]
  },
  {
   "cell_type": "code",
   "execution_count": 9,
   "metadata": {
    "ExecuteTime": {
     "end_time": "2019-10-09T15:11:14.618582Z",
     "start_time": "2019-10-09T15:11:14.405905Z"
    },
    "hidden": true,
    "scrolled": true
   },
   "outputs": [],
   "source": [
    "dataset_dict = OrderedDict()\n",
    "for dlabel in ['age_race','obnotes','prs','unstruc' ,'bin_labs','clin_labs']: \n",
    "    \n",
    "    for flabel in ['all','icd_cpt', 'only']:\n",
    "\n",
    "        if dlabel == 'bin_labs':\n",
    "               \n",
    "            input_file = glob.glob(BIN_CLIN_DATA_DIR+'/*/input_data_vs_{}_{}*'.format(dlabel, flabel) )[0]\n",
    "            model_file = glob.glob(BIN_CLIN_DATA_DIR+'/*/best_xgb_model_vs_{}_{}*'.format(dlabel,flabel))[0]\n",
    "\n",
    "        elif dlabel == 'clin_labs': \n",
    "            input_file = glob.glob(CLIN_DATA_DIR+'/*/input_data_vs_{}_{}*'.format(dlabel, flabel) )[0]\n",
    "            model_file = glob.glob(CLIN_DATA_DIR+'/*/best_xgb_model_vs_{}_{}*'.format(dlabel,flabel))[0]\n",
    "\n",
    "        else: \n",
    "\n",
    "            input_file = glob.glob(ROOT_DATA_DIR+'/*/input_data_vs_{}__{}*'.format(dlabel,flabel))[0]\n",
    "            model_file = glob.glob(ROOT_DATA_DIR+'/*/best_xgb_model_vs_{}__{}*'.format(dlabel,flabel))[0]\n",
    "\n",
    "        dataset_dict['{}_{}'.format(dlabel,flabel)] =  {'input_file': input_file, 'model_file': model_file}\n"
   ]
  },
  {
   "cell_type": "code",
   "execution_count": 10,
   "metadata": {
    "ExecuteTime": {
     "end_time": "2019-10-09T15:11:14.627786Z",
     "start_time": "2019-10-09T15:11:14.621440Z"
    },
    "hidden": true
   },
   "outputs": [],
   "source": [
    "STORED_DATA_FILE = os.path.join(OUTPUT_DIR,'add_ehr_datasets_dict_with_labs.pickle')"
   ]
  },
  {
   "cell_type": "code",
   "execution_count": 11,
   "metadata": {
    "ExecuteTime": {
     "end_time": "2019-10-09T15:12:03.420074Z",
     "start_time": "2019-10-09T15:11:14.632502Z"
    },
    "hidden": true
   },
   "outputs": [
    {
     "name": "stdout",
     "output_type": "stream",
     "text": [
      "loading pickled file...\n"
     ]
    }
   ],
   "source": [
    "# load if the data already exists... \n",
    "\n",
    "if os.path.isfile(STORED_DATA_FILE):     \n",
    "    print(\"loading pickled file...\")\n",
    "    metrics_file = open(STORED_DATA_FILE, 'rb')\n",
    "    dataset_dict = pickle.load(metrics_file)\n",
    "else: \n",
    "    print(\"creating data...\")\n",
    "    store_results = {}\n",
    "    for label, inner_dict in dataset_dict.items(): \n",
    "\n",
    "        print(label)\n",
    "        X_test, y_test, xgb_model  = get_test_performance(inner_dict['input_file'], inner_dict['model_file'])\n",
    "        metrics_results, metrics_df, model_params = validate_best_model(xgb_model, X_test, y_test)\n",
    "\n",
    "        dataset_dict[label]['metrics_df'] = metrics_df\n",
    "        dataset_dict[label]['metrics_results'] = metrics_results\n",
    "        dataset_dict[label]['y_test'] = y_test\n",
    "        dataset_dict[label]['X_test'] = X_test"
   ]
  },
  {
   "cell_type": "code",
   "execution_count": 12,
   "metadata": {
    "ExecuteTime": {
     "end_time": "2019-10-09T15:12:03.429861Z",
     "start_time": "2019-10-09T15:12:03.424124Z"
    },
    "hidden": true
   },
   "outputs": [],
   "source": [
    "#  save stored dictionary\n",
    "if not os.path.isfile(STORED_DATA_FILE): \n",
    "    pickle.dump(dataset_dict, open(STORED_DATA_FILE, 'wb'))    \n",
    "    print(\"pickled model.\")"
   ]
  },
  {
   "cell_type": "markdown",
   "metadata": {
    "heading_collapsed": true
   },
   "source": [
    "## Create metrics dataframe"
   ]
  },
  {
   "cell_type": "code",
   "execution_count": 13,
   "metadata": {
    "ExecuteTime": {
     "end_time": "2019-10-09T15:12:03.577936Z",
     "start_time": "2019-10-09T15:12:03.434715Z"
    },
    "hidden": true
   },
   "outputs": [
    {
     "name": "stdout",
     "output_type": "stream",
     "text": [
      "age_race_all\n",
      "age_race_icd_cpt\n",
      "age_race_only\n",
      "obnotes_all\n",
      "obnotes_icd_cpt\n",
      "obnotes_only\n",
      "prs_all\n",
      "prs_icd_cpt\n",
      "prs_only\n",
      "unstruc_all\n",
      "unstruc_icd_cpt\n",
      "unstruc_only\n",
      "bin_labs_all\n",
      "bin_labs_icd_cpt\n",
      "bin_labs_only\n",
      "clin_labs_all\n",
      "clin_labs_icd_cpt\n",
      "clin_labs_only\n"
     ]
    }
   ],
   "source": [
    "# concat metrics_df \n",
    "all_metrics_df = pd.DataFrame()\n",
    "for label, inner_dict in dataset_dict.items(): \n",
    "    \n",
    "    print(label)\n",
    "    metrics_df = inner_dict['metrics_df']\n",
    "#     metrics_df['dataset'] = mod_labels[label]\n",
    "    metrics_df['dataset'] = label\n",
    "    all_metrics_df = all_metrics_df.append(metrics_df)"
   ]
  },
  {
   "cell_type": "code",
   "execution_count": 14,
   "metadata": {
    "ExecuteTime": {
     "end_time": "2019-10-09T15:12:03.630515Z",
     "start_time": "2019-10-09T15:12:03.580963Z"
    },
    "hidden": true
   },
   "outputs": [],
   "source": [
    "all_metrics_df.loc[all_metrics_df['dataset'].apply(lambda x: True if (x.find('all') > -1) else False), 'model'] = 'all'\n",
    "all_metrics_df.loc[all_metrics_df['dataset'].apply(lambda x: True if (x.find('only') > -1) else False), 'model'] = 'only'\n",
    "all_metrics_df.loc[all_metrics_df['dataset'].apply(lambda x: True if (x.find('icd_cpt') > -1) else False), 'model'] = 'baseline'\n",
    "\n",
    "\n",
    "all_metrics_df['data'] = all_metrics_df['dataset'].apply(lambda x: x.replace('_all','').replace('_icd_cpt','').replace('_only',''))"
   ]
  },
  {
   "cell_type": "code",
   "execution_count": 15,
   "metadata": {
    "ExecuteTime": {
     "end_time": "2019-10-09T15:12:03.680386Z",
     "start_time": "2019-10-09T15:12:03.633862Z"
    },
    "hidden": true
   },
   "outputs": [],
   "source": [
    "all_metrics_df['random_pr'] = (all_metrics_df.tp_count + all_metrics_df.fn_count)/all_metrics_df.total_count"
   ]
  },
  {
   "cell_type": "code",
   "execution_count": 16,
   "metadata": {
    "ExecuteTime": {
     "end_time": "2019-10-09T15:12:03.798994Z",
     "start_time": "2019-10-09T15:12:03.683183Z"
    },
    "hidden": true
   },
   "outputs": [
    {
     "data": {
      "text/html": [
       "<div>\n",
       "<style scoped>\n",
       "    .dataframe tbody tr th:only-of-type {\n",
       "        vertical-align: middle;\n",
       "    }\n",
       "\n",
       "    .dataframe tbody tr th {\n",
       "        vertical-align: top;\n",
       "    }\n",
       "\n",
       "    .dataframe thead th {\n",
       "        text-align: right;\n",
       "    }\n",
       "</style>\n",
       "<table border=\"1\" class=\"dataframe\">\n",
       "  <thead>\n",
       "    <tr style=\"text-align: right;\">\n",
       "      <th></th>\n",
       "      <th>precision</th>\n",
       "      <th>recall</th>\n",
       "      <th>f1</th>\n",
       "      <th>roc_auc</th>\n",
       "      <th>avg_pr</th>\n",
       "      <th>tn_count</th>\n",
       "      <th>fp_count</th>\n",
       "      <th>fn_count</th>\n",
       "      <th>tp_count</th>\n",
       "      <th>brier_score</th>\n",
       "      <th>total_count</th>\n",
       "      <th>dataset</th>\n",
       "      <th>model</th>\n",
       "      <th>data</th>\n",
       "      <th>random_pr</th>\n",
       "    </tr>\n",
       "  </thead>\n",
       "  <tbody>\n",
       "    <tr>\n",
       "      <th>0</th>\n",
       "      <td>0.753876</td>\n",
       "      <td>0.804273</td>\n",
       "      <td>0.778259</td>\n",
       "      <td>0.947556</td>\n",
       "      <td>0.863059</td>\n",
       "      <td>4882</td>\n",
       "      <td>381</td>\n",
       "      <td>284</td>\n",
       "      <td>1167</td>\n",
       "      <td>0.073213</td>\n",
       "      <td>6714</td>\n",
       "      <td>age_race_all</td>\n",
       "      <td>all</td>\n",
       "      <td>age_race</td>\n",
       "      <td>0.216116</td>\n",
       "    </tr>\n",
       "    <tr>\n",
       "      <th>0</th>\n",
       "      <td>0.756270</td>\n",
       "      <td>0.810476</td>\n",
       "      <td>0.782435</td>\n",
       "      <td>0.949259</td>\n",
       "      <td>0.867206</td>\n",
       "      <td>4884</td>\n",
       "      <td>379</td>\n",
       "      <td>275</td>\n",
       "      <td>1176</td>\n",
       "      <td>0.072467</td>\n",
       "      <td>6714</td>\n",
       "      <td>age_race_icd_cpt</td>\n",
       "      <td>baseline</td>\n",
       "      <td>age_race</td>\n",
       "      <td>0.216116</td>\n",
       "    </tr>\n",
       "    <tr>\n",
       "      <th>0</th>\n",
       "      <td>0.254864</td>\n",
       "      <td>0.451413</td>\n",
       "      <td>0.325790</td>\n",
       "      <td>0.567973</td>\n",
       "      <td>0.255310</td>\n",
       "      <td>3348</td>\n",
       "      <td>1915</td>\n",
       "      <td>796</td>\n",
       "      <td>655</td>\n",
       "      <td>0.247490</td>\n",
       "      <td>6714</td>\n",
       "      <td>age_race_only</td>\n",
       "      <td>only</td>\n",
       "      <td>age_race</td>\n",
       "      <td>0.216116</td>\n",
       "    </tr>\n",
       "    <tr>\n",
       "      <th>0</th>\n",
       "      <td>0.542254</td>\n",
       "      <td>0.836957</td>\n",
       "      <td>0.658120</td>\n",
       "      <td>0.923297</td>\n",
       "      <td>0.791065</td>\n",
       "      <td>385</td>\n",
       "      <td>65</td>\n",
       "      <td>15</td>\n",
       "      <td>77</td>\n",
       "      <td>0.111939</td>\n",
       "      <td>542</td>\n",
       "      <td>obnotes_all</td>\n",
       "      <td>all</td>\n",
       "      <td>obnotes</td>\n",
       "      <td>0.169742</td>\n",
       "    </tr>\n",
       "    <tr>\n",
       "      <th>0</th>\n",
       "      <td>0.635514</td>\n",
       "      <td>0.739130</td>\n",
       "      <td>0.683417</td>\n",
       "      <td>0.915411</td>\n",
       "      <td>0.781074</td>\n",
       "      <td>411</td>\n",
       "      <td>39</td>\n",
       "      <td>24</td>\n",
       "      <td>68</td>\n",
       "      <td>0.078857</td>\n",
       "      <td>542</td>\n",
       "      <td>obnotes_icd_cpt</td>\n",
       "      <td>baseline</td>\n",
       "      <td>obnotes</td>\n",
       "      <td>0.169742</td>\n",
       "    </tr>\n",
       "  </tbody>\n",
       "</table>\n",
       "</div>"
      ],
      "text/plain": [
       "   precision    recall        f1   roc_auc    avg_pr  tn_count  fp_count  \\\n",
       "0   0.753876  0.804273  0.778259  0.947556  0.863059      4882       381   \n",
       "0   0.756270  0.810476  0.782435  0.949259  0.867206      4884       379   \n",
       "0   0.254864  0.451413  0.325790  0.567973  0.255310      3348      1915   \n",
       "0   0.542254  0.836957  0.658120  0.923297  0.791065       385        65   \n",
       "0   0.635514  0.739130  0.683417  0.915411  0.781074       411        39   \n",
       "\n",
       "   fn_count  tp_count  brier_score  total_count           dataset     model  \\\n",
       "0       284      1167     0.073213         6714      age_race_all       all   \n",
       "0       275      1176     0.072467         6714  age_race_icd_cpt  baseline   \n",
       "0       796       655     0.247490         6714     age_race_only      only   \n",
       "0        15        77     0.111939          542       obnotes_all       all   \n",
       "0        24        68     0.078857          542   obnotes_icd_cpt  baseline   \n",
       "\n",
       "       data  random_pr  \n",
       "0  age_race   0.216116  \n",
       "0  age_race   0.216116  \n",
       "0  age_race   0.216116  \n",
       "0   obnotes   0.169742  \n",
       "0   obnotes   0.169742  "
      ]
     },
     "execution_count": 16,
     "metadata": {},
     "output_type": "execute_result"
    }
   ],
   "source": [
    "all_metrics_df.head()"
   ]
  },
  {
   "cell_type": "code",
   "execution_count": 17,
   "metadata": {
    "ExecuteTime": {
     "end_time": "2019-10-09T15:12:03.998545Z",
     "start_time": "2019-10-09T15:12:03.801818Z"
    },
    "hidden": true
   },
   "outputs": [
    {
     "data": {
      "text/plain": [
       "array(['age_race_all', 'age_race_icd_cpt', 'age_race_only', 'obnotes_all',\n",
       "       'obnotes_icd_cpt', 'obnotes_only', 'prs_all', 'prs_icd_cpt',\n",
       "       'prs_only', 'unstruc_all', 'unstruc_icd_cpt', 'unstruc_only',\n",
       "       'bin_labs_all', 'bin_labs_icd_cpt', 'bin_labs_only',\n",
       "       'clin_labs_all', 'clin_labs_icd_cpt', 'clin_labs_only'],\n",
       "      dtype=object)"
      ]
     },
     "execution_count": 17,
     "metadata": {},
     "output_type": "execute_result"
    }
   ],
   "source": [
    "all_metrics_df.dataset.unique()"
   ]
  },
  {
   "cell_type": "code",
   "execution_count": 18,
   "metadata": {
    "ExecuteTime": {
     "end_time": "2019-10-09T15:12:04.017333Z",
     "start_time": "2019-10-09T15:12:04.006116Z"
    },
    "hidden": true
   },
   "outputs": [],
   "source": [
    "# new lables \n",
    "mod_labels = {'age_race_all':'ICD+CPT+age_race', 'age_race_icd_cpt':'ICD+CPT', 'age_race_only':'age_race',\n",
    "              'obnotes_all':'ICD+CPT+obnotes', 'obnotes_icd_cpt':'ICD+CPT', 'obnotes_only':'obnotes',\n",
    "              'prs_all':'ICD+CPT+prs', 'prs_icd_cpt':'ICD+CPT', 'prs_only':'prs',\n",
    "              'unstruc_all':'ICD+CPT+unstruc', 'unstruc_icd_cpt':'ICD+CPT', 'unstruc_only':'unstruc',\n",
    "              'bin_labs_all':'ICD+CPT+binary_labs', 'bin_labs_icd_cpt':'ICD+CPT', 'bin_labs_only':'binary_labs',\n",
    "              'clin_labs_all':'ICD+CPT+labs', 'clin_labs_icd_cpt':'ICD+CPT', 'clin_labs_only':'labs'\n",
    "             }"
   ]
  },
  {
   "cell_type": "markdown",
   "metadata": {},
   "source": [
    "## Save Data for Plotting"
   ]
  },
  {
   "cell_type": "markdown",
   "metadata": {
    "heading_collapsed": true
   },
   "source": [
    "## AUC ROC "
   ]
  },
  {
   "cell_type": "code",
   "execution_count": 19,
   "metadata": {
    "ExecuteTime": {
     "end_time": "2019-10-09T15:12:04.053550Z",
     "start_time": "2019-10-09T15:12:04.022354Z"
    },
    "hidden": true
   },
   "outputs": [],
   "source": [
    "sns.set( style='whitegrid',  font_scale=1.2, rc={'figure.figsize':(8*6,8)} )\n",
    "sns.set_style( {'axes.grid': True, 'axes.edgecolor': 'k', 'font.sans-serif': ['Arial'], 'grid.color': '#e1e1e1'})\n",
    "plt.rc('axes', prop_cycle=(cycler('color', ['#1b9e77', '#d95f02', '#7570b3']) ))\n",
    "fsize=20\n",
    "leg_fsize=8"
   ]
  },
  {
   "cell_type": "code",
   "execution_count": 20,
   "metadata": {
    "ExecuteTime": {
     "end_time": "2019-10-09T15:12:04.076337Z",
     "start_time": "2019-10-09T15:12:04.056715Z"
    },
    "hidden": true
   },
   "outputs": [],
   "source": [
    "%matplotlib inline"
   ]
  },
  {
   "cell_type": "code",
   "execution_count": 21,
   "metadata": {
    "ExecuteTime": {
     "end_time": "2019-10-09T15:12:06.880695Z",
     "start_time": "2019-10-09T15:12:04.079106Z"
    },
    "code_folding": [],
    "hidden": true
   },
   "outputs": [
    {
     "name": "stdout",
     "output_type": "stream",
     "text": [
      "figure saved to:/dors/capra_lab/users/abraha1/projects/PTB_phenotyping/scripts/rand_forest_ptb_classification/manuscript/add_ehr_data/2019-10-09_roc_add_ehr.pdf\n"
     ]
    },
    {
     "name": "stderr",
     "output_type": "stream",
     "text": [
      "/dors/capra_lab/users/abraha1/conda/envs/py36_r_ml/lib/python3.6/site-packages/matplotlib/font_manager.py:1241: UserWarning: findfont: Font family ['sans-serif'] not found. Falling back to DejaVu Sans.\n",
      "  (prop.get_family(), self.defaultFamily[fontext]))\n",
      "/dors/capra_lab/users/abraha1/conda/envs/py36_r_ml/lib/python3.6/site-packages/matplotlib/font_manager.py:1241: UserWarning: findfont: Font family ['sans-serif'] not found. Falling back to DejaVu Sans.\n",
      "  (prop.get_family(), self.defaultFamily[fontext]))\n"
     ]
    },
    {
     "data": {
      "image/png": "[encoded data removed]",
      "text/plain": [
       "<Figure size 2160x360 with 6 Axes>"
      ]
     },
     "metadata": {
      "needs_background": "light"
     },
     "output_type": "display_data"
    }
   ],
   "source": [
    "roc_data_df = pd.DataFrame()\n",
    "## ROC PLOTS\n",
    "fig, axes = plt.subplots(nrows=1, ncols=6, sharey=True, figsize=(5*6,5))\n",
    "_ = fig.text(0.5, 0.04, 'False Positive Rate', ha='center', fontsize=fsize)\n",
    "_ = fig.text(0.089, 0.5, 'True Positive Rate', va='center', rotation='vertical', fontsize=fsize)\n",
    "\n",
    "interp_fpr = np.linspace(0, 1, 100)\n",
    "for index, label_dict in enumerate(dataset_dict.items()): \n",
    "    label, inner_dict = label_dict\n",
    "\n",
    "    # unpack data \n",
    "    metrics_results = inner_dict['metrics_results']\n",
    "    fpr = metrics_results['fpr']\n",
    "    tpr = metrics_results['tpr']\n",
    "    auc = metrics_results['roc_auc']\n",
    "    \n",
    "    # calc \n",
    "    lin_fx = interp1d(fpr, tpr, kind='linear', assume_sorted=True)\n",
    "    interp_tpr = lin_fx(interp_fpr)\n",
    "    \n",
    "    # force a 0,0 start \n",
    "    interp_fpr = np.hstack((np.array([0]), interp_fpr))\n",
    "    interp_tpr = np.hstack((np.array([0]), interp_tpr))\n",
    "    \n",
    "    #plot\n",
    "    _ = axes[int(index/3)].plot(interp_fpr, interp_tpr, lw=2, alpha=1, linestyle='-',\n",
    "                 label=\"{} (AUC={:.3f})\".format(mod_labels[label].upper().replace(\"_\",\"+\"), auc))\n",
    "    \n",
    "    \n",
    "    # force equal aspect \n",
    "    axes[int(index/3)].set_aspect(1)\n",
    "    \n",
    "    if index % 3 == 2: \n",
    "        _ = axes[int(index/3)].plot([0, 1], [0, 1], linestyle='-', lw=0.5, color='#CD5C5C', label='Chance', alpha=.8)    \n",
    "        _ = axes[int(index/3)].tick_params(axis='both', which='major', labelsize=fsize)\n",
    "        \n",
    "    _ = axes[int(index/3)].legend(loc=\"lower right\", fontsize=leg_fsize, frameon=True, fancybox=False, framealpha=.9, shadow=True,borderpad=0.5)\n",
    "\n",
    "        \n",
    "ax = fig.get_axes()[0]\n",
    "ax.tick_params(axis='y', size=1)\n",
    "\n",
    "\n",
    "roc_fig_file = os.path.join(OUTPUT_DIR, '{}_roc_add_ehr.pdf'.format(DATE))\n",
    "print(\"figure saved to:{}\".format(roc_fig_file))\n",
    "plt.savefig(roc_fig_file)"
   ]
  },
  {
   "cell_type": "markdown",
   "metadata": {
    "heading_collapsed": true
   },
   "source": [
    "## PR AUC "
   ]
  },
  {
   "cell_type": "code",
   "execution_count": 22,
   "metadata": {
    "ExecuteTime": {
     "end_time": "2019-10-09T15:12:09.159616Z",
     "start_time": "2019-10-09T15:12:06.885071Z"
    },
    "hidden": true
   },
   "outputs": [
    {
     "name": "stdout",
     "output_type": "stream",
     "text": [
      "figure saved to:/dors/capra_lab/users/abraha1/projects/PTB_phenotyping/scripts/rand_forest_ptb_classification/manuscript/add_ehr_data/2019-10-09_pr_roc_add_ehr.pdf\n"
     ]
    },
    {
     "data": {
      "image/png": "[encoded data removed]",
      "text/plain": [
       "<Figure size 2160x360 with 6 Axes>"
      ]
     },
     "metadata": {
      "needs_background": "light"
     },
     "output_type": "display_data"
    }
   ],
   "source": [
    "fig, axes = plt.subplots(nrows=1, ncols=6, sharey=True, figsize=(5*6,5))\n",
    "_ = fig.text(0.5, 0.04, 'Recall', ha='center', fontsize=fsize)\n",
    "_ = fig.text(0.089, 0.5, 'Precision', va='center', rotation='vertical', fontsize=fsize)\n",
    "\n",
    "interp_rc = np.linspace(0, 1, 500)\n",
    "\n",
    "for index, label_dict in enumerate(dataset_dict.items()): \n",
    "    \n",
    "    \n",
    "    label, inner_dict = label_dict\n",
    "    # get data \n",
    "    metrics_results = inner_dict['metrics_results']\n",
    "    pr = metrics_results['pr_curve']\n",
    "    rc = metrics_results['rc_curve']\n",
    "    pr_auc = metrics_results['avg_prec']\n",
    "    \n",
    "    # TO DO: update this number \n",
    "    pos_prop=np.sum(inner_dict['y_test'])/len(inner_dict['y_test'])\n",
    "    \n",
    "    # calc \n",
    "    lin_fx = interp1d(rc, pr, kind='linear')\n",
    "    interp_pr = lin_fx(interp_rc)\n",
    "    \n",
    "    # force a 1,pos_prop end\n",
    "    interp_rc = np.hstack((interp_rc, np.array([1])))\n",
    "    interp_pr = np.hstack((interp_pr, np.array([pos_prop])))\n",
    "    \n",
    "    _ = axes[int(index/3)].plot(interp_rc, interp_pr, lw=2, alpha=1, linestyle='-',\n",
    "                 label=\"{} (AUC={:.3f})\".format(mod_labels[label].upper().replace(\"_\",\"+\"), pr_auc))\n",
    "\n",
    "    axes[int(index/3)].set_aspect(1)\n",
    "    if index % 3 == 2:\n",
    "        _ = axes[int(index/3)].plot([0, 1], [pos_prop, pos_prop], linestyle='-', lw=1,\n",
    "                 color='#CD5C5C', label='Chance({:.3f})'.format(pos_prop), alpha=.8)\n",
    "        _ = axes[int(index/3)].set_xlim([-0.05, 1.05])\n",
    "        _ = axes[int(index/3)].set_ylim([-0.05, 1.05])\n",
    "        _ = axes[int(index/3)].tick_params(axis='both', which='major', labelsize=fsize)\n",
    "        \n",
    "    _ = axes[int(index/3)].legend(loc=\"lower right\", fontsize=leg_fsize, frameon=True, fancybox=False, framealpha=.9, shadow=True,borderpad=0.5)\n",
    "\n",
    "\n",
    "pr_fig_file = os.path.join(OUTPUT_DIR, '{}_pr_roc_add_ehr.pdf'.format(DATE))\n",
    "print(\"figure saved to:{}\".format(pr_fig_file))\n",
    "plt.savefig(pr_fig_file)"
   ]
  },
  {
   "cell_type": "markdown",
   "metadata": {},
   "source": [
    "## PR ROC Barplots"
   ]
  },
  {
   "cell_type": "code",
   "execution_count": 23,
   "metadata": {
    "ExecuteTime": {
     "end_time": "2019-10-09T15:12:09.196770Z",
     "start_time": "2019-10-09T15:12:09.163946Z"
    }
   },
   "outputs": [
    {
     "data": {
      "text/html": [
       "<div>\n",
       "<style scoped>\n",
       "    .dataframe tbody tr th:only-of-type {\n",
       "        vertical-align: middle;\n",
       "    }\n",
       "\n",
       "    .dataframe tbody tr th {\n",
       "        vertical-align: top;\n",
       "    }\n",
       "\n",
       "    .dataframe thead th {\n",
       "        text-align: right;\n",
       "    }\n",
       "</style>\n",
       "<table border=\"1\" class=\"dataframe\">\n",
       "  <thead>\n",
       "    <tr style=\"text-align: right;\">\n",
       "      <th></th>\n",
       "      <th>precision</th>\n",
       "      <th>recall</th>\n",
       "      <th>f1</th>\n",
       "      <th>roc_auc</th>\n",
       "      <th>avg_pr</th>\n",
       "      <th>tn_count</th>\n",
       "      <th>fp_count</th>\n",
       "      <th>fn_count</th>\n",
       "      <th>tp_count</th>\n",
       "      <th>brier_score</th>\n",
       "      <th>total_count</th>\n",
       "      <th>dataset</th>\n",
       "      <th>model</th>\n",
       "      <th>data</th>\n",
       "      <th>random_pr</th>\n",
       "    </tr>\n",
       "  </thead>\n",
       "  <tbody>\n",
       "    <tr>\n",
       "      <th>0</th>\n",
       "      <td>0.753876</td>\n",
       "      <td>0.804273</td>\n",
       "      <td>0.778259</td>\n",
       "      <td>0.947556</td>\n",
       "      <td>0.863059</td>\n",
       "      <td>4882</td>\n",
       "      <td>381</td>\n",
       "      <td>284</td>\n",
       "      <td>1167</td>\n",
       "      <td>0.073213</td>\n",
       "      <td>6714</td>\n",
       "      <td>age_race_all</td>\n",
       "      <td>all</td>\n",
       "      <td>age_race</td>\n",
       "      <td>0.216116</td>\n",
       "    </tr>\n",
       "    <tr>\n",
       "      <th>0</th>\n",
       "      <td>0.756270</td>\n",
       "      <td>0.810476</td>\n",
       "      <td>0.782435</td>\n",
       "      <td>0.949259</td>\n",
       "      <td>0.867206</td>\n",
       "      <td>4884</td>\n",
       "      <td>379</td>\n",
       "      <td>275</td>\n",
       "      <td>1176</td>\n",
       "      <td>0.072467</td>\n",
       "      <td>6714</td>\n",
       "      <td>age_race_icd_cpt</td>\n",
       "      <td>baseline</td>\n",
       "      <td>age_race</td>\n",
       "      <td>0.216116</td>\n",
       "    </tr>\n",
       "    <tr>\n",
       "      <th>0</th>\n",
       "      <td>0.254864</td>\n",
       "      <td>0.451413</td>\n",
       "      <td>0.325790</td>\n",
       "      <td>0.567973</td>\n",
       "      <td>0.255310</td>\n",
       "      <td>3348</td>\n",
       "      <td>1915</td>\n",
       "      <td>796</td>\n",
       "      <td>655</td>\n",
       "      <td>0.247490</td>\n",
       "      <td>6714</td>\n",
       "      <td>age_race_only</td>\n",
       "      <td>only</td>\n",
       "      <td>age_race</td>\n",
       "      <td>0.216116</td>\n",
       "    </tr>\n",
       "    <tr>\n",
       "      <th>0</th>\n",
       "      <td>0.542254</td>\n",
       "      <td>0.836957</td>\n",
       "      <td>0.658120</td>\n",
       "      <td>0.923297</td>\n",
       "      <td>0.791065</td>\n",
       "      <td>385</td>\n",
       "      <td>65</td>\n",
       "      <td>15</td>\n",
       "      <td>77</td>\n",
       "      <td>0.111939</td>\n",
       "      <td>542</td>\n",
       "      <td>obnotes_all</td>\n",
       "      <td>all</td>\n",
       "      <td>obnotes</td>\n",
       "      <td>0.169742</td>\n",
       "    </tr>\n",
       "    <tr>\n",
       "      <th>0</th>\n",
       "      <td>0.635514</td>\n",
       "      <td>0.739130</td>\n",
       "      <td>0.683417</td>\n",
       "      <td>0.915411</td>\n",
       "      <td>0.781074</td>\n",
       "      <td>411</td>\n",
       "      <td>39</td>\n",
       "      <td>24</td>\n",
       "      <td>68</td>\n",
       "      <td>0.078857</td>\n",
       "      <td>542</td>\n",
       "      <td>obnotes_icd_cpt</td>\n",
       "      <td>baseline</td>\n",
       "      <td>obnotes</td>\n",
       "      <td>0.169742</td>\n",
       "    </tr>\n",
       "  </tbody>\n",
       "</table>\n",
       "</div>"
      ],
      "text/plain": [
       "   precision    recall        f1   roc_auc    avg_pr  tn_count  fp_count  \\\n",
       "0   0.753876  0.804273  0.778259  0.947556  0.863059      4882       381   \n",
       "0   0.756270  0.810476  0.782435  0.949259  0.867206      4884       379   \n",
       "0   0.254864  0.451413  0.325790  0.567973  0.255310      3348      1915   \n",
       "0   0.542254  0.836957  0.658120  0.923297  0.791065       385        65   \n",
       "0   0.635514  0.739130  0.683417  0.915411  0.781074       411        39   \n",
       "\n",
       "   fn_count  tp_count  brier_score  total_count           dataset     model  \\\n",
       "0       284      1167     0.073213         6714      age_race_all       all   \n",
       "0       275      1176     0.072467         6714  age_race_icd_cpt  baseline   \n",
       "0       796       655     0.247490         6714     age_race_only      only   \n",
       "0        15        77     0.111939          542       obnotes_all       all   \n",
       "0        24        68     0.078857          542   obnotes_icd_cpt  baseline   \n",
       "\n",
       "       data  random_pr  \n",
       "0  age_race   0.216116  \n",
       "0  age_race   0.216116  \n",
       "0  age_race   0.216116  \n",
       "0   obnotes   0.169742  \n",
       "0   obnotes   0.169742  "
      ]
     },
     "execution_count": 23,
     "metadata": {},
     "output_type": "execute_result"
    }
   ],
   "source": [
    "all_metrics_df.head()\n",
    "rand_pr_dict = dict(zip(all_metrics_df.dataset, all_metrics_df.random_pr))"
   ]
  },
  {
   "cell_type": "code",
   "execution_count": 24,
   "metadata": {
    "ExecuteTime": {
     "end_time": "2019-10-09T15:12:09.228603Z",
     "start_time": "2019-10-09T15:12:09.200661Z"
    }
   },
   "outputs": [],
   "source": [
    "# melt dataframe\n",
    "melted_metrics_df = pd.melt(all_metrics_df, id_vars=['model', 'data','dataset'], value_vars=['roc_auc','avg_pr'] )\n",
    "melted_metrics_df.variable = melted_metrics_df.variable.str.upper()\n"
   ]
  },
  {
   "cell_type": "code",
   "execution_count": 25,
   "metadata": {
    "ExecuteTime": {
     "end_time": "2019-10-09T15:12:09.265135Z",
     "start_time": "2019-10-09T15:12:09.231986Z"
    }
   },
   "outputs": [
    {
     "data": {
      "text/html": [
       "<div>\n",
       "<style scoped>\n",
       "    .dataframe tbody tr th:only-of-type {\n",
       "        vertical-align: middle;\n",
       "    }\n",
       "\n",
       "    .dataframe tbody tr th {\n",
       "        vertical-align: top;\n",
       "    }\n",
       "\n",
       "    .dataframe thead th {\n",
       "        text-align: right;\n",
       "    }\n",
       "</style>\n",
       "<table border=\"1\" class=\"dataframe\">\n",
       "  <thead>\n",
       "    <tr style=\"text-align: right;\">\n",
       "      <th></th>\n",
       "      <th>model</th>\n",
       "      <th>data</th>\n",
       "      <th>dataset</th>\n",
       "      <th>variable</th>\n",
       "      <th>value</th>\n",
       "    </tr>\n",
       "  </thead>\n",
       "  <tbody>\n",
       "    <tr>\n",
       "      <th>0</th>\n",
       "      <td>all</td>\n",
       "      <td>age_race</td>\n",
       "      <td>age_race_all</td>\n",
       "      <td>ROC_AUC</td>\n",
       "      <td>0.947556</td>\n",
       "    </tr>\n",
       "    <tr>\n",
       "      <th>18</th>\n",
       "      <td>all</td>\n",
       "      <td>age_race</td>\n",
       "      <td>age_race_all</td>\n",
       "      <td>AVG_PR</td>\n",
       "      <td>0.863059</td>\n",
       "    </tr>\n",
       "    <tr>\n",
       "      <th>1</th>\n",
       "      <td>baseline</td>\n",
       "      <td>age_race</td>\n",
       "      <td>age_race_icd_cpt</td>\n",
       "      <td>ROC_AUC</td>\n",
       "      <td>0.949259</td>\n",
       "    </tr>\n",
       "    <tr>\n",
       "      <th>19</th>\n",
       "      <td>baseline</td>\n",
       "      <td>age_race</td>\n",
       "      <td>age_race_icd_cpt</td>\n",
       "      <td>AVG_PR</td>\n",
       "      <td>0.867206</td>\n",
       "    </tr>\n",
       "    <tr>\n",
       "      <th>2</th>\n",
       "      <td>only</td>\n",
       "      <td>age_race</td>\n",
       "      <td>age_race_only</td>\n",
       "      <td>ROC_AUC</td>\n",
       "      <td>0.567973</td>\n",
       "    </tr>\n",
       "    <tr>\n",
       "      <th>20</th>\n",
       "      <td>only</td>\n",
       "      <td>age_race</td>\n",
       "      <td>age_race_only</td>\n",
       "      <td>AVG_PR</td>\n",
       "      <td>0.255310</td>\n",
       "    </tr>\n",
       "    <tr>\n",
       "      <th>30</th>\n",
       "      <td>all</td>\n",
       "      <td>bin_labs</td>\n",
       "      <td>bin_labs_all</td>\n",
       "      <td>AVG_PR</td>\n",
       "      <td>0.690795</td>\n",
       "    </tr>\n",
       "    <tr>\n",
       "      <th>12</th>\n",
       "      <td>all</td>\n",
       "      <td>bin_labs</td>\n",
       "      <td>bin_labs_all</td>\n",
       "      <td>ROC_AUC</td>\n",
       "      <td>0.879783</td>\n",
       "    </tr>\n",
       "    <tr>\n",
       "      <th>31</th>\n",
       "      <td>baseline</td>\n",
       "      <td>bin_labs</td>\n",
       "      <td>bin_labs_icd_cpt</td>\n",
       "      <td>AVG_PR</td>\n",
       "      <td>0.692777</td>\n",
       "    </tr>\n",
       "    <tr>\n",
       "      <th>13</th>\n",
       "      <td>baseline</td>\n",
       "      <td>bin_labs</td>\n",
       "      <td>bin_labs_icd_cpt</td>\n",
       "      <td>ROC_AUC</td>\n",
       "      <td>0.882122</td>\n",
       "    </tr>\n",
       "    <tr>\n",
       "      <th>32</th>\n",
       "      <td>only</td>\n",
       "      <td>bin_labs</td>\n",
       "      <td>bin_labs_only</td>\n",
       "      <td>AVG_PR</td>\n",
       "      <td>0.395840</td>\n",
       "    </tr>\n",
       "    <tr>\n",
       "      <th>14</th>\n",
       "      <td>only</td>\n",
       "      <td>bin_labs</td>\n",
       "      <td>bin_labs_only</td>\n",
       "      <td>ROC_AUC</td>\n",
       "      <td>0.767219</td>\n",
       "    </tr>\n",
       "    <tr>\n",
       "      <th>33</th>\n",
       "      <td>all</td>\n",
       "      <td>clin_labs</td>\n",
       "      <td>clin_labs_all</td>\n",
       "      <td>AVG_PR</td>\n",
       "      <td>0.679439</td>\n",
       "    </tr>\n",
       "    <tr>\n",
       "      <th>15</th>\n",
       "      <td>all</td>\n",
       "      <td>clin_labs</td>\n",
       "      <td>clin_labs_all</td>\n",
       "      <td>ROC_AUC</td>\n",
       "      <td>0.874681</td>\n",
       "    </tr>\n",
       "    <tr>\n",
       "      <th>34</th>\n",
       "      <td>baseline</td>\n",
       "      <td>clin_labs</td>\n",
       "      <td>clin_labs_icd_cpt</td>\n",
       "      <td>AVG_PR</td>\n",
       "      <td>0.693477</td>\n",
       "    </tr>\n",
       "    <tr>\n",
       "      <th>16</th>\n",
       "      <td>baseline</td>\n",
       "      <td>clin_labs</td>\n",
       "      <td>clin_labs_icd_cpt</td>\n",
       "      <td>ROC_AUC</td>\n",
       "      <td>0.870004</td>\n",
       "    </tr>\n",
       "    <tr>\n",
       "      <th>17</th>\n",
       "      <td>only</td>\n",
       "      <td>clin_labs</td>\n",
       "      <td>clin_labs_only</td>\n",
       "      <td>ROC_AUC</td>\n",
       "      <td>0.782685</td>\n",
       "    </tr>\n",
       "    <tr>\n",
       "      <th>35</th>\n",
       "      <td>only</td>\n",
       "      <td>clin_labs</td>\n",
       "      <td>clin_labs_only</td>\n",
       "      <td>AVG_PR</td>\n",
       "      <td>0.365358</td>\n",
       "    </tr>\n",
       "    <tr>\n",
       "      <th>3</th>\n",
       "      <td>all</td>\n",
       "      <td>obnotes</td>\n",
       "      <td>obnotes_all</td>\n",
       "      <td>ROC_AUC</td>\n",
       "      <td>0.923297</td>\n",
       "    </tr>\n",
       "    <tr>\n",
       "      <th>21</th>\n",
       "      <td>all</td>\n",
       "      <td>obnotes</td>\n",
       "      <td>obnotes_all</td>\n",
       "      <td>AVG_PR</td>\n",
       "      <td>0.791065</td>\n",
       "    </tr>\n",
       "    <tr>\n",
       "      <th>4</th>\n",
       "      <td>baseline</td>\n",
       "      <td>obnotes</td>\n",
       "      <td>obnotes_icd_cpt</td>\n",
       "      <td>ROC_AUC</td>\n",
       "      <td>0.915411</td>\n",
       "    </tr>\n",
       "    <tr>\n",
       "      <th>22</th>\n",
       "      <td>baseline</td>\n",
       "      <td>obnotes</td>\n",
       "      <td>obnotes_icd_cpt</td>\n",
       "      <td>AVG_PR</td>\n",
       "      <td>0.781074</td>\n",
       "    </tr>\n",
       "    <tr>\n",
       "      <th>23</th>\n",
       "      <td>only</td>\n",
       "      <td>obnotes</td>\n",
       "      <td>obnotes_only</td>\n",
       "      <td>AVG_PR</td>\n",
       "      <td>0.363724</td>\n",
       "    </tr>\n",
       "    <tr>\n",
       "      <th>5</th>\n",
       "      <td>only</td>\n",
       "      <td>obnotes</td>\n",
       "      <td>obnotes_only</td>\n",
       "      <td>ROC_AUC</td>\n",
       "      <td>0.706147</td>\n",
       "    </tr>\n",
       "    <tr>\n",
       "      <th>24</th>\n",
       "      <td>all</td>\n",
       "      <td>prs</td>\n",
       "      <td>prs_all</td>\n",
       "      <td>AVG_PR</td>\n",
       "      <td>0.814006</td>\n",
       "    </tr>\n",
       "    <tr>\n",
       "      <th>6</th>\n",
       "      <td>all</td>\n",
       "      <td>prs</td>\n",
       "      <td>prs_all</td>\n",
       "      <td>ROC_AUC</td>\n",
       "      <td>0.907541</td>\n",
       "    </tr>\n",
       "    <tr>\n",
       "      <th>7</th>\n",
       "      <td>baseline</td>\n",
       "      <td>prs</td>\n",
       "      <td>prs_icd_cpt</td>\n",
       "      <td>ROC_AUC</td>\n",
       "      <td>0.906938</td>\n",
       "    </tr>\n",
       "    <tr>\n",
       "      <th>25</th>\n",
       "      <td>baseline</td>\n",
       "      <td>prs</td>\n",
       "      <td>prs_icd_cpt</td>\n",
       "      <td>AVG_PR</td>\n",
       "      <td>0.833692</td>\n",
       "    </tr>\n",
       "    <tr>\n",
       "      <th>26</th>\n",
       "      <td>only</td>\n",
       "      <td>prs</td>\n",
       "      <td>prs_only</td>\n",
       "      <td>AVG_PR</td>\n",
       "      <td>0.265998</td>\n",
       "    </tr>\n",
       "    <tr>\n",
       "      <th>8</th>\n",
       "      <td>only</td>\n",
       "      <td>prs</td>\n",
       "      <td>prs_only</td>\n",
       "      <td>ROC_AUC</td>\n",
       "      <td>0.434917</td>\n",
       "    </tr>\n",
       "    <tr>\n",
       "      <th>27</th>\n",
       "      <td>all</td>\n",
       "      <td>unstruc</td>\n",
       "      <td>unstruc_all</td>\n",
       "      <td>AVG_PR</td>\n",
       "      <td>0.707030</td>\n",
       "    </tr>\n",
       "    <tr>\n",
       "      <th>9</th>\n",
       "      <td>all</td>\n",
       "      <td>unstruc</td>\n",
       "      <td>unstruc_all</td>\n",
       "      <td>ROC_AUC</td>\n",
       "      <td>0.903020</td>\n",
       "    </tr>\n",
       "    <tr>\n",
       "      <th>28</th>\n",
       "      <td>baseline</td>\n",
       "      <td>unstruc</td>\n",
       "      <td>unstruc_icd_cpt</td>\n",
       "      <td>AVG_PR</td>\n",
       "      <td>0.663733</td>\n",
       "    </tr>\n",
       "    <tr>\n",
       "      <th>10</th>\n",
       "      <td>baseline</td>\n",
       "      <td>unstruc</td>\n",
       "      <td>unstruc_icd_cpt</td>\n",
       "      <td>ROC_AUC</td>\n",
       "      <td>0.882542</td>\n",
       "    </tr>\n",
       "    <tr>\n",
       "      <th>29</th>\n",
       "      <td>only</td>\n",
       "      <td>unstruc</td>\n",
       "      <td>unstruc_only</td>\n",
       "      <td>AVG_PR</td>\n",
       "      <td>0.234136</td>\n",
       "    </tr>\n",
       "    <tr>\n",
       "      <th>11</th>\n",
       "      <td>only</td>\n",
       "      <td>unstruc</td>\n",
       "      <td>unstruc_only</td>\n",
       "      <td>ROC_AUC</td>\n",
       "      <td>0.605522</td>\n",
       "    </tr>\n",
       "  </tbody>\n",
       "</table>\n",
       "</div>"
      ],
      "text/plain": [
       "       model       data            dataset variable     value\n",
       "0        all   age_race       age_race_all  ROC_AUC  0.947556\n",
       "18       all   age_race       age_race_all   AVG_PR  0.863059\n",
       "1   baseline   age_race   age_race_icd_cpt  ROC_AUC  0.949259\n",
       "19  baseline   age_race   age_race_icd_cpt   AVG_PR  0.867206\n",
       "2       only   age_race      age_race_only  ROC_AUC  0.567973\n",
       "20      only   age_race      age_race_only   AVG_PR  0.255310\n",
       "30       all   bin_labs       bin_labs_all   AVG_PR  0.690795\n",
       "12       all   bin_labs       bin_labs_all  ROC_AUC  0.879783\n",
       "31  baseline   bin_labs   bin_labs_icd_cpt   AVG_PR  0.692777\n",
       "13  baseline   bin_labs   bin_labs_icd_cpt  ROC_AUC  0.882122\n",
       "32      only   bin_labs      bin_labs_only   AVG_PR  0.395840\n",
       "14      only   bin_labs      bin_labs_only  ROC_AUC  0.767219\n",
       "33       all  clin_labs      clin_labs_all   AVG_PR  0.679439\n",
       "15       all  clin_labs      clin_labs_all  ROC_AUC  0.874681\n",
       "34  baseline  clin_labs  clin_labs_icd_cpt   AVG_PR  0.693477\n",
       "16  baseline  clin_labs  clin_labs_icd_cpt  ROC_AUC  0.870004\n",
       "17      only  clin_labs     clin_labs_only  ROC_AUC  0.782685\n",
       "35      only  clin_labs     clin_labs_only   AVG_PR  0.365358\n",
       "3        all    obnotes        obnotes_all  ROC_AUC  0.923297\n",
       "21       all    obnotes        obnotes_all   AVG_PR  0.791065\n",
       "4   baseline    obnotes    obnotes_icd_cpt  ROC_AUC  0.915411\n",
       "22  baseline    obnotes    obnotes_icd_cpt   AVG_PR  0.781074\n",
       "23      only    obnotes       obnotes_only   AVG_PR  0.363724\n",
       "5       only    obnotes       obnotes_only  ROC_AUC  0.706147\n",
       "24       all        prs            prs_all   AVG_PR  0.814006\n",
       "6        all        prs            prs_all  ROC_AUC  0.907541\n",
       "7   baseline        prs        prs_icd_cpt  ROC_AUC  0.906938\n",
       "25  baseline        prs        prs_icd_cpt   AVG_PR  0.833692\n",
       "26      only        prs           prs_only   AVG_PR  0.265998\n",
       "8       only        prs           prs_only  ROC_AUC  0.434917\n",
       "27       all    unstruc        unstruc_all   AVG_PR  0.707030\n",
       "9        all    unstruc        unstruc_all  ROC_AUC  0.903020\n",
       "28  baseline    unstruc    unstruc_icd_cpt   AVG_PR  0.663733\n",
       "10  baseline    unstruc    unstruc_icd_cpt  ROC_AUC  0.882542\n",
       "29      only    unstruc       unstruc_only   AVG_PR  0.234136\n",
       "11      only    unstruc       unstruc_only  ROC_AUC  0.605522"
      ]
     },
     "execution_count": 25,
     "metadata": {},
     "output_type": "execute_result"
    }
   ],
   "source": [
    "melted_metrics_df.sort_values('dataset')"
   ]
  },
  {
   "cell_type": "code",
   "execution_count": 26,
   "metadata": {
    "ExecuteTime": {
     "end_time": "2019-10-09T15:12:09.308681Z",
     "start_time": "2019-10-09T15:12:09.268499Z"
    }
   },
   "outputs": [],
   "source": [
    "random_df = melted_metrics_df.copy()\n",
    "# udpate random expected value \n",
    "random_df.loc[random_df['variable']=='ROC_AUC', 'value'] = 0.50 \n",
    "random_df.loc[random_df['variable']=='AVG_PR', 'value'] = random_df.loc[random_df['variable']=='AVG_PR', 'dataset'].map(rand_pr_dict)"
   ]
  },
  {
   "cell_type": "code",
   "execution_count": 27,
   "metadata": {
    "ExecuteTime": {
     "end_time": "2019-10-09T15:12:09.358353Z",
     "start_time": "2019-10-09T15:12:09.311820Z"
    }
   },
   "outputs": [
    {
     "data": {
      "text/plain": [
       "{'age_race_all': 0.21611557938635687,\n",
       " 'age_race_icd_cpt': 0.21611557938635687,\n",
       " 'age_race_only': 0.21611557938635687,\n",
       " 'obnotes_all': 0.16974169741697417,\n",
       " 'obnotes_icd_cpt': 0.16974169741697417,\n",
       " 'obnotes_only': 0.16974169741697417,\n",
       " 'prs_all': 0.281767955801105,\n",
       " 'prs_icd_cpt': 0.281767955801105,\n",
       " 'prs_only': 0.281767955801105,\n",
       " 'unstruc_all': 0.1574585635359116,\n",
       " 'unstruc_icd_cpt': 0.1574585635359116,\n",
       " 'unstruc_only': 0.1574585635359116,\n",
       " 'bin_labs_all': 0.15789473684210525,\n",
       " 'bin_labs_icd_cpt': 0.15789473684210525,\n",
       " 'bin_labs_only': 0.15789473684210525,\n",
       " 'clin_labs_all': 0.15789473684210525,\n",
       " 'clin_labs_icd_cpt': 0.15789473684210525,\n",
       " 'clin_labs_only': 0.15789473684210525}"
      ]
     },
     "execution_count": 27,
     "metadata": {},
     "output_type": "execute_result"
    },
    {
     "data": {
      "text/html": [
       "<div>\n",
       "<style scoped>\n",
       "    .dataframe tbody tr th:only-of-type {\n",
       "        vertical-align: middle;\n",
       "    }\n",
       "\n",
       "    .dataframe tbody tr th {\n",
       "        vertical-align: top;\n",
       "    }\n",
       "\n",
       "    .dataframe thead th {\n",
       "        text-align: right;\n",
       "    }\n",
       "</style>\n",
       "<table border=\"1\" class=\"dataframe\">\n",
       "  <thead>\n",
       "    <tr style=\"text-align: right;\">\n",
       "      <th></th>\n",
       "      <th>model</th>\n",
       "      <th>data</th>\n",
       "      <th>dataset</th>\n",
       "      <th>variable</th>\n",
       "      <th>value</th>\n",
       "    </tr>\n",
       "  </thead>\n",
       "  <tbody>\n",
       "    <tr>\n",
       "      <th>0</th>\n",
       "      <td>all</td>\n",
       "      <td>age_race</td>\n",
       "      <td>age_race_all</td>\n",
       "      <td>ROC_AUC</td>\n",
       "      <td>0.500000</td>\n",
       "    </tr>\n",
       "    <tr>\n",
       "      <th>1</th>\n",
       "      <td>baseline</td>\n",
       "      <td>age_race</td>\n",
       "      <td>age_race_icd_cpt</td>\n",
       "      <td>ROC_AUC</td>\n",
       "      <td>0.500000</td>\n",
       "    </tr>\n",
       "    <tr>\n",
       "      <th>2</th>\n",
       "      <td>only</td>\n",
       "      <td>age_race</td>\n",
       "      <td>age_race_only</td>\n",
       "      <td>ROC_AUC</td>\n",
       "      <td>0.500000</td>\n",
       "    </tr>\n",
       "    <tr>\n",
       "      <th>3</th>\n",
       "      <td>all</td>\n",
       "      <td>obnotes</td>\n",
       "      <td>obnotes_all</td>\n",
       "      <td>ROC_AUC</td>\n",
       "      <td>0.500000</td>\n",
       "    </tr>\n",
       "    <tr>\n",
       "      <th>4</th>\n",
       "      <td>baseline</td>\n",
       "      <td>obnotes</td>\n",
       "      <td>obnotes_icd_cpt</td>\n",
       "      <td>ROC_AUC</td>\n",
       "      <td>0.500000</td>\n",
       "    </tr>\n",
       "    <tr>\n",
       "      <th>5</th>\n",
       "      <td>only</td>\n",
       "      <td>obnotes</td>\n",
       "      <td>obnotes_only</td>\n",
       "      <td>ROC_AUC</td>\n",
       "      <td>0.500000</td>\n",
       "    </tr>\n",
       "    <tr>\n",
       "      <th>6</th>\n",
       "      <td>all</td>\n",
       "      <td>prs</td>\n",
       "      <td>prs_all</td>\n",
       "      <td>ROC_AUC</td>\n",
       "      <td>0.500000</td>\n",
       "    </tr>\n",
       "    <tr>\n",
       "      <th>7</th>\n",
       "      <td>baseline</td>\n",
       "      <td>prs</td>\n",
       "      <td>prs_icd_cpt</td>\n",
       "      <td>ROC_AUC</td>\n",
       "      <td>0.500000</td>\n",
       "    </tr>\n",
       "    <tr>\n",
       "      <th>8</th>\n",
       "      <td>only</td>\n",
       "      <td>prs</td>\n",
       "      <td>prs_only</td>\n",
       "      <td>ROC_AUC</td>\n",
       "      <td>0.500000</td>\n",
       "    </tr>\n",
       "    <tr>\n",
       "      <th>9</th>\n",
       "      <td>all</td>\n",
       "      <td>unstruc</td>\n",
       "      <td>unstruc_all</td>\n",
       "      <td>ROC_AUC</td>\n",
       "      <td>0.500000</td>\n",
       "    </tr>\n",
       "    <tr>\n",
       "      <th>10</th>\n",
       "      <td>baseline</td>\n",
       "      <td>unstruc</td>\n",
       "      <td>unstruc_icd_cpt</td>\n",
       "      <td>ROC_AUC</td>\n",
       "      <td>0.500000</td>\n",
       "    </tr>\n",
       "    <tr>\n",
       "      <th>11</th>\n",
       "      <td>only</td>\n",
       "      <td>unstruc</td>\n",
       "      <td>unstruc_only</td>\n",
       "      <td>ROC_AUC</td>\n",
       "      <td>0.500000</td>\n",
       "    </tr>\n",
       "    <tr>\n",
       "      <th>12</th>\n",
       "      <td>all</td>\n",
       "      <td>bin_labs</td>\n",
       "      <td>bin_labs_all</td>\n",
       "      <td>ROC_AUC</td>\n",
       "      <td>0.500000</td>\n",
       "    </tr>\n",
       "    <tr>\n",
       "      <th>13</th>\n",
       "      <td>baseline</td>\n",
       "      <td>bin_labs</td>\n",
       "      <td>bin_labs_icd_cpt</td>\n",
       "      <td>ROC_AUC</td>\n",
       "      <td>0.500000</td>\n",
       "    </tr>\n",
       "    <tr>\n",
       "      <th>14</th>\n",
       "      <td>only</td>\n",
       "      <td>bin_labs</td>\n",
       "      <td>bin_labs_only</td>\n",
       "      <td>ROC_AUC</td>\n",
       "      <td>0.500000</td>\n",
       "    </tr>\n",
       "    <tr>\n",
       "      <th>15</th>\n",
       "      <td>all</td>\n",
       "      <td>clin_labs</td>\n",
       "      <td>clin_labs_all</td>\n",
       "      <td>ROC_AUC</td>\n",
       "      <td>0.500000</td>\n",
       "    </tr>\n",
       "    <tr>\n",
       "      <th>16</th>\n",
       "      <td>baseline</td>\n",
       "      <td>clin_labs</td>\n",
       "      <td>clin_labs_icd_cpt</td>\n",
       "      <td>ROC_AUC</td>\n",
       "      <td>0.500000</td>\n",
       "    </tr>\n",
       "    <tr>\n",
       "      <th>17</th>\n",
       "      <td>only</td>\n",
       "      <td>clin_labs</td>\n",
       "      <td>clin_labs_only</td>\n",
       "      <td>ROC_AUC</td>\n",
       "      <td>0.500000</td>\n",
       "    </tr>\n",
       "    <tr>\n",
       "      <th>18</th>\n",
       "      <td>all</td>\n",
       "      <td>age_race</td>\n",
       "      <td>age_race_all</td>\n",
       "      <td>AVG_PR</td>\n",
       "      <td>0.216116</td>\n",
       "    </tr>\n",
       "    <tr>\n",
       "      <th>19</th>\n",
       "      <td>baseline</td>\n",
       "      <td>age_race</td>\n",
       "      <td>age_race_icd_cpt</td>\n",
       "      <td>AVG_PR</td>\n",
       "      <td>0.216116</td>\n",
       "    </tr>\n",
       "    <tr>\n",
       "      <th>20</th>\n",
       "      <td>only</td>\n",
       "      <td>age_race</td>\n",
       "      <td>age_race_only</td>\n",
       "      <td>AVG_PR</td>\n",
       "      <td>0.216116</td>\n",
       "    </tr>\n",
       "    <tr>\n",
       "      <th>21</th>\n",
       "      <td>all</td>\n",
       "      <td>obnotes</td>\n",
       "      <td>obnotes_all</td>\n",
       "      <td>AVG_PR</td>\n",
       "      <td>0.169742</td>\n",
       "    </tr>\n",
       "    <tr>\n",
       "      <th>22</th>\n",
       "      <td>baseline</td>\n",
       "      <td>obnotes</td>\n",
       "      <td>obnotes_icd_cpt</td>\n",
       "      <td>AVG_PR</td>\n",
       "      <td>0.169742</td>\n",
       "    </tr>\n",
       "    <tr>\n",
       "      <th>23</th>\n",
       "      <td>only</td>\n",
       "      <td>obnotes</td>\n",
       "      <td>obnotes_only</td>\n",
       "      <td>AVG_PR</td>\n",
       "      <td>0.169742</td>\n",
       "    </tr>\n",
       "    <tr>\n",
       "      <th>24</th>\n",
       "      <td>all</td>\n",
       "      <td>prs</td>\n",
       "      <td>prs_all</td>\n",
       "      <td>AVG_PR</td>\n",
       "      <td>0.281768</td>\n",
       "    </tr>\n",
       "    <tr>\n",
       "      <th>25</th>\n",
       "      <td>baseline</td>\n",
       "      <td>prs</td>\n",
       "      <td>prs_icd_cpt</td>\n",
       "      <td>AVG_PR</td>\n",
       "      <td>0.281768</td>\n",
       "    </tr>\n",
       "    <tr>\n",
       "      <th>26</th>\n",
       "      <td>only</td>\n",
       "      <td>prs</td>\n",
       "      <td>prs_only</td>\n",
       "      <td>AVG_PR</td>\n",
       "      <td>0.281768</td>\n",
       "    </tr>\n",
       "    <tr>\n",
       "      <th>27</th>\n",
       "      <td>all</td>\n",
       "      <td>unstruc</td>\n",
       "      <td>unstruc_all</td>\n",
       "      <td>AVG_PR</td>\n",
       "      <td>0.157459</td>\n",
       "    </tr>\n",
       "    <tr>\n",
       "      <th>28</th>\n",
       "      <td>baseline</td>\n",
       "      <td>unstruc</td>\n",
       "      <td>unstruc_icd_cpt</td>\n",
       "      <td>AVG_PR</td>\n",
       "      <td>0.157459</td>\n",
       "    </tr>\n",
       "    <tr>\n",
       "      <th>29</th>\n",
       "      <td>only</td>\n",
       "      <td>unstruc</td>\n",
       "      <td>unstruc_only</td>\n",
       "      <td>AVG_PR</td>\n",
       "      <td>0.157459</td>\n",
       "    </tr>\n",
       "    <tr>\n",
       "      <th>30</th>\n",
       "      <td>all</td>\n",
       "      <td>bin_labs</td>\n",
       "      <td>bin_labs_all</td>\n",
       "      <td>AVG_PR</td>\n",
       "      <td>0.157895</td>\n",
       "    </tr>\n",
       "    <tr>\n",
       "      <th>31</th>\n",
       "      <td>baseline</td>\n",
       "      <td>bin_labs</td>\n",
       "      <td>bin_labs_icd_cpt</td>\n",
       "      <td>AVG_PR</td>\n",
       "      <td>0.157895</td>\n",
       "    </tr>\n",
       "    <tr>\n",
       "      <th>32</th>\n",
       "      <td>only</td>\n",
       "      <td>bin_labs</td>\n",
       "      <td>bin_labs_only</td>\n",
       "      <td>AVG_PR</td>\n",
       "      <td>0.157895</td>\n",
       "    </tr>\n",
       "    <tr>\n",
       "      <th>33</th>\n",
       "      <td>all</td>\n",
       "      <td>clin_labs</td>\n",
       "      <td>clin_labs_all</td>\n",
       "      <td>AVG_PR</td>\n",
       "      <td>0.157895</td>\n",
       "    </tr>\n",
       "    <tr>\n",
       "      <th>34</th>\n",
       "      <td>baseline</td>\n",
       "      <td>clin_labs</td>\n",
       "      <td>clin_labs_icd_cpt</td>\n",
       "      <td>AVG_PR</td>\n",
       "      <td>0.157895</td>\n",
       "    </tr>\n",
       "    <tr>\n",
       "      <th>35</th>\n",
       "      <td>only</td>\n",
       "      <td>clin_labs</td>\n",
       "      <td>clin_labs_only</td>\n",
       "      <td>AVG_PR</td>\n",
       "      <td>0.157895</td>\n",
       "    </tr>\n",
       "  </tbody>\n",
       "</table>\n",
       "</div>"
      ],
      "text/plain": [
       "       model       data            dataset variable     value\n",
       "0        all   age_race       age_race_all  ROC_AUC  0.500000\n",
       "1   baseline   age_race   age_race_icd_cpt  ROC_AUC  0.500000\n",
       "2       only   age_race      age_race_only  ROC_AUC  0.500000\n",
       "3        all    obnotes        obnotes_all  ROC_AUC  0.500000\n",
       "4   baseline    obnotes    obnotes_icd_cpt  ROC_AUC  0.500000\n",
       "5       only    obnotes       obnotes_only  ROC_AUC  0.500000\n",
       "6        all        prs            prs_all  ROC_AUC  0.500000\n",
       "7   baseline        prs        prs_icd_cpt  ROC_AUC  0.500000\n",
       "8       only        prs           prs_only  ROC_AUC  0.500000\n",
       "9        all    unstruc        unstruc_all  ROC_AUC  0.500000\n",
       "10  baseline    unstruc    unstruc_icd_cpt  ROC_AUC  0.500000\n",
       "11      only    unstruc       unstruc_only  ROC_AUC  0.500000\n",
       "12       all   bin_labs       bin_labs_all  ROC_AUC  0.500000\n",
       "13  baseline   bin_labs   bin_labs_icd_cpt  ROC_AUC  0.500000\n",
       "14      only   bin_labs      bin_labs_only  ROC_AUC  0.500000\n",
       "15       all  clin_labs      clin_labs_all  ROC_AUC  0.500000\n",
       "16  baseline  clin_labs  clin_labs_icd_cpt  ROC_AUC  0.500000\n",
       "17      only  clin_labs     clin_labs_only  ROC_AUC  0.500000\n",
       "18       all   age_race       age_race_all   AVG_PR  0.216116\n",
       "19  baseline   age_race   age_race_icd_cpt   AVG_PR  0.216116\n",
       "20      only   age_race      age_race_only   AVG_PR  0.216116\n",
       "21       all    obnotes        obnotes_all   AVG_PR  0.169742\n",
       "22  baseline    obnotes    obnotes_icd_cpt   AVG_PR  0.169742\n",
       "23      only    obnotes       obnotes_only   AVG_PR  0.169742\n",
       "24       all        prs            prs_all   AVG_PR  0.281768\n",
       "25  baseline        prs        prs_icd_cpt   AVG_PR  0.281768\n",
       "26      only        prs           prs_only   AVG_PR  0.281768\n",
       "27       all    unstruc        unstruc_all   AVG_PR  0.157459\n",
       "28  baseline    unstruc    unstruc_icd_cpt   AVG_PR  0.157459\n",
       "29      only    unstruc       unstruc_only   AVG_PR  0.157459\n",
       "30       all   bin_labs       bin_labs_all   AVG_PR  0.157895\n",
       "31  baseline   bin_labs   bin_labs_icd_cpt   AVG_PR  0.157895\n",
       "32      only   bin_labs      bin_labs_only   AVG_PR  0.157895\n",
       "33       all  clin_labs      clin_labs_all   AVG_PR  0.157895\n",
       "34  baseline  clin_labs  clin_labs_icd_cpt   AVG_PR  0.157895\n",
       "35      only  clin_labs     clin_labs_only   AVG_PR  0.157895"
      ]
     },
     "execution_count": 27,
     "metadata": {},
     "output_type": "execute_result"
    }
   ],
   "source": [
    "rand_pr_dict\n",
    "random_df"
   ]
  },
  {
   "cell_type": "code",
   "execution_count": 28,
   "metadata": {
    "ExecuteTime": {
     "end_time": "2019-10-09T15:12:09.378869Z",
     "start_time": "2019-10-09T15:12:09.360949Z"
    }
   },
   "outputs": [
    {
     "data": {
      "text/plain": [
       "{'age_race_all': 0.21611557938635687,\n",
       " 'age_race_icd_cpt': 0.21611557938635687,\n",
       " 'age_race_only': 0.21611557938635687,\n",
       " 'obnotes_all': 0.16974169741697417,\n",
       " 'obnotes_icd_cpt': 0.16974169741697417,\n",
       " 'obnotes_only': 0.16974169741697417,\n",
       " 'prs_all': 0.281767955801105,\n",
       " 'prs_icd_cpt': 0.281767955801105,\n",
       " 'prs_only': 0.281767955801105,\n",
       " 'unstruc_all': 0.1574585635359116,\n",
       " 'unstruc_icd_cpt': 0.1574585635359116,\n",
       " 'unstruc_only': 0.1574585635359116,\n",
       " 'bin_labs_all': 0.15789473684210525,\n",
       " 'bin_labs_icd_cpt': 0.15789473684210525,\n",
       " 'bin_labs_only': 0.15789473684210525,\n",
       " 'clin_labs_all': 0.15789473684210525,\n",
       " 'clin_labs_icd_cpt': 0.15789473684210525,\n",
       " 'clin_labs_only': 0.15789473684210525}"
      ]
     },
     "execution_count": 28,
     "metadata": {},
     "output_type": "execute_result"
    }
   ],
   "source": [
    "rand_pr_dict"
   ]
  },
  {
   "cell_type": "code",
   "execution_count": 29,
   "metadata": {
    "ExecuteTime": {
     "end_time": "2019-10-09T15:12:09.399035Z",
     "start_time": "2019-10-09T15:12:09.382095Z"
    }
   },
   "outputs": [],
   "source": [
    "#attempt plot in python"
   ]
  },
  {
   "cell_type": "code",
   "execution_count": 30,
   "metadata": {
    "ExecuteTime": {
     "end_time": "2019-10-09T15:12:09.431229Z",
     "start_time": "2019-10-09T15:12:09.401995Z"
    }
   },
   "outputs": [],
   "source": [
    "def autolabel(rects, ax):\n",
    "    \"\"\"Attach a text label above each bar in *rects*, displaying its height.\"\"\"\n",
    "    for rect in rects:\n",
    "        height = rect.get_height()\n",
    "        ax.annotate('{:.2}'.format(height),\n",
    "                    xy=(rect.get_x() + rect.get_width() / 2, height),\n",
    "                    xytext=(0, 3),  # 3 points vertical offset\n",
    "                    textcoords=\"offset points\",\n",
    "                    ha='center', va='bottom')"
   ]
  },
  {
   "cell_type": "code",
   "execution_count": 37,
   "metadata": {
    "ExecuteTime": {
     "end_time": "2019-10-09T15:19:21.067120Z",
     "start_time": "2019-10-09T15:19:19.231047Z"
    },
    "scrolled": true
   },
   "outputs": [
    {
     "data": {
      "image/png": "[encoded data removed]",
      "text/plain": [
       "<Figure size 1728x432 with 12 Axes>"
      ]
     },
     "metadata": {
      "needs_background": "light"
     },
     "output_type": "display_data"
    }
   ],
   "source": [
    "row_labels = melted_metrics_df.variable.unique().tolist()\n",
    "col_labels = melted_metrics_df.data.unique().tolist()\n",
    "x_model_labels =  ['baseline','all','only']\n",
    "x_coords = [0, 0.75, 1.5]\n",
    "\n",
    "width = 0.55  # the width of the bars\n",
    "\n",
    "fig, axs = plt.subplots(nrows=2, ncols=6, figsize=(4*6,6), sharex=True, sharey=True)\n",
    "\n",
    "for row in range(len(row_labels)): \n",
    "    for col in range(len(col_labels)):\n",
    "\n",
    "        col_name = col_labels[col]\n",
    "\n",
    "        \n",
    "        models = melted_metrics_df.loc[  (melted_metrics_df['variable'] == row_labels[row]) & (melted_metrics_df['data'] == col_labels[col])].copy()\n",
    "        \n",
    "        # get y_values\n",
    "        y_vals = []\n",
    "        for this_model in x_model_labels: \n",
    "            y_vals.append(models.loc[models['model']==this_model, 'value'].values.tolist()[0])\n",
    "\n",
    "        this_ax = axs[row, col]\n",
    "        \n",
    "        this_ax.grid(False)\n",
    "        this_ax.spines['right'].set_visible(False)\n",
    "        this_ax.spines['top'].set_visible(False)\n",
    "        \n",
    "        rects1 = this_ax.bar(x_coords, y_vals, width)\n",
    "        _ = this_ax.set_ylim(0,1)\n",
    "\n",
    "        \n",
    "        autolabel(rects1, this_ax)\n",
    "\n",
    "        if row == 1:\n",
    "            _ = this_ax.set_xticks(x_coords)\n",
    "            _ = this_ax.set_xticklabels(x_model_labels)\n",
    "            _ = this_ax.set_xlabel(col_labels[col], labelpad=18)\n",
    "            _ = this_ax.axhline(y=rand_pr_dict[col_name+\"_all\"], color='black')\n",
    "        else: \n",
    "            _ = this_ax.axhline(y=0.5, color='black')\n",
    "            \n",
    "        \n",
    "        if col == 0: \n",
    "            _ = this_ax.set_ylabel(row_labels[row], labelpad=18)\n",
    "            _ = this_ax.set_yticks(np.arange(0,1.25,0.25))\n",
    "            _ = this_ax.tick_params(axis='y', direction='out', left=True)\n"
   ]
  },
  {
   "cell_type": "markdown",
   "metadata": {},
   "source": [
    "Make nicer plot for manuscript"
   ]
  },
  {
   "cell_type": "code",
   "execution_count": 89,
   "metadata": {
    "ExecuteTime": {
     "end_time": "2019-10-09T15:48:39.518168Z",
     "start_time": "2019-10-09T15:48:39.512689Z"
    }
   },
   "outputs": [],
   "source": [
    "from matplotlib import rcParams\n",
    "rcParams['font.family'] = 'sans-serif'\n",
    "rcParams['font.sans-serif'] = ['Arial']\n",
    "\n",
    "import matplotlib.pyplot as plt "
   ]
  },
  {
   "cell_type": "code",
   "execution_count": 77,
   "metadata": {
    "ExecuteTime": {
     "end_time": "2019-10-09T15:40:44.212339Z",
     "start_time": "2019-10-09T15:40:44.204230Z"
    }
   },
   "outputs": [
    {
     "name": "stdout",
     "output_type": "stream",
     "text": [
      "/dors/capra_lab/users/abraha1/conda/envs/py36_r_ml/lib/python3.6/site-packages/matplotlib/mpl-data/matplotlibrc\n"
     ]
    }
   ],
   "source": [
    "print(matplotlib.matplotlib_fname())"
   ]
  },
  {
   "cell_type": "code",
   "execution_count": 109,
   "metadata": {
    "ExecuteTime": {
     "end_time": "2019-10-09T15:57:03.043806Z",
     "start_time": "2019-10-09T15:57:03.024782Z"
    }
   },
   "outputs": [
    {
     "name": "stderr",
     "output_type": "stream",
     "text": [
      "/dors/capra_lab/users/abraha1/conda/envs/py36_r_ml/lib/python3.6/site-packages/matplotlib/font_manager.py:1241: UserWarning: findfont: Font family ['Arial.ttf'] not found. Falling back to DejaVu Sans.\n",
      "  (prop.get_family(), self.defaultFamily[fontext]))\n"
     ]
    },
    {
     "data": {
      "text/plain": [
       "'/dors/capra_lab/users/abraha1/conda/envs/py36_r_ml/lib/python3.6/site-packages/matplotlib/mpl-data/fonts/ttf/DejaVuSans.ttf'"
      ]
     },
     "execution_count": 109,
     "metadata": {},
     "output_type": "execute_result"
    }
   ],
   "source": [
    "matplotlib.font_manager.fontManager.findfont('Arial.ttf',rebuild_if_missing=True, directory=\"/dors/capra_lab/users/abraha1/conda/envs/py36_r_ml/lib/python3.6/site-packages/matplotlib/mpl-data/fonts\")"
   ]
  },
  {
   "cell_type": "code",
   "execution_count": 84,
   "metadata": {
    "ExecuteTime": {
     "end_time": "2019-10-09T15:44:56.153147Z",
     "start_time": "2019-10-09T15:44:56.140920Z"
    }
   },
   "outputs": [
    {
     "data": {
      "text/html": [
       "<div style='column-count: 2;'><p>Cantarell: <span style='font-family:Cantarell; font-size: 24px;'>Cantarell</p>\n",
       "<p>DejaVu Sans: <span style='font-family:DejaVu Sans; font-size: 24px;'>DejaVu Sans</p>\n",
       "<p>DejaVu Sans Display: <span style='font-family:DejaVu Sans Display; font-size: 24px;'>DejaVu Sans Display</p>\n",
       "<p>DejaVu Sans Mono: <span style='font-family:DejaVu Sans Mono; font-size: 24px;'>DejaVu Sans Mono</p>\n",
       "<p>DejaVu Serif: <span style='font-family:DejaVu Serif; font-size: 24px;'>DejaVu Serif</p>\n",
       "<p>DejaVu Serif Display: <span style='font-family:DejaVu Serif Display; font-size: 24px;'>DejaVu Serif Display</p>\n",
       "<p>STIXGeneral: <span style='font-family:STIXGeneral; font-size: 24px;'>STIXGeneral</p>\n",
       "<p>STIXNonUnicode: <span style='font-family:STIXNonUnicode; font-size: 24px;'>STIXNonUnicode</p>\n",
       "<p>STIXSizeFiveSym: <span style='font-family:STIXSizeFiveSym; font-size: 24px;'>STIXSizeFiveSym</p>\n",
       "<p>STIXSizeFourSym: <span style='font-family:STIXSizeFourSym; font-size: 24px;'>STIXSizeFourSym</p>\n",
       "<p>STIXSizeOneSym: <span style='font-family:STIXSizeOneSym; font-size: 24px;'>STIXSizeOneSym</p>\n",
       "<p>STIXSizeThreeSym: <span style='font-family:STIXSizeThreeSym; font-size: 24px;'>STIXSizeThreeSym</p>\n",
       "<p>STIXSizeTwoSym: <span style='font-family:STIXSizeTwoSym; font-size: 24px;'>STIXSizeTwoSym</p>\n",
       "<p>cmb10: <span style='font-family:cmb10; font-size: 24px;'>cmb10</p>\n",
       "<p>cmex10: <span style='font-family:cmex10; font-size: 24px;'>cmex10</p>\n",
       "<p>cmmi10: <span style='font-family:cmmi10; font-size: 24px;'>cmmi10</p>\n",
       "<p>cmr10: <span style='font-family:cmr10; font-size: 24px;'>cmr10</p>\n",
       "<p>cmss10: <span style='font-family:cmss10; font-size: 24px;'>cmss10</p>\n",
       "<p>cmsy10: <span style='font-family:cmsy10; font-size: 24px;'>cmsy10</p>\n",
       "<p>cmtt10: <span style='font-family:cmtt10; font-size: 24px;'>cmtt10</p></div>"
      ],
      "text/plain": [
       "<IPython.core.display.HTML object>"
      ]
     },
     "execution_count": 84,
     "metadata": {},
     "output_type": "execute_result"
    }
   ],
   "source": [
    "import matplotlib.font_manager\n",
    "from IPython.core.display import HTML\n",
    "\n",
    "def make_html(fontname):\n",
    "    return \"<p>{font}: <span style='font-family:{font}; font-size: 24px;'>{font}</p>\".format(font=fontname)\n",
    "\n",
    "code = \"\\n\".join([make_html(font) for font in sorted(set([f.name for f in matplotlib.font_manager.fontManager.ttflist]))])\n",
    "\n",
    "HTML(\"<div style='column-count: 2;'>{}</div>\".format(code))"
   ]
  },
  {
   "cell_type": "code",
   "execution_count": 113,
   "metadata": {
    "ExecuteTime": {
     "end_time": "2019-10-09T18:50:10.789717Z",
     "start_time": "2019-10-09T18:50:10.784133Z"
    }
   },
   "outputs": [],
   "source": [
    "import matplotlib.font_manager as fm"
   ]
  },
  {
   "cell_type": "code",
   "execution_count": null,
   "metadata": {},
   "outputs": [],
   "source": [
    "# set up fonts\n",
    "fpath='/dors/capra_lab/users/abraha1/conda/envs/py36_r_ml/lib/python3.6/site-packages/matplotlib/mpl-data/fonts/ttf/Arial.ttf'\n",
    "prop = font_manager.FontProperties(fname=fpath)"
   ]
  },
  {
   "cell_type": "code",
   "execution_count": 118,
   "metadata": {
    "ExecuteTime": {
     "end_time": "2019-10-09T18:52:22.663275Z",
     "start_time": "2019-10-09T18:52:20.948936Z"
    }
   },
   "outputs": [
    {
     "data": {
      "image/png": "[encoded data removed]",
      "text/plain": [
       "<Figure size 1728x432 with 12 Axes>"
      ]
     },
     "metadata": {
      "needs_background": "light"
     },
     "output_type": "display_data"
    }
   ],
   "source": [
    "\n",
    "# matplotlib.rcParams['font'] = prop.get_name()\n",
    "\n",
    "row_labels = melted_metrics_df.variable.unique().tolist()\n",
    "col_labels = melted_metrics_df.data.unique().tolist()\n",
    "x_model_labels =  ['baseline','all','only']\n",
    "x_coords = [0, 0.75, 1.5]\n",
    "\n",
    "width = 0.55  # the width of the bars\n",
    "\n",
    "fig, axs = plt.subplots(nrows=2, ncols=6, figsize=(4*6,6), sharex=True, sharey=True)\n",
    "\n",
    "for row in range(len(row_labels)): \n",
    "    for col in range(len(col_labels)):\n",
    "\n",
    "        col_name = col_labels[col]\n",
    "\n",
    "        \n",
    "        models = melted_metrics_df.loc[  (melted_metrics_df['variable'] == row_labels[row]) & (melted_metrics_df['data'] == col_labels[col])].copy()\n",
    "        \n",
    "        # get y_values\n",
    "        y_vals = []\n",
    "        for this_model in x_model_labels: \n",
    "            y_vals.append(models.loc[models['model']==this_model, 'value'].values.tolist()[0])\n",
    "\n",
    "        this_ax = axs[row, col]\n",
    "        \n",
    "        this_ax.grid(False)\n",
    "        this_ax.spines['right'].set_visible(False)\n",
    "        this_ax.spines['top'].set_visible(False)\n",
    "        \n",
    "        rects1 = this_ax.bar(x_coords, y_vals, width)\n",
    "        _ = this_ax.set_ylim(0,1)\n",
    "\n",
    "        \n",
    "        autolabel(rects1, this_ax)\n",
    "\n",
    "        if row == 1:\n",
    "            _ = this_ax.set_xticks(x_coords)\n",
    "            _ = this_ax.set_xticklabels(x_model_labels)\n",
    "            _ = this_ax.set_xlabel(col_labels[col], labelpad=18, fontproperties=prop, size=32)\n",
    "            _ = this_ax.axhline(y=rand_pr_dict[col_name+\"_all\"], color='black')\n",
    "        else: \n",
    "            _ = this_ax.axhline(y=0.5, color='black')\n",
    "            \n",
    "        \n",
    "        if col == 0: \n",
    "            _ = this_ax.set_ylabel(row_labels[row], labelpad=18)\n",
    "            _ = this_ax.set_yticks(np.arange(0,1.25,0.25))\n",
    "            _ = this_ax.tick_params(axis='y', direction='out', left=True)\n"
   ]
  },
  {
   "cell_type": "code",
   "execution_count": 33,
   "metadata": {
    "ExecuteTime": {
     "end_time": "2019-10-09T15:16:39.335807Z",
     "start_time": "2019-10-09T15:16:29.602481Z"
    },
    "code_folding": [
     0
    ],
    "collapsed": true
   },
   "outputs": [
    {
     "data": {
      "image/png": "[encoded data removed]"
     },
     "metadata": {},
     "output_type": "display_data"
    }
   ],
   "source": [
    "%%R -i melted_metrics_df -i DATE -i OUTPUT_DIR -i random_df -h 450 -w 600\n",
    "### PLOT ALL DATA POINTS \n",
    "library(ggplot2)\n",
    "\n",
    "# order factors\n",
    "melted_metrics_df$data <-factor(melted_metrics_df$data, levels = c(\"age_race\",\"obnotes\",\"prs\", \"unstruc\"))\n",
    "melted_metrics_df$model <-factor(melted_metrics_df$model, levels = c(\"baseline\",\"all\",\"only\"))\n",
    "melted_metrics_df$variable <-factor(melted_metrics_df$variable, levels = c(\"ROC_AUC\",'AVG_PR'))\n",
    "\n",
    "mplt = ggplot(data = melted_metrics_df, aes(x=model, y=value, label=sprintf(\"%0.2f\", round(value, digits = 2)))) \n",
    "mplt = mplt + geom_text(aes(y = value + 0.04), position =position_dodge(0.9), size = 5, angle=0) \n",
    "\n",
    "\n",
    "mplt = mplt + facet_grid(variable~data,switch=\"x\")\n",
    "# rand = rand + facet_grid(variable~data)\n",
    "\n",
    "mplt = mplt + geom_bar(data=random_df, stat=\"identity\",  position=\"dodge\",fill=\"lightgray\", color=\"white\", alpha=0.8)\n",
    "mplt = mplt + geom_bar(stat=\"identity\",  position=\"dodge\", color=\"black\", fill=\"black\", alpha=0.5)\n",
    "\n",
    "\n",
    "# mplt = mplt + scale_fill_manual(values=c('#1b9e77', '#d95f02', '#7570b3'))\n",
    "mplt = mplt + xlab(\"Feature Set\")\n",
    "mplt = mplt + ylab(\"Value\")\n",
    "mplt = mplt + ylim(c(0,1))\n",
    "\n",
    "mplt = mplt + theme_classic() + theme(\n",
    "    text = element_text(size=18, family=\"arial\", color=\"black\"),\n",
    "    axis.text = element_text(size=18, family=\"arial\", color=\"black\"),\n",
    "    axis.ticks.length=unit(.3,\"cm\"),\n",
    "    axis.text.x = element_text(angle=315, hjust=0),\n",
    "    legend.position=\"none\",\n",
    "    strip.background = element_rect(colour=\"white\", fill=\"white\"),\n",
    "    strip.text=element_text(vjust=2.7))\n",
    "mplt\n",
    "\n",
    "\n",
    "# fig_file =  sprintf('%s-roc_pr_auc_barplot-add_ehr.eps',DATE)\n",
    "# sprintf(\"File saved t %s\", fig_file)\n",
    "# ggsave(fig_file, plot=last_plot(), device=cairo_pdf, path=OUTPUT_DIR)"
   ]
  },
  {
   "cell_type": "markdown",
   "metadata": {
    "heading_collapsed": true
   },
   "source": [
    "## F1, PR, and Recall "
   ]
  },
  {
   "cell_type": "code",
   "execution_count": 56,
   "metadata": {
    "ExecuteTime": {
     "end_time": "2019-03-06T20:41:35.984939Z",
     "start_time": "2019-03-06T20:41:35.954263Z"
    },
    "hidden": true,
    "scrolled": true
   },
   "outputs": [
    {
     "data": {
      "text/html": [
       "<div>\n",
       "<style scoped>\n",
       "    .dataframe tbody tr th:only-of-type {\n",
       "        vertical-align: middle;\n",
       "    }\n",
       "\n",
       "    .dataframe tbody tr th {\n",
       "        vertical-align: top;\n",
       "    }\n",
       "\n",
       "    .dataframe thead th {\n",
       "        text-align: right;\n",
       "    }\n",
       "</style>\n",
       "<table border=\"1\" class=\"dataframe\">\n",
       "  <thead>\n",
       "    <tr style=\"text-align: right;\">\n",
       "      <th></th>\n",
       "      <th>precision</th>\n",
       "      <th>recall</th>\n",
       "      <th>f1</th>\n",
       "      <th>roc_auc</th>\n",
       "      <th>avg_pr</th>\n",
       "      <th>tn_count</th>\n",
       "      <th>fp_count</th>\n",
       "      <th>fn_count</th>\n",
       "      <th>tp_count</th>\n",
       "      <th>brier_score</th>\n",
       "      <th>total_count</th>\n",
       "      <th>dataset</th>\n",
       "      <th>model</th>\n",
       "      <th>data</th>\n",
       "    </tr>\n",
       "  </thead>\n",
       "  <tbody>\n",
       "    <tr>\n",
       "      <th>0</th>\n",
       "      <td>0.753876</td>\n",
       "      <td>0.804273</td>\n",
       "      <td>0.778259</td>\n",
       "      <td>0.947556</td>\n",
       "      <td>0.863059</td>\n",
       "      <td>4882</td>\n",
       "      <td>381</td>\n",
       "      <td>284</td>\n",
       "      <td>1167</td>\n",
       "      <td>0.073213</td>\n",
       "      <td>6714</td>\n",
       "      <td>age_race_all</td>\n",
       "      <td>all</td>\n",
       "      <td>age_race</td>\n",
       "    </tr>\n",
       "    <tr>\n",
       "      <th>0</th>\n",
       "      <td>0.756270</td>\n",
       "      <td>0.810476</td>\n",
       "      <td>0.782435</td>\n",
       "      <td>0.949259</td>\n",
       "      <td>0.867206</td>\n",
       "      <td>4884</td>\n",
       "      <td>379</td>\n",
       "      <td>275</td>\n",
       "      <td>1176</td>\n",
       "      <td>0.072467</td>\n",
       "      <td>6714</td>\n",
       "      <td>age_race_icd_cpt</td>\n",
       "      <td>baseline</td>\n",
       "      <td>age_race</td>\n",
       "    </tr>\n",
       "    <tr>\n",
       "      <th>0</th>\n",
       "      <td>0.254864</td>\n",
       "      <td>0.451413</td>\n",
       "      <td>0.325790</td>\n",
       "      <td>0.567973</td>\n",
       "      <td>0.255310</td>\n",
       "      <td>3348</td>\n",
       "      <td>1915</td>\n",
       "      <td>796</td>\n",
       "      <td>655</td>\n",
       "      <td>0.247490</td>\n",
       "      <td>6714</td>\n",
       "      <td>age_race_only</td>\n",
       "      <td>only</td>\n",
       "      <td>age_race</td>\n",
       "    </tr>\n",
       "    <tr>\n",
       "      <th>0</th>\n",
       "      <td>0.542254</td>\n",
       "      <td>0.836957</td>\n",
       "      <td>0.658120</td>\n",
       "      <td>0.923297</td>\n",
       "      <td>0.791065</td>\n",
       "      <td>385</td>\n",
       "      <td>65</td>\n",
       "      <td>15</td>\n",
       "      <td>77</td>\n",
       "      <td>0.111939</td>\n",
       "      <td>542</td>\n",
       "      <td>obnotes_all</td>\n",
       "      <td>all</td>\n",
       "      <td>obnotes</td>\n",
       "    </tr>\n",
       "    <tr>\n",
       "      <th>0</th>\n",
       "      <td>0.635514</td>\n",
       "      <td>0.739130</td>\n",
       "      <td>0.683417</td>\n",
       "      <td>0.915411</td>\n",
       "      <td>0.781074</td>\n",
       "      <td>411</td>\n",
       "      <td>39</td>\n",
       "      <td>24</td>\n",
       "      <td>68</td>\n",
       "      <td>0.078857</td>\n",
       "      <td>542</td>\n",
       "      <td>obnotes_icd_cpt</td>\n",
       "      <td>baseline</td>\n",
       "      <td>obnotes</td>\n",
       "    </tr>\n",
       "  </tbody>\n",
       "</table>\n",
       "</div>"
      ],
      "text/plain": [
       "   precision    recall        f1   roc_auc    avg_pr  tn_count  fp_count  \\\n",
       "0   0.753876  0.804273  0.778259  0.947556  0.863059      4882       381   \n",
       "0   0.756270  0.810476  0.782435  0.949259  0.867206      4884       379   \n",
       "0   0.254864  0.451413  0.325790  0.567973  0.255310      3348      1915   \n",
       "0   0.542254  0.836957  0.658120  0.923297  0.791065       385        65   \n",
       "0   0.635514  0.739130  0.683417  0.915411  0.781074       411        39   \n",
       "\n",
       "   fn_count  tp_count  brier_score  total_count           dataset     model  \\\n",
       "0       284      1167     0.073213         6714      age_race_all       all   \n",
       "0       275      1176     0.072467         6714  age_race_icd_cpt  baseline   \n",
       "0       796       655     0.247490         6714     age_race_only      only   \n",
       "0        15        77     0.111939          542       obnotes_all       all   \n",
       "0        24        68     0.078857          542   obnotes_icd_cpt  baseline   \n",
       "\n",
       "       data  \n",
       "0  age_race  \n",
       "0  age_race  \n",
       "0  age_race  \n",
       "0   obnotes  \n",
       "0   obnotes  "
      ]
     },
     "execution_count": 56,
     "metadata": {},
     "output_type": "execute_result"
    }
   ],
   "source": [
    "all_metrics_df.head()"
   ]
  },
  {
   "cell_type": "code",
   "execution_count": 160,
   "metadata": {
    "ExecuteTime": {
     "end_time": "2019-03-09T16:40:20.263383Z",
     "start_time": "2019-03-09T16:40:20.217608Z"
    },
    "hidden": true
   },
   "outputs": [
    {
     "data": {
      "text/html": [
       "<div>\n",
       "<style scoped>\n",
       "    .dataframe tbody tr th:only-of-type {\n",
       "        vertical-align: middle;\n",
       "    }\n",
       "\n",
       "    .dataframe tbody tr th {\n",
       "        vertical-align: top;\n",
       "    }\n",
       "\n",
       "    .dataframe thead th {\n",
       "        text-align: right;\n",
       "    }\n",
       "</style>\n",
       "<table border=\"1\" class=\"dataframe\">\n",
       "  <thead>\n",
       "    <tr style=\"text-align: right;\">\n",
       "      <th></th>\n",
       "      <th>model</th>\n",
       "      <th>data</th>\n",
       "      <th>variable</th>\n",
       "      <th>value</th>\n",
       "    </tr>\n",
       "  </thead>\n",
       "  <tbody>\n",
       "    <tr>\n",
       "      <th>0</th>\n",
       "      <td>all</td>\n",
       "      <td>age_race</td>\n",
       "      <td>PRECISION</td>\n",
       "      <td>0.753876</td>\n",
       "    </tr>\n",
       "    <tr>\n",
       "      <th>1</th>\n",
       "      <td>baseline</td>\n",
       "      <td>age_race</td>\n",
       "      <td>PRECISION</td>\n",
       "      <td>0.756270</td>\n",
       "    </tr>\n",
       "    <tr>\n",
       "      <th>2</th>\n",
       "      <td>only</td>\n",
       "      <td>age_race</td>\n",
       "      <td>PRECISION</td>\n",
       "      <td>0.254864</td>\n",
       "    </tr>\n",
       "    <tr>\n",
       "      <th>3</th>\n",
       "      <td>all</td>\n",
       "      <td>obnotes</td>\n",
       "      <td>PRECISION</td>\n",
       "      <td>0.542254</td>\n",
       "    </tr>\n",
       "    <tr>\n",
       "      <th>4</th>\n",
       "      <td>baseline</td>\n",
       "      <td>obnotes</td>\n",
       "      <td>PRECISION</td>\n",
       "      <td>0.635514</td>\n",
       "    </tr>\n",
       "    <tr>\n",
       "      <th>5</th>\n",
       "      <td>only</td>\n",
       "      <td>obnotes</td>\n",
       "      <td>PRECISION</td>\n",
       "      <td>0.292079</td>\n",
       "    </tr>\n",
       "    <tr>\n",
       "      <th>6</th>\n",
       "      <td>all</td>\n",
       "      <td>prs</td>\n",
       "      <td>PRECISION</td>\n",
       "      <td>0.794872</td>\n",
       "    </tr>\n",
       "    <tr>\n",
       "      <th>7</th>\n",
       "      <td>baseline</td>\n",
       "      <td>prs</td>\n",
       "      <td>PRECISION</td>\n",
       "      <td>0.837209</td>\n",
       "    </tr>\n",
       "    <tr>\n",
       "      <th>8</th>\n",
       "      <td>only</td>\n",
       "      <td>prs</td>\n",
       "      <td>PRECISION</td>\n",
       "      <td>0.240741</td>\n",
       "    </tr>\n",
       "    <tr>\n",
       "      <th>9</th>\n",
       "      <td>all</td>\n",
       "      <td>unstruc</td>\n",
       "      <td>PRECISION</td>\n",
       "      <td>0.540984</td>\n",
       "    </tr>\n",
       "  </tbody>\n",
       "</table>\n",
       "</div>"
      ],
      "text/plain": [
       "      model      data   variable     value\n",
       "0       all  age_race  PRECISION  0.753876\n",
       "1  baseline  age_race  PRECISION  0.756270\n",
       "2      only  age_race  PRECISION  0.254864\n",
       "3       all   obnotes  PRECISION  0.542254\n",
       "4  baseline   obnotes  PRECISION  0.635514\n",
       "5      only   obnotes  PRECISION  0.292079\n",
       "6       all       prs  PRECISION  0.794872\n",
       "7  baseline       prs  PRECISION  0.837209\n",
       "8      only       prs  PRECISION  0.240741\n",
       "9       all   unstruc  PRECISION  0.540984"
      ]
     },
     "execution_count": 160,
     "metadata": {},
     "output_type": "execute_result"
    },
    {
     "data": {
      "text/plain": [
       "array(['age_race', 'obnotes', 'prs', 'unstruc'], dtype=object)"
      ]
     },
     "execution_count": 160,
     "metadata": {},
     "output_type": "execute_result"
    },
    {
     "data": {
      "text/plain": [
       "array(['all', 'baseline', 'only'], dtype=object)"
      ]
     },
     "execution_count": 160,
     "metadata": {},
     "output_type": "execute_result"
    },
    {
     "data": {
      "text/plain": [
       "array(['PRECISION', 'RECALL', 'F1'], dtype=object)"
      ]
     },
     "execution_count": 160,
     "metadata": {},
     "output_type": "execute_result"
    }
   ],
   "source": [
    "# melt dataframe\n",
    "melted_metrics_df = pd.melt(all_metrics_df, id_vars=['model', 'data'], value_vars=['precision','recall','f1'] )\n",
    "melted_metrics_df.variable = melted_metrics_df.variable.str.upper()\n",
    "melted_metrics_df.head(10)\n",
    "melted_metrics_df.data.unique()\n",
    "melted_metrics_df.model.unique()\n",
    "melted_metrics_df.variable.unique()"
   ]
  },
  {
   "cell_type": "markdown",
   "metadata": {
    "hidden": true
   },
   "source": [
    "### bar plot"
   ]
  },
  {
   "cell_type": "code",
   "execution_count": 162,
   "metadata": {
    "ExecuteTime": {
     "end_time": "2019-03-09T16:40:27.069042Z",
     "start_time": "2019-03-09T16:40:25.771397Z"
    },
    "hidden": true
   },
   "outputs": [
    {
     "data": {
      "image/png": "[encoded data removed]"
     },
     "metadata": {},
     "output_type": "display_data"
    }
   ],
   "source": [
    "%%R -i melted_metrics_df  -h 500 -w 1200\n",
    "### PLOT ALL DATA POINTS \n",
    "library(ggplot2)\n",
    "\n",
    "melted_metrics_df$data <-factor(melted_metrics_df$data, levels = c(\"age_race\",\"obnotes\",\"prs\", \"unstruc\"))\n",
    "\n",
    "\n",
    "melted_metrics_df$variable <-factor(melted_metrics_df$variable, \n",
    "                                levels = c(\"PRECISION\",'RECALL','F1'))\n",
    "\n",
    "mplt = ggplot(data = melted_metrics_df, aes(x=data, y=value, fill=model,  \n",
    "                                          label=sprintf(\"%0.2f\", round(value, digits = 2)))) \n",
    "mplt = mplt + geom_text(aes(y = value + 0.04), position =position_dodge(0.9), size = 5, angle=45) \n",
    "\n",
    "\n",
    "\n",
    "mplt = mplt + facet_grid(~variable)\n",
    "mplt = mplt + geom_bar(stat=\"identity\",  position=\"dodge\")\n",
    "# # might have to fix this manual scale \n",
    "mplt = mplt + scale_fill_manual(values=c('#1b9e77', '#d95f02', '#7570b3'))\n",
    "# mplt = mplt + xlab(\"Feature Set\")\n",
    "# mplt = mplt + ylab(\"Value\")\n",
    "# mplt = mplt + ylim(c(0,1))\n",
    "\n",
    "mplt + theme_classic() + theme(\n",
    "    text = element_text(size=18, family=\"arial\", color=\"black\"),\n",
    "    axis.text = element_text(size=18, family=\"arial\", color=\"black\"),\n",
    "    axis.ticks.length=unit(.3,\"cm\"),\n",
    "#     legend.position=\"none\",\n",
    "    strip.background = element_rect(colour=\"white\", fill=\"white\"))"
   ]
  },
  {
   "cell_type": "markdown",
   "metadata": {
    "hidden": true
   },
   "source": [
    "### faceted barplot"
   ]
  },
  {
   "cell_type": "code",
   "execution_count": 174,
   "metadata": {
    "ExecuteTime": {
     "end_time": "2019-03-09T16:47:46.006881Z",
     "start_time": "2019-03-09T16:47:43.860405Z"
    },
    "code_folding": [],
    "collapsed": true,
    "hidden": true
   },
   "outputs": [],
   "source": [
    "%%R -i melted_metrics_df -i DATE -i OUTPUT_DIR -h 400 -w 1200\n",
    "### PLOT ALL DATA POINTS \n",
    "library(ggplot2)\n",
    "\n",
    "melted_metrics_df$data <-factor(melted_metrics_df$data, levels = c(\"age_race\",\"obnotes\",\"prs\", \"unstruc\"))\n",
    "\n",
    "\n",
    "melted_metrics_df$variable <-factor(melted_metrics_df$variable, \n",
    "                                levels = c(\"PRECISION\",'RECALL','F1'))\n",
    "\n",
    "mplt = ggplot(data = melted_metrics_df, aes(x=model, y=value, \n",
    "                                          label=sprintf(\"%0.2f\", round(value, digits = 2)))) \n",
    "mplt = mplt + geom_text(aes(y = value + 0.04), position =position_dodge(0.9), size = 5, angle=45) \n",
    "\n",
    "\n",
    "\n",
    "mplt = mplt + facet_wrap(variable~data, nrow=1)\n",
    "mplt = mplt + geom_bar(stat=\"identity\",  position=\"dodge\")\n",
    "# # might have to fix this manual scale \n",
    "mplt = mplt + scale_fill_manual(values=c('#1b9e77', '#d95f02'))\n",
    "# mplt = mplt + xlab(\"Feature Set\")\n",
    "# mplt = mplt + ylab(\"Value\")\n",
    "# mplt = mplt + ylim(c(0,1))\n",
    "\n",
    "mplt + theme_classic() + theme(\n",
    "    text = element_text(size=18, family=\"arial\", color=\"black\"),\n",
    "    axis.text = element_text(size=18, family=\"arial\", color=\"black\"),\n",
    "    axis.ticks.length=unit(.3,\"cm\"),\n",
    "    axis.text.x = element_text(angle=315, hjust=0),\n",
    "    legend.position=\"none\",\n",
    "    strip.background = element_rect(colour=\"white\", fill=\"white\"))\n",
    "\n",
    "# fig_file =  sprintf('%s-f1_pr_rc_barplot-add_ehr.pdf',DATE)\n",
    "sprintf(\"File saved t %s\", fig_file)\n",
    "ggsave(fig_file, plot=last_plot(), device=cairo_pdf, path=OUTPUT_DIR)"
   ]
  },
  {
   "cell_type": "markdown",
   "metadata": {
    "hidden": true
   },
   "source": [
    "### Dumbell plot"
   ]
  },
  {
   "cell_type": "code",
   "execution_count": 175,
   "metadata": {
    "ExecuteTime": {
     "end_time": "2019-03-09T16:48:44.003528Z",
     "start_time": "2019-03-09T16:48:43.968197Z"
    },
    "hidden": true
   },
   "outputs": [
    {
     "data": {
      "text/html": [
       "<div>\n",
       "<style scoped>\n",
       "    .dataframe tbody tr th:only-of-type {\n",
       "        vertical-align: middle;\n",
       "    }\n",
       "\n",
       "    .dataframe tbody tr th {\n",
       "        vertical-align: top;\n",
       "    }\n",
       "\n",
       "    .dataframe thead th {\n",
       "        text-align: right;\n",
       "    }\n",
       "</style>\n",
       "<table border=\"1\" class=\"dataframe\">\n",
       "  <thead>\n",
       "    <tr style=\"text-align: right;\">\n",
       "      <th>model</th>\n",
       "      <th>data</th>\n",
       "      <th>variable</th>\n",
       "      <th>all</th>\n",
       "      <th>baseline</th>\n",
       "      <th>only</th>\n",
       "    </tr>\n",
       "  </thead>\n",
       "  <tbody>\n",
       "    <tr>\n",
       "      <th>0</th>\n",
       "      <td>age_race</td>\n",
       "      <td>F1</td>\n",
       "      <td>0.778259</td>\n",
       "      <td>0.782435</td>\n",
       "      <td>0.325790</td>\n",
       "    </tr>\n",
       "    <tr>\n",
       "      <th>1</th>\n",
       "      <td>age_race</td>\n",
       "      <td>PRECISION</td>\n",
       "      <td>0.753876</td>\n",
       "      <td>0.756270</td>\n",
       "      <td>0.254864</td>\n",
       "    </tr>\n",
       "    <tr>\n",
       "      <th>2</th>\n",
       "      <td>age_race</td>\n",
       "      <td>RECALL</td>\n",
       "      <td>0.804273</td>\n",
       "      <td>0.810476</td>\n",
       "      <td>0.451413</td>\n",
       "    </tr>\n",
       "    <tr>\n",
       "      <th>3</th>\n",
       "      <td>obnotes</td>\n",
       "      <td>F1</td>\n",
       "      <td>0.658120</td>\n",
       "      <td>0.683417</td>\n",
       "      <td>0.401361</td>\n",
       "    </tr>\n",
       "    <tr>\n",
       "      <th>4</th>\n",
       "      <td>obnotes</td>\n",
       "      <td>PRECISION</td>\n",
       "      <td>0.542254</td>\n",
       "      <td>0.635514</td>\n",
       "      <td>0.292079</td>\n",
       "    </tr>\n",
       "  </tbody>\n",
       "</table>\n",
       "</div>"
      ],
      "text/plain": [
       "model      data   variable       all  baseline      only\n",
       "0      age_race         F1  0.778259  0.782435  0.325790\n",
       "1      age_race  PRECISION  0.753876  0.756270  0.254864\n",
       "2      age_race     RECALL  0.804273  0.810476  0.451413\n",
       "3       obnotes         F1  0.658120  0.683417  0.401361\n",
       "4       obnotes  PRECISION  0.542254  0.635514  0.292079"
      ]
     },
     "execution_count": 175,
     "metadata": {},
     "output_type": "execute_result"
    }
   ],
   "source": [
    "# change to wide form\n",
    "wide_metrics_df = melted_metrics_df.groupby(['data', 'variable', 'model'])['value'].sum().unstack('model').reset_index()\n",
    "wide_metrics_df.head()"
   ]
  },
  {
   "cell_type": "code",
   "execution_count": 177,
   "metadata": {
    "ExecuteTime": {
     "end_time": "2019-03-09T16:49:56.556125Z",
     "start_time": "2019-03-09T16:49:55.938566Z"
    },
    "hidden": true
   },
   "outputs": [
    {
     "data": {
      "image/png": "[encoded data removed]"
     },
     "metadata": {},
     "output_type": "display_data"
    }
   ],
   "source": [
    "%%R -i wide_metrics_df  -h 200 -w 1200\n",
    "### PLOT ALL DATA POINTS \n",
    "library(ggplot2)\n",
    "library(\"ggalt\")\n",
    "wide_metrics_df$data <-factor(wide_metrics_df$data, levels = c(\"age_race\",\"obnotes\",\"prs\", \"unstruc\"))\n",
    "\n",
    "\n",
    "wide_metrics_df$variable <-factor(wide_metrics_df$variable, \n",
    "                                levels = c(\"PRECISION\",'RECALL','F1'))\n",
    "\n",
    "\n",
    "gg <- ggplot(wide_metrics_df, aes(y=variable, x=baseline, xend=all)) + \n",
    "    geom_dumbbell(size_x=5, size_xend=5, \n",
    "                color=\"black\", size=2,\n",
    "                colour_x = \"black\", colour_xend = \"#d95f02\",\n",
    "                shape=19, shape_end=25,\n",
    "                show.legend=TRUE )\n",
    "gg = gg + facet_grid(~data)\n",
    "\n",
    "\n",
    "gg = gg + xlab(\"Value\") + ylab(\"\") + xlim(c(0,1))\n",
    "gg = gg + theme_classic() + theme( \n",
    "    text = element_text(size=18, family=\"arial\", color=\"black\"),\n",
    "    axis.text = element_text(size=14, family=\"arial\", color=\"black\"),\n",
    "    axis.text.x = element_text(angle=315, hjust=0),\n",
    "    strip.background = element_rect(colour=\"white\", fill=\"white\"))\n",
    "\n",
    "gg = gg +  theme(panel.spacing = unit(2, \"lines\"))\n",
    "gg\n"
   ]
  },
  {
   "cell_type": "markdown",
   "metadata": {
    "heading_collapsed": true
   },
   "source": [
    "## Brier Score Bar Plot"
   ]
  },
  {
   "cell_type": "code",
   "execution_count": 179,
   "metadata": {
    "ExecuteTime": {
     "end_time": "2019-03-09T16:50:39.562513Z",
     "start_time": "2019-03-09T16:50:39.528306Z"
    },
    "hidden": true
   },
   "outputs": [
    {
     "data": {
      "text/html": [
       "<div>\n",
       "<style scoped>\n",
       "    .dataframe tbody tr th:only-of-type {\n",
       "        vertical-align: middle;\n",
       "    }\n",
       "\n",
       "    .dataframe tbody tr th {\n",
       "        vertical-align: top;\n",
       "    }\n",
       "\n",
       "    .dataframe thead th {\n",
       "        text-align: right;\n",
       "    }\n",
       "</style>\n",
       "<table border=\"1\" class=\"dataframe\">\n",
       "  <thead>\n",
       "    <tr style=\"text-align: right;\">\n",
       "      <th></th>\n",
       "      <th>precision</th>\n",
       "      <th>recall</th>\n",
       "      <th>f1</th>\n",
       "      <th>roc_auc</th>\n",
       "      <th>avg_pr</th>\n",
       "      <th>tn_count</th>\n",
       "      <th>fp_count</th>\n",
       "      <th>fn_count</th>\n",
       "      <th>tp_count</th>\n",
       "      <th>brier_score</th>\n",
       "      <th>total_count</th>\n",
       "      <th>dataset</th>\n",
       "      <th>model</th>\n",
       "      <th>data</th>\n",
       "      <th>random_pr</th>\n",
       "    </tr>\n",
       "  </thead>\n",
       "  <tbody>\n",
       "    <tr>\n",
       "      <th>0</th>\n",
       "      <td>0.753876</td>\n",
       "      <td>0.804273</td>\n",
       "      <td>0.778259</td>\n",
       "      <td>0.947556</td>\n",
       "      <td>0.863059</td>\n",
       "      <td>4882</td>\n",
       "      <td>381</td>\n",
       "      <td>284</td>\n",
       "      <td>1167</td>\n",
       "      <td>0.073213</td>\n",
       "      <td>6714</td>\n",
       "      <td>age_race_all</td>\n",
       "      <td>all</td>\n",
       "      <td>age_race</td>\n",
       "      <td>0.216116</td>\n",
       "    </tr>\n",
       "    <tr>\n",
       "      <th>0</th>\n",
       "      <td>0.756270</td>\n",
       "      <td>0.810476</td>\n",
       "      <td>0.782435</td>\n",
       "      <td>0.949259</td>\n",
       "      <td>0.867206</td>\n",
       "      <td>4884</td>\n",
       "      <td>379</td>\n",
       "      <td>275</td>\n",
       "      <td>1176</td>\n",
       "      <td>0.072467</td>\n",
       "      <td>6714</td>\n",
       "      <td>age_race_icd_cpt</td>\n",
       "      <td>baseline</td>\n",
       "      <td>age_race</td>\n",
       "      <td>0.216116</td>\n",
       "    </tr>\n",
       "    <tr>\n",
       "      <th>0</th>\n",
       "      <td>0.254864</td>\n",
       "      <td>0.451413</td>\n",
       "      <td>0.325790</td>\n",
       "      <td>0.567973</td>\n",
       "      <td>0.255310</td>\n",
       "      <td>3348</td>\n",
       "      <td>1915</td>\n",
       "      <td>796</td>\n",
       "      <td>655</td>\n",
       "      <td>0.247490</td>\n",
       "      <td>6714</td>\n",
       "      <td>age_race_only</td>\n",
       "      <td>only</td>\n",
       "      <td>age_race</td>\n",
       "      <td>0.216116</td>\n",
       "    </tr>\n",
       "    <tr>\n",
       "      <th>0</th>\n",
       "      <td>0.542254</td>\n",
       "      <td>0.836957</td>\n",
       "      <td>0.658120</td>\n",
       "      <td>0.923297</td>\n",
       "      <td>0.791065</td>\n",
       "      <td>385</td>\n",
       "      <td>65</td>\n",
       "      <td>15</td>\n",
       "      <td>77</td>\n",
       "      <td>0.111939</td>\n",
       "      <td>542</td>\n",
       "      <td>obnotes_all</td>\n",
       "      <td>all</td>\n",
       "      <td>obnotes</td>\n",
       "      <td>0.169742</td>\n",
       "    </tr>\n",
       "    <tr>\n",
       "      <th>0</th>\n",
       "      <td>0.635514</td>\n",
       "      <td>0.739130</td>\n",
       "      <td>0.683417</td>\n",
       "      <td>0.915411</td>\n",
       "      <td>0.781074</td>\n",
       "      <td>411</td>\n",
       "      <td>39</td>\n",
       "      <td>24</td>\n",
       "      <td>68</td>\n",
       "      <td>0.078857</td>\n",
       "      <td>542</td>\n",
       "      <td>obnotes_icd_cpt</td>\n",
       "      <td>baseline</td>\n",
       "      <td>obnotes</td>\n",
       "      <td>0.169742</td>\n",
       "    </tr>\n",
       "  </tbody>\n",
       "</table>\n",
       "</div>"
      ],
      "text/plain": [
       "   precision    recall        f1   roc_auc    avg_pr  tn_count  fp_count  \\\n",
       "0   0.753876  0.804273  0.778259  0.947556  0.863059      4882       381   \n",
       "0   0.756270  0.810476  0.782435  0.949259  0.867206      4884       379   \n",
       "0   0.254864  0.451413  0.325790  0.567973  0.255310      3348      1915   \n",
       "0   0.542254  0.836957  0.658120  0.923297  0.791065       385        65   \n",
       "0   0.635514  0.739130  0.683417  0.915411  0.781074       411        39   \n",
       "\n",
       "   fn_count  tp_count  brier_score  total_count           dataset     model  \\\n",
       "0       284      1167     0.073213         6714      age_race_all       all   \n",
       "0       275      1176     0.072467         6714  age_race_icd_cpt  baseline   \n",
       "0       796       655     0.247490         6714     age_race_only      only   \n",
       "0        15        77     0.111939          542       obnotes_all       all   \n",
       "0        24        68     0.078857          542   obnotes_icd_cpt  baseline   \n",
       "\n",
       "       data  random_pr  \n",
       "0  age_race   0.216116  \n",
       "0  age_race   0.216116  \n",
       "0  age_race   0.216116  \n",
       "0   obnotes   0.169742  \n",
       "0   obnotes   0.169742  "
      ]
     },
     "execution_count": 179,
     "metadata": {},
     "output_type": "execute_result"
    }
   ],
   "source": [
    "all_metrics_df.head()"
   ]
  },
  {
   "cell_type": "code",
   "execution_count": 182,
   "metadata": {
    "ExecuteTime": {
     "end_time": "2019-03-09T16:51:17.874798Z",
     "start_time": "2019-03-09T16:51:17.839788Z"
    },
    "hidden": true
   },
   "outputs": [
    {
     "data": {
      "text/html": [
       "<div>\n",
       "<style scoped>\n",
       "    .dataframe tbody tr th:only-of-type {\n",
       "        vertical-align: middle;\n",
       "    }\n",
       "\n",
       "    .dataframe tbody tr th {\n",
       "        vertical-align: top;\n",
       "    }\n",
       "\n",
       "    .dataframe thead th {\n",
       "        text-align: right;\n",
       "    }\n",
       "</style>\n",
       "<table border=\"1\" class=\"dataframe\">\n",
       "  <thead>\n",
       "    <tr style=\"text-align: right;\">\n",
       "      <th></th>\n",
       "      <th>model</th>\n",
       "      <th>data</th>\n",
       "      <th>variable</th>\n",
       "      <th>value</th>\n",
       "    </tr>\n",
       "  </thead>\n",
       "  <tbody>\n",
       "    <tr>\n",
       "      <th>0</th>\n",
       "      <td>all</td>\n",
       "      <td>age_race</td>\n",
       "      <td>BRIER_SCORE</td>\n",
       "      <td>0.073213</td>\n",
       "    </tr>\n",
       "    <tr>\n",
       "      <th>1</th>\n",
       "      <td>baseline</td>\n",
       "      <td>age_race</td>\n",
       "      <td>BRIER_SCORE</td>\n",
       "      <td>0.072467</td>\n",
       "    </tr>\n",
       "    <tr>\n",
       "      <th>2</th>\n",
       "      <td>only</td>\n",
       "      <td>age_race</td>\n",
       "      <td>BRIER_SCORE</td>\n",
       "      <td>0.247490</td>\n",
       "    </tr>\n",
       "    <tr>\n",
       "      <th>3</th>\n",
       "      <td>all</td>\n",
       "      <td>obnotes</td>\n",
       "      <td>BRIER_SCORE</td>\n",
       "      <td>0.111939</td>\n",
       "    </tr>\n",
       "    <tr>\n",
       "      <th>4</th>\n",
       "      <td>baseline</td>\n",
       "      <td>obnotes</td>\n",
       "      <td>BRIER_SCORE</td>\n",
       "      <td>0.078857</td>\n",
       "    </tr>\n",
       "    <tr>\n",
       "      <th>5</th>\n",
       "      <td>only</td>\n",
       "      <td>obnotes</td>\n",
       "      <td>BRIER_SCORE</td>\n",
       "      <td>0.234623</td>\n",
       "    </tr>\n",
       "    <tr>\n",
       "      <th>6</th>\n",
       "      <td>all</td>\n",
       "      <td>prs</td>\n",
       "      <td>BRIER_SCORE</td>\n",
       "      <td>0.113279</td>\n",
       "    </tr>\n",
       "    <tr>\n",
       "      <th>7</th>\n",
       "      <td>baseline</td>\n",
       "      <td>prs</td>\n",
       "      <td>BRIER_SCORE</td>\n",
       "      <td>0.106396</td>\n",
       "    </tr>\n",
       "    <tr>\n",
       "      <th>8</th>\n",
       "      <td>only</td>\n",
       "      <td>prs</td>\n",
       "      <td>BRIER_SCORE</td>\n",
       "      <td>0.379291</td>\n",
       "    </tr>\n",
       "    <tr>\n",
       "      <th>9</th>\n",
       "      <td>all</td>\n",
       "      <td>unstruc</td>\n",
       "      <td>BRIER_SCORE</td>\n",
       "      <td>0.088310</td>\n",
       "    </tr>\n",
       "  </tbody>\n",
       "</table>\n",
       "</div>"
      ],
      "text/plain": [
       "      model      data     variable     value\n",
       "0       all  age_race  BRIER_SCORE  0.073213\n",
       "1  baseline  age_race  BRIER_SCORE  0.072467\n",
       "2      only  age_race  BRIER_SCORE  0.247490\n",
       "3       all   obnotes  BRIER_SCORE  0.111939\n",
       "4  baseline   obnotes  BRIER_SCORE  0.078857\n",
       "5      only   obnotes  BRIER_SCORE  0.234623\n",
       "6       all       prs  BRIER_SCORE  0.113279\n",
       "7  baseline       prs  BRIER_SCORE  0.106396\n",
       "8      only       prs  BRIER_SCORE  0.379291\n",
       "9       all   unstruc  BRIER_SCORE  0.088310"
      ]
     },
     "execution_count": 182,
     "metadata": {},
     "output_type": "execute_result"
    }
   ],
   "source": [
    "# melt dataframe\n",
    "melt_brier_df = pd.melt(all_metrics_df, id_vars=['model', 'data'], value_vars=['brier_score'] )\n",
    "melt_brier_df.variable = melt_brier_df.variable.str.upper()\n",
    "melt_brier_df.head(10)\n"
   ]
  },
  {
   "cell_type": "code",
   "execution_count": 191,
   "metadata": {
    "ExecuteTime": {
     "end_time": "2019-03-09T16:53:42.325764Z",
     "start_time": "2019-03-09T16:53:41.725905Z"
    },
    "collapsed": true,
    "hidden": true
   },
   "outputs": [],
   "source": [
    "%%R  -i melt_brier_df -i OUTPUT_DIR -i DATE\n",
    "library(ggplot2)\n",
    "\n",
    "# order labels \n",
    "melt_brier_df$model <-factor(melt_brier_df$model, levels = c(\"baseline\", \"all\",\"only\"))\n",
    "\n",
    "barplt = ggplot(data = melt_brier_df,\n",
    "                aes(x=model, y=value, \n",
    "                label=sprintf(\"%0.3f\", round(value, digits = 3)))) \n",
    "\n",
    "barplt = barplt + geom_bar(stat=\"identity\")\n",
    "barplt =barplt + geom_text(aes(y = value + 0.018), size = 5, angle = 48, position = position_dodge(0.9))\n",
    "\n",
    "\n",
    "barplt = barplt + facet_grid(~data)\n",
    "\n",
    "# barplt = barplt + scale_fill_manual(values= c( \"#balck\", \"#d95f02\"))\n",
    "barplt = barplt + ylab(\"Brier Score\")\n",
    "# barplt = barplt + xlab(\"Feature Set\")\n",
    "\n",
    "\n",
    "\n",
    "barplt = barplt + theme_classic() + theme(\n",
    "    text = element_text(size=13, family=\"arial\", color=\"black\"),\n",
    "    axis.text = element_text(size=18, family=\"arial\", color=\"black\"),\n",
    "    axis.ticks.length=unit(.3,\"cm\"),\n",
    "    axis.text.x = element_text(angle=315, hjust=0),\n",
    "    strip.background = element_rect(colour=\"white\", fill=\"white\"),\n",
    "    strip.text.x = element_text(size=12, family=\"arial\", color=\"black\", face=\"plain\"),\n",
    "    axis.title.y = element_text(size=18, family=\"arial\", color=\"black\"),\n",
    "    legend.position=\"none\")\n",
    "\n",
    "barplt\n",
    "pr_fig_file =  sprintf('%s-brier-add_ehr.pdf',DATE)\n",
    "ggsave(pr_fig_file, plot=last_plot(), device=cairo_pdf, path=OUTPUT_DIR)"
   ]
  },
  {
   "cell_type": "markdown",
   "metadata": {},
   "source": [
    "## Feature Importance "
   ]
  },
  {
   "cell_type": "code",
   "execution_count": null,
   "metadata": {
    "collapsed": true
   },
   "outputs": [],
   "source": [
    "# TO DO "
   ]
  }
 ],
 "metadata": {
  "kernelspec": {
   "display_name": "Python 3",
   "language": "python",
   "name": "python3"
  },
  "language_info": {
   "codemirror_mode": {
    "name": "ipython",
    "version": 3
   },
   "file_extension": ".py",
   "mimetype": "text/x-python",
   "name": "python",
   "nbconvert_exporter": "python",
   "pygments_lexer": "ipython3",
   "version": "3.6.7"
  },
  "notify_time": "5",
  "toc": {
   "base_numbering": 1,
   "nav_menu": {},
   "number_sections": true,
   "sideBar": false,
   "skip_h1_title": true,
   "title_cell": "Table of Contents",
   "title_sidebar": "Contents",
   "toc_cell": false,
   "toc_position": {
    "height": "202.021px",
    "left": "1900px",
    "top": "83.3333px",
    "width": "353.938px"
   },
   "toc_section_display": false,
   "toc_window_display": false
  }
 },
 "nbformat": 4,
 "nbformat_minor": 2
}
