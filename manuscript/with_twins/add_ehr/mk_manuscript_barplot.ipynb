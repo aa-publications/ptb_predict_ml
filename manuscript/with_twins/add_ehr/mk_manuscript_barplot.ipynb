{
 "cells": [
  {
   "cell_type": "markdown",
   "metadata": {},
   "source": [
    "# Figures for Adding EHR Data with Raw Count of ICD-9 & CPT  "
   ]
  },
  {
   "cell_type": "code",
   "execution_count": 23,
   "metadata": {
    "ExecuteTime": {
     "end_time": "2019-10-09T19:00:40.962356Z",
     "start_time": "2019-10-09T19:00:40.938124Z"
    }
   },
   "outputs": [
    {
     "data": {
      "text/html": [
       "<style>.container {width:90% !important; }</style>"
      ],
      "text/plain": [
       "<IPython.core.display.HTML object>"
      ]
     },
     "metadata": {},
     "output_type": "display_data"
    }
   ],
   "source": [
    "import os, sys\n",
    "import numpy as np\n",
    "import pandas as pd \n",
    "import seaborn as sns\n",
    "import matplotlib.pyplot as plt \n",
    "import matplotlib.font_manager as fm\n",
    "import glob \n",
    "import pickle \n",
    "from scipy.cluster.hierarchy import linkage,leaves_list\n",
    "from scipy.interpolate import interp1d\n",
    "from cycler import cycler\n",
    "from collections import OrderedDict \n",
    "\n",
    "from datetime import datetime\n",
    "from IPython.core.interactiveshell import InteractiveShell\n",
    "InteractiveShell.ast_node_interactivity = \"all\" \n",
    "from IPython.core.display import display, HTML    \n",
    "display(HTML(\"<style>.container {width:90% !important; }</style>\"))\n",
    "%matplotlib inline\n",
    "np.set_printoptions(precision=5, suppress=True) \n",
    "\n",
    "DATE = datetime.now().strftime('%Y-%m-%d')"
   ]
  },
  {
   "cell_type": "code",
   "execution_count": 2,
   "metadata": {
    "ExecuteTime": {
     "end_time": "2019-10-09T18:57:17.613265Z",
     "start_time": "2019-10-09T18:57:08.022097Z"
    }
   },
   "outputs": [],
   "source": [
    "sys.path.append('/dors/capra_lab/users/abraha1/projects/PTB_phenotyping/scripts/rand_forest_ptb_classification')\n",
    "from hyperparam_tune import validate_best_model"
   ]
  },
  {
   "cell_type": "code",
   "execution_count": 3,
   "metadata": {
    "ExecuteTime": {
     "end_time": "2019-10-09T18:57:27.139207Z",
     "start_time": "2019-10-09T18:57:17.621207Z"
    }
   },
   "outputs": [],
   "source": [
    "import shap"
   ]
  },
  {
   "cell_type": "code",
   "execution_count": 4,
   "metadata": {
    "ExecuteTime": {
     "end_time": "2019-10-09T18:57:30.862550Z",
     "start_time": "2019-10-09T18:57:27.143997Z"
    },
    "scrolled": true
   },
   "outputs": [],
   "source": [
    "%load_ext rpy2.ipython"
   ]
  },
  {
   "cell_type": "code",
   "execution_count": 5,
   "metadata": {
    "ExecuteTime": {
     "end_time": "2019-10-09T18:57:30.870226Z",
     "start_time": "2019-10-09T18:57:30.866231Z"
    }
   },
   "outputs": [],
   "source": [
    "ROOT_DATA_DIR = \"/dors/capra_lab/users/abraha1/projects/PTB_phenotyping/results/ptb_predict_machine_learning/2019-01-21_manuscript_add_ehr_data\" \n",
    "BIN_CLIN_DATA_DIR = \"/dors/capra_lab/users/abraha1/projects/PTB_phenotyping/results/ptb_predict_machine_learning/2019_09_05_add_clin_labs/bin_labs\"\n",
    "CLIN_DATA_DIR = \"/dors/capra_lab/users/abraha1/projects/PTB_phenotyping/results/ptb_predict_machine_learning/2019_09_05_add_clin_labs/lab_values\"\n",
    "OUTPUT_DIR = \"/dors/capra_lab/users/abraha1/projects/PTB_phenotyping/scripts/rand_forest_ptb_classification/manuscript/add_ehr_data\""
   ]
  },
  {
   "cell_type": "markdown",
   "metadata": {},
   "source": [
    "## Functions"
   ]
  },
  {
   "cell_type": "code",
   "execution_count": 6,
   "metadata": {
    "ExecuteTime": {
     "end_time": "2019-10-09T18:57:31.106625Z",
     "start_time": "2019-10-09T18:57:30.872999Z"
    },
    "code_folding": [
     0
    ]
   },
   "outputs": [],
   "source": [
    "def get_test_performance(input_file, model_file):\n",
    "    \n",
    "    \n",
    "    input_data = pd.read_csv(input_file, sep=\"\\t\")\n",
    "    print(\"done loading {}\".format(os.path.basename(input_file)))\n",
    "    \n",
    "    held_out_df = input_data.loc[input_data['partition']=='held_out'].copy()\n",
    "    train_df = input_data.loc[input_data['partition']=='grid_cv'].copy()\n",
    "    held_out_df.set_index('GRID',inplace=True)\n",
    "    train_df.set_index('GRID',inplace=True)\n",
    "    \n",
    "    X_test = held_out_df.iloc[:,:-2]\n",
    "    y_test = held_out_df.label.apply(lambda x: 1 if x == 'preterm' else 0).values\n",
    "\n",
    "    \n",
    "    xgb_model = pickle.load(open(model_file, \"rb\"))\n",
    "    \n",
    "    return X_test, y_test, xgb_model "
   ]
  },
  {
   "cell_type": "code",
   "execution_count": 7,
   "metadata": {
    "ExecuteTime": {
     "end_time": "2019-10-09T18:57:31.344977Z",
     "start_time": "2019-10-09T18:57:31.109768Z"
    },
    "code_folding": [
     0
    ]
   },
   "outputs": [],
   "source": [
    "def plot_roc(store_fpr, store_tpr, aucs, plt_prefix='', roc_fig_file=None):\n",
    "    '''\n",
    "    plot auroc curve(s) with mean and std; save if a roc_fig_file is provided\n",
    "\n",
    "        INPUTS:\n",
    "            * store_fpr, store_tpr, aucs: a list where each element represents data for one curve\n",
    "            * plt_prefix: label to add to the title of plot\n",
    "            * roc_fig_file: full path to save file\n",
    "            * savefig: boolean to save or not save figure\n",
    "\n",
    "        note: first three must be a list; will not plot mean and std if only one curve\n",
    "    '''\n",
    "    print(\"Creating roc plot.....\")\n",
    "\n",
    "    interp_fpr = np.linspace(0, 1, 100)\n",
    "    store_tpr_interp = []\n",
    "\n",
    "    ax = plt.figure()\n",
    "    plt.plot([0, 1], [0, 1], linestyle='--', lw=4, color='r', label='Chance', alpha=.8)\n",
    "\n",
    "    # plot each cv iteration\n",
    "    for cv_iter, fpr_tpr_auc in enumerate(zip(store_fpr, store_tpr, aucs)):\n",
    "        # set_trace()\n",
    "        fpr, tpr, auc = fpr_tpr_auc\n",
    "        plt.plot(fpr, tpr, lw=4, alpha=0.9, label=\"#{}(AUC={:.3f})\".format(cv_iter, auc))\n",
    "\n",
    "        lin_fx = interp1d(fpr, tpr, kind='linear')\n",
    "        interp_tpr = lin_fx(interp_fpr)\n",
    "\n",
    "        # store_tpr_interp.append(np.interp(mean_fpr, fpr, tpr))\n",
    "        # store_tpr_interp[-1][0] = 0.0\n",
    "        store_tpr_interp.append(interp_tpr)\n",
    "\n",
    "    # plot mean and std only if more than one curve present\n",
    "    if len(store_fpr) != 1:\n",
    "        # plot mean, sd, and shade in between\n",
    "        mean_tpr = np.mean(store_tpr_interp, axis=0)\n",
    "        # mean_tpr[-1] = 1.0\n",
    "        mean_auc = metrics.auc(interp_fpr, mean_tpr)\n",
    "        std_auc = np.std(aucs)\n",
    "        plt.plot(interp_fpr, mean_tpr, color='b',\n",
    "                 label=\"Mean(AUC={:.2f}+/-{:.2f})\".format(mean_auc, std_auc),\n",
    "                 lw=2, alpha=.8)\n",
    "\n",
    "        std_tpr = np.std(store_tpr_interp, axis=0)\n",
    "        tprs_upper = np.minimum(mean_tpr + 2*std_tpr, 1)\n",
    "        tprs_lower = np.maximum(mean_tpr - 2*std_tpr, 0)\n",
    "        plt.fill_between(interp_fpr, tprs_lower, tprs_upper, color='grey', alpha=.2,\n",
    "                         label=\"+/- 2 S.D.\")\n",
    "\n",
    "    plt.xlim([-0.05, 1.05])\n",
    "    plt.ylim([-0.05, 1.05])\n",
    "    plt.xlabel('False Positive Rate')\n",
    "    plt.ylabel('True Positive Rate')\n",
    "    plt.title('ROC for {}:\\nPrediting PTB vs. non-PTB'.format(plt_prefix))\n",
    "    plt.legend(loc=\"lower right\")\n",
    "\n",
    "    if roc_fig_file:\n",
    "        plt.savefig(roc_fig_file)\n",
    "        print(\"\\tDone. AUROC curve saved to:\\n\\t{}\".format(roc_fig_file))\n",
    "\n",
    "    return ax"
   ]
  },
  {
   "cell_type": "code",
   "execution_count": 8,
   "metadata": {
    "ExecuteTime": {
     "end_time": "2019-10-09T18:57:31.731181Z",
     "start_time": "2019-10-09T18:57:31.348713Z"
    },
    "code_folding": [
     0
    ]
   },
   "outputs": [],
   "source": [
    "def plot_pr(precisions, recalls, avg_prs, plt_prefix, pr_fig_file=None, pos_prop=None):\n",
    "    ''' plot PR curve(s) with mean and std; save if pr_fig_file is provided\n",
    "\n",
    "        INPUTS:\n",
    "            * precisions, recalls, avg_prs: must be a list where each element represents data for one curve\n",
    "            * plt_prefix: label to add to the title of plot\n",
    "            * pr_fig_file: full path to save file\n",
    "            * pos_prop: total true positives / total samples (i.e. proportion of positves)\n",
    "\n",
    "        note: first three must be a list; will not plot mean and std if only one curve\n",
    "    '''\n",
    "    print(\"Creating PR curve plot ...\")\n",
    "    # mean_rc = np.linspace(0, 1, 100)\n",
    "    interp_rc = np.linspace(0, 1, 100)\n",
    "\n",
    "    store_pr_interp = []\n",
    "    ax = plt.figure()\n",
    "\n",
    "    # plot line of random chance\n",
    "    if pos_prop:\n",
    "        plt.plot([0, 1], [pos_prop, pos_prop], linestyle='--', lw=4,\n",
    "                 color='r', label='Chance({:.3f})'.format(pos_prop), alpha=.8)\n",
    "\n",
    "    # plot each cv_iter\n",
    "    for cv_iter, pr_rc_avg in enumerate(zip(precisions, recalls, avg_prs)):\n",
    "\n",
    "        pr_array, rc_array, pr_avg = pr_rc_avg\n",
    "        # plt.plot(rc_array, pr_array, lw=1, color='k', alpha=0.4)\n",
    "        plt.step(rc_array, pr_array, lw=4, alpha=0.8, where='post', label=\"#{}(AvgPR={:.3f})\".format(cv_iter, pr_avg))\n",
    "\n",
    "        # interpolate recall to have the same length array for taking mean\n",
    "        lin_fx = interp1d(rc_array, pr_array, kind='linear')\n",
    "        interp_pr = lin_fx(interp_rc)\n",
    "        store_pr_interp.append(interp_pr)\n",
    "\n",
    "    # set_trace()\n",
    "\n",
    "    # plot mean and std only if more than one curve present\n",
    "    if len(precisions) != 1:\n",
    "        # mean and std\n",
    "        mean_pr = np.mean(store_pr_interp, axis=0)\n",
    "        mean_avg_pr = np.mean(avg_prs)\n",
    "        std_avg_pr = np.std(avg_prs)\n",
    "\n",
    "        # std of each pr-curve\n",
    "        std_pr = np.std(store_pr_interp, axis=0)\n",
    "        pr_upper = np.minimum(mean_pr + 2*std_pr, 1)\n",
    "        pr_lower = np.maximum(mean_pr - 2*std_pr, 0)\n",
    "        plt.fill_between(interp_rc, pr_lower, pr_upper, color='grey', alpha=.2,\n",
    "                         label=\"+/- 2 S.D.\")\n",
    "\n",
    "        plt.plot(interp_rc, mean_pr, color='b',\n",
    "                 label=\"Mean(AUC={:.2f}+/-{:.2f})\".format(mean_avg_pr, std_avg_pr), lw=2, alpha=0.8)\n",
    "\n",
    "    plt.ylim([0.0, 1.05])\n",
    "    plt.xlim([0.0, 1.0])\n",
    "    plt.xlabel('Recall')\n",
    "    plt.ylabel('Precision')\n",
    "    plt.title('PR Curve for {}:\\nPrediting PTB vs. non-PTB'.format(plt_prefix))\n",
    "    plt.legend(loc=\"lower right\")\n",
    "\n",
    "    if pr_fig_file:\n",
    "        plt.savefig(pr_fig_file)\n",
    "        print(\"\\tPR curve saved to:\\n\\t{}\".format(pr_fig_file))\n",
    "\n",
    "    return ax"
   ]
  },
  {
   "cell_type": "code",
   "execution_count": 112,
   "metadata": {
    "ExecuteTime": {
     "end_time": "2019-10-09T19:55:36.581137Z",
     "start_time": "2019-10-09T19:55:36.572669Z"
    },
    "code_folding": []
   },
   "outputs": [],
   "source": [
    "def autolabel(rects, ax, fprop=None):\n",
    "    \"\"\"Attach a text label above each bar in *rects*, displaying its height.\"\"\"\n",
    "    for rect in rects:\n",
    "        height = rect.get_height()\n",
    "        ax.annotate('{:.2}'.format(height),\n",
    "                    xy=(rect.get_x() + rect.get_width() / 2, height),\n",
    "                    xytext=(0, 3),  # 3 points vertical offset\n",
    "                    textcoords=\"offset points\",\n",
    "                    ha='center', va='bottom', fontproperties=fprop)"
   ]
  },
  {
   "cell_type": "markdown",
   "metadata": {
    "heading_collapsed": true
   },
   "source": [
    "## Load Data "
   ]
  },
  {
   "cell_type": "code",
   "execution_count": 9,
   "metadata": {
    "ExecuteTime": {
     "end_time": "2019-10-09T18:57:32.183371Z",
     "start_time": "2019-10-09T18:57:31.733888Z"
    },
    "hidden": true,
    "scrolled": true
   },
   "outputs": [],
   "source": [
    "dataset_dict = OrderedDict()\n",
    "for dlabel in ['age_race','obnotes','prs','unstruc' ,'bin_labs','clin_labs']: \n",
    "    \n",
    "    for flabel in ['all','icd_cpt', 'only']:\n",
    "\n",
    "        if dlabel == 'bin_labs':\n",
    "               \n",
    "            input_file = glob.glob(BIN_CLIN_DATA_DIR+'/*/input_data_vs_{}_{}*'.format(dlabel, flabel) )[0]\n",
    "            model_file = glob.glob(BIN_CLIN_DATA_DIR+'/*/best_xgb_model_vs_{}_{}*'.format(dlabel,flabel))[0]\n",
    "\n",
    "        elif dlabel == 'clin_labs': \n",
    "            input_file = glob.glob(CLIN_DATA_DIR+'/*/input_data_vs_{}_{}*'.format(dlabel, flabel) )[0]\n",
    "            model_file = glob.glob(CLIN_DATA_DIR+'/*/best_xgb_model_vs_{}_{}*'.format(dlabel,flabel))[0]\n",
    "\n",
    "        else: \n",
    "\n",
    "            input_file = glob.glob(ROOT_DATA_DIR+'/*/input_data_vs_{}__{}*'.format(dlabel,flabel))[0]\n",
    "            model_file = glob.glob(ROOT_DATA_DIR+'/*/best_xgb_model_vs_{}__{}*'.format(dlabel,flabel))[0]\n",
    "\n",
    "        dataset_dict['{}_{}'.format(dlabel,flabel)] =  {'input_file': input_file, 'model_file': model_file}\n"
   ]
  },
  {
   "cell_type": "code",
   "execution_count": 12,
   "metadata": {
    "ExecuteTime": {
     "end_time": "2019-10-09T18:59:15.307520Z",
     "start_time": "2019-10-09T18:59:15.301632Z"
    },
    "hidden": true
   },
   "outputs": [],
   "source": [
    "STORED_DATA_FILE = os.path.join(OUTPUT_DIR,'add_ehr_datasets_dict_with_labs.pickle')"
   ]
  },
  {
   "cell_type": "code",
   "execution_count": 13,
   "metadata": {
    "ExecuteTime": {
     "end_time": "2019-10-09T19:00:02.186148Z",
     "start_time": "2019-10-09T18:59:15.721300Z"
    },
    "hidden": true
   },
   "outputs": [
    {
     "name": "stdout",
     "output_type": "stream",
     "text": [
      "loading pickled file...\n"
     ]
    }
   ],
   "source": [
    "# load if the data already exists... \n",
    "\n",
    "if os.path.isfile(STORED_DATA_FILE):     \n",
    "    print(\"loading pickled file...\")\n",
    "    metrics_file = open(STORED_DATA_FILE, 'rb')\n",
    "    dataset_dict = pickle.load(metrics_file)\n",
    "else: \n",
    "    print(\"creating data...\")\n",
    "    store_results = {}\n",
    "    for label, inner_dict in dataset_dict.items(): \n",
    "\n",
    "        print(label)\n",
    "        X_test, y_test, xgb_model  = get_test_performance(inner_dict['input_file'], inner_dict['model_file'])\n",
    "        metrics_results, metrics_df, model_params = validate_best_model(xgb_model, X_test, y_test)\n",
    "\n",
    "        dataset_dict[label]['metrics_df'] = metrics_df\n",
    "        dataset_dict[label]['metrics_results'] = metrics_results\n",
    "        dataset_dict[label]['y_test'] = y_test\n",
    "        dataset_dict[label]['X_test'] = X_test"
   ]
  },
  {
   "cell_type": "code",
   "execution_count": 14,
   "metadata": {
    "ExecuteTime": {
     "end_time": "2019-10-09T19:00:02.198112Z",
     "start_time": "2019-10-09T19:00:02.190322Z"
    },
    "hidden": true
   },
   "outputs": [],
   "source": [
    "#  save stored dictionary\n",
    "if not os.path.isfile(STORED_DATA_FILE): \n",
    "    pickle.dump(dataset_dict, open(STORED_DATA_FILE, 'wb'))    \n",
    "    print(\"pickled model.\")"
   ]
  },
  {
   "cell_type": "markdown",
   "metadata": {
    "heading_collapsed": true
   },
   "source": [
    "## Create metrics dataframe"
   ]
  },
  {
   "cell_type": "code",
   "execution_count": 15,
   "metadata": {
    "ExecuteTime": {
     "end_time": "2019-10-09T19:00:02.327919Z",
     "start_time": "2019-10-09T19:00:02.200943Z"
    },
    "hidden": true
   },
   "outputs": [
    {
     "name": "stdout",
     "output_type": "stream",
     "text": [
      "age_race_all\n",
      "age_race_icd_cpt\n",
      "age_race_only\n",
      "obnotes_all\n",
      "obnotes_icd_cpt\n",
      "obnotes_only\n",
      "prs_all\n",
      "prs_icd_cpt\n",
      "prs_only\n",
      "unstruc_all\n",
      "unstruc_icd_cpt\n",
      "unstruc_only\n",
      "bin_labs_all\n",
      "bin_labs_icd_cpt\n",
      "bin_labs_only\n",
      "clin_labs_all\n",
      "clin_labs_icd_cpt\n",
      "clin_labs_only\n"
     ]
    }
   ],
   "source": [
    "# concat metrics_df \n",
    "all_metrics_df = pd.DataFrame()\n",
    "for label, inner_dict in dataset_dict.items(): \n",
    "    \n",
    "    print(label)\n",
    "    metrics_df = inner_dict['metrics_df']\n",
    "#     metrics_df['dataset'] = mod_labels[label]\n",
    "    metrics_df['dataset'] = label\n",
    "    all_metrics_df = all_metrics_df.append(metrics_df)"
   ]
  },
  {
   "cell_type": "code",
   "execution_count": 16,
   "metadata": {
    "ExecuteTime": {
     "end_time": "2019-10-09T19:00:02.359624Z",
     "start_time": "2019-10-09T19:00:02.332167Z"
    },
    "hidden": true
   },
   "outputs": [],
   "source": [
    "all_metrics_df.loc[all_metrics_df['dataset'].apply(lambda x: True if (x.find('all') > -1) else False), 'model'] = 'all'\n",
    "all_metrics_df.loc[all_metrics_df['dataset'].apply(lambda x: True if (x.find('only') > -1) else False), 'model'] = 'only'\n",
    "all_metrics_df.loc[all_metrics_df['dataset'].apply(lambda x: True if (x.find('icd_cpt') > -1) else False), 'model'] = 'baseline'\n",
    "\n",
    "\n",
    "all_metrics_df['data'] = all_metrics_df['dataset'].apply(lambda x: x.replace('_all','').replace('_icd_cpt','').replace('_only',''))"
   ]
  },
  {
   "cell_type": "code",
   "execution_count": 17,
   "metadata": {
    "ExecuteTime": {
     "end_time": "2019-10-09T19:00:02.421158Z",
     "start_time": "2019-10-09T19:00:02.363455Z"
    },
    "hidden": true
   },
   "outputs": [],
   "source": [
    "all_metrics_df['random_pr'] = (all_metrics_df.tp_count + all_metrics_df.fn_count)/all_metrics_df.total_count"
   ]
  },
  {
   "cell_type": "code",
   "execution_count": 18,
   "metadata": {
    "ExecuteTime": {
     "end_time": "2019-10-09T19:00:02.431986Z",
     "start_time": "2019-10-09T19:00:02.423866Z"
    },
    "hidden": true
   },
   "outputs": [],
   "source": [
    "# new lables \n",
    "mod_labels = {'age_race_all':'ICD+CPT+age_race', 'age_race_icd_cpt':'ICD+CPT', 'age_race_only':'age_race',\n",
    "              'obnotes_all':'ICD+CPT+obnotes', 'obnotes_icd_cpt':'ICD+CPT', 'obnotes_only':'obnotes',\n",
    "              'prs_all':'ICD+CPT+prs', 'prs_icd_cpt':'ICD+CPT', 'prs_only':'prs',\n",
    "              'unstruc_all':'ICD+CPT+unstruc', 'unstruc_icd_cpt':'ICD+CPT', 'unstruc_only':'unstruc',\n",
    "              'bin_labs_all':'ICD+CPT+binary_labs', 'bin_labs_icd_cpt':'ICD+CPT', 'bin_labs_only':'binary_labs',\n",
    "              'clin_labs_all':'ICD+CPT+labs', 'clin_labs_icd_cpt':'ICD+CPT', 'clin_labs_only':'labs'\n",
    "             }"
   ]
  },
  {
   "cell_type": "markdown",
   "metadata": {},
   "source": [
    "## AUC Barplots"
   ]
  },
  {
   "cell_type": "code",
   "execution_count": 148,
   "metadata": {
    "ExecuteTime": {
     "end_time": "2019-10-09T20:02:01.246817Z",
     "start_time": "2019-10-09T20:02:01.211265Z"
    }
   },
   "outputs": [
    {
     "data": {
      "text/html": [
       "<div>\n",
       "<style scoped>\n",
       "    .dataframe tbody tr th:only-of-type {\n",
       "        vertical-align: middle;\n",
       "    }\n",
       "\n",
       "    .dataframe tbody tr th {\n",
       "        vertical-align: top;\n",
       "    }\n",
       "\n",
       "    .dataframe thead th {\n",
       "        text-align: right;\n",
       "    }\n",
       "</style>\n",
       "<table border=\"1\" class=\"dataframe\">\n",
       "  <thead>\n",
       "    <tr style=\"text-align: right;\">\n",
       "      <th></th>\n",
       "      <th>precision</th>\n",
       "      <th>recall</th>\n",
       "      <th>f1</th>\n",
       "      <th>roc_auc</th>\n",
       "      <th>avg_pr</th>\n",
       "      <th>tn_count</th>\n",
       "      <th>fp_count</th>\n",
       "      <th>fn_count</th>\n",
       "      <th>tp_count</th>\n",
       "      <th>brier_score</th>\n",
       "      <th>total_count</th>\n",
       "      <th>dataset</th>\n",
       "      <th>model</th>\n",
       "      <th>data</th>\n",
       "      <th>random_pr</th>\n",
       "    </tr>\n",
       "  </thead>\n",
       "  <tbody>\n",
       "    <tr>\n",
       "      <th>0</th>\n",
       "      <td>0.753876</td>\n",
       "      <td>0.804273</td>\n",
       "      <td>0.778259</td>\n",
       "      <td>0.947556</td>\n",
       "      <td>0.863059</td>\n",
       "      <td>4882</td>\n",
       "      <td>381</td>\n",
       "      <td>284</td>\n",
       "      <td>1167</td>\n",
       "      <td>0.073213</td>\n",
       "      <td>6714</td>\n",
       "      <td>age_race_all</td>\n",
       "      <td>all</td>\n",
       "      <td>age_race</td>\n",
       "      <td>0.216116</td>\n",
       "    </tr>\n",
       "    <tr>\n",
       "      <th>0</th>\n",
       "      <td>0.756270</td>\n",
       "      <td>0.810476</td>\n",
       "      <td>0.782435</td>\n",
       "      <td>0.949259</td>\n",
       "      <td>0.867206</td>\n",
       "      <td>4884</td>\n",
       "      <td>379</td>\n",
       "      <td>275</td>\n",
       "      <td>1176</td>\n",
       "      <td>0.072467</td>\n",
       "      <td>6714</td>\n",
       "      <td>age_race_icd_cpt</td>\n",
       "      <td>baseline</td>\n",
       "      <td>age_race</td>\n",
       "      <td>0.216116</td>\n",
       "    </tr>\n",
       "    <tr>\n",
       "      <th>0</th>\n",
       "      <td>0.254864</td>\n",
       "      <td>0.451413</td>\n",
       "      <td>0.325790</td>\n",
       "      <td>0.567973</td>\n",
       "      <td>0.255310</td>\n",
       "      <td>3348</td>\n",
       "      <td>1915</td>\n",
       "      <td>796</td>\n",
       "      <td>655</td>\n",
       "      <td>0.247490</td>\n",
       "      <td>6714</td>\n",
       "      <td>age_race_only</td>\n",
       "      <td>only</td>\n",
       "      <td>age_race</td>\n",
       "      <td>0.216116</td>\n",
       "    </tr>\n",
       "    <tr>\n",
       "      <th>0</th>\n",
       "      <td>0.542254</td>\n",
       "      <td>0.836957</td>\n",
       "      <td>0.658120</td>\n",
       "      <td>0.923297</td>\n",
       "      <td>0.791065</td>\n",
       "      <td>385</td>\n",
       "      <td>65</td>\n",
       "      <td>15</td>\n",
       "      <td>77</td>\n",
       "      <td>0.111939</td>\n",
       "      <td>542</td>\n",
       "      <td>obnotes_all</td>\n",
       "      <td>all</td>\n",
       "      <td>obnotes</td>\n",
       "      <td>0.169742</td>\n",
       "    </tr>\n",
       "    <tr>\n",
       "      <th>0</th>\n",
       "      <td>0.635514</td>\n",
       "      <td>0.739130</td>\n",
       "      <td>0.683417</td>\n",
       "      <td>0.915411</td>\n",
       "      <td>0.781074</td>\n",
       "      <td>411</td>\n",
       "      <td>39</td>\n",
       "      <td>24</td>\n",
       "      <td>68</td>\n",
       "      <td>0.078857</td>\n",
       "      <td>542</td>\n",
       "      <td>obnotes_icd_cpt</td>\n",
       "      <td>baseline</td>\n",
       "      <td>obnotes</td>\n",
       "      <td>0.169742</td>\n",
       "    </tr>\n",
       "  </tbody>\n",
       "</table>\n",
       "</div>"
      ],
      "text/plain": [
       "   precision    recall        f1   roc_auc    avg_pr  tn_count  fp_count  \\\n",
       "0   0.753876  0.804273  0.778259  0.947556  0.863059      4882       381   \n",
       "0   0.756270  0.810476  0.782435  0.949259  0.867206      4884       379   \n",
       "0   0.254864  0.451413  0.325790  0.567973  0.255310      3348      1915   \n",
       "0   0.542254  0.836957  0.658120  0.923297  0.791065       385        65   \n",
       "0   0.635514  0.739130  0.683417  0.915411  0.781074       411        39   \n",
       "\n",
       "   fn_count  tp_count  brier_score  total_count           dataset     model  \\\n",
       "0       284      1167     0.073213         6714      age_race_all       all   \n",
       "0       275      1176     0.072467         6714  age_race_icd_cpt  baseline   \n",
       "0       796       655     0.247490         6714     age_race_only      only   \n",
       "0        15        77     0.111939          542       obnotes_all       all   \n",
       "0        24        68     0.078857          542   obnotes_icd_cpt  baseline   \n",
       "\n",
       "       data  random_pr  \n",
       "0  age_race   0.216116  \n",
       "0  age_race   0.216116  \n",
       "0  age_race   0.216116  \n",
       "0   obnotes   0.169742  \n",
       "0   obnotes   0.169742  "
      ]
     },
     "execution_count": 148,
     "metadata": {},
     "output_type": "execute_result"
    }
   ],
   "source": [
    "all_metrics_df.head()\n",
    "rand_pr_dict = dict(zip(all_metrics_df.dataset, all_metrics_df.random_pr))"
   ]
  },
  {
   "cell_type": "code",
   "execution_count": 149,
   "metadata": {
    "ExecuteTime": {
     "end_time": "2019-10-09T20:02:05.528387Z",
     "start_time": "2019-10-09T20:02:01.383150Z"
    }
   },
   "outputs": [],
   "source": [
    "# melt dataframe\n",
    "raw_melted_metrics_df = pd.melt(all_metrics_df, id_vars=['model', 'data','dataset'], value_vars=['roc_auc','avg_pr'] )\n",
    "raw_melted_metrics_df.variable = raw_melted_metrics_df.variable.str.upper()\n"
   ]
  },
  {
   "cell_type": "code",
   "execution_count": 150,
   "metadata": {
    "ExecuteTime": {
     "end_time": "2019-10-09T20:02:07.400092Z",
     "start_time": "2019-10-09T20:02:05.532974Z"
    }
   },
   "outputs": [],
   "source": [
    "raw_melted_metrics_df.loc[raw_melted_metrics_df['variable'] == 'ROC_AUC', 'variable'] = 'ROC AUC'\n",
    "raw_melted_metrics_df.loc[raw_melted_metrics_df['variable'] == 'AVG_PR', 'variable'] = 'PR AUC'"
   ]
  },
  {
   "cell_type": "code",
   "execution_count": 151,
   "metadata": {
    "ExecuteTime": {
     "end_time": "2019-10-09T20:02:09.186599Z",
     "start_time": "2019-10-09T20:02:07.405198Z"
    }
   },
   "outputs": [],
   "source": [
    "melted_metrics_df = raw_melted_metrics_df.loc[raw_melted_metrics_df['data']!='bin_labs'].copy()"
   ]
  },
  {
   "cell_type": "code",
   "execution_count": 152,
   "metadata": {
    "ExecuteTime": {
     "end_time": "2019-10-09T20:02:12.903099Z",
     "start_time": "2019-10-09T20:02:09.194869Z"
    }
   },
   "outputs": [],
   "source": [
    "# udpate random expected value \n",
    "random_df = melted_metrics_df.copy()\n",
    "random_df.loc[random_df['variable']=='ROC_AUC', 'value'] = 0.50 \n",
    "random_df.loc[random_df['variable']=='AVG_PR', 'value'] = random_df.loc[random_df['variable']=='AVG_PR', 'dataset'].map(rand_pr_dict)"
   ]
  },
  {
   "cell_type": "code",
   "execution_count": 153,
   "metadata": {
    "ExecuteTime": {
     "end_time": "2019-10-09T20:02:17.629246Z",
     "start_time": "2019-10-09T20:02:12.908108Z"
    }
   },
   "outputs": [],
   "source": [
    "# set up fonts\n",
    "fpath='/dors/capra_lab/users/abraha1/conda/envs/py36_r_ml/lib/python3.6/site-packages/matplotlib/mpl-data/fonts/ttf/Arial.ttf'\n",
    "prop = fm.FontProperties(fname=fpath, size=16)"
   ]
  },
  {
   "cell_type": "code",
   "execution_count": 154,
   "metadata": {
    "ExecuteTime": {
     "end_time": "2019-10-09T20:02:18.771236Z",
     "start_time": "2019-10-09T20:02:17.632629Z"
    }
   },
   "outputs": [],
   "source": [
    "# change model names \n",
    "model_names = {'all':'Both', 'baseline':'ICD&CPT', 'only':'EHR feature'}\n",
    "melted_metrics_df['model'] = melted_metrics_df.model.map(model_names)\n",
    "\n",
    "# change EHR feature names \n",
    "feat_names = {'age_race':'Age&Race', 'obnotes':'Clinical history', 'prs':'Genetic risk', 'unstruc':'Clinical keywords', 'clin_labs':'Clinical labs'}\n"
   ]
  },
  {
   "cell_type": "code",
   "execution_count": 184,
   "metadata": {
    "ExecuteTime": {
     "end_time": "2019-10-09T20:13:03.765833Z",
     "start_time": "2019-10-09T20:13:03.759841Z"
    }
   },
   "outputs": [
    {
     "data": {
      "text/html": [
       "['age_race', 'obnotes', 'prs', 'unstruc', 'clin_labs']"
      ],
      "text/plain": [
       "['age_race', 'obnotes', 'prs', 'unstruc', 'clin_labs']"
      ]
     },
     "execution_count": 184,
     "metadata": {},
     "output_type": "execute_result"
    }
   ],
   "source": [
    "ehr_feature_labels"
   ]
  },
  {
   "cell_type": "code",
   "execution_count": 202,
   "metadata": {
    "ExecuteTime": {
     "end_time": "2019-10-09T20:40:25.495727Z",
     "start_time": "2019-10-09T20:40:25.486287Z"
    }
   },
   "outputs": [],
   "source": [
    "# specify plt positions\n",
    "bottom = 0.05\n",
    "height = 0.9\n",
    "width = 0.15  # * 4 = 0.6 - minus the 0.1 padding 0.3 left for space\n",
    "left1, left2, left3, left4, left5 = 0.05, 0.25, 1 - 0.25 - width, 1 - 0.05 - width, 1 - 0.05 - width\n",
    "\n",
    "\n",
    "rectangle1 = [left1, bottom, width, height]\n",
    "rectangle2 = [left2, bottom, width, height]\n",
    "rectangle3 = [left3, bottom, width, height]\n",
    "rectangle4 = [left4, bottom, width, height]\n",
    "rectangle5 = [left5, bottom, width, height]"
   ]
  },
  {
   "cell_type": "code",
   "execution_count": 204,
   "metadata": {
    "ExecuteTime": {
     "end_time": "2019-10-09T20:41:12.455092Z",
     "start_time": "2019-10-09T20:41:09.892634Z"
    }
   },
   "outputs": [
    {
     "data": {
      "text/plain": [
       "<matplotlib.axes._axes.Axes at 0x2b5d37cd23c8>"
      ]
     },
     "execution_count": 204,
     "metadata": {},
     "output_type": "execute_result"
    },
    {
     "name": "stderr",
     "output_type": "stream",
     "text": [
      "/dors/capra_lab/users/abraha1/conda/envs/py36_r_ml/lib/python3.6/site-packages/matplotlib/figure.py:98: MatplotlibDeprecationWarning: \n",
      "Adding an axes using the same arguments as a previous axes currently reuses the earlier instance.  In a future version, a new instance will always be created and returned.  Meanwhile, this warning can be suppressed, and the future behavior ensured, by passing a unique label to each axes instance.\n",
      "  \"Adding an axes using the same arguments as a previous axes \"\n"
     ]
    },
    {
     "data": {
      "text/plain": [
       "<matplotlib.axes._axes.Axes at 0x2b5d37cd23c8>"
      ]
     },
     "execution_count": 204,
     "metadata": {},
     "output_type": "execute_result"
    },
    {
     "name": "stderr",
     "output_type": "stream",
     "text": [
      "/dors/capra_lab/users/abraha1/conda/envs/py36_r_ml/lib/python3.6/site-packages/matplotlib/figure.py:98: MatplotlibDeprecationWarning: \n",
      "Adding an axes using the same arguments as a previous axes currently reuses the earlier instance.  In a future version, a new instance will always be created and returned.  Meanwhile, this warning can be suppressed, and the future behavior ensured, by passing a unique label to each axes instance.\n",
      "  \"Adding an axes using the same arguments as a previous axes \"\n"
     ]
    },
    {
     "data": {
      "text/plain": [
       "<matplotlib.axes._axes.Axes at 0x2b5d37cd23c8>"
      ]
     },
     "execution_count": 204,
     "metadata": {},
     "output_type": "execute_result"
    },
    {
     "name": "stderr",
     "output_type": "stream",
     "text": [
      "/dors/capra_lab/users/abraha1/conda/envs/py36_r_ml/lib/python3.6/site-packages/matplotlib/figure.py:98: MatplotlibDeprecationWarning: \n",
      "Adding an axes using the same arguments as a previous axes currently reuses the earlier instance.  In a future version, a new instance will always be created and returned.  Meanwhile, this warning can be suppressed, and the future behavior ensured, by passing a unique label to each axes instance.\n",
      "  \"Adding an axes using the same arguments as a previous axes \"\n"
     ]
    },
    {
     "data": {
      "text/plain": [
       "<matplotlib.axes._axes.Axes at 0x2b5d37cd23c8>"
      ]
     },
     "execution_count": 204,
     "metadata": {},
     "output_type": "execute_result"
    },
    {
     "name": "stderr",
     "output_type": "stream",
     "text": [
      "/dors/capra_lab/users/abraha1/conda/envs/py36_r_ml/lib/python3.6/site-packages/matplotlib/figure.py:98: MatplotlibDeprecationWarning: \n",
      "Adding an axes using the same arguments as a previous axes currently reuses the earlier instance.  In a future version, a new instance will always be created and returned.  Meanwhile, this warning can be suppressed, and the future behavior ensured, by passing a unique label to each axes instance.\n",
      "  \"Adding an axes using the same arguments as a previous axes \"\n"
     ]
    },
    {
     "data": {
      "text/plain": [
       "<matplotlib.axes._axes.Axes at 0x2b5d37cd23c8>"
      ]
     },
     "execution_count": 204,
     "metadata": {},
     "output_type": "execute_result"
    },
    {
     "name": "stderr",
     "output_type": "stream",
     "text": [
      "/dors/capra_lab/users/abraha1/conda/envs/py36_r_ml/lib/python3.6/site-packages/matplotlib/figure.py:98: MatplotlibDeprecationWarning: \n",
      "Adding an axes using the same arguments as a previous axes currently reuses the earlier instance.  In a future version, a new instance will always be created and returned.  Meanwhile, this warning can be suppressed, and the future behavior ensured, by passing a unique label to each axes instance.\n",
      "  \"Adding an axes using the same arguments as a previous axes \"\n"
     ]
    },
    {
     "data": {
      "text/plain": [
       "<matplotlib.axes._axes.Axes at 0x2b5d37cd23c8>"
      ]
     },
     "execution_count": 204,
     "metadata": {},
     "output_type": "execute_result"
    },
    {
     "name": "stderr",
     "output_type": "stream",
     "text": [
      "/dors/capra_lab/users/abraha1/conda/envs/py36_r_ml/lib/python3.6/site-packages/matplotlib/figure.py:98: MatplotlibDeprecationWarning: \n",
      "Adding an axes using the same arguments as a previous axes currently reuses the earlier instance.  In a future version, a new instance will always be created and returned.  Meanwhile, this warning can be suppressed, and the future behavior ensured, by passing a unique label to each axes instance.\n",
      "  \"Adding an axes using the same arguments as a previous axes \"\n"
     ]
    },
    {
     "data": {
      "text/plain": [
       "<matplotlib.axes._axes.Axes at 0x2b5d37cd23c8>"
      ]
     },
     "execution_count": 204,
     "metadata": {},
     "output_type": "execute_result"
    },
    {
     "name": "stderr",
     "output_type": "stream",
     "text": [
      "/dors/capra_lab/users/abraha1/conda/envs/py36_r_ml/lib/python3.6/site-packages/matplotlib/figure.py:98: MatplotlibDeprecationWarning: \n",
      "Adding an axes using the same arguments as a previous axes currently reuses the earlier instance.  In a future version, a new instance will always be created and returned.  Meanwhile, this warning can be suppressed, and the future behavior ensured, by passing a unique label to each axes instance.\n",
      "  \"Adding an axes using the same arguments as a previous axes \"\n"
     ]
    },
    {
     "data": {
      "text/plain": [
       "<matplotlib.axes._axes.Axes at 0x2b5d37cd23c8>"
      ]
     },
     "execution_count": 204,
     "metadata": {},
     "output_type": "execute_result"
    },
    {
     "name": "stderr",
     "output_type": "stream",
     "text": [
      "/dors/capra_lab/users/abraha1/conda/envs/py36_r_ml/lib/python3.6/site-packages/matplotlib/figure.py:98: MatplotlibDeprecationWarning: \n",
      "Adding an axes using the same arguments as a previous axes currently reuses the earlier instance.  In a future version, a new instance will always be created and returned.  Meanwhile, this warning can be suppressed, and the future behavior ensured, by passing a unique label to each axes instance.\n",
      "  \"Adding an axes using the same arguments as a previous axes \"\n"
     ]
    },
    {
     "data": {
      "text/plain": [
       "<matplotlib.axes._axes.Axes at 0x2b5d37cd23c8>"
      ]
     },
     "execution_count": 204,
     "metadata": {},
     "output_type": "execute_result"
    },
    {
     "name": "stderr",
     "output_type": "stream",
     "text": [
      "/dors/capra_lab/users/abraha1/conda/envs/py36_r_ml/lib/python3.6/site-packages/matplotlib/figure.py:98: MatplotlibDeprecationWarning: \n",
      "Adding an axes using the same arguments as a previous axes currently reuses the earlier instance.  In a future version, a new instance will always be created and returned.  Meanwhile, this warning can be suppressed, and the future behavior ensured, by passing a unique label to each axes instance.\n",
      "  \"Adding an axes using the same arguments as a previous axes \"\n"
     ]
    },
    {
     "data": {
      "text/plain": [
       "<matplotlib.axes._axes.Axes at 0x2b5d37cd23c8>"
      ]
     },
     "execution_count": 204,
     "metadata": {},
     "output_type": "execute_result"
    },
    {
     "name": "stderr",
     "output_type": "stream",
     "text": [
      "/dors/capra_lab/users/abraha1/conda/envs/py36_r_ml/lib/python3.6/site-packages/matplotlib/figure.py:2366: UserWarning: This figure includes Axes that are not compatible with tight_layout, so results might be incorrect.\n",
      "  warnings.warn(\"This figure includes Axes that are not compatible \"\n"
     ]
    },
    {
     "data": {
      "image/png": "[encoded data removed]",
      "text/plain": [
       "<Figure size 1080x432 with 11 Axes>"
      ]
     },
     "metadata": {},
     "output_type": "display_data"
    }
   ],
   "source": [
    "# set_style()\n",
    "metric_type = melted_metrics_df.variable.unique().tolist()\n",
    "ehr_feature_labels = ['age_race', 'obnotes',  'unstruc', 'clin_labs', 'prs',]\n",
    "\n",
    "# order and position of bars\n",
    "x_model_labels =  ['EHR feature','ICD&CPT','Both']\n",
    "x_coords = [0, 0.75, 1.5]\n",
    "\n",
    "# the width of the bars\n",
    "width = 0.55  \n",
    "\n",
    "fig, axs = plt.subplots(nrows=2, ncols=5, figsize=(3*5,6), sharex=False, sharey=True)\n",
    "\n",
    "\n",
    "\n",
    "for row in range(len(metric_type)): \n",
    "    for col in range(len(ehr_feature_labels)):\n",
    "\n",
    "        col_name = ehr_feature_labels[col]\n",
    "\n",
    "        \n",
    "        models = melted_metrics_df.loc[  (melted_metrics_df['variable'] == metric_type[row]) & (melted_metrics_df['data'] == ehr_feature_labels[col])].copy()\n",
    "        \n",
    "        # get y_values\n",
    "        y_vals = []\n",
    "        for this_model in x_model_labels: \n",
    "            y_vals.append(models.loc[models['model']==this_model, 'value'].values.tolist()[0])\n",
    "\n",
    "        this_ax = axs[row, col]\n",
    "#         plt.axes(rectangle1)\n",
    "        \n",
    "        # format \n",
    "        this_ax.grid(False)\n",
    "        this_ax.spines['right'].set_visible(False)\n",
    "        this_ax.spines['top'].set_visible(False)\n",
    "        \n",
    "        # draw bars\n",
    "        rects1 = this_ax.bar(x_coords, y_vals, width)\n",
    "        rects2 = this_ax.bar(x_coords[0], y_vals[0], width, color='#7570b3')\n",
    "        _ = this_ax.set_ylim(0,1)\n",
    "\n",
    "        # add y-labels \n",
    "        autolabel(rects1, this_ax, prop)\n",
    "\n",
    "        if row == 1:\n",
    "            _ = this_ax.set_xticks(x_coords)\n",
    "            _ = this_ax.set_xticklabels([feat_names[col_name] if x == 'EHR feature' else x for x in x_model_labels], fontproperties=prop, rotation = 315, ha=\"left\")\n",
    "            _ = this_ax.axhline(y=rand_pr_dict[col_name+\"_all\"], color='black', ls='--', lw=0.8)\n",
    "        else: \n",
    "            _ = this_ax.axhline(y=0.5, color='black', ls='--', lw=0.8)\n",
    "            _ = this_ax.set_xticklabels([''])\n",
    "            _ = this_ax.tick_params(axis='x', which='major', length=0)\n",
    "            \n",
    "        \n",
    "        if col == 0: \n",
    "            _ = this_ax.set_ylabel(metric_type[row], labelpad=18, fontproperties=prop)\n",
    "            _ = this_ax.set_yticks(np.arange(0,1.25,0.25))\n",
    "            _ = this_ax.set_yticklabels(['%.2f' % x if x != 0 else '0' for x in np.arange(0,1.25,0.25).tolist()], fontproperties=prop)\n",
    "            _ = this_ax.tick_params(axis='y', direction='out', left=True)\n",
    "            \n",
    "fig.tight_layout(h_pad=3, w_pad=2)\n",
    "\n",
    "plt.savefig(os.path.join(OUTPUT_DIR, '{}_add_ehr_barplot.pdf'.format(DATE)))"
   ]
  },
  {
   "cell_type": "markdown",
   "metadata": {},
   "source": [
    "Make nicer plot for manuscript"
   ]
  },
  {
   "cell_type": "code",
   "execution_count": 186,
   "metadata": {
    "ExecuteTime": {
     "end_time": "2019-10-09T20:14:39.923706Z",
     "start_time": "2019-10-09T20:14:39.916172Z"
    }
   },
   "outputs": [],
   "source": [
    "def set_style():\n",
    "    # This sets reasonable defaults for font size for\n",
    "    # a figure that will go in a paper\n",
    "    sns.set_context(\"paper\")\n",
    "    \n",
    "    # Set the font to be serif, rather than sans\n",
    "    sns.set(font='serif')\n",
    "    \n",
    "    # Make the background white, and specify the\n",
    "    # specific font family\n",
    "    sns.set_style(\"white\", {\n",
    "        \"font.family\": \"serif\",\n",
    "        \"font.serif\": [\"Times\", \"Palatino\", \"serif\"]\n",
    "    })"
   ]
  },
  {
   "cell_type": "code",
   "execution_count": 73,
   "metadata": {
    "ExecuteTime": {
     "end_time": "2019-10-09T19:43:51.093642Z",
     "start_time": "2019-10-09T19:43:51.085858Z"
    }
   },
   "outputs": [
    {
     "data": {
      "text/html": [
       "['Clinical labs', 'ICD&CPT', 'Both']"
      ],
      "text/plain": [
       "['Clinical labs', 'ICD&CPT', 'Both']"
      ]
     },
     "execution_count": 73,
     "metadata": {},
     "output_type": "execute_result"
    }
   ],
   "source": []
  },
  {
   "cell_type": "code",
   "execution_count": null,
   "metadata": {},
   "outputs": [],
   "source": []
  }
 ],
 "metadata": {
  "kernelspec": {
   "display_name": "Python 3",
   "language": "python",
   "name": "python3"
  },
  "language_info": {
   "codemirror_mode": {
    "name": "ipython",
    "version": 3
   },
   "file_extension": ".py",
   "mimetype": "text/x-python",
   "name": "python",
   "nbconvert_exporter": "python",
   "pygments_lexer": "ipython3",
   "version": "3.6.7"
  },
  "notify_time": "5",
  "toc": {
   "base_numbering": 1,
   "nav_menu": {},
   "number_sections": true,
   "sideBar": false,
   "skip_h1_title": true,
   "title_cell": "Table of Contents",
   "title_sidebar": "Contents",
   "toc_cell": false,
   "toc_position": {
    "height": "202.021px",
    "left": "1900px",
    "top": "83.3333px",
    "width": "353.938px"
   },
   "toc_section_display": false,
   "toc_window_display": false
  }
 },
 "nbformat": 4,
 "nbformat_minor": 2
}
