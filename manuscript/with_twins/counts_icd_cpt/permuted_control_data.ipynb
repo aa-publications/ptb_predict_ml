{
 "cells": [
  {
   "cell_type": "code",
   "execution_count": 58,
   "metadata": {
    "ExecuteTime": {
     "end_time": "2019-11-19T22:01:25.705588Z",
     "start_time": "2019-11-19T22:01:25.688901Z"
    }
   },
   "outputs": [
    {
     "data": {
      "text/html": [
       "<style>.container {width:98% !important; }</style>"
      ],
      "text/plain": [
       "<IPython.core.display.HTML object>"
      ]
     },
     "metadata": {},
     "output_type": "display_data"
    }
   ],
   "source": [
    "import os, sys\n",
    "import numpy as np\n",
    "import pandas as pd \n",
    "import seaborn as sns\n",
    "import matplotlib.pyplot as plt \n",
    "import glob \n",
    "import pickle \n",
    "\n",
    "\n",
    "from datetime import datetime\n",
    "from IPython.core.interactiveshell import InteractiveShell\n",
    "InteractiveShell.ast_node_interactivity = \"all\" \n",
    "from IPython.core.display import display, HTML    \n",
    "display(HTML(\"<style>.container {width:98% !important; }</style>\"))\n",
    "%matplotlib inline\n",
    "np.set_printoptions(precision=5, suppress=True) \n",
    "\n",
    "DATE = datetime.now().strftime('%Y-%m-%d')"
   ]
  },
  {
   "cell_type": "code",
   "execution_count": 189,
   "metadata": {
    "ExecuteTime": {
     "end_time": "2019-11-20T00:08:12.507136Z",
     "start_time": "2019-11-20T00:08:12.502185Z"
    }
   },
   "outputs": [],
   "source": [
    "import xgboost as xgb"
   ]
  },
  {
   "cell_type": "code",
   "execution_count": 180,
   "metadata": {
    "ExecuteTime": {
     "end_time": "2019-11-19T23:58:47.346816Z",
     "start_time": "2019-11-19T23:58:45.619360Z"
    }
   },
   "outputs": [],
   "source": [
    "sys.path.append(\"/dors/capra_lab/users/abraha1/projects/PTB_phenotyping/scripts/rand_forest_ptb_classification/manuscript/0_helper_func\")\n",
    "from manip_trained_models_funcs import unpack_input_data, upickle_xgbmodel, extract_train_df\n",
    "\n",
    "sys.path.append('/dors/capra_lab/users/abraha1/projects/PTB_phenotyping/scripts/rand_forest_ptb_classification')\n",
    "from hyperparam_tune import initialize, validate_best_model, create_held_out"
   ]
  },
  {
   "cell_type": "code",
   "execution_count": 134,
   "metadata": {
    "ExecuteTime": {
     "end_time": "2019-11-19T23:21:45.647053Z",
     "start_time": "2019-11-19T23:21:45.640230Z"
    }
   },
   "outputs": [],
   "source": [
    "# PATHS\n",
    "ROOT_DATA_DIR = \"/dors/capra_lab/users/abraha1/projects/PTB_phenotyping/results/ptb_predict_machine_learning/2019-01-16_xgboost_hyperopt_icd_cpt_raw_counts\" \n",
    "OUTPUT_DIR = \"/dors/capra_lab/users/abraha1/projects/PTB_phenotyping/data/ptb_predict_machine_learning/feature_matrices/rand_matrix\"\n",
    "icd_input = os.path.join(ROOT_DATA_DIR, 'input_data', 'input_data_all_icd9_count_subset-2019-01-25.tsv')\n",
    "icd_model = os.path.join(ROOT_DATA_DIR, 'best_model','best_xgb_model_all_icd9_count_subset-2019-01-25.pickle')"
   ]
  },
  {
   "cell_type": "markdown",
   "metadata": {},
   "source": [
    "# functions"
   ]
  },
  {
   "cell_type": "code",
   "execution_count": 98,
   "metadata": {
    "ExecuteTime": {
     "end_time": "2019-11-19T22:31:26.165459Z",
     "start_time": "2019-11-19T22:31:26.136972Z"
    },
    "code_folding": [
     0
    ]
   },
   "outputs": [],
   "source": [
    "def strat_rand_sample(X_input, y_input, n_samples=100, seed=0): \n",
    "    # DEPRECATED~\n",
    "    \n",
    "    \"\"\" \n",
    "    Randomly sample input data\n",
    "\n",
    "    Assume X_input is a dataframe. GRID x Features; y_input is a vector of labels corresponding to GRIDS. \n",
    "    Returns a new dataframe with n_samples of rows randomly sampled while maintaining equal proportion of label classes. \n",
    "\n",
    "    \"\"\"    \n",
    "    # get propotion of labels \n",
    "    yvals, ycounts =  np.unique(y_input, return_counts=True)\n",
    "    \n",
    "    ylabel_maj = y[0] if (ycounts[0] > ycounts[1]) else y[1]\n",
    "    ylabel_min = y[1] if (ycounts[0] > ycounts[1]) else y[0]\n",
    "    \n",
    "    yratio = ycounts[1]/ycounts[0]\n",
    "    assert yratio < 1, 'ratio is more than 1'\n",
    "    \n",
    "    # determine number of labels to draw\n",
    "    n_minority = int(np.round(n_samples*yratio))\n",
    "    n_majority = n_samples - n_minority\n",
    "    \n",
    "    # randomly draw required number for each label class\n",
    "    X_copy = X_input.copy()\n",
    "    X_copy['y_label'] = y_input\n",
    "    \n",
    "    Xymaj_df= X_copy.loc[X_copy['y_label']==ylabel_maj,:].copy()\n",
    "    Xymin_df= X_copy.loc[X_copy['y_label']==ylabel_min,:].copy()\n",
    "  \n",
    "    sampled_Xmaj = Xymaj_df.sample(n=n_majority, random_state=seed).copy()\n",
    "    sampled_Xmin = Xymin_df.sample(n=n_minority, random_state=seed).copy()\n",
    "    \n",
    "    sampled_df = pd.concat([sampled_Xmaj, sampled_Xmin], axis=0)\n",
    "    \n",
    "    \n",
    "    return sampled_df "
   ]
  },
  {
   "cell_type": "code",
   "execution_count": 129,
   "metadata": {
    "ExecuteTime": {
     "end_time": "2019-11-19T23:15:29.913423Z",
     "start_time": "2019-11-19T23:15:29.902616Z"
    },
    "code_folding": [
     0
    ]
   },
   "outputs": [],
   "source": [
    "def create_rand_data(X_train, y_train, n_samples=1000, seed=0):\n",
    "    \n",
    "    \n",
    "    np.random.seed(seed)\n",
    "    # create a feature matrix with n_samples (rows) by features (equal to the number of features in X_train)\n",
    "    X_rand = np.random.randint(0,np.max(np.max(X_train)), size=(n_samples, X_train.shape[1]))\n",
    "    \n",
    "    n_pos= int(np.round(n_samples*np.sum(y_train)/len(y_train)))\n",
    "    \n",
    "    # create random y_labels in equal proportion as the training data \n",
    "    y_vals = np.concatenate( (  np.tile(np.array([1]),n_pos),\n",
    "                                np.tile(np.array([0]),n_samples-n_pos)))\n",
    "    \n",
    "    np.random.shuffle(y_vals) # shuffle in place \n",
    "    \n",
    "    return X_rand, y_vals    "
   ]
  },
  {
   "cell_type": "markdown",
   "metadata": {},
   "source": [
    "\n",
    "# main: make random data\n"
   ]
  },
  {
   "cell_type": "code",
   "execution_count": 38,
   "metadata": {
    "ExecuteTime": {
     "end_time": "2019-11-19T21:19:44.303337Z",
     "start_time": "2019-11-19T21:17:05.074555Z"
    },
    "collapsed": true
   },
   "outputs": [
    {
     "name": "stdout",
     "output_type": "stream",
     "text": [
      "loading input_data_all_icd9_count_subset-2019-01-25.tsv ...\n",
      "loading best_xgb_model_all_icd9_count_subset-2019-01-25.pickle ...\n",
      "done loading. took 2.65 minutes\n"
     ]
    },
    {
     "name": "stderr",
     "output_type": "stream",
     "text": [
      "/dors/capra_lab/users/abraha1/conda/envs/py36_r_ml/lib/python3.6/site-packages/sklearn/base.py:251: UserWarning: Trying to unpickle estimator LabelEncoder from version 0.20.1 when using version 0.20.2. This might lead to breaking code or invalid results. Use at your own risk.\n",
      "  UserWarning)\n"
     ]
    }
   ],
   "source": [
    "X_train, y_train, X_test, y_test, xgb_model, this_input_data = unpack_input_data(icd_input, icd_model)"
   ]
  },
  {
   "cell_type": "code",
   "execution_count": 130,
   "metadata": {
    "ExecuteTime": {
     "end_time": "2019-11-19T23:15:58.790645Z",
     "start_time": "2019-11-19T23:15:49.612882Z"
    }
   },
   "outputs": [],
   "source": [
    "# create random dataset...\n",
    "X_rand, y_rand = create_rand_data(X_train, y_train, n_samples=1000, seed=0)"
   ]
  },
  {
   "cell_type": "code",
   "execution_count": 133,
   "metadata": {
    "ExecuteTime": {
     "end_time": "2019-11-19T23:16:23.072788Z",
     "start_time": "2019-11-19T23:16:23.064334Z"
    },
    "scrolled": true
   },
   "outputs": [
    {
     "data": {
      "text/plain": [
       "(1000, 13496)"
      ]
     },
     "execution_count": 133,
     "metadata": {},
     "output_type": "execute_result"
    }
   ],
   "source": [
    "X_rand.shape"
   ]
  },
  {
   "cell_type": "markdown",
   "metadata": {},
   "source": [
    "# format random data"
   ]
  },
  {
   "cell_type": "code",
   "execution_count": 174,
   "metadata": {
    "ExecuteTime": {
     "end_time": "2019-11-19T23:56:39.864801Z",
     "start_time": "2019-11-19T23:56:39.832762Z"
    }
   },
   "outputs": [],
   "source": [
    "rand_df = pd.DataFrame(X_rand)\n",
    "rand_df.columns = ['dummy_{}'.format(x) for x in rand_df.columns]\n",
    "rand_df['GRID'] = ['RAND{}'.format(x) for x in np.arange(0, rand_df.shape[0])]"
   ]
  },
  {
   "cell_type": "code",
   "execution_count": 175,
   "metadata": {
    "ExecuteTime": {
     "end_time": "2019-11-19T23:56:40.077654Z",
     "start_time": "2019-11-19T23:56:40.071855Z"
    }
   },
   "outputs": [],
   "source": [
    "reordered_cols = ['GRID']\n",
    "reordered_cols = reordered_cols + list(rand_df.columns.values[:-1])"
   ]
  },
  {
   "cell_type": "code",
   "execution_count": 176,
   "metadata": {
    "ExecuteTime": {
     "end_time": "2019-11-19T23:56:59.173266Z",
     "start_time": "2019-11-19T23:56:41.198687Z"
    }
   },
   "outputs": [],
   "source": [
    "# write \n",
    "final_rand_df = rand_df.loc[:, reordered_cols].copy()\n",
    "final_rand_df.to_csv(os.path.join(OUTPUT_DIR, 'rand1000_feat_mat.tsv'), index=False)"
   ]
  },
  {
   "cell_type": "code",
   "execution_count": 178,
   "metadata": {
    "ExecuteTime": {
     "end_time": "2019-11-19T23:58:13.763872Z",
     "start_time": "2019-11-19T23:58:13.726453Z"
    }
   },
   "outputs": [],
   "source": [
    "# split into training and test\n",
    "rand_Xy_df = final_rand_df.copy()\n",
    "rand_Xy_df['y_label'] = y_rand"
   ]
  },
  {
   "cell_type": "code",
   "execution_count": 179,
   "metadata": {
    "ExecuteTime": {
     "end_time": "2019-11-19T23:58:14.761828Z",
     "start_time": "2019-11-19T23:58:14.722301Z"
    }
   },
   "outputs": [
    {
     "data": {
      "text/html": [
       "<div>\n",
       "<style scoped>\n",
       "    .dataframe tbody tr th:only-of-type {\n",
       "        vertical-align: middle;\n",
       "    }\n",
       "\n",
       "    .dataframe tbody tr th {\n",
       "        vertical-align: top;\n",
       "    }\n",
       "\n",
       "    .dataframe thead th {\n",
       "        text-align: right;\n",
       "    }\n",
       "</style>\n",
       "<table border=\"1\" class=\"dataframe\">\n",
       "  <thead>\n",
       "    <tr style=\"text-align: right;\">\n",
       "      <th></th>\n",
       "      <th>GRID</th>\n",
       "      <th>dummy_0</th>\n",
       "      <th>dummy_1</th>\n",
       "      <th>dummy_2</th>\n",
       "      <th>dummy_3</th>\n",
       "      <th>dummy_4</th>\n",
       "      <th>dummy_5</th>\n",
       "      <th>dummy_6</th>\n",
       "      <th>dummy_7</th>\n",
       "      <th>dummy_8</th>\n",
       "      <th>...</th>\n",
       "      <th>dummy_13487</th>\n",
       "      <th>dummy_13488</th>\n",
       "      <th>dummy_13489</th>\n",
       "      <th>dummy_13490</th>\n",
       "      <th>dummy_13491</th>\n",
       "      <th>dummy_13492</th>\n",
       "      <th>dummy_13493</th>\n",
       "      <th>dummy_13494</th>\n",
       "      <th>dummy_13495</th>\n",
       "      <th>y_label</th>\n",
       "    </tr>\n",
       "  </thead>\n",
       "  <tbody>\n",
       "    <tr>\n",
       "      <th>0</th>\n",
       "      <td>RAND0</td>\n",
       "      <td>684</td>\n",
       "      <td>559</td>\n",
       "      <td>629</td>\n",
       "      <td>192</td>\n",
       "      <td>835</td>\n",
       "      <td>763</td>\n",
       "      <td>707</td>\n",
       "      <td>359</td>\n",
       "      <td>9</td>\n",
       "      <td>...</td>\n",
       "      <td>123</td>\n",
       "      <td>36</td>\n",
       "      <td>272</td>\n",
       "      <td>753</td>\n",
       "      <td>541</td>\n",
       "      <td>364</td>\n",
       "      <td>677</td>\n",
       "      <td>176</td>\n",
       "      <td>478</td>\n",
       "      <td>0</td>\n",
       "    </tr>\n",
       "    <tr>\n",
       "      <th>1</th>\n",
       "      <td>RAND1</td>\n",
       "      <td>862</td>\n",
       "      <td>362</td>\n",
       "      <td>457</td>\n",
       "      <td>462</td>\n",
       "      <td>783</td>\n",
       "      <td>199</td>\n",
       "      <td>870</td>\n",
       "      <td>214</td>\n",
       "      <td>426</td>\n",
       "      <td>...</td>\n",
       "      <td>372</td>\n",
       "      <td>650</td>\n",
       "      <td>23</td>\n",
       "      <td>597</td>\n",
       "      <td>507</td>\n",
       "      <td>311</td>\n",
       "      <td>427</td>\n",
       "      <td>278</td>\n",
       "      <td>812</td>\n",
       "      <td>0</td>\n",
       "    </tr>\n",
       "    <tr>\n",
       "      <th>2</th>\n",
       "      <td>RAND2</td>\n",
       "      <td>492</td>\n",
       "      <td>264</td>\n",
       "      <td>81</td>\n",
       "      <td>367</td>\n",
       "      <td>851</td>\n",
       "      <td>601</td>\n",
       "      <td>177</td>\n",
       "      <td>622</td>\n",
       "      <td>382</td>\n",
       "      <td>...</td>\n",
       "      <td>665</td>\n",
       "      <td>284</td>\n",
       "      <td>204</td>\n",
       "      <td>573</td>\n",
       "      <td>164</td>\n",
       "      <td>53</td>\n",
       "      <td>817</td>\n",
       "      <td>431</td>\n",
       "      <td>510</td>\n",
       "      <td>0</td>\n",
       "    </tr>\n",
       "    <tr>\n",
       "      <th>3</th>\n",
       "      <td>RAND3</td>\n",
       "      <td>310</td>\n",
       "      <td>248</td>\n",
       "      <td>225</td>\n",
       "      <td>468</td>\n",
       "      <td>674</td>\n",
       "      <td>710</td>\n",
       "      <td>827</td>\n",
       "      <td>166</td>\n",
       "      <td>665</td>\n",
       "      <td>...</td>\n",
       "      <td>174</td>\n",
       "      <td>337</td>\n",
       "      <td>228</td>\n",
       "      <td>218</td>\n",
       "      <td>780</td>\n",
       "      <td>809</td>\n",
       "      <td>593</td>\n",
       "      <td>232</td>\n",
       "      <td>787</td>\n",
       "      <td>0</td>\n",
       "    </tr>\n",
       "    <tr>\n",
       "      <th>4</th>\n",
       "      <td>RAND4</td>\n",
       "      <td>629</td>\n",
       "      <td>390</td>\n",
       "      <td>652</td>\n",
       "      <td>112</td>\n",
       "      <td>798</td>\n",
       "      <td>226</td>\n",
       "      <td>572</td>\n",
       "      <td>612</td>\n",
       "      <td>238</td>\n",
       "      <td>...</td>\n",
       "      <td>335</td>\n",
       "      <td>17</td>\n",
       "      <td>111</td>\n",
       "      <td>104</td>\n",
       "      <td>839</td>\n",
       "      <td>144</td>\n",
       "      <td>526</td>\n",
       "      <td>140</td>\n",
       "      <td>627</td>\n",
       "      <td>1</td>\n",
       "    </tr>\n",
       "  </tbody>\n",
       "</table>\n",
       "<p>5 rows × 13498 columns</p>\n",
       "</div>"
      ],
      "text/plain": [
       "    GRID  dummy_0  dummy_1  dummy_2  dummy_3  dummy_4  dummy_5  dummy_6  \\\n",
       "0  RAND0      684      559      629      192      835      763      707   \n",
       "1  RAND1      862      362      457      462      783      199      870   \n",
       "2  RAND2      492      264       81      367      851      601      177   \n",
       "3  RAND3      310      248      225      468      674      710      827   \n",
       "4  RAND4      629      390      652      112      798      226      572   \n",
       "\n",
       "   dummy_7  dummy_8  ...  dummy_13487  dummy_13488  dummy_13489  dummy_13490  \\\n",
       "0      359        9  ...          123           36          272          753   \n",
       "1      214      426  ...          372          650           23          597   \n",
       "2      622      382  ...          665          284          204          573   \n",
       "3      166      665  ...          174          337          228          218   \n",
       "4      612      238  ...          335           17          111          104   \n",
       "\n",
       "   dummy_13491  dummy_13492  dummy_13493  dummy_13494  dummy_13495  y_label  \n",
       "0          541          364          677          176          478        0  \n",
       "1          507          311          427          278          812        0  \n",
       "2          164           53          817          431          510        0  \n",
       "3          780          809          593          232          787        0  \n",
       "4          839          144          526          140          627        1  \n",
       "\n",
       "[5 rows x 13498 columns]"
      ]
     },
     "execution_count": 179,
     "metadata": {},
     "output_type": "execute_result"
    }
   ],
   "source": [
    "rand_Xy_df.head()"
   ]
  },
  {
   "cell_type": "code",
   "execution_count": 182,
   "metadata": {
    "ExecuteTime": {
     "end_time": "2019-11-20T00:00:56.262935Z",
     "start_time": "2019-11-20T00:00:55.788355Z"
    }
   },
   "outputs": [],
   "source": [
    "X_train, y_train, X_test, y_test, annotated_df = create_held_out(X_rand, y_rand, rand_Xy_df)"
   ]
  },
  {
   "cell_type": "code",
   "execution_count": 190,
   "metadata": {
    "ExecuteTime": {
     "end_time": "2019-11-20T00:08:15.782348Z",
     "start_time": "2019-11-20T00:08:15.634215Z"
    }
   },
   "outputs": [],
   "source": [
    "dtrain = xgb.DMatrix(X_train, label=y_train, feature_names = annotated_df.columns[1:-2])\n",
    "dtest = xgb.DMatrix(X_test, label=y_test, feature_names = annotated_df.columns[1:-2])\n"
   ]
  },
  {
   "cell_type": "code",
   "execution_count": 193,
   "metadata": {
    "ExecuteTime": {
     "end_time": "2019-11-20T00:10:31.639717Z",
     "start_time": "2019-11-20T00:10:30.478610Z"
    }
   },
   "outputs": [],
   "source": [
    "annotated_df.reset_index(drop=True).to_feather(os.path.join(OUTPUT_DIR, 'rand1000_feat_mat.tsv.feather'))\n",
    "dtrain.save_binary(os.path.join(OUTPUT_DIR, 'rand1000_dtrain.dmatrix'))\n",
    "dtest.save_binary(os.path.join(OUTPUT_DIR, 'rand1000_dtest.dmatrix'))"
   ]
  }
 ],
 "metadata": {
  "kernelspec": {
   "display_name": "Python 3",
   "language": "python",
   "name": "python3"
  },
  "language_info": {
   "codemirror_mode": {
    "name": "ipython",
    "version": 3
   },
   "file_extension": ".py",
   "mimetype": "text/x-python",
   "name": "python",
   "nbconvert_exporter": "python",
   "pygments_lexer": "ipython3",
   "version": "3.6.7"
  },
  "toc": {
   "base_numbering": 1,
   "nav_menu": {},
   "number_sections": true,
   "sideBar": true,
   "skip_h1_title": false,
   "title_cell": "Table of Contents",
   "title_sidebar": "Contents",
   "toc_cell": false,
   "toc_position": {},
   "toc_section_display": true,
   "toc_window_display": false
  }
 },
 "nbformat": 4,
 "nbformat_minor": 2
}
