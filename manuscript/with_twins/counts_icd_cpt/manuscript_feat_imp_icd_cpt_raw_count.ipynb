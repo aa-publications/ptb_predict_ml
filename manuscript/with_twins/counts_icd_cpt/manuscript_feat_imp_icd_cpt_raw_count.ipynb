{
 "cells": [
  {
   "cell_type": "markdown",
   "metadata": {},
   "source": [
    "# Figures for Raw Count of ICD-9 & CPT "
   ]
  },
  {
   "cell_type": "code",
   "execution_count": 30,
   "metadata": {
    "ExecuteTime": {
     "end_time": "2019-04-02T17:19:01.051622Z",
     "start_time": "2019-04-02T17:19:01.035389Z"
    }
   },
   "outputs": [
    {
     "data": {
      "text/html": [
       "<style>.container {width:90% !important; }</style>"
      ],
      "text/plain": [
       "<IPython.core.display.HTML object>"
      ]
     },
     "metadata": {},
     "output_type": "display_data"
    }
   ],
   "source": [
    "import os, sys\n",
    "import numpy as np\n",
    "import pandas as pd \n",
    "import seaborn as sns\n",
    "import matplotlib.pyplot as plt \n",
    "import glob \n",
    "import pickle \n",
    "\n",
    "\n",
    "from datetime import datetime\n",
    "from IPython.core.interactiveshell import InteractiveShell\n",
    "InteractiveShell.ast_node_interactivity = \"all\" \n",
    "from IPython.core.display import display, HTML    \n",
    "display(HTML(\"<style>.container {width:90% !important; }</style>\"))\n",
    "%matplotlib inline\n",
    "np.set_printoptions(precision=5, suppress=True) \n",
    "\n",
    "CURR_DATE = datetime.now().strftime('%Y-%m-%d')"
   ]
  },
  {
   "cell_type": "code",
   "execution_count": 31,
   "metadata": {
    "ExecuteTime": {
     "end_time": "2019-04-02T17:19:02.535381Z",
     "start_time": "2019-04-02T17:19:01.215405Z"
    }
   },
   "outputs": [],
   "source": [
    "sys.path.append('/dors/capra_lab/users/abraha1/projects/PTB_phenotyping/scripts/rand_forest_ptb_classification')\n",
    "sys.path.append(\"/dors/capra_lab/users/abraha1/projects/PTB_phenotyping/scripts/rand_forest_ptb_classification/manuscript/0_helper_func\")\n",
    "from hyperparam_tune import validate_best_model\n",
    "from manip_trained_models_funcs import unpack_input_data, upickle_xgbmodel, extract_train_df\n",
    "from  shaply_funcs import create_descrip_dictionary, filter_shap\n",
    "\n",
    "from collections import OrderedDict \n",
    "from cycler import cycler\n",
    "import time as time "
   ]
  },
  {
   "cell_type": "code",
   "execution_count": 32,
   "metadata": {
    "ExecuteTime": {
     "end_time": "2019-04-02T17:19:12.051944Z",
     "start_time": "2019-04-02T17:19:02.538489Z"
    }
   },
   "outputs": [],
   "source": [
    "%load_ext rpy2.ipython"
   ]
  },
  {
   "cell_type": "code",
   "execution_count": 41,
   "metadata": {
    "ExecuteTime": {
     "end_time": "2019-04-02T17:21:52.178314Z",
     "start_time": "2019-04-02T17:21:52.173610Z"
    }
   },
   "outputs": [],
   "source": [
    "ROOT_DATA_DIR = \"/dors/capra_lab/users/abraha1/projects/PTB_phenotyping/results/ptb_predict_machine_learning/2019-01-16_xgboost_hyperopt_icd_cpt_raw_counts\" \n",
    "OUTPUT_DIR = \"/dors/capra_lab/users/abraha1/projects/PTB_phenotyping/scripts/rand_forest_ptb_classification/manuscript/counts_icd_cpt/feature_importance/\"\n",
    "ICD_CPT_DESCRIP_FILE =\"/dors/capra_lab/users/abraha1/projects/PTB_phenotyping/data/ptb_predict_machine_learning/icd_cpt_descrip_mapping/descrip_master-col_names.txt\""
   ]
  },
  {
   "cell_type": "code",
   "execution_count": 34,
   "metadata": {
    "ExecuteTime": {
     "end_time": "2019-04-02T17:19:12.643614Z",
     "start_time": "2019-04-02T17:19:12.063609Z"
    }
   },
   "outputs": [],
   "source": [
    "# OUTPUT FILES \n",
    "STORED_SHAP_FILE = os.path.join(OUTPUT_DIR, '{}_shapley_icd_cpt_dicts.pickle'.format(DATE))"
   ]
  },
  {
   "cell_type": "markdown",
   "metadata": {},
   "source": [
    "# Load and Format Raw Counts ICD & CPT "
   ]
  },
  {
   "cell_type": "markdown",
   "metadata": {},
   "source": [
    "## Load Data "
   ]
  },
  {
   "cell_type": "code",
   "execution_count": 35,
   "metadata": {
    "ExecuteTime": {
     "end_time": "2019-04-02T17:19:14.632827Z",
     "start_time": "2019-04-02T17:19:14.626215Z"
    },
    "code_folding": []
   },
   "outputs": [],
   "source": [
    "# INPUT  FILES \n",
    "icd_input = os.path.join(ROOT_DATA_DIR, 'input_data', 'input_data_all_icd9_count_subset-2019-01-25.tsv')\n",
    "cpt_input = os.path.join(ROOT_DATA_DIR, 'input_data','input_data_all_cpt_count_subset-2019-01-26.tsv')\n",
    "icd_cpt_input = os.path.join(ROOT_DATA_DIR, 'input_data','input_data_all_icd9_cpt_count_subset-2019-01-26.tsv')\n",
    "# MODEL FILES \n",
    "icd_model = os.path.join(ROOT_DATA_DIR, 'best_model','best_xgb_model_all_icd9_count_subset-2019-01-25.pickle')\n",
    "cpt_model = os.path.join(ROOT_DATA_DIR, 'best_model', 'best_xgb_model_all_cpt_count_subset-2019-01-26.pickle')\n",
    "icd_cpt_model = os.path.join(ROOT_DATA_DIR, 'best_model', 'best_xgb_model_all_icd9_cpt_count_subset-2019-01-26.pickle')\n"
   ]
  },
  {
   "cell_type": "code",
   "execution_count": 37,
   "metadata": {
    "ExecuteTime": {
     "end_time": "2019-04-02T17:19:42.722896Z",
     "start_time": "2019-04-02T17:19:42.716904Z"
    }
   },
   "outputs": [],
   "source": [
    "dataset_dict = OrderedDict()\n",
    "dataset_dict['icd'] =  {'input_file': icd_input, 'model_file': icd_model}\n",
    "dataset_dict['cpt'] =   {'input_file': cpt_input, 'model_file': cpt_model}\n",
    "dataset_dict['icd_cpt'] = {'input_file': icd_cpt_input, 'model_file': icd_cpt_model}"
   ]
  },
  {
   "cell_type": "code",
   "execution_count": 18,
   "metadata": {
    "ExecuteTime": {
     "end_time": "2019-04-02T13:04:39.349927Z",
     "start_time": "2019-04-02T13:04:37.517441Z"
    }
   },
   "outputs": [],
   "source": [
    "# output dictionary path with required data....\n",
    "DATE = \"2019-04-01\"\n",
    "STORED_DATA_FILE = os.path.join(OUTPUT_DIR,'{}_icd_cpt_datasets_dict.pickle'.format(DATE))"
   ]
  },
  {
   "cell_type": "code",
   "execution_count": 38,
   "metadata": {
    "ExecuteTime": {
     "end_time": "2019-04-02T17:20:13.216676Z",
     "start_time": "2019-04-02T17:20:13.205070Z"
    }
   },
   "outputs": [],
   "source": [
    "sns.set( style='whitegrid',  font_scale=1.5, rc={'figure.figsize':(8,8)} )\n",
    "sns.set_style( {'axes.grid': True, 'axes.edgecolor': 'k', 'font.sans-serif': ['Arial'], 'grid.color': '#e1e1e1'})\n",
    "plt.rc('axes', prop_cycle=(cycler('color', ['#1b9e77', '#d95f02', '#7570b3']) + cycler('linestyle', [':', ':', '-'])))\n",
    "fsize=20\n",
    "leg_fsize=14"
   ]
  },
  {
   "cell_type": "markdown",
   "metadata": {},
   "source": [
    "# Feature Importance Using SHAP values"
   ]
  },
  {
   "cell_type": "code",
   "execution_count": 39,
   "metadata": {
    "ExecuteTime": {
     "end_time": "2019-04-02T17:20:16.797882Z",
     "start_time": "2019-04-02T17:20:16.794314Z"
    }
   },
   "outputs": [],
   "source": [
    "import shap\n",
    "from textwrap import wrap"
   ]
  },
  {
   "cell_type": "code",
   "execution_count": 40,
   "metadata": {
    "ExecuteTime": {
     "end_time": "2019-04-02T17:20:20.054645Z",
     "start_time": "2019-04-02T17:20:19.718715Z"
    },
    "code_folding": []
   },
   "outputs": [],
   "source": [
    "# load descriptions dictionary \n",
    "dsc_dict = create_descrip_dictionary(ICD_CPT_DESCRIP_FILE)"
   ]
  },
  {
   "cell_type": "markdown",
   "metadata": {},
   "source": [
    "## calc shapely values"
   ]
  },
  {
   "cell_type": "code",
   "execution_count": null,
   "metadata": {
    "ExecuteTime": {
     "start_time": "2019-04-02T17:53:12.590Z"
    },
    "code_folding": []
   },
   "outputs": [
    {
     "name": "stdout",
     "output_type": "stream",
     "text": [
      "calc shap values for icd\n",
      "done loading input_data_all_icd9_count_subset-2019-01-25.tsv\n"
     ]
    },
    {
     "name": "stderr",
     "output_type": "stream",
     "text": [
      "/dors/capra_lab/users/abraha1/conda/envs/py36_r_ml/lib/python3.6/site-packages/sklearn/base.py:251: UserWarning: Trying to unpickle estimator LabelEncoder from version 0.20.1 when using version 0.20.2. This might lead to breaking code or invalid results. Use at your own risk.\n",
      "  UserWarning)\n"
     ]
    },
    {
     "name": "stdout",
     "output_type": "stream",
     "text": [
      "\tsaved shapley values\n",
      "\tsaved input df\n",
      "calc shap values for cpt\n",
      "done loading input_data_all_cpt_count_subset-2019-01-26.tsv\n"
     ]
    },
    {
     "name": "stderr",
     "output_type": "stream",
     "text": [
      "/dors/capra_lab/users/abraha1/conda/envs/py36_r_ml/lib/python3.6/site-packages/sklearn/base.py:251: UserWarning: Trying to unpickle estimator LabelEncoder from version 0.20.1 when using version 0.20.2. This might lead to breaking code or invalid results. Use at your own risk.\n",
      "  UserWarning)\n"
     ]
    },
    {
     "name": "stdout",
     "output_type": "stream",
     "text": [
      "\tsaved shapley values\n",
      "\tsaved input df\n",
      "calc shap values for icd_cpt\n",
      "done loading input_data_all_icd9_cpt_count_subset-2019-01-26.tsv\n"
     ]
    },
    {
     "name": "stderr",
     "output_type": "stream",
     "text": [
      "/dors/capra_lab/users/abraha1/conda/envs/py36_r_ml/lib/python3.6/site-packages/sklearn/base.py:251: UserWarning: Trying to unpickle estimator LabelEncoder from version 0.20.1 when using version 0.20.2. This might lead to breaking code or invalid results. Use at your own risk.\n",
      "  UserWarning)\n"
     ]
    }
   ],
   "source": [
    "# for each dataset, calc shapley value and save it with its xgbmodel. \n",
    "all_shap_dict = {}\n",
    "all_input_df_dict = {}\n",
    "all_xgb_models_dict = {}\n",
    "for this_label in dataset_dict.keys():\n",
    "    shapley_vals_file = os.path.join(OUTPUT_DIR, '{}_{}_shapley_icd_cpt_dicts.pickle'.format(CURR_DATE,this_label))\n",
    "    \n",
    "\n",
    "    \n",
    "    if os.path.isfile(shapley_vals_file):\n",
    "        shap_file = open(shapley_vals_file, 'rb')\n",
    "        all_shap_dict[this_label] = pickle.load(shap_file)\n",
    "        print(\"loaded shap dict for {}\".format(this_label))\n",
    "\n",
    "    else: \n",
    "        print(\"calc shap values for {}\".format(this_label))\n",
    "        \n",
    "        # prepare dataset for shapley calc\n",
    "        this_input_file = dataset_dict[this_label]['input_file']\n",
    "        this_model = dataset_dict[this_label]['model_file']\n",
    "        X_train, y_train, X_test, y_test, xgb_model, this_input_data =  unpack_input_data(this_input_file, this_model)\n",
    "        \n",
    "        train_df = this_input_data.loc[this_input_data['partition']=='grid_cv'].copy()\n",
    "        train_df.drop(['GRID','label','partition'], axis=1, inplace=True)\n",
    "        \n",
    "        # calc shap values \n",
    "        explainer = shap.TreeExplainer(xgb_model)\n",
    "        shap_values = explainer.shap_values(train_df)\n",
    "        \n",
    "        # store shap vals \n",
    "        all_shap_dict[this_label] = shap_values\n",
    "        all_input_df_dict[this_label] = this_input_data\n",
    "        all_xgb_models_dict[this_label] = xgb_model \n",
    "        \n",
    "        # saved pickeled shapely values \n",
    "        shapley_vals_file = os.path.join(OUTPUT_DIR, '{}_{}_shapley_icd_cpt_dicts.pickle'.format(CURR_DATE,this_label))\n",
    "        pickle.dump(shap_values, open(shapley_vals_file, 'wb'))\n",
    "        print(\"\\tsaved shapley values\")\n",
    "        \n",
    "        # saved pickeled input_df files \n",
    "        input_df_file = os.path.join(OUTPUT_DIR, '{}_{}_input_df.pickle'.format(CURR_DATE,this_label))\n",
    "        pickle.dump(this_input_data, open(input_df_file, 'wb'))\n",
    "        print(\"\\tsaved input df\")\n",
    "       "
   ]
  },
  {
   "cell_type": "markdown",
   "metadata": {},
   "source": [
    "## write top n features w/ descirption "
   ]
  },
  {
   "cell_type": "code",
   "execution_count": null,
   "metadata": {},
   "outputs": [],
   "source": [
    "# for each dataset, write a tsv with feature and description w/ mean +/- S D of abs shapley value \n",
    "for key, shap_vals in all_shap_dict.items(): \n",
    "    top_feats_df = filter_shap(shap_vals)\n",
    "    # !TO DO WRITE FILE!"
   ]
  },
  {
   "cell_type": "markdown",
   "metadata": {},
   "source": [
    "## mean abs(Shapley) per features"
   ]
  },
  {
   "cell_type": "code",
   "execution_count": 93,
   "metadata": {
    "ExecuteTime": {
     "end_time": "2019-04-02T03:07:18.828413Z",
     "start_time": "2019-04-02T03:07:18.802057Z"
    }
   },
   "outputs": [],
   "source": [
    "## calc mean shapely per dataset and save figure \n",
    "for key, shap_vals in all_shap_dict\n",
    "    \n",
    "    shap.summary_plot(shap_vals, extract_train_df(all_input_df_dict[key]), plot_type='bar', show=False)\n",
    "#     _ = plt.savefig(os.path.join(output_dir,'{}_violin_shap_{}.pdf'.format(key, DATE)),  orientation='landscape')\n",
    "#     plt.clf()"
   ]
  },
  {
   "cell_type": "markdown",
   "metadata": {},
   "source": [
    "## violin plots of shapley values"
   ]
  },
  {
   "cell_type": "code",
   "execution_count": 39,
   "metadata": {
    "ExecuteTime": {
     "end_time": "2019-04-02T02:26:46.288081Z",
     "start_time": "2019-04-02T02:26:04.522165Z"
    }
   },
   "outputs": [
    {
     "name": "stdout",
     "output_type": "stream",
     "text": [
      "icd\n",
      "cpt\n"
     ]
    },
    {
     "name": "stderr",
     "output_type": "stream",
     "text": [
      "/dors/capra_lab/users/abraha1/conda/envs/py36_r_ml/lib/python3.6/site-packages/matplotlib/tight_layout.py:176: UserWarning: Tight layout not applied. The left and right margins cannot be made large enough to accommodate all axes decorations. \n",
      "  warnings.warn('Tight layout not applied. The left and right margins '\n"
     ]
    },
    {
     "name": "stdout",
     "output_type": "stream",
     "text": [
      "icd_cpt\n"
     ]
    },
    {
     "name": "stderr",
     "output_type": "stream",
     "text": [
      "/dors/capra_lab/users/abraha1/conda/envs/py36_r_ml/lib/python3.6/site-packages/matplotlib/tight_layout.py:176: UserWarning: Tight layout not applied. The left and right margins cannot be made large enough to accommodate all axes decorations. \n",
      "  warnings.warn('Tight layout not applied. The left and right margins '\n"
     ]
    },
    {
     "data": {
      "text/plain": [
       "<Figure size 576x684 with 0 Axes>"
      ]
     },
     "metadata": {},
     "output_type": "display_data"
    }
   ],
   "source": [
    "## violin dot plot \n",
    "for key, items in shap_dict.items(): \n",
    "    print(key)\n",
    "    shap.summary_plot(items['shapley'], items['train_data'], show=False)\n",
    "    _ = plt.tight_layout()\n",
    "#     _ = plt.title(key)\n",
    "#     _ = plt.savefig(os.path.join(output_dir,'{}_violin_shap_{}.pdf'.format(key, DATE)),  orientation='landscape')\n",
    "#     plt.clf()"
   ]
  }
 ],
 "metadata": {
  "kernelspec": {
   "display_name": "Python 3",
   "language": "python",
   "name": "python3"
  },
  "language_info": {
   "codemirror_mode": {
    "name": "ipython",
    "version": 3
   },
   "file_extension": ".py",
   "mimetype": "text/x-python",
   "name": "python",
   "nbconvert_exporter": "python",
   "pygments_lexer": "ipython3",
   "version": "3.6.7"
  },
  "notify_time": "30",
  "toc": {
   "base_numbering": 1,
   "nav_menu": {},
   "number_sections": true,
   "sideBar": false,
   "skip_h1_title": false,
   "title_cell": "Table of Contents",
   "title_sidebar": "Contents",
   "toc_cell": false,
   "toc_position": {
    "height": "199.479px",
    "left": "1218.07px",
    "top": "75.7292px",
    "width": "181.927px"
   },
   "toc_section_display": false,
   "toc_window_display": false
  }
 },
 "nbformat": 4,
 "nbformat_minor": 2
}
