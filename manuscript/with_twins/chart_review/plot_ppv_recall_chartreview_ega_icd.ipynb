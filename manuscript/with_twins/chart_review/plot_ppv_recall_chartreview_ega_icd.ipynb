{
 "cells": [
  {
   "cell_type": "code",
   "execution_count": 1,
   "metadata": {
    "ExecuteTime": {
     "end_time": "2020-05-08T17:59:54.573291Z",
     "start_time": "2020-05-08T17:59:42.718956Z"
    }
   },
   "outputs": [
    {
     "data": {
      "text/html": [
       "<style>.container {width:98% !important; }</style>"
      ],
      "text/plain": [
       "<IPython.core.display.HTML object>"
      ]
     },
     "metadata": {},
     "output_type": "display_data"
    }
   ],
   "source": [
    "import os, sys\n",
    "import numpy as np\n",
    "import pandas as pd \n",
    "import seaborn as sns\n",
    "import matplotlib.pyplot as plt \n",
    "import glob \n",
    "\n",
    "from IPython.core.interactiveshell import InteractiveShell\n",
    "InteractiveShell.ast_node_interactivity = \"all\" \n",
    "from IPython.core.display import display, HTML    \n",
    "display(HTML(\"<style>.container {width:98% !important; }</style>\"))\n",
    "%matplotlib inline\n",
    "np.set_printoptions(precision=5, suppress=True) \n",
    "\n",
    "from datetime import datetime\n",
    "DATE = datetime.now().strftime('%Y-%m-%d')"
   ]
  },
  {
   "cell_type": "code",
   "execution_count": 2,
   "metadata": {
    "ExecuteTime": {
     "end_time": "2020-05-08T17:59:56.668968Z",
     "start_time": "2020-05-08T17:59:54.575541Z"
    }
   },
   "outputs": [],
   "source": [
    "%load_ext rpy2.ipython"
   ]
  },
  {
   "cell_type": "code",
   "execution_count": 4,
   "metadata": {
    "ExecuteTime": {
     "end_time": "2020-05-08T18:00:28.463039Z",
     "start_time": "2020-05-08T18:00:28.456842Z"
    }
   },
   "outputs": [],
   "source": [
    "# PATHS\n",
    "CREVIEW_CLASIF_FILE =\"/dors/capra_lab/users/abraha1/projects/PTB_phenotyping/scripts/rand_forest_ptb_classification/manuscript/chart_review/classif_report_chart_review1_2_3_vs_algo_labels.tsv\"\n",
    "CREVIEW_CONFM_FILE=\"/dors/capra_lab/users/abraha1/projects/PTB_phenotyping/scripts/rand_forest_ptb_classification/manuscript/chart_review/conf_matrix_chart_review1_2_3_vs_algo_labels.tsv\"\n",
    "\n",
    "CONCOR_CLASIF_FILE=\"/dors/capra_lab/users/abraha1/projects/PTB_phenotyping/scripts/rand_forest_ptb_classification/manuscript/ega_icd_concordance/classif_ega_vs_icd_labels.tsv\"\n",
    "CONCOR_CONFM_FILE=\"/dors/capra_lab/users/abraha1/projects/PTB_phenotyping/scripts/rand_forest_ptb_classification/manuscript/ega_icd_concordance/conf_matrix_icd_ega_concord.tsv\"\n",
    "\n",
    "OUTPUT_DIR=\"/dors/capra_lab/users/abraha1/projects/PTB_phenotyping/scripts/rand_forest_ptb_classification/manuscript/chart_review\""
   ]
  },
  {
   "cell_type": "code",
   "execution_count": 40,
   "metadata": {
    "ExecuteTime": {
     "end_time": "2020-05-08T18:09:17.538432Z",
     "start_time": "2020-05-08T18:09:17.525099Z"
    }
   },
   "outputs": [],
   "source": [
    "df = pd.read_csv(\"/dors/capra_lab/users/abraha1/projects/PTB_phenotyping/scripts/rand_forest_ptb_classification/manuscript/chart_review/classif_report_chart_review1_2_3_vs_algo_labels.tsv\")"
   ]
  },
  {
   "cell_type": "code",
   "execution_count": 41,
   "metadata": {
    "ExecuteTime": {
     "end_time": "2020-05-08T18:09:18.918706Z",
     "start_time": "2020-05-08T18:09:18.904155Z"
    }
   },
   "outputs": [
    {
     "data": {
      "text/html": [
       "<div>\n",
       "<style scoped>\n",
       "    .dataframe tbody tr th:only-of-type {\n",
       "        vertical-align: middle;\n",
       "    }\n",
       "\n",
       "    .dataframe tbody tr th {\n",
       "        vertical-align: top;\n",
       "    }\n",
       "\n",
       "    .dataframe thead th {\n",
       "        text-align: right;\n",
       "    }\n",
       "</style>\n",
       "<table border=\"1\" class=\"dataframe\">\n",
       "  <thead>\n",
       "    <tr style=\"text-align: right;\">\n",
       "      <th></th>\n",
       "      <th>not-preterm\tpreterm\taccuracy\tmacro avg\tweighted avg</th>\n",
       "    </tr>\n",
       "  </thead>\n",
       "  <tbody>\n",
       "    <tr>\n",
       "      <th>0</th>\n",
       "      <td>precision\\t0.9875\\t0.9583333333333334\\t0.98076...</td>\n",
       "    </tr>\n",
       "    <tr>\n",
       "      <th>1</th>\n",
       "      <td>recall\\t0.9875\\t0.9583333333333334\\t0.98076923...</td>\n",
       "    </tr>\n",
       "    <tr>\n",
       "      <th>2</th>\n",
       "      <td>f1-score\\t0.9875\\t0.9583333333333334\\t0.980769...</td>\n",
       "    </tr>\n",
       "    <tr>\n",
       "      <th>3</th>\n",
       "      <td>support\\t80.0\\t24.0\\t0.9807692307692307\\t104.0...</td>\n",
       "    </tr>\n",
       "  </tbody>\n",
       "</table>\n",
       "</div>"
      ],
      "text/plain": [
       "  \\tnot-preterm\\tpreterm\\taccuracy\\tmacro avg\\tweighted avg\n",
       "0  precision\\t0.9875\\t0.9583333333333334\\t0.98076...       \n",
       "1  recall\\t0.9875\\t0.9583333333333334\\t0.98076923...       \n",
       "2  f1-score\\t0.9875\\t0.9583333333333334\\t0.980769...       \n",
       "3  support\\t80.0\\t24.0\\t0.9807692307692307\\t104.0...       "
      ]
     },
     "execution_count": 41,
     "metadata": {},
     "output_type": "execute_result"
    }
   ],
   "source": [
    "df"
   ]
  },
  {
   "cell_type": "code",
   "execution_count": 53,
   "metadata": {
    "ExecuteTime": {
     "end_time": "2020-05-08T18:13:16.986103Z",
     "start_time": "2020-05-08T18:13:16.944497Z"
    }
   },
   "outputs": [],
   "source": [
    "# read clasif summary \n",
    "clf_df = pd.read_csv(CREVIEW_CLASIF_FILE, sep=\"\\t\",  index_col=0)\n",
    "concor_clf = pd.read_csv(CONCOR_CLASIF_FILE, sep=\"\\t\", index_col=0)\n",
    "\n",
    "\n",
    "clf_df.reset_index(inplace=True)\n",
    "concor_clf.reset_index(inplace=True)\n",
    "\n",
    "\n",
    "\n",
    "# conver wide to long \n",
    "clf_plt_df = pd.melt(clf_df, id_vars=['index'], value_vars=['not-preterm','preterm'])\n",
    "conc_plt_df =  pd.melt(concor_clf, id_vars=['index'], value_vars=['not-preterm','preterm'])"
   ]
  },
  {
   "cell_type": "code",
   "execution_count": 32,
   "metadata": {
    "ExecuteTime": {
     "end_time": "2020-05-08T18:06:58.892468Z",
     "start_time": "2020-05-08T18:06:58.869033Z"
    }
   },
   "outputs": [],
   "source": [
    "# read confusion matrix\n",
    "# rows := true labels; columns := predicted labels \n",
    "conf_df = pd.read_csv(CONCOR_CONFM_FILE, sep=\"\\t\", names=['true_label','pred_preterm','pred_not-preterm'], skiprows=1)\n",
    "concor_conf = pd.read_csv(CREVIEW_CLASIF_FILE, sep=\"\\t\", names=['true_label','pred_preterm','pred_not-preterm'], skiprows=1)"
   ]
  },
  {
   "cell_type": "code",
   "execution_count": 55,
   "metadata": {
    "ExecuteTime": {
     "end_time": "2020-05-08T18:13:52.515507Z",
     "start_time": "2020-05-08T18:13:52.489404Z"
    }
   },
   "outputs": [],
   "source": [
    "conf_plt_df = pd.melt(conf_df, id_vars=['true_label'], value_vars=['pred_preterm','pred_not-preterm'])\n",
    "conc_conf_plt_df =  pd.melt(concor_conf, id_vars=['true_label'], value_vars=['pred_preterm','pred_not-preterm'])"
   ]
  },
  {
   "cell_type": "code",
   "execution_count": 35,
   "metadata": {
    "ExecuteTime": {
     "end_time": "2020-05-08T18:07:03.359688Z",
     "start_time": "2020-05-08T18:07:03.348613Z"
    }
   },
   "outputs": [],
   "source": [
    "# round\n",
    "clf_plt_df = clf_plt_df.round(2)\n",
    "conc_plt_df = conc_plt_df.round(2)"
   ]
  },
  {
   "cell_type": "markdown",
   "metadata": {},
   "source": [
    "# plot summaries"
   ]
  },
  {
   "cell_type": "code",
   "execution_count": 58,
   "metadata": {
    "ExecuteTime": {
     "end_time": "2020-05-08T18:14:12.438796Z",
     "start_time": "2020-05-08T18:14:12.424651Z"
    }
   },
   "outputs": [],
   "source": [
    "%%R \n",
    "library(ggplot2)\n",
    "library(dplyr)\n",
    "library(ggpubr)\n",
    "library(cowplot)\n",
    "library(forcats)\n",
    "\n",
    "base_font_size = 10"
   ]
  },
  {
   "cell_type": "code",
   "execution_count": 59,
   "metadata": {
    "ExecuteTime": {
     "end_time": "2020-05-08T18:14:12.859469Z",
     "start_time": "2020-05-08T18:14:12.843936Z"
    }
   },
   "outputs": [],
   "source": [
    "# add count \n",
    "rename_dict = {'not-preterm': 'not-preterm\\n(n=80)',\n",
    "                'preterm': 'preterm\\n(n=24)'}\n",
    "\n",
    "rename_dict_conc = {'not-preterm': 'not-preterm\\n(n=11,604)',\n",
    "                'preterm': 'preterm\\n(n=3,437)'}\n",
    "clf_plt_df['delivery'] = clf_plt_df.variable.map(rename_dict)\n",
    "conc_plt_df['delivery'] = conc_plt_df.variable.map(rename_dict_conc)"
   ]
  },
  {
   "cell_type": "code",
   "execution_count": 67,
   "metadata": {
    "ExecuteTime": {
     "end_time": "2020-05-08T18:15:19.843617Z",
     "start_time": "2020-05-08T18:15:19.834008Z"
    }
   },
   "outputs": [],
   "source": [
    "conc_plt_df.rename(columns={'index':'measure'},inplace=True)\n",
    "clf_plt_df.rename(columns={'index':'measure'},inplace=True)"
   ]
  },
  {
   "cell_type": "code",
   "execution_count": 77,
   "metadata": {
    "ExecuteTime": {
     "end_time": "2020-05-08T18:18:10.061347Z",
     "start_time": "2020-05-08T18:18:10.055159Z"
    }
   },
   "outputs": [],
   "source": [
    "clf_plt_df.value = clf_plt_df.value.round(2)"
   ]
  },
  {
   "cell_type": "code",
   "execution_count": 93,
   "metadata": {
    "ExecuteTime": {
     "end_time": "2020-05-08T18:21:05.877550Z",
     "start_time": "2020-05-08T18:21:05.561124Z"
    }
   },
   "outputs": [],
   "source": [
    "%%R -i clf_plt_df -i OUTPUT_DIR -i DATE \n",
    "\n",
    "# plot PPV and Recall of Chart Review \n",
    "# no legend --> red is precision; blue is recall \n",
    "plt.df = clf_plt_df %>% filter( measure %in% c(\"precision\",\"recall\"))\n",
    "\n",
    "plt.df$delivery = factor(plt.df$delivery, levels=c('preterm\\n(n=24)', 'not-preterm\\n(n=80)'))\n",
    "\n",
    "plt = ggplot(plt.df, aes(x=delivery, y=value, fill=measure)) + geom_bar(stat='identity', position=position_dodge())\n",
    "plt = plt +  theme_pubr(base_family=\"Arial\", base_size=12) + theme(legend.position=\"none\", plot.title = element_text(hjust = 0.5))\n",
    "\n",
    "plt = plt + geom_text(stat='identity', aes(x=delivery, y=value, fill=measure, label=value, vjust=-0.1, hjust=0.5), position=position_dodge(0.9), size=3.5)\n",
    "plt = plt + labs(fill = \"\",x=\"\", title=\"Delivery Label Accuracy\", y=\"\")\n",
    "plt = plt + scale_fill_brewer(palette=\"Set1\")\n",
    "                              \n",
    "# plt                                \n",
    "save.file=file.path(OUTPUT_DIR, sprintf('%s_chart_review_1_2_3_summary.pdf',DATE))\n",
    "ggsave(save.file,plt,  device = cairo_pdf, height=3.75, width=4, units=\"in\")\n"
   ]
  },
  {
   "cell_type": "code",
   "execution_count": 94,
   "metadata": {
    "ExecuteTime": {
     "end_time": "2020-05-08T18:21:05.885417Z",
     "start_time": "2020-05-08T18:21:05.879901Z"
    }
   },
   "outputs": [
    {
     "data": {
      "text/plain": [
       "'/dors/capra_lab/users/abraha1/projects/PTB_phenotyping/scripts/rand_forest_ptb_classification/manuscript/chart_review'"
      ]
     },
     "execution_count": 94,
     "metadata": {},
     "output_type": "execute_result"
    }
   ],
   "source": [
    "OUTPUT_DIR"
   ]
  },
  {
   "cell_type": "code",
   "execution_count": 88,
   "metadata": {
    "ExecuteTime": {
     "end_time": "2020-05-08T18:19:44.704255Z",
     "start_time": "2020-05-08T18:19:44.397197Z"
    }
   },
   "outputs": [
    {
     "data": {
      "image/png": "[encoded data removed]"
     },
     "metadata": {},
     "output_type": "display_data"
    }
   ],
   "source": [
    "%%R \n",
    "plt"
   ]
  },
  {
   "cell_type": "code",
   "execution_count": 97,
   "metadata": {
    "ExecuteTime": {
     "end_time": "2020-05-08T18:22:00.475541Z",
     "start_time": "2020-05-08T18:22:00.469423Z"
    }
   },
   "outputs": [],
   "source": [
    "conc_plt_df.value = conc_plt_df.value.round(2)"
   ]
  },
  {
   "cell_type": "code",
   "execution_count": 108,
   "metadata": {
    "ExecuteTime": {
     "end_time": "2020-05-08T18:25:19.140751Z",
     "start_time": "2020-05-08T18:25:18.911563Z"
    }
   },
   "outputs": [],
   "source": [
    "%%R -i conc_plt_df -i OUTPUT_DIR -i DATE \n",
    "\n",
    "# plot PPV and Recall of Chart Review \n",
    "# no legend --> red is precision; blue is recall \n",
    "plt.df = conc_plt_df %>% filter( measure %in% c(\"precision\",\"recall\"))\n",
    "\n",
    "plt.df$delivery = factor(plt.df$delivery, levels=c('preterm\\n(n=3,437)', 'not-preterm\\n(n=11,604)'))\n",
    "\n",
    "plt = ggplot(plt.df, aes(x=delivery, y=value, fill=measure)) + geom_bar(stat='identity', position=position_dodge())\n",
    "plt = plt + theme_pubr(base_family=\"Arial\", base_size=12) + theme(legend.position=\"none\", plot.title = element_text(hjust = 0.5))\n",
    "plt = plt + geom_text(stat='identity', aes(x=delivery, y=value, fill=measure, label=value, vjust=-0.1, hjust=0.5), position=position_dodge(0.9),size=3.5)\n",
    "plt = plt + labs(fill = \"\", x=\"\", title=\"EGA and ICD-9 Concordance\", y=\"\") \n",
    "plt = plt + scale_fill_brewer(palette=\"Set1\") \n",
    "                              \n",
    "\n",
    "# save.file=file.path(OUTPUT_DIR, sprintf('%s_ega_icd_concord.pdf',DATE))\n",
    "# ggsave(save.file,plt,  device = cairo_pdf, height=3.75, width=4, units=\"in\")\n"
   ]
  },
  {
   "cell_type": "code",
   "execution_count": 109,
   "metadata": {
    "ExecuteTime": {
     "end_time": "2020-05-08T18:25:19.804649Z",
     "start_time": "2020-05-08T18:25:19.676780Z"
    }
   },
   "outputs": [
    {
     "name": "stdout",
     "output_type": "stream",
     "text": [
      "\n",
      "Error in set.gpar(x$gp) : argument must be a 'gpar' object\n"
     ]
    }
   ],
   "source": [
    "%%R \n",
    "plot(g)"
   ]
  },
  {
   "cell_type": "code",
   "execution_count": null,
   "metadata": {},
   "outputs": [],
   "source": []
  }
 ],
 "metadata": {
  "kernelspec": {
   "display_name": "Python 3",
   "language": "python",
   "name": "python3"
  },
  "language_info": {
   "codemirror_mode": {
    "name": "ipython",
    "version": 3
   },
   "file_extension": ".py",
   "mimetype": "text/x-python",
   "name": "python",
   "nbconvert_exporter": "python",
   "pygments_lexer": "ipython3",
   "version": "3.6.7"
  },
  "toc": {
   "base_numbering": 1,
   "nav_menu": {},
   "number_sections": true,
   "sideBar": true,
   "skip_h1_title": false,
   "title_cell": "Table of Contents",
   "title_sidebar": "Contents",
   "toc_cell": false,
   "toc_position": {},
   "toc_section_display": true,
   "toc_window_display": false
  }
 },
 "nbformat": 4,
 "nbformat_minor": 2
}
