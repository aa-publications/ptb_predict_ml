{
 "cells": [
  {
   "cell_type": "markdown",
   "metadata": {},
   "source": [
    "# Create feature matrix for Ob Notes Combined with ICD9, Race, and Age "
   ]
  },
  {
   "cell_type": "markdown",
   "metadata": {},
   "source": [
    "Used Ob Notes variables extracted, tidied, and then removed some columns with excess missing values. \n",
    "\n",
    "Did not impute missing values for remaining columns. \n",
    "\n",
    "Inner joined with Age, PRS, Race, and ICD9 datasets. "
   ]
  },
  {
   "cell_type": "code",
   "execution_count": 1,
   "metadata": {
    "ExecuteTime": {
     "end_time": "2019-01-28T23:29:29.787814Z",
     "start_time": "2019-01-28T23:29:25.256622Z"
    }
   },
   "outputs": [
    {
     "data": {
      "text/html": [
       "<style>.container {width:97% !important; }</style>"
      ],
      "text/plain": [
       "<IPython.core.display.HTML object>"
      ]
     },
     "metadata": {},
     "output_type": "display_data"
    }
   ],
   "source": [
    "import os, sys\n",
    "import numpy as np\n",
    "import pandas as pd \n",
    "import seaborn as sns\n",
    "import matplotlib.pyplot as plt \n",
    "\n",
    "from datetime import datetime\n",
    "from IPython.core.interactiveshell import InteractiveShell\n",
    "InteractiveShell.ast_node_interactivity = \"all\" \n",
    "from IPython.core.display import display, HTML    \n",
    "display(HTML(\"<style>.container {width:97% !important; }</style>\"))\n",
    "%matplotlib inline \n",
    "np.set_printoptions(precision=5, suppress=True) \n",
    " \n",
    "DATE = datetime.now().strftime('%Y-%m-%d')"
   ]
  },
  {
   "cell_type": "code",
   "execution_count": 2,
   "metadata": {
    "ExecuteTime": {
     "end_time": "2019-01-28T23:29:29.795296Z",
     "start_time": "2019-01-28T23:29:29.791770Z"
    }
   },
   "outputs": [],
   "source": [
    "import re"
   ]
  },
  {
   "cell_type": "code",
   "execution_count": 3,
   "metadata": {
    "ExecuteTime": {
     "end_time": "2019-01-28T23:29:29.870467Z",
     "start_time": "2019-01-28T23:29:29.798441Z"
    }
   },
   "outputs": [],
   "source": [
    "AGE_FILE =   \"/dors/capra_lab/users/abraha1/projects/PTB_phenotyping/data/ptb_predict_machine_learning/demographics/years_at_delivery_matrix.tsv\"\n",
    "DEMOG_FILE = \"/dors/capra_lab/users/abraha1/projects/PTB_phenotyping/data/ptb_predict_machine_learning/demographics/demographics_matrix.tsv\"\n",
    "PRS_FILE = \"/dors/capra_lab/users/abraha1/projects/PTB_phenotyping/scripts/polygenic_risk_scores/zhang_with_covars/GRID_PRS.tsv\"\n",
    "OB_NOTE_VARS = os.path.join(\"/dors/capra_lab/users/abraha1/projects/PTB_phenotyping/data/ptb_predict_machine_learning/ob_notes_variables/filtered_wide_ob_notes_w_na.tsv\")\n",
    "ICD_DATA_ONLY = os.path.join(\"/dors/capra_lab/users/abraha1/projects/PTB_phenotyping/data/\",\n",
    "                             \"ptb_predict_machine_learning/feature_matrices/all_icd9_feat_mat.tsv\")\n",
    "BEFORE_ICD_DATA_ONLY = os.path.join(\"/dors/capra_lab/users/abraha1/projects/PTB_phenotyping/data/\",\n",
    "                             \"ptb_predict_machine_learning/feature_matrices/before_icd9_feat_mat.tsv\")\n",
    "\n",
    "FEAT_DIR = \"/dors/capra_lab/users/abraha1/projects/PTB_phenotyping/data/ptb_predict_machine_learning/feature_matrices/ob_notes_vars\""
   ]
  },
  {
   "cell_type": "code",
   "execution_count": 4,
   "metadata": {
    "ExecuteTime": {
     "end_time": "2019-01-28T23:38:10.461282Z",
     "start_time": "2019-01-28T23:29:29.874922Z"
    }
   },
   "outputs": [],
   "source": [
    "age_df  = pd.read_csv(AGE_FILE, sep=\"\\t\")\n",
    "race_df = pd.read_csv(DEMOG_FILE, sep=\"\\t\")\n",
    "prs_df = pd.read_csv(PRS_FILE, sep=\"\\t\")\n",
    "ob_df = pd.read_csv(OB_NOTE_VARS, sep=\"\\t\")\n",
    "icd_df = pd.read_csv(ICD_DATA_ONLY, sep=\"\\t\")"
   ]
  },
  {
   "cell_type": "code",
   "execution_count": 5,
   "metadata": {
    "ExecuteTime": {
     "end_time": "2019-01-28T23:41:05.669529Z",
     "start_time": "2019-01-28T23:38:10.465639Z"
    }
   },
   "outputs": [],
   "source": [
    "before_icd_df = pd.read_csv(BEFORE_ICD_DATA_ONLY, sep=\"\\t\")"
   ]
  },
  {
   "cell_type": "markdown",
   "metadata": {
    "heading_collapsed": true
   },
   "source": [
    "#### Missing Data for full Ob_Notes variable "
   ]
  },
  {
   "cell_type": "code",
   "execution_count": 7,
   "metadata": {
    "ExecuteTime": {
     "end_time": "2019-01-28T23:42:42.150559Z",
     "start_time": "2019-01-28T23:42:38.022480Z"
    },
    "hidden": true
   },
   "outputs": [
    {
     "data": {
      "text/plain": [
       "[[]]"
      ]
     },
     "execution_count": 7,
     "metadata": {},
     "output_type": "execute_result"
    },
    {
     "data": {
      "text/plain": [
       "[[]]"
      ]
     },
     "execution_count": 7,
     "metadata": {},
     "output_type": "execute_result"
    },
    {
     "data": {
      "image/png": "[encoded data removed]",
      "text/plain": [
       "<Figure size 720x720 with 4 Axes>"
      ]
     },
     "metadata": {},
     "output_type": "display_data"
    }
   ],
   "source": [
    "# visualize missing data \n",
    "# full dataset \n",
    "sns.set(style='whitegrid',rc={'figure.figsize':(16,10)})\n",
    "sns.set_context(\"paper\")\n",
    "truth_array = (ob_df.isnull()).values\n",
    "ax = sns.clustermap(truth_array, cmap=sns.dark_palette(\"red\"))\n",
    "hax = ax.ax_heatmap\n",
    "hax.set(xticklabels=[])\n",
    "hax.set(yticklabels=[])"
   ]
  },
  {
   "cell_type": "code",
   "execution_count": 8,
   "metadata": {
    "ExecuteTime": {
     "end_time": "2019-01-28T23:42:42.194701Z",
     "start_time": "2019-01-28T23:42:42.154305Z"
    },
    "hidden": true
   },
   "outputs": [],
   "source": [
    "col_missing = ob_df.isnull().sum().sort_values(ascending=False).reset_index()\n",
    "col_missing['total'] = ob_df.shape[0]\n",
    "col_missing['percent_missing'] = col_missing[0]/ob_df.shape[0]\n",
    "col_missing.rename(columns={0:'num_missing'}, inplace=True)"
   ]
  },
  {
   "cell_type": "code",
   "execution_count": 9,
   "metadata": {
    "ExecuteTime": {
     "end_time": "2019-01-28T23:42:42.261431Z",
     "start_time": "2019-01-28T23:42:42.197722Z"
    },
    "hidden": true
   },
   "outputs": [
    {
     "data": {
      "text/plain": [
       "array(['Parity', 'History Previous C-section'], dtype=object)"
      ]
     },
     "execution_count": 9,
     "metadata": {},
     "output_type": "execute_result"
    },
    {
     "data": {
      "text/html": [
       "<div>\n",
       "<style scoped>\n",
       "    .dataframe tbody tr th:only-of-type {\n",
       "        vertical-align: middle;\n",
       "    }\n",
       "\n",
       "    .dataframe tbody tr th {\n",
       "        vertical-align: top;\n",
       "    }\n",
       "\n",
       "    .dataframe thead th {\n",
       "        text-align: right;\n",
       "    }\n",
       "</style>\n",
       "<table border=\"1\" class=\"dataframe\">\n",
       "  <thead>\n",
       "    <tr style=\"text-align: right;\">\n",
       "      <th></th>\n",
       "      <th>index</th>\n",
       "      <th>num_missing</th>\n",
       "      <th>total</th>\n",
       "      <th>percent_missing</th>\n",
       "    </tr>\n",
       "  </thead>\n",
       "  <tbody>\n",
       "    <tr>\n",
       "      <th>0</th>\n",
       "      <td>Parity</td>\n",
       "      <td>2485</td>\n",
       "      <td>2838</td>\n",
       "      <td>0.875617</td>\n",
       "    </tr>\n",
       "    <tr>\n",
       "      <th>1</th>\n",
       "      <td>History Previous C-section</td>\n",
       "      <td>2456</td>\n",
       "      <td>2838</td>\n",
       "      <td>0.865398</td>\n",
       "    </tr>\n",
       "    <tr>\n",
       "      <th>2</th>\n",
       "      <td>Preterm_births</td>\n",
       "      <td>1175</td>\n",
       "      <td>2838</td>\n",
       "      <td>0.414024</td>\n",
       "    </tr>\n",
       "    <tr>\n",
       "      <th>3</th>\n",
       "      <td>Abortion</td>\n",
       "      <td>1031</td>\n",
       "      <td>2838</td>\n",
       "      <td>0.363284</td>\n",
       "    </tr>\n",
       "    <tr>\n",
       "      <th>4</th>\n",
       "      <td>Term_births</td>\n",
       "      <td>968</td>\n",
       "      <td>2838</td>\n",
       "      <td>0.341085</td>\n",
       "    </tr>\n",
       "    <tr>\n",
       "      <th>5</th>\n",
       "      <td>Live_Children</td>\n",
       "      <td>949</td>\n",
       "      <td>2838</td>\n",
       "      <td>0.334390</td>\n",
       "    </tr>\n",
       "    <tr>\n",
       "      <th>6</th>\n",
       "      <td>Pregnancy Induced Hypertension</td>\n",
       "      <td>322</td>\n",
       "      <td>2838</td>\n",
       "      <td>0.113460</td>\n",
       "    </tr>\n",
       "    <tr>\n",
       "      <th>7</th>\n",
       "      <td>Urinary tract infection Y_N</td>\n",
       "      <td>317</td>\n",
       "      <td>2838</td>\n",
       "      <td>0.111698</td>\n",
       "    </tr>\n",
       "    <tr>\n",
       "      <th>8</th>\n",
       "      <td>Menses every 28 to 30 days  Y_N</td>\n",
       "      <td>301</td>\n",
       "      <td>2838</td>\n",
       "      <td>0.106061</td>\n",
       "    </tr>\n",
       "    <tr>\n",
       "      <th>9</th>\n",
       "      <td>Regular exercise Y_N</td>\n",
       "      <td>235</td>\n",
       "      <td>2838</td>\n",
       "      <td>0.082805</td>\n",
       "    </tr>\n",
       "    <tr>\n",
       "      <th>10</th>\n",
       "      <td>Patient History Congential Heart Defect Y_N</td>\n",
       "      <td>215</td>\n",
       "      <td>2838</td>\n",
       "      <td>0.075758</td>\n",
       "    </tr>\n",
       "    <tr>\n",
       "      <th>11</th>\n",
       "      <td>Patient History Other inherited or chromosomal...</td>\n",
       "      <td>193</td>\n",
       "      <td>2838</td>\n",
       "      <td>0.068006</td>\n",
       "    </tr>\n",
       "    <tr>\n",
       "      <th>12</th>\n",
       "      <td>Endocrine Metabolic Patient Y_N</td>\n",
       "      <td>191</td>\n",
       "      <td>2838</td>\n",
       "      <td>0.067301</td>\n",
       "    </tr>\n",
       "    <tr>\n",
       "      <th>13</th>\n",
       "      <td>Gravidity</td>\n",
       "      <td>187</td>\n",
       "      <td>2838</td>\n",
       "      <td>0.065891</td>\n",
       "    </tr>\n",
       "    <tr>\n",
       "      <th>14</th>\n",
       "      <td>Tobacco Y_N</td>\n",
       "      <td>122</td>\n",
       "      <td>2838</td>\n",
       "      <td>0.042988</td>\n",
       "    </tr>\n",
       "    <tr>\n",
       "      <th>15</th>\n",
       "      <td>Drugs Y_N</td>\n",
       "      <td>113</td>\n",
       "      <td>2838</td>\n",
       "      <td>0.039817</td>\n",
       "    </tr>\n",
       "    <tr>\n",
       "      <th>16</th>\n",
       "      <td>Alcohol Y_N</td>\n",
       "      <td>98</td>\n",
       "      <td>2838</td>\n",
       "      <td>0.034531</td>\n",
       "    </tr>\n",
       "    <tr>\n",
       "      <th>17</th>\n",
       "      <td>Family History Muscular Dystrophy Y_N</td>\n",
       "      <td>18</td>\n",
       "      <td>2838</td>\n",
       "      <td>0.006342</td>\n",
       "    </tr>\n",
       "    <tr>\n",
       "      <th>18</th>\n",
       "      <td>Family History Other Y_N</td>\n",
       "      <td>8</td>\n",
       "      <td>2838</td>\n",
       "      <td>0.002819</td>\n",
       "    </tr>\n",
       "    <tr>\n",
       "      <th>19</th>\n",
       "      <td>Patient History Other Y_N</td>\n",
       "      <td>7</td>\n",
       "      <td>2838</td>\n",
       "      <td>0.002467</td>\n",
       "    </tr>\n",
       "    <tr>\n",
       "      <th>20</th>\n",
       "      <td>Patient History Genetic other</td>\n",
       "      <td>6</td>\n",
       "      <td>2838</td>\n",
       "      <td>0.002114</td>\n",
       "    </tr>\n",
       "    <tr>\n",
       "      <th>21</th>\n",
       "      <td>Family History Genetic other</td>\n",
       "      <td>5</td>\n",
       "      <td>2838</td>\n",
       "      <td>0.001762</td>\n",
       "    </tr>\n",
       "    <tr>\n",
       "      <th>22</th>\n",
       "      <td>Family History Tobacco, Alcohol, Drugs Y_N</td>\n",
       "      <td>5</td>\n",
       "      <td>2838</td>\n",
       "      <td>0.001762</td>\n",
       "    </tr>\n",
       "    <tr>\n",
       "      <th>23</th>\n",
       "      <td>Family History Gyn Problems Y_N</td>\n",
       "      <td>4</td>\n",
       "      <td>2838</td>\n",
       "      <td>0.001409</td>\n",
       "    </tr>\n",
       "    <tr>\n",
       "      <th>24</th>\n",
       "      <td>Family History Congential Heart Defect Y_N</td>\n",
       "      <td>4</td>\n",
       "      <td>2838</td>\n",
       "      <td>0.001409</td>\n",
       "    </tr>\n",
       "    <tr>\n",
       "      <th>25</th>\n",
       "      <td>Patient History Malignancies Y_N</td>\n",
       "      <td>4</td>\n",
       "      <td>2838</td>\n",
       "      <td>0.001409</td>\n",
       "    </tr>\n",
       "    <tr>\n",
       "      <th>26</th>\n",
       "      <td>Family History Urinary tract problems includin...</td>\n",
       "      <td>4</td>\n",
       "      <td>2838</td>\n",
       "      <td>0.001409</td>\n",
       "    </tr>\n",
       "    <tr>\n",
       "      <th>27</th>\n",
       "      <td>Family History Breast Disease Y_N</td>\n",
       "      <td>4</td>\n",
       "      <td>2838</td>\n",
       "      <td>0.001409</td>\n",
       "    </tr>\n",
       "    <tr>\n",
       "      <th>28</th>\n",
       "      <td>Patient History Heart Disease Y_N</td>\n",
       "      <td>4</td>\n",
       "      <td>2838</td>\n",
       "      <td>0.001409</td>\n",
       "    </tr>\n",
       "    <tr>\n",
       "      <th>29</th>\n",
       "      <td>Family History GI Problems Y_N</td>\n",
       "      <td>3</td>\n",
       "      <td>2838</td>\n",
       "      <td>0.001057</td>\n",
       "    </tr>\n",
       "    <tr>\n",
       "      <th>...</th>\n",
       "      <td>...</td>\n",
       "      <td>...</td>\n",
       "      <td>...</td>\n",
       "      <td>...</td>\n",
       "    </tr>\n",
       "    <tr>\n",
       "      <th>65</th>\n",
       "      <td>Patient History Breast Disease Y_N</td>\n",
       "      <td>1</td>\n",
       "      <td>2838</td>\n",
       "      <td>0.000352</td>\n",
       "    </tr>\n",
       "    <tr>\n",
       "      <th>66</th>\n",
       "      <td>Patient History Tobacco, Alcohol, Drugs Y_N</td>\n",
       "      <td>1</td>\n",
       "      <td>2838</td>\n",
       "      <td>0.000352</td>\n",
       "    </tr>\n",
       "    <tr>\n",
       "      <th>67</th>\n",
       "      <td>Patient History Thalessemia (Italian, Greek, M...</td>\n",
       "      <td>1</td>\n",
       "      <td>2838</td>\n",
       "      <td>0.000352</td>\n",
       "    </tr>\n",
       "    <tr>\n",
       "      <th>68</th>\n",
       "      <td>Patient History Pulmonary Disease Y_N</td>\n",
       "      <td>1</td>\n",
       "      <td>2838</td>\n",
       "      <td>0.000352</td>\n",
       "    </tr>\n",
       "    <tr>\n",
       "      <th>69</th>\n",
       "      <td>Patient History Phlebitis or varicocities Y_N</td>\n",
       "      <td>1</td>\n",
       "      <td>2838</td>\n",
       "      <td>0.000352</td>\n",
       "    </tr>\n",
       "    <tr>\n",
       "      <th>70</th>\n",
       "      <td>Patient History Neural Tube Defect Y_N</td>\n",
       "      <td>1</td>\n",
       "      <td>2838</td>\n",
       "      <td>0.000352</td>\n",
       "    </tr>\n",
       "    <tr>\n",
       "      <th>71</th>\n",
       "      <td>Patient History Muscular Dystrophy Y_N</td>\n",
       "      <td>1</td>\n",
       "      <td>2838</td>\n",
       "      <td>0.000352</td>\n",
       "    </tr>\n",
       "    <tr>\n",
       "      <th>72</th>\n",
       "      <td>Patient History Infertility or Recurrent Spont...</td>\n",
       "      <td>1</td>\n",
       "      <td>2838</td>\n",
       "      <td>0.000352</td>\n",
       "    </tr>\n",
       "    <tr>\n",
       "      <th>73</th>\n",
       "      <td>Patient History Huntington's Chorea Y_N</td>\n",
       "      <td>1</td>\n",
       "      <td>2838</td>\n",
       "      <td>0.000352</td>\n",
       "    </tr>\n",
       "    <tr>\n",
       "      <th>74</th>\n",
       "      <td>Patient History Hemophilia or other blood diso...</td>\n",
       "      <td>1</td>\n",
       "      <td>2838</td>\n",
       "      <td>0.000352</td>\n",
       "    </tr>\n",
       "    <tr>\n",
       "      <th>75</th>\n",
       "      <td>Family History Other structural Birth defect Y_N</td>\n",
       "      <td>1</td>\n",
       "      <td>2838</td>\n",
       "      <td>0.000352</td>\n",
       "    </tr>\n",
       "    <tr>\n",
       "      <th>76</th>\n",
       "      <td>Patient History Cystic Fibrosis Y_N</td>\n",
       "      <td>1</td>\n",
       "      <td>2838</td>\n",
       "      <td>0.000352</td>\n",
       "    </tr>\n",
       "    <tr>\n",
       "      <th>77</th>\n",
       "      <td>Jewish: Canavan Disease, Gauchers Y_N</td>\n",
       "      <td>1</td>\n",
       "      <td>2838</td>\n",
       "      <td>0.000352</td>\n",
       "    </tr>\n",
       "    <tr>\n",
       "      <th>78</th>\n",
       "      <td>Patient History of sexual/physical abuse or tr...</td>\n",
       "      <td>1</td>\n",
       "      <td>2838</td>\n",
       "      <td>0.000352</td>\n",
       "    </tr>\n",
       "    <tr>\n",
       "      <th>79</th>\n",
       "      <td>Family History Sickle Cell Disease (African or...</td>\n",
       "      <td>1</td>\n",
       "      <td>2838</td>\n",
       "      <td>0.000352</td>\n",
       "    </tr>\n",
       "    <tr>\n",
       "      <th>80</th>\n",
       "      <td>Hematoligic Y_N</td>\n",
       "      <td>1</td>\n",
       "      <td>2838</td>\n",
       "      <td>0.000352</td>\n",
       "    </tr>\n",
       "    <tr>\n",
       "      <th>81</th>\n",
       "      <td>Maternal metabolic or endocrine disorders (Dia...</td>\n",
       "      <td>1</td>\n",
       "      <td>2838</td>\n",
       "      <td>0.000352</td>\n",
       "    </tr>\n",
       "    <tr>\n",
       "      <th>82</th>\n",
       "      <td>Patient History Other Hospitalizations Y_N</td>\n",
       "      <td>0</td>\n",
       "      <td>2838</td>\n",
       "      <td>0.000000</td>\n",
       "    </tr>\n",
       "    <tr>\n",
       "      <th>83</th>\n",
       "      <td>Patient History STDs Y_N</td>\n",
       "      <td>0</td>\n",
       "      <td>2838</td>\n",
       "      <td>0.000000</td>\n",
       "    </tr>\n",
       "    <tr>\n",
       "      <th>84</th>\n",
       "      <td>Jewish, Cajun, French Canadian (Tay Sachs) Y_N</td>\n",
       "      <td>0</td>\n",
       "      <td>2838</td>\n",
       "      <td>0.000000</td>\n",
       "    </tr>\n",
       "    <tr>\n",
       "      <th>85</th>\n",
       "      <td>Family History Mental Retardation Y_N</td>\n",
       "      <td>0</td>\n",
       "      <td>2838</td>\n",
       "      <td>0.000000</td>\n",
       "    </tr>\n",
       "    <tr>\n",
       "      <th>86</th>\n",
       "      <td>Patient History Other structural Birth defect Y_N</td>\n",
       "      <td>0</td>\n",
       "      <td>2838</td>\n",
       "      <td>0.000000</td>\n",
       "    </tr>\n",
       "    <tr>\n",
       "      <th>87</th>\n",
       "      <td>Family History Huntington's Chorea Y_N</td>\n",
       "      <td>0</td>\n",
       "      <td>2838</td>\n",
       "      <td>0.000000</td>\n",
       "    </tr>\n",
       "    <tr>\n",
       "      <th>88</th>\n",
       "      <td>Family History Heart Disease Y_N</td>\n",
       "      <td>0</td>\n",
       "      <td>2838</td>\n",
       "      <td>0.000000</td>\n",
       "    </tr>\n",
       "    <tr>\n",
       "      <th>89</th>\n",
       "      <td>Family History Jewish: Canavan Disease, Gauche...</td>\n",
       "      <td>0</td>\n",
       "      <td>2838</td>\n",
       "      <td>0.000000</td>\n",
       "    </tr>\n",
       "    <tr>\n",
       "      <th>90</th>\n",
       "      <td>Patient's age greater than 34 at delivery Y_N</td>\n",
       "      <td>0</td>\n",
       "      <td>2838</td>\n",
       "      <td>0.000000</td>\n",
       "    </tr>\n",
       "    <tr>\n",
       "      <th>91</th>\n",
       "      <td>Patient History Immune or Infectious Disease Y_N</td>\n",
       "      <td>0</td>\n",
       "      <td>2838</td>\n",
       "      <td>0.000000</td>\n",
       "    </tr>\n",
       "    <tr>\n",
       "      <th>92</th>\n",
       "      <td>Family History Immune or Infectious Disease Y_N</td>\n",
       "      <td>0</td>\n",
       "      <td>2838</td>\n",
       "      <td>0.000000</td>\n",
       "    </tr>\n",
       "    <tr>\n",
       "      <th>93</th>\n",
       "      <td>Patient History Down Syndrome Y_N</td>\n",
       "      <td>0</td>\n",
       "      <td>2838</td>\n",
       "      <td>0.000000</td>\n",
       "    </tr>\n",
       "    <tr>\n",
       "      <th>94</th>\n",
       "      <td>GRID</td>\n",
       "      <td>0</td>\n",
       "      <td>2838</td>\n",
       "      <td>0.000000</td>\n",
       "    </tr>\n",
       "  </tbody>\n",
       "</table>\n",
       "<p>95 rows × 4 columns</p>\n",
       "</div>"
      ],
      "text/plain": [
       "                                                index  num_missing  total  \\\n",
       "0                                              Parity         2485   2838   \n",
       "1                          History Previous C-section         2456   2838   \n",
       "2                                      Preterm_births         1175   2838   \n",
       "3                                            Abortion         1031   2838   \n",
       "4                                         Term_births          968   2838   \n",
       "5                                       Live_Children          949   2838   \n",
       "6                      Pregnancy Induced Hypertension          322   2838   \n",
       "7                         Urinary tract infection Y_N          317   2838   \n",
       "8                     Menses every 28 to 30 days  Y_N          301   2838   \n",
       "9                                Regular exercise Y_N          235   2838   \n",
       "10        Patient History Congential Heart Defect Y_N          215   2838   \n",
       "11  Patient History Other inherited or chromosomal...          193   2838   \n",
       "12                    Endocrine Metabolic Patient Y_N          191   2838   \n",
       "13                                          Gravidity          187   2838   \n",
       "14                                        Tobacco Y_N          122   2838   \n",
       "15                                          Drugs Y_N          113   2838   \n",
       "16                                        Alcohol Y_N           98   2838   \n",
       "17              Family History Muscular Dystrophy Y_N           18   2838   \n",
       "18                           Family History Other Y_N            8   2838   \n",
       "19                          Patient History Other Y_N            7   2838   \n",
       "20                      Patient History Genetic other            6   2838   \n",
       "21                       Family History Genetic other            5   2838   \n",
       "22         Family History Tobacco, Alcohol, Drugs Y_N            5   2838   \n",
       "23                    Family History Gyn Problems Y_N            4   2838   \n",
       "24         Family History Congential Heart Defect Y_N            4   2838   \n",
       "25                   Patient History Malignancies Y_N            4   2838   \n",
       "26  Family History Urinary tract problems includin...            4   2838   \n",
       "27                  Family History Breast Disease Y_N            4   2838   \n",
       "28                  Patient History Heart Disease Y_N            4   2838   \n",
       "29                     Family History GI Problems Y_N            3   2838   \n",
       "..                                                ...          ...    ...   \n",
       "65                 Patient History Breast Disease Y_N            1   2838   \n",
       "66        Patient History Tobacco, Alcohol, Drugs Y_N            1   2838   \n",
       "67  Patient History Thalessemia (Italian, Greek, M...            1   2838   \n",
       "68              Patient History Pulmonary Disease Y_N            1   2838   \n",
       "69      Patient History Phlebitis or varicocities Y_N            1   2838   \n",
       "70             Patient History Neural Tube Defect Y_N            1   2838   \n",
       "71             Patient History Muscular Dystrophy Y_N            1   2838   \n",
       "72  Patient History Infertility or Recurrent Spont...            1   2838   \n",
       "73            Patient History Huntington's Chorea Y_N            1   2838   \n",
       "74  Patient History Hemophilia or other blood diso...            1   2838   \n",
       "75   Family History Other structural Birth defect Y_N            1   2838   \n",
       "76                Patient History Cystic Fibrosis Y_N            1   2838   \n",
       "77              Jewish: Canavan Disease, Gauchers Y_N            1   2838   \n",
       "78  Patient History of sexual/physical abuse or tr...            1   2838   \n",
       "79  Family History Sickle Cell Disease (African or...            1   2838   \n",
       "80                                    Hematoligic Y_N            1   2838   \n",
       "81  Maternal metabolic or endocrine disorders (Dia...            1   2838   \n",
       "82         Patient History Other Hospitalizations Y_N            0   2838   \n",
       "83                           Patient History STDs Y_N            0   2838   \n",
       "84     Jewish, Cajun, French Canadian (Tay Sachs) Y_N            0   2838   \n",
       "85              Family History Mental Retardation Y_N            0   2838   \n",
       "86  Patient History Other structural Birth defect Y_N            0   2838   \n",
       "87             Family History Huntington's Chorea Y_N            0   2838   \n",
       "88                   Family History Heart Disease Y_N            0   2838   \n",
       "89  Family History Jewish: Canavan Disease, Gauche...            0   2838   \n",
       "90      Patient's age greater than 34 at delivery Y_N            0   2838   \n",
       "91   Patient History Immune or Infectious Disease Y_N            0   2838   \n",
       "92    Family History Immune or Infectious Disease Y_N            0   2838   \n",
       "93                  Patient History Down Syndrome Y_N            0   2838   \n",
       "94                                               GRID            0   2838   \n",
       "\n",
       "    percent_missing  \n",
       "0          0.875617  \n",
       "1          0.865398  \n",
       "2          0.414024  \n",
       "3          0.363284  \n",
       "4          0.341085  \n",
       "5          0.334390  \n",
       "6          0.113460  \n",
       "7          0.111698  \n",
       "8          0.106061  \n",
       "9          0.082805  \n",
       "10         0.075758  \n",
       "11         0.068006  \n",
       "12         0.067301  \n",
       "13         0.065891  \n",
       "14         0.042988  \n",
       "15         0.039817  \n",
       "16         0.034531  \n",
       "17         0.006342  \n",
       "18         0.002819  \n",
       "19         0.002467  \n",
       "20         0.002114  \n",
       "21         0.001762  \n",
       "22         0.001762  \n",
       "23         0.001409  \n",
       "24         0.001409  \n",
       "25         0.001409  \n",
       "26         0.001409  \n",
       "27         0.001409  \n",
       "28         0.001409  \n",
       "29         0.001057  \n",
       "..              ...  \n",
       "65         0.000352  \n",
       "66         0.000352  \n",
       "67         0.000352  \n",
       "68         0.000352  \n",
       "69         0.000352  \n",
       "70         0.000352  \n",
       "71         0.000352  \n",
       "72         0.000352  \n",
       "73         0.000352  \n",
       "74         0.000352  \n",
       "75         0.000352  \n",
       "76         0.000352  \n",
       "77         0.000352  \n",
       "78         0.000352  \n",
       "79         0.000352  \n",
       "80         0.000352  \n",
       "81         0.000352  \n",
       "82         0.000000  \n",
       "83         0.000000  \n",
       "84         0.000000  \n",
       "85         0.000000  \n",
       "86         0.000000  \n",
       "87         0.000000  \n",
       "88         0.000000  \n",
       "89         0.000000  \n",
       "90         0.000000  \n",
       "91         0.000000  \n",
       "92         0.000000  \n",
       "93         0.000000  \n",
       "94         0.000000  \n",
       "\n",
       "[95 rows x 4 columns]"
      ]
     },
     "execution_count": 9,
     "metadata": {},
     "output_type": "execute_result"
    }
   ],
   "source": [
    "col_to_remove = col_missing.iloc[0:2, 0].values\n",
    "col_to_remove\n",
    "col_missing\n",
    "# remove Parity and Hx of C/S "
   ]
  },
  {
   "cell_type": "markdown",
   "metadata": {},
   "source": [
    "#### cleaned ob_df"
   ]
  },
  {
   "cell_type": "code",
   "execution_count": 10,
   "metadata": {
    "ExecuteTime": {
     "end_time": "2019-01-28T23:42:42.272926Z",
     "start_time": "2019-01-28T23:42:42.265336Z"
    }
   },
   "outputs": [],
   "source": [
    "clean_ob_df = ob_df.drop(col_to_remove, axis=1)"
   ]
  },
  {
   "cell_type": "code",
   "execution_count": 11,
   "metadata": {
    "ExecuteTime": {
     "end_time": "2019-01-28T23:42:51.491951Z",
     "start_time": "2019-01-28T23:42:51.433610Z"
    }
   },
   "outputs": [
    {
     "data": {
      "text/html": [
       "<div>\n",
       "<style scoped>\n",
       "    .dataframe tbody tr th:only-of-type {\n",
       "        vertical-align: middle;\n",
       "    }\n",
       "\n",
       "    .dataframe tbody tr th {\n",
       "        vertical-align: top;\n",
       "    }\n",
       "\n",
       "    .dataframe thead th {\n",
       "        text-align: right;\n",
       "    }\n",
       "</style>\n",
       "<table border=\"1\" class=\"dataframe\">\n",
       "  <thead>\n",
       "    <tr style=\"text-align: right;\">\n",
       "      <th></th>\n",
       "      <th>GRID</th>\n",
       "      <th>Abortion</th>\n",
       "      <th>Alcohol Y_N</th>\n",
       "      <th>Baby's father had a child with birth defect not listed</th>\n",
       "      <th>Baby's father's family has history of birth defect not listed</th>\n",
       "      <th>Drugs Y_N</th>\n",
       "      <th>Endocrine Metabolic Patient Y_N</th>\n",
       "      <th>Endocrine metaboloic Patient History Y_N</th>\n",
       "      <th>Familly History Thalessemia (Italian, Greek, Mediterranean, or Asian Background); MCV &lt;80 Y_N</th>\n",
       "      <th>Family History Breast Disease Y_N</th>\n",
       "      <th>...</th>\n",
       "      <th>Patient History Urinary tract problems including UTIs and Pyel Y_N</th>\n",
       "      <th>Patient History of Seizure</th>\n",
       "      <th>Patient History of sexual/physical abuse or trauma Y_N</th>\n",
       "      <th>Patient's age greater than 34 at delivery Y_N</th>\n",
       "      <th>Pregnancy Induced Hypertension</th>\n",
       "      <th>Preterm_births</th>\n",
       "      <th>Regular exercise Y_N</th>\n",
       "      <th>Term_births</th>\n",
       "      <th>Tobacco Y_N</th>\n",
       "      <th>Urinary tract infection Y_N</th>\n",
       "    </tr>\n",
       "  </thead>\n",
       "  <tbody>\n",
       "    <tr>\n",
       "      <th>0</th>\n",
       "      <td>R200021053</td>\n",
       "      <td>NaN</td>\n",
       "      <td>No</td>\n",
       "      <td>No</td>\n",
       "      <td>No</td>\n",
       "      <td>No</td>\n",
       "      <td>No</td>\n",
       "      <td>No</td>\n",
       "      <td>No</td>\n",
       "      <td>No</td>\n",
       "      <td>...</td>\n",
       "      <td>No</td>\n",
       "      <td>No</td>\n",
       "      <td>No</td>\n",
       "      <td>No</td>\n",
       "      <td>No</td>\n",
       "      <td>NaN</td>\n",
       "      <td>Yes</td>\n",
       "      <td>NaN</td>\n",
       "      <td>No</td>\n",
       "      <td>No</td>\n",
       "    </tr>\n",
       "    <tr>\n",
       "      <th>1</th>\n",
       "      <td>R200092312</td>\n",
       "      <td>1.0</td>\n",
       "      <td>No</td>\n",
       "      <td>No</td>\n",
       "      <td>No</td>\n",
       "      <td>No</td>\n",
       "      <td>No</td>\n",
       "      <td>Yes</td>\n",
       "      <td>No</td>\n",
       "      <td>No</td>\n",
       "      <td>...</td>\n",
       "      <td>No</td>\n",
       "      <td>No</td>\n",
       "      <td>No</td>\n",
       "      <td>No</td>\n",
       "      <td>No</td>\n",
       "      <td>NaN</td>\n",
       "      <td>No</td>\n",
       "      <td>5.0</td>\n",
       "      <td>No</td>\n",
       "      <td>No</td>\n",
       "    </tr>\n",
       "    <tr>\n",
       "      <th>2</th>\n",
       "      <td>R200142144</td>\n",
       "      <td>0.0</td>\n",
       "      <td>No</td>\n",
       "      <td>No</td>\n",
       "      <td>No</td>\n",
       "      <td>No</td>\n",
       "      <td>No</td>\n",
       "      <td>No</td>\n",
       "      <td>No</td>\n",
       "      <td>No</td>\n",
       "      <td>...</td>\n",
       "      <td>No</td>\n",
       "      <td>No</td>\n",
       "      <td>No</td>\n",
       "      <td>No</td>\n",
       "      <td>No</td>\n",
       "      <td>0.0</td>\n",
       "      <td>No</td>\n",
       "      <td>2.0</td>\n",
       "      <td>No</td>\n",
       "      <td>No</td>\n",
       "    </tr>\n",
       "    <tr>\n",
       "      <th>3</th>\n",
       "      <td>R200185498</td>\n",
       "      <td>NaN</td>\n",
       "      <td>No</td>\n",
       "      <td>No</td>\n",
       "      <td>No</td>\n",
       "      <td>No</td>\n",
       "      <td>No</td>\n",
       "      <td>Yes</td>\n",
       "      <td>No</td>\n",
       "      <td>No</td>\n",
       "      <td>...</td>\n",
       "      <td>No</td>\n",
       "      <td>No</td>\n",
       "      <td>No</td>\n",
       "      <td>No</td>\n",
       "      <td>No</td>\n",
       "      <td>NaN</td>\n",
       "      <td>Yes</td>\n",
       "      <td>NaN</td>\n",
       "      <td>No</td>\n",
       "      <td>No</td>\n",
       "    </tr>\n",
       "    <tr>\n",
       "      <th>4</th>\n",
       "      <td>R200265173</td>\n",
       "      <td>NaN</td>\n",
       "      <td>NaN</td>\n",
       "      <td>No</td>\n",
       "      <td>No</td>\n",
       "      <td>NaN</td>\n",
       "      <td>NaN</td>\n",
       "      <td>No</td>\n",
       "      <td>No</td>\n",
       "      <td>No</td>\n",
       "      <td>...</td>\n",
       "      <td>No</td>\n",
       "      <td>No</td>\n",
       "      <td>No</td>\n",
       "      <td>No</td>\n",
       "      <td>No</td>\n",
       "      <td>NaN</td>\n",
       "      <td>NaN</td>\n",
       "      <td>NaN</td>\n",
       "      <td>NaN</td>\n",
       "      <td>No</td>\n",
       "    </tr>\n",
       "  </tbody>\n",
       "</table>\n",
       "<p>5 rows × 93 columns</p>\n",
       "</div>"
      ],
      "text/plain": [
       "         GRID  Abortion Alcohol Y_N  \\\n",
       "0  R200021053       NaN          No   \n",
       "1  R200092312       1.0          No   \n",
       "2  R200142144       0.0          No   \n",
       "3  R200185498       NaN          No   \n",
       "4  R200265173       NaN         NaN   \n",
       "\n",
       "  Baby's father had a child with birth defect not listed  \\\n",
       "0                                                 No       \n",
       "1                                                 No       \n",
       "2                                                 No       \n",
       "3                                                 No       \n",
       "4                                                 No       \n",
       "\n",
       "  Baby's father's family has history of birth defect not listed Drugs Y_N  \\\n",
       "0                                                 No                   No   \n",
       "1                                                 No                   No   \n",
       "2                                                 No                   No   \n",
       "3                                                 No                   No   \n",
       "4                                                 No                  NaN   \n",
       "\n",
       "  Endocrine Metabolic Patient Y_N Endocrine metaboloic Patient History Y_N  \\\n",
       "0                              No                                       No   \n",
       "1                              No                                      Yes   \n",
       "2                              No                                       No   \n",
       "3                              No                                      Yes   \n",
       "4                             NaN                                       No   \n",
       "\n",
       "  Familly History Thalessemia (Italian, Greek, Mediterranean, or Asian Background); MCV <80 Y_N  \\\n",
       "0                                                 No                                              \n",
       "1                                                 No                                              \n",
       "2                                                 No                                              \n",
       "3                                                 No                                              \n",
       "4                                                 No                                              \n",
       "\n",
       "  Family History Breast Disease Y_N             ...              \\\n",
       "0                                No             ...               \n",
       "1                                No             ...               \n",
       "2                                No             ...               \n",
       "3                                No             ...               \n",
       "4                                No             ...               \n",
       "\n",
       "  Patient History Urinary tract problems including UTIs and Pyel Y_N  \\\n",
       "0                                                 No                   \n",
       "1                                                 No                   \n",
       "2                                                 No                   \n",
       "3                                                 No                   \n",
       "4                                                 No                   \n",
       "\n",
       "  Patient History of Seizure  \\\n",
       "0                         No   \n",
       "1                         No   \n",
       "2                         No   \n",
       "3                         No   \n",
       "4                         No   \n",
       "\n",
       "  Patient History of sexual/physical abuse or trauma Y_N  \\\n",
       "0                                                 No       \n",
       "1                                                 No       \n",
       "2                                                 No       \n",
       "3                                                 No       \n",
       "4                                                 No       \n",
       "\n",
       "  Patient's age greater than 34 at delivery Y_N  \\\n",
       "0                                            No   \n",
       "1                                            No   \n",
       "2                                            No   \n",
       "3                                            No   \n",
       "4                                            No   \n",
       "\n",
       "  Pregnancy Induced Hypertension Preterm_births Regular exercise Y_N  \\\n",
       "0                             No            NaN                  Yes   \n",
       "1                             No            NaN                   No   \n",
       "2                             No            0.0                   No   \n",
       "3                             No            NaN                  Yes   \n",
       "4                             No            NaN                  NaN   \n",
       "\n",
       "  Term_births Tobacco Y_N Urinary tract infection Y_N  \n",
       "0         NaN          No                          No  \n",
       "1         5.0          No                          No  \n",
       "2         2.0          No                          No  \n",
       "3         NaN          No                          No  \n",
       "4         NaN         NaN                          No  \n",
       "\n",
       "[5 rows x 93 columns]"
      ]
     },
     "execution_count": 11,
     "metadata": {},
     "output_type": "execute_result"
    },
    {
     "data": {
      "text/plain": [
       "(2838, 93)"
      ]
     },
     "execution_count": 11,
     "metadata": {},
     "output_type": "execute_result"
    }
   ],
   "source": [
    "clean_ob_df.head()\n",
    "clean_ob_df.shape"
   ]
  },
  {
   "cell_type": "code",
   "execution_count": 24,
   "metadata": {
    "ExecuteTime": {
     "end_time": "2019-01-02T08:35:26.362887Z",
     "start_time": "2019-01-02T08:35:23.151200Z"
    }
   },
   "outputs": [
    {
     "data": {
      "text/plain": [
       "[[]]"
      ]
     },
     "execution_count": 24,
     "metadata": {},
     "output_type": "execute_result"
    },
    {
     "data": {
      "text/plain": [
       "[[]]"
      ]
     },
     "execution_count": 24,
     "metadata": {},
     "output_type": "execute_result"
    },
    {
     "data": {
      "image/png": "[encoded data removed]",
      "text/plain": [
       "<matplotlib.figure.Figure at 0x7f0726309f28>"
      ]
     },
     "metadata": {},
     "output_type": "display_data"
    }
   ],
   "source": [
    "# visualize missing data \n",
    "# full dataset \n",
    "sns.set(style='whitegrid',rc={'figure.figsize':(16,10)})\n",
    "sns.set_context(\"paper\")\n",
    "truth_array = (clean_ob_df.isnull()).values\n",
    "ax = sns.clustermap(truth_array, cmap=sns.dark_palette(\"red\"))\n",
    "hax = ax.ax_heatmap\n",
    "hax.set(xticklabels=[])\n",
    "hax.set(yticklabels=[])"
   ]
  },
  {
   "cell_type": "markdown",
   "metadata": {},
   "source": [
    "#### check shape when merging  df"
   ]
  },
  {
   "cell_type": "code",
   "execution_count": 12,
   "metadata": {
    "ExecuteTime": {
     "end_time": "2019-01-28T23:44:02.847252Z",
     "start_time": "2019-01-28T23:44:02.828320Z"
    }
   },
   "outputs": [],
   "source": [
    "binary_ob_df = clean_ob_df.copy()\n",
    "binary_ob_df.set_index('GRID', inplace=True)"
   ]
  },
  {
   "cell_type": "code",
   "execution_count": 13,
   "metadata": {
    "ExecuteTime": {
     "end_time": "2019-01-28T23:44:05.190096Z",
     "start_time": "2019-01-28T23:44:04.999358Z"
    }
   },
   "outputs": [],
   "source": [
    "binary_ob_df.replace('No', 0, inplace=True)\n",
    "binary_ob_df.replace('Yes', 1, inplace=True)\n",
    "binary_ob_df = binary_ob_df.apply(pd.to_numeric)"
   ]
  },
  {
   "cell_type": "code",
   "execution_count": 15,
   "metadata": {
    "ExecuteTime": {
     "end_time": "2019-01-28T23:44:54.279838Z",
     "start_time": "2019-01-28T23:44:54.273515Z"
    }
   },
   "outputs": [],
   "source": [
    "binary_ob_df.reset_index(inplace=True)"
   ]
  },
  {
   "cell_type": "code",
   "execution_count": 18,
   "metadata": {
    "ExecuteTime": {
     "end_time": "2019-01-28T23:49:13.051091Z",
     "start_time": "2019-01-28T23:49:12.995078Z"
    }
   },
   "outputs": [
    {
     "data": {
      "text/html": [
       "<div>\n",
       "<style scoped>\n",
       "    .dataframe tbody tr th:only-of-type {\n",
       "        vertical-align: middle;\n",
       "    }\n",
       "\n",
       "    .dataframe tbody tr th {\n",
       "        vertical-align: top;\n",
       "    }\n",
       "\n",
       "    .dataframe thead th {\n",
       "        text-align: right;\n",
       "    }\n",
       "</style>\n",
       "<table border=\"1\" class=\"dataframe\">\n",
       "  <thead>\n",
       "    <tr style=\"text-align: right;\">\n",
       "      <th></th>\n",
       "      <th>index</th>\n",
       "      <th>GRID</th>\n",
       "      <th>Abortion</th>\n",
       "      <th>Alcohol Y_N</th>\n",
       "      <th>Baby's father had a child with birth defect not listed</th>\n",
       "      <th>Baby's father's family has history of birth defect not listed</th>\n",
       "      <th>Drugs Y_N</th>\n",
       "      <th>Endocrine Metabolic Patient Y_N</th>\n",
       "      <th>Endocrine metaboloic Patient History Y_N</th>\n",
       "      <th>Familly History Thalessemia (Italian, Greek, Mediterranean, or Asian Background); MCV &lt;80 Y_N</th>\n",
       "      <th>...</th>\n",
       "      <th>Patient History Urinary tract problems including UTIs and Pyel Y_N</th>\n",
       "      <th>Patient History of Seizure</th>\n",
       "      <th>Patient History of sexual/physical abuse or trauma Y_N</th>\n",
       "      <th>Patient's age greater than 34 at delivery Y_N</th>\n",
       "      <th>Pregnancy Induced Hypertension</th>\n",
       "      <th>Preterm_births</th>\n",
       "      <th>Regular exercise Y_N</th>\n",
       "      <th>Term_births</th>\n",
       "      <th>Tobacco Y_N</th>\n",
       "      <th>Urinary tract infection Y_N</th>\n",
       "    </tr>\n",
       "  </thead>\n",
       "  <tbody>\n",
       "    <tr>\n",
       "      <th>0</th>\n",
       "      <td>0</td>\n",
       "      <td>R200021053</td>\n",
       "      <td>NaN</td>\n",
       "      <td>0.0</td>\n",
       "      <td>0.0</td>\n",
       "      <td>0.0</td>\n",
       "      <td>0.0</td>\n",
       "      <td>0.0</td>\n",
       "      <td>0.0</td>\n",
       "      <td>0.0</td>\n",
       "      <td>...</td>\n",
       "      <td>0.0</td>\n",
       "      <td>0.0</td>\n",
       "      <td>0.0</td>\n",
       "      <td>0</td>\n",
       "      <td>0.0</td>\n",
       "      <td>NaN</td>\n",
       "      <td>1.0</td>\n",
       "      <td>NaN</td>\n",
       "      <td>0.0</td>\n",
       "      <td>0.0</td>\n",
       "    </tr>\n",
       "    <tr>\n",
       "      <th>1</th>\n",
       "      <td>1</td>\n",
       "      <td>R200092312</td>\n",
       "      <td>1.0</td>\n",
       "      <td>0.0</td>\n",
       "      <td>0.0</td>\n",
       "      <td>0.0</td>\n",
       "      <td>0.0</td>\n",
       "      <td>0.0</td>\n",
       "      <td>1.0</td>\n",
       "      <td>0.0</td>\n",
       "      <td>...</td>\n",
       "      <td>0.0</td>\n",
       "      <td>0.0</td>\n",
       "      <td>0.0</td>\n",
       "      <td>0</td>\n",
       "      <td>0.0</td>\n",
       "      <td>NaN</td>\n",
       "      <td>0.0</td>\n",
       "      <td>5.0</td>\n",
       "      <td>0.0</td>\n",
       "      <td>0.0</td>\n",
       "    </tr>\n",
       "    <tr>\n",
       "      <th>2</th>\n",
       "      <td>2</td>\n",
       "      <td>R200142144</td>\n",
       "      <td>0.0</td>\n",
       "      <td>0.0</td>\n",
       "      <td>0.0</td>\n",
       "      <td>0.0</td>\n",
       "      <td>0.0</td>\n",
       "      <td>0.0</td>\n",
       "      <td>0.0</td>\n",
       "      <td>0.0</td>\n",
       "      <td>...</td>\n",
       "      <td>0.0</td>\n",
       "      <td>0.0</td>\n",
       "      <td>0.0</td>\n",
       "      <td>0</td>\n",
       "      <td>0.0</td>\n",
       "      <td>0.0</td>\n",
       "      <td>0.0</td>\n",
       "      <td>2.0</td>\n",
       "      <td>0.0</td>\n",
       "      <td>0.0</td>\n",
       "    </tr>\n",
       "    <tr>\n",
       "      <th>3</th>\n",
       "      <td>3</td>\n",
       "      <td>R200185498</td>\n",
       "      <td>NaN</td>\n",
       "      <td>0.0</td>\n",
       "      <td>0.0</td>\n",
       "      <td>0.0</td>\n",
       "      <td>0.0</td>\n",
       "      <td>0.0</td>\n",
       "      <td>1.0</td>\n",
       "      <td>0.0</td>\n",
       "      <td>...</td>\n",
       "      <td>0.0</td>\n",
       "      <td>0.0</td>\n",
       "      <td>0.0</td>\n",
       "      <td>0</td>\n",
       "      <td>0.0</td>\n",
       "      <td>NaN</td>\n",
       "      <td>1.0</td>\n",
       "      <td>NaN</td>\n",
       "      <td>0.0</td>\n",
       "      <td>0.0</td>\n",
       "    </tr>\n",
       "    <tr>\n",
       "      <th>4</th>\n",
       "      <td>4</td>\n",
       "      <td>R200265173</td>\n",
       "      <td>NaN</td>\n",
       "      <td>NaN</td>\n",
       "      <td>0.0</td>\n",
       "      <td>0.0</td>\n",
       "      <td>NaN</td>\n",
       "      <td>NaN</td>\n",
       "      <td>0.0</td>\n",
       "      <td>0.0</td>\n",
       "      <td>...</td>\n",
       "      <td>0.0</td>\n",
       "      <td>0.0</td>\n",
       "      <td>0.0</td>\n",
       "      <td>0</td>\n",
       "      <td>0.0</td>\n",
       "      <td>NaN</td>\n",
       "      <td>NaN</td>\n",
       "      <td>NaN</td>\n",
       "      <td>NaN</td>\n",
       "      <td>0.0</td>\n",
       "    </tr>\n",
       "  </tbody>\n",
       "</table>\n",
       "<p>5 rows × 94 columns</p>\n",
       "</div>"
      ],
      "text/plain": [
       "   index        GRID  Abortion  Alcohol Y_N  \\\n",
       "0      0  R200021053       NaN          0.0   \n",
       "1      1  R200092312       1.0          0.0   \n",
       "2      2  R200142144       0.0          0.0   \n",
       "3      3  R200185498       NaN          0.0   \n",
       "4      4  R200265173       NaN          NaN   \n",
       "\n",
       "   Baby's father had a child with birth defect not listed  \\\n",
       "0                                                0.0        \n",
       "1                                                0.0        \n",
       "2                                                0.0        \n",
       "3                                                0.0        \n",
       "4                                                0.0        \n",
       "\n",
       "   Baby's father's family has history of birth defect not listed  Drugs Y_N  \\\n",
       "0                                                0.0                    0.0   \n",
       "1                                                0.0                    0.0   \n",
       "2                                                0.0                    0.0   \n",
       "3                                                0.0                    0.0   \n",
       "4                                                0.0                    NaN   \n",
       "\n",
       "   Endocrine Metabolic Patient Y_N  Endocrine metaboloic Patient History Y_N  \\\n",
       "0                              0.0                                       0.0   \n",
       "1                              0.0                                       1.0   \n",
       "2                              0.0                                       0.0   \n",
       "3                              0.0                                       1.0   \n",
       "4                              NaN                                       0.0   \n",
       "\n",
       "   Familly History Thalessemia (Italian, Greek, Mediterranean, or Asian Background); MCV <80 Y_N  \\\n",
       "0                                                0.0                                               \n",
       "1                                                0.0                                               \n",
       "2                                                0.0                                               \n",
       "3                                                0.0                                               \n",
       "4                                                0.0                                               \n",
       "\n",
       "              ...               \\\n",
       "0             ...                \n",
       "1             ...                \n",
       "2             ...                \n",
       "3             ...                \n",
       "4             ...                \n",
       "\n",
       "   Patient History Urinary tract problems including UTIs and Pyel Y_N  \\\n",
       "0                                                0.0                    \n",
       "1                                                0.0                    \n",
       "2                                                0.0                    \n",
       "3                                                0.0                    \n",
       "4                                                0.0                    \n",
       "\n",
       "   Patient History of Seizure  \\\n",
       "0                         0.0   \n",
       "1                         0.0   \n",
       "2                         0.0   \n",
       "3                         0.0   \n",
       "4                         0.0   \n",
       "\n",
       "   Patient History of sexual/physical abuse or trauma Y_N  \\\n",
       "0                                                0.0        \n",
       "1                                                0.0        \n",
       "2                                                0.0        \n",
       "3                                                0.0        \n",
       "4                                                0.0        \n",
       "\n",
       "   Patient's age greater than 34 at delivery Y_N  \\\n",
       "0                                              0   \n",
       "1                                              0   \n",
       "2                                              0   \n",
       "3                                              0   \n",
       "4                                              0   \n",
       "\n",
       "   Pregnancy Induced Hypertension  Preterm_births  Regular exercise Y_N  \\\n",
       "0                             0.0             NaN                   1.0   \n",
       "1                             0.0             NaN                   0.0   \n",
       "2                             0.0             0.0                   0.0   \n",
       "3                             0.0             NaN                   1.0   \n",
       "4                             0.0             NaN                   NaN   \n",
       "\n",
       "   Term_births  Tobacco Y_N  Urinary tract infection Y_N  \n",
       "0          NaN          0.0                          0.0  \n",
       "1          5.0          0.0                          0.0  \n",
       "2          2.0          0.0                          0.0  \n",
       "3          NaN          0.0                          0.0  \n",
       "4          NaN          NaN                          0.0  \n",
       "\n",
       "[5 rows x 94 columns]"
      ]
     },
     "execution_count": 18,
     "metadata": {},
     "output_type": "execute_result"
    },
    {
     "data": {
      "text/plain": [
       "array([nan,  5.,  2.,  3.,  0.,  1.,  4.,  6.,  7.,  8.])"
      ]
     },
     "execution_count": 18,
     "metadata": {},
     "output_type": "execute_result"
    }
   ],
   "source": [
    "binary_ob_df.head()\n",
    "binary_ob_df[\"Term_births\"].unique()"
   ]
  },
  {
   "cell_type": "markdown",
   "metadata": {},
   "source": []
  },
  {
   "cell_type": "code",
   "execution_count": 58,
   "metadata": {
    "ExecuteTime": {
     "end_time": "2019-01-02T08:42:57.718879Z",
     "start_time": "2019-01-02T08:42:56.638741Z"
    },
    "collapsed": true
   },
   "outputs": [],
   "source": [
    "# merge \n",
    "icd_ob_df = pd.merge(icd_df, binary_ob_df, on='GRID', how='inner')\n",
    "icd_ob_age_df = pd.merge(icd_ob_df, age_df, on='GRID', how='inner')\n",
    "icd_ob_age_race_df = pd.merge(icd_ob_age_df, race_df, on='GRID', how='inner')\n",
    "icd_ob_age_race_prs_df = pd.merge(icd_ob_age_race_df, prs_df, on='GRID', how='inner')"
   ]
  },
  {
   "cell_type": "code",
   "execution_count": 59,
   "metadata": {
    "ExecuteTime": {
     "end_time": "2019-01-02T08:42:58.347120Z",
     "start_time": "2019-01-02T08:42:57.721417Z"
    },
    "collapsed": true
   },
   "outputs": [],
   "source": [
    "# merge with BEFORE ICD\n",
    "before_icd_ob_df = pd.merge(before_icd_df, binary_ob_df, on='GRID', how='inner')\n",
    "before_icd_ob_age_df = pd.merge(before_icd_ob_df, age_df, on='GRID', how='inner')\n",
    "before_icd_ob_age_race_df = pd.merge(before_icd_ob_age_df, race_df, on='GRID', how='inner')\n",
    "before_icd_ob_age_race_prs_df = pd.merge(before_icd_ob_age_race_df, prs_df, on='GRID', how='inner')"
   ]
  },
  {
   "cell_type": "code",
   "execution_count": 60,
   "metadata": {
    "ExecuteTime": {
     "end_time": "2019-01-02T08:42:58.418812Z",
     "start_time": "2019-01-02T08:42:58.349708Z"
    }
   },
   "outputs": [
    {
     "data": {
      "text/plain": [
       "2644"
      ]
     },
     "execution_count": 60,
     "metadata": {},
     "output_type": "execute_result"
    },
    {
     "data": {
      "text/plain": [
       "2635"
      ]
     },
     "execution_count": 60,
     "metadata": {},
     "output_type": "execute_result"
    }
   ],
   "source": [
    "all_grids = set(binary_ob_df.GRID.values).intersection(set(\n",
    "    age_df.GRID.values)).intersection(set(race_df.GRID.values)).intersection(set(icd_df.GRID.values))\n",
    "\n",
    "len(all_grids)\n",
    "\n",
    "before_grids = set(binary_ob_df.GRID.values).intersection(set(\n",
    "    age_df.GRID.values)).intersection(set(race_df.GRID.values)).intersection(set(before_icd_df.GRID.values))\n",
    "\n",
    "len(before_grids)"
   ]
  },
  {
   "cell_type": "code",
   "execution_count": 61,
   "metadata": {
    "ExecuteTime": {
     "end_time": "2019-01-02T08:43:12.869015Z",
     "start_time": "2019-01-02T08:43:12.848744Z"
    }
   },
   "outputs": [
    {
     "name": "stdout",
     "output_type": "stream",
     "text": [
      "shape of icd_df:\n",
      "(69310, 13622)\n",
      "\n",
      "shape of ob_df:\n",
      "(2838, 93)\n",
      "\n",
      "shape of icd_ob_df:\n",
      "(2838, 13714)\n",
      "\n",
      "shape of icd_ob_age_df:\n",
      "(2732, 13715)\n",
      "\n",
      "shape of icd_ob_age_race_df:\n",
      "(2644, 13721)\n",
      "\n",
      "shape of icd_ob_age_race_prs_df:\n",
      "(83, 13722)\n",
      "\n"
     ]
    }
   ],
   "source": [
    "print(\"shape of icd_df:\\n{}\\n\".format(icd_df.shape))\n",
    "print(\"shape of ob_df:\\n{}\\n\".format(binary_ob_df.shape))\n",
    "print(\"shape of icd_ob_df:\\n{}\\n\".format(icd_ob_df.shape))\n",
    "print(\"shape of icd_ob_age_df:\\n{}\\n\".format(icd_ob_age_df.shape))\n",
    "print(\"shape of icd_ob_age_race_df:\\n{}\\n\".format(icd_ob_age_race_df.shape))\n",
    "print(\"shape of icd_ob_age_race_prs_df:\\n{}\\n\".format(icd_ob_age_race_prs_df.shape))"
   ]
  },
  {
   "cell_type": "code",
   "execution_count": 62,
   "metadata": {
    "ExecuteTime": {
     "end_time": "2019-01-02T08:43:14.878417Z",
     "start_time": "2019-01-02T08:43:14.858040Z"
    }
   },
   "outputs": [
    {
     "name": "stdout",
     "output_type": "stream",
     "text": [
      "shape of before_icd_df:\n",
      "(37606, 9861)\n",
      "\n",
      "shape of ob_df:\n",
      "(2838, 93)\n",
      "\n",
      "shape of before_icd_ob_df:\n",
      "(2828, 9953)\n",
      "\n",
      "shape of before_icd_ob_age_df:\n",
      "(2722, 9954)\n",
      "\n",
      "shape of before_icd_ob_age_race_df:\n",
      "(2635, 9960)\n",
      "\n",
      "shape of before_icd_ob_age_race_prs_df:\n",
      "(83, 9961)\n",
      "\n"
     ]
    }
   ],
   "source": [
    "print(\"shape of before_icd_df:\\n{}\\n\".format(before_icd_df.shape))\n",
    "print(\"shape of ob_df:\\n{}\\n\".format(binary_ob_df.shape))\n",
    "print(\"shape of before_icd_ob_df:\\n{}\\n\".format(before_icd_ob_df.shape))\n",
    "print(\"shape of before_icd_ob_age_df:\\n{}\\n\".format(before_icd_ob_age_df.shape))\n",
    "print(\"shape of before_icd_ob_age_race_df:\\n{}\\n\".format(before_icd_ob_age_race_df.shape))\n",
    "print(\"shape of before_icd_ob_age_race_prs_df:\\n{}\\n\".format(before_icd_ob_age_race_prs_df.shape))"
   ]
  },
  {
   "cell_type": "markdown",
   "metadata": {},
   "source": [
    "#### Write"
   ]
  },
  {
   "cell_type": "code",
   "execution_count": 64,
   "metadata": {
    "ExecuteTime": {
     "end_time": "2019-01-02T08:46:59.826585Z",
     "start_time": "2019-01-02T08:46:59.817517Z"
    }
   },
   "outputs": [
    {
     "data": {
      "text/plain": [
       "2635"
      ]
     },
     "execution_count": 64,
     "metadata": {},
     "output_type": "execute_result"
    }
   ],
   "source": [
    "len(before_grids)"
   ]
  },
  {
   "cell_type": "code",
   "execution_count": 29,
   "metadata": {
    "ExecuteTime": {
     "end_time": "2019-01-28T23:56:45.569780Z",
     "start_time": "2019-01-28T23:56:45.155158Z"
    }
   },
   "outputs": [
    {
     "data": {
      "text/html": [
       "<div>\n",
       "<style scoped>\n",
       "    .dataframe tbody tr th:only-of-type {\n",
       "        vertical-align: middle;\n",
       "    }\n",
       "\n",
       "    .dataframe tbody tr th {\n",
       "        vertical-align: top;\n",
       "    }\n",
       "\n",
       "    .dataframe thead th {\n",
       "        text-align: right;\n",
       "    }\n",
       "</style>\n",
       "<table border=\"1\" class=\"dataframe\">\n",
       "  <thead>\n",
       "    <tr style=\"text-align: right;\">\n",
       "      <th></th>\n",
       "      <th>index</th>\n",
       "      <th>GRID</th>\n",
       "      <th>Abortion</th>\n",
       "      <th>Alcohol Y_N</th>\n",
       "      <th>Baby's father had a child with birth defect not listed</th>\n",
       "      <th>Baby's father's family has history of birth defect not listed</th>\n",
       "      <th>Drugs Y_N</th>\n",
       "      <th>Endocrine Metabolic Patient Y_N</th>\n",
       "      <th>Endocrine metaboloic Patient History Y_N</th>\n",
       "      <th>Familly History Thalessemia (Italian, Greek, Mediterranean, or Asian Background); MCV &lt;80 Y_N</th>\n",
       "      <th>...</th>\n",
       "      <th>Patient History Urinary tract problems including UTIs and Pyel Y_N</th>\n",
       "      <th>Patient History of Seizure</th>\n",
       "      <th>Patient History of sexual/physical abuse or trauma Y_N</th>\n",
       "      <th>Patient's age greater than 34 at delivery Y_N</th>\n",
       "      <th>Pregnancy Induced Hypertension</th>\n",
       "      <th>Preterm_births</th>\n",
       "      <th>Regular exercise Y_N</th>\n",
       "      <th>Term_births</th>\n",
       "      <th>Tobacco Y_N</th>\n",
       "      <th>Urinary tract infection Y_N</th>\n",
       "    </tr>\n",
       "  </thead>\n",
       "  <tbody>\n",
       "    <tr>\n",
       "      <th>0</th>\n",
       "      <td>0</td>\n",
       "      <td>R200021053</td>\n",
       "      <td>NaN</td>\n",
       "      <td>0.0</td>\n",
       "      <td>0.0</td>\n",
       "      <td>0.0</td>\n",
       "      <td>0.0</td>\n",
       "      <td>0.0</td>\n",
       "      <td>0.0</td>\n",
       "      <td>0.0</td>\n",
       "      <td>...</td>\n",
       "      <td>0.0</td>\n",
       "      <td>0.0</td>\n",
       "      <td>0.0</td>\n",
       "      <td>0</td>\n",
       "      <td>0.0</td>\n",
       "      <td>NaN</td>\n",
       "      <td>1.0</td>\n",
       "      <td>NaN</td>\n",
       "      <td>0.0</td>\n",
       "      <td>0.0</td>\n",
       "    </tr>\n",
       "    <tr>\n",
       "      <th>1</th>\n",
       "      <td>1</td>\n",
       "      <td>R200092312</td>\n",
       "      <td>1.0</td>\n",
       "      <td>0.0</td>\n",
       "      <td>0.0</td>\n",
       "      <td>0.0</td>\n",
       "      <td>0.0</td>\n",
       "      <td>0.0</td>\n",
       "      <td>1.0</td>\n",
       "      <td>0.0</td>\n",
       "      <td>...</td>\n",
       "      <td>0.0</td>\n",
       "      <td>0.0</td>\n",
       "      <td>0.0</td>\n",
       "      <td>0</td>\n",
       "      <td>0.0</td>\n",
       "      <td>NaN</td>\n",
       "      <td>0.0</td>\n",
       "      <td>5.0</td>\n",
       "      <td>0.0</td>\n",
       "      <td>0.0</td>\n",
       "    </tr>\n",
       "    <tr>\n",
       "      <th>2</th>\n",
       "      <td>2</td>\n",
       "      <td>R200142144</td>\n",
       "      <td>0.0</td>\n",
       "      <td>0.0</td>\n",
       "      <td>0.0</td>\n",
       "      <td>0.0</td>\n",
       "      <td>0.0</td>\n",
       "      <td>0.0</td>\n",
       "      <td>0.0</td>\n",
       "      <td>0.0</td>\n",
       "      <td>...</td>\n",
       "      <td>0.0</td>\n",
       "      <td>0.0</td>\n",
       "      <td>0.0</td>\n",
       "      <td>0</td>\n",
       "      <td>0.0</td>\n",
       "      <td>0.0</td>\n",
       "      <td>0.0</td>\n",
       "      <td>2.0</td>\n",
       "      <td>0.0</td>\n",
       "      <td>0.0</td>\n",
       "    </tr>\n",
       "    <tr>\n",
       "      <th>3</th>\n",
       "      <td>3</td>\n",
       "      <td>R200185498</td>\n",
       "      <td>NaN</td>\n",
       "      <td>0.0</td>\n",
       "      <td>0.0</td>\n",
       "      <td>0.0</td>\n",
       "      <td>0.0</td>\n",
       "      <td>0.0</td>\n",
       "      <td>1.0</td>\n",
       "      <td>0.0</td>\n",
       "      <td>...</td>\n",
       "      <td>0.0</td>\n",
       "      <td>0.0</td>\n",
       "      <td>0.0</td>\n",
       "      <td>0</td>\n",
       "      <td>0.0</td>\n",
       "      <td>NaN</td>\n",
       "      <td>1.0</td>\n",
       "      <td>NaN</td>\n",
       "      <td>0.0</td>\n",
       "      <td>0.0</td>\n",
       "    </tr>\n",
       "    <tr>\n",
       "      <th>4</th>\n",
       "      <td>4</td>\n",
       "      <td>R200265173</td>\n",
       "      <td>NaN</td>\n",
       "      <td>NaN</td>\n",
       "      <td>0.0</td>\n",
       "      <td>0.0</td>\n",
       "      <td>NaN</td>\n",
       "      <td>NaN</td>\n",
       "      <td>0.0</td>\n",
       "      <td>0.0</td>\n",
       "      <td>...</td>\n",
       "      <td>0.0</td>\n",
       "      <td>0.0</td>\n",
       "      <td>0.0</td>\n",
       "      <td>0</td>\n",
       "      <td>0.0</td>\n",
       "      <td>NaN</td>\n",
       "      <td>NaN</td>\n",
       "      <td>NaN</td>\n",
       "      <td>NaN</td>\n",
       "      <td>0.0</td>\n",
       "    </tr>\n",
       "  </tbody>\n",
       "</table>\n",
       "<p>5 rows × 94 columns</p>\n",
       "</div>"
      ],
      "text/plain": [
       "   index        GRID  Abortion  Alcohol Y_N  \\\n",
       "0      0  R200021053       NaN          0.0   \n",
       "1      1  R200092312       1.0          0.0   \n",
       "2      2  R200142144       0.0          0.0   \n",
       "3      3  R200185498       NaN          0.0   \n",
       "4      4  R200265173       NaN          NaN   \n",
       "\n",
       "   Baby's father had a child with birth defect not listed  \\\n",
       "0                                                0.0        \n",
       "1                                                0.0        \n",
       "2                                                0.0        \n",
       "3                                                0.0        \n",
       "4                                                0.0        \n",
       "\n",
       "   Baby's father's family has history of birth defect not listed  Drugs Y_N  \\\n",
       "0                                                0.0                    0.0   \n",
       "1                                                0.0                    0.0   \n",
       "2                                                0.0                    0.0   \n",
       "3                                                0.0                    0.0   \n",
       "4                                                0.0                    NaN   \n",
       "\n",
       "   Endocrine Metabolic Patient Y_N  Endocrine metaboloic Patient History Y_N  \\\n",
       "0                              0.0                                       0.0   \n",
       "1                              0.0                                       1.0   \n",
       "2                              0.0                                       0.0   \n",
       "3                              0.0                                       1.0   \n",
       "4                              NaN                                       0.0   \n",
       "\n",
       "   Familly History Thalessemia (Italian, Greek, Mediterranean, or Asian Background); MCV <80 Y_N  \\\n",
       "0                                                0.0                                               \n",
       "1                                                0.0                                               \n",
       "2                                                0.0                                               \n",
       "3                                                0.0                                               \n",
       "4                                                0.0                                               \n",
       "\n",
       "              ...               \\\n",
       "0             ...                \n",
       "1             ...                \n",
       "2             ...                \n",
       "3             ...                \n",
       "4             ...                \n",
       "\n",
       "   Patient History Urinary tract problems including UTIs and Pyel Y_N  \\\n",
       "0                                                0.0                    \n",
       "1                                                0.0                    \n",
       "2                                                0.0                    \n",
       "3                                                0.0                    \n",
       "4                                                0.0                    \n",
       "\n",
       "   Patient History of Seizure  \\\n",
       "0                         0.0   \n",
       "1                         0.0   \n",
       "2                         0.0   \n",
       "3                         0.0   \n",
       "4                         0.0   \n",
       "\n",
       "   Patient History of sexual/physical abuse or trauma Y_N  \\\n",
       "0                                                0.0        \n",
       "1                                                0.0        \n",
       "2                                                0.0        \n",
       "3                                                0.0        \n",
       "4                                                0.0        \n",
       "\n",
       "   Patient's age greater than 34 at delivery Y_N  \\\n",
       "0                                              0   \n",
       "1                                              0   \n",
       "2                                              0   \n",
       "3                                              0   \n",
       "4                                              0   \n",
       "\n",
       "   Pregnancy Induced Hypertension  Preterm_births  Regular exercise Y_N  \\\n",
       "0                             0.0             NaN                   1.0   \n",
       "1                             0.0             NaN                   0.0   \n",
       "2                             0.0             0.0                   0.0   \n",
       "3                             0.0             NaN                   1.0   \n",
       "4                             0.0             NaN                   NaN   \n",
       "\n",
       "   Term_births  Tobacco Y_N  Urinary tract infection Y_N  \n",
       "0          NaN          0.0                          0.0  \n",
       "1          5.0          0.0                          0.0  \n",
       "2          2.0          0.0                          0.0  \n",
       "3          NaN          0.0                          0.0  \n",
       "4          NaN          NaN                          0.0  \n",
       "\n",
       "[5 rows x 94 columns]"
      ]
     },
     "execution_count": 29,
     "metadata": {},
     "output_type": "execute_result"
    }
   ],
   "source": [
    "binary_ob_df.head()\n",
    "binary_file_name= os.path.join(\"/dors/capra_lab/users/abraha1/projects/PTB_phenotyping/data/ptb_predict_machine_learning/ob_notes_variables\", 'filtered_wide_ob_notes_w_na_binary_and_counts.tsv')\n",
    "binary_ob_df.drop(columns='index').to_csv(binary_file_name, sep=\"\\t\", index=False, na_rep=\"NA\")\n"
   ]
  },
  {
   "cell_type": "code",
   "execution_count": 65,
   "metadata": {
    "ExecuteTime": {
     "end_time": "2019-01-02T08:51:07.431197Z",
     "start_time": "2019-01-02T08:47:05.102819Z"
    }
   },
   "outputs": [],
   "source": [
    "### WRITE THE SAME NUMBER OF GRIDS \n",
    "icd_ob_df[icd_ob_df.GRID.isin(all_grids)].to_csv(os.path.join(FEAT_DIR, 'icd9_ob_w_na_eq_samples_feat_mat.tsv'), sep=\"\\t\", \n",
    "                 index=False, na_rep=\"NA\")\n",
    "icd_ob_age_df[icd_ob_age_df.GRID.isin(all_grids)].to_csv(os.path.join(FEAT_DIR, 'icd9_ob_age_w_na_eq_samples_feat_mat.tsv'), sep=\"\\t\", \n",
    "                 index=False, na_rep=\"NA\")\n",
    "icd_ob_age_race_df[icd_ob_age_race_df.GRID.isin(all_grids)].to_csv(os.path.join(FEAT_DIR, 'icd9_ob_age_race_w_na_eq_samples_feat_mat.tsv'), sep=\"\\t\", \n",
    "                  index=False, na_rep=\"NA\")\n",
    "icd_df[icd_df.GRID.isin(all_grids)].to_csv(os.path.join(FEAT_DIR, 'icd9_w_na_eq_samples_feat_mat.tsv'), sep=\"\\t\", \n",
    "                  index=False, na_rep=\"NA\")\n",
    "\n",
    "before_icd_ob_df[before_icd_ob_df.GRID.isin(before_grids)].to_csv(os.path.join(FEAT_DIR, \n",
    "                'before_icd9_ob_w_na_eq_samples_feat_mat.tsv'), sep=\"\\t\", \n",
    "                 index=False, na_rep=\"NA\")\n",
    "before_icd_ob_age_df[before_icd_ob_age_df.GRID.isin(before_grids)].to_csv(os.path.join(FEAT_DIR, \n",
    "                'before_icd9_ob_age_w_na_eq_samples_feat_mat.tsv'), sep=\"\\t\", \n",
    "                 index=False, na_rep=\"NA\")\n",
    "before_icd_ob_age_race_df[before_icd_ob_age_race_df.GRID.isin(before_grids)].to_csv(os.path.join(FEAT_DIR, \n",
    "                'before_icd9_ob_age_race_w_na_eq_samples_feat_mat.tsv'), sep=\"\\t\", \n",
    "                 index=False, na_rep=\"NA\")\n",
    "before_icd_df[before_icd_df.GRID.isin(before_grids)].to_csv(os.path.join(FEAT_DIR, \n",
    "                'before_icd9_w_na_eq_samples_feat_mat.tsv'), sep=\"\\t\", \n",
    "                 index=False, na_rep=\"NA\")\n",
    "\n"
   ]
  },
  {
   "cell_type": "code",
   "execution_count": 66,
   "metadata": {
    "ExecuteTime": {
     "end_time": "2019-01-02T09:05:09.234424Z",
     "start_time": "2019-01-02T08:51:07.433856Z"
    }
   },
   "outputs": [
    {
     "ename": "KeyboardInterrupt",
     "evalue": "",
     "output_type": "error",
     "traceback": [
      "\u001b[0;31m---------------------------------------------------------------------------\u001b[0m",
      "\u001b[0;31mKeyboardInterrupt\u001b[0m                         Traceback (most recent call last)",
      "\u001b[0;32m<ipython-input-66-7b96cb3b0530>\u001b[0m in \u001b[0;36m<module>\u001b[0;34m()\u001b[0m\n\u001b[1;32m      8\u001b[0m                   index=False, na_rep=\"NA\")\n\u001b[1;32m      9\u001b[0m icd_df.to_csv(os.path.join(FEAT_DIR, 'icd9_w_na_feat_mat.tsv'), sep=\"\\t\", \n\u001b[0;32m---> 10\u001b[0;31m                   index=False, na_rep=\"NA\")\n\u001b[0m\u001b[1;32m     11\u001b[0m \u001b[0;34m\u001b[0m\u001b[0m\n",
      "\u001b[0;32m~/.conda/envs/verBio/lib/python3.6/site-packages/pandas/core/frame.py\u001b[0m in \u001b[0;36mto_csv\u001b[0;34m(self, path_or_buf, sep, na_rep, float_format, columns, header, index, index_label, mode, encoding, compression, quoting, quotechar, line_terminator, chunksize, tupleize_cols, date_format, doublequote, escapechar, decimal)\u001b[0m\n\u001b[1;32m   1743\u001b[0m                                  \u001b[0mdoublequote\u001b[0m\u001b[0;34m=\u001b[0m\u001b[0mdoublequote\u001b[0m\u001b[0;34m,\u001b[0m\u001b[0;34m\u001b[0m\u001b[0m\n\u001b[1;32m   1744\u001b[0m                                  escapechar=escapechar, decimal=decimal)\n\u001b[0;32m-> 1745\u001b[0;31m         \u001b[0mformatter\u001b[0m\u001b[0;34m.\u001b[0m\u001b[0msave\u001b[0m\u001b[0;34m(\u001b[0m\u001b[0;34m)\u001b[0m\u001b[0;34m\u001b[0m\u001b[0m\n\u001b[0m\u001b[1;32m   1746\u001b[0m \u001b[0;34m\u001b[0m\u001b[0m\n\u001b[1;32m   1747\u001b[0m         \u001b[0;32mif\u001b[0m \u001b[0mpath_or_buf\u001b[0m \u001b[0;32mis\u001b[0m \u001b[0;32mNone\u001b[0m\u001b[0;34m:\u001b[0m\u001b[0;34m\u001b[0m\u001b[0m\n",
      "\u001b[0;32m~/.conda/envs/verBio/lib/python3.6/site-packages/pandas/io/formats/csvs.py\u001b[0m in \u001b[0;36msave\u001b[0;34m(self)\u001b[0m\n\u001b[1;32m    169\u001b[0m                 \u001b[0mself\u001b[0m\u001b[0;34m.\u001b[0m\u001b[0mwriter\u001b[0m \u001b[0;34m=\u001b[0m \u001b[0mUnicodeWriter\u001b[0m\u001b[0;34m(\u001b[0m\u001b[0mf\u001b[0m\u001b[0;34m,\u001b[0m \u001b[0;34m**\u001b[0m\u001b[0mwriter_kwargs\u001b[0m\u001b[0;34m)\u001b[0m\u001b[0;34m\u001b[0m\u001b[0m\n\u001b[1;32m    170\u001b[0m \u001b[0;34m\u001b[0m\u001b[0m\n\u001b[0;32m--> 171\u001b[0;31m             \u001b[0mself\u001b[0m\u001b[0;34m.\u001b[0m\u001b[0m_save\u001b[0m\u001b[0;34m(\u001b[0m\u001b[0;34m)\u001b[0m\u001b[0;34m\u001b[0m\u001b[0m\n\u001b[0m\u001b[1;32m    172\u001b[0m \u001b[0;34m\u001b[0m\u001b[0m\n\u001b[1;32m    173\u001b[0m         \u001b[0;32mfinally\u001b[0m\u001b[0;34m:\u001b[0m\u001b[0;34m\u001b[0m\u001b[0m\n",
      "\u001b[0;32m~/.conda/envs/verBio/lib/python3.6/site-packages/pandas/io/formats/csvs.py\u001b[0m in \u001b[0;36m_save\u001b[0;34m(self)\u001b[0m\n\u001b[1;32m    284\u001b[0m                 \u001b[0;32mbreak\u001b[0m\u001b[0;34m\u001b[0m\u001b[0m\n\u001b[1;32m    285\u001b[0m \u001b[0;34m\u001b[0m\u001b[0m\n\u001b[0;32m--> 286\u001b[0;31m             \u001b[0mself\u001b[0m\u001b[0;34m.\u001b[0m\u001b[0m_save_chunk\u001b[0m\u001b[0;34m(\u001b[0m\u001b[0mstart_i\u001b[0m\u001b[0;34m,\u001b[0m \u001b[0mend_i\u001b[0m\u001b[0;34m)\u001b[0m\u001b[0;34m\u001b[0m\u001b[0m\n\u001b[0m\u001b[1;32m    287\u001b[0m \u001b[0;34m\u001b[0m\u001b[0m\n\u001b[1;32m    288\u001b[0m     \u001b[0;32mdef\u001b[0m \u001b[0m_save_chunk\u001b[0m\u001b[0;34m(\u001b[0m\u001b[0mself\u001b[0m\u001b[0;34m,\u001b[0m \u001b[0mstart_i\u001b[0m\u001b[0;34m,\u001b[0m \u001b[0mend_i\u001b[0m\u001b[0;34m)\u001b[0m\u001b[0;34m:\u001b[0m\u001b[0;34m\u001b[0m\u001b[0m\n",
      "\u001b[0;32m~/.conda/envs/verBio/lib/python3.6/site-packages/pandas/io/formats/csvs.py\u001b[0m in \u001b[0;36m_save_chunk\u001b[0;34m(self, start_i, end_i)\u001b[0m\n\u001b[1;32m    298\u001b[0m                                   \u001b[0mdecimal\u001b[0m\u001b[0;34m=\u001b[0m\u001b[0mself\u001b[0m\u001b[0;34m.\u001b[0m\u001b[0mdecimal\u001b[0m\u001b[0;34m,\u001b[0m\u001b[0;34m\u001b[0m\u001b[0m\n\u001b[1;32m    299\u001b[0m                                   \u001b[0mdate_format\u001b[0m\u001b[0;34m=\u001b[0m\u001b[0mself\u001b[0m\u001b[0;34m.\u001b[0m\u001b[0mdate_format\u001b[0m\u001b[0;34m,\u001b[0m\u001b[0;34m\u001b[0m\u001b[0m\n\u001b[0;32m--> 300\u001b[0;31m                                   quoting=self.quoting)\n\u001b[0m\u001b[1;32m    301\u001b[0m \u001b[0;34m\u001b[0m\u001b[0m\n\u001b[1;32m    302\u001b[0m             \u001b[0;32mfor\u001b[0m \u001b[0mcol_loc\u001b[0m\u001b[0;34m,\u001b[0m \u001b[0mcol\u001b[0m \u001b[0;32min\u001b[0m \u001b[0mzip\u001b[0m\u001b[0;34m(\u001b[0m\u001b[0mb\u001b[0m\u001b[0;34m.\u001b[0m\u001b[0mmgr_locs\u001b[0m\u001b[0;34m,\u001b[0m \u001b[0md\u001b[0m\u001b[0;34m)\u001b[0m\u001b[0;34m:\u001b[0m\u001b[0;34m\u001b[0m\u001b[0m\n",
      "\u001b[0;32m~/.conda/envs/verBio/lib/python3.6/site-packages/pandas/core/internals.py\u001b[0m in \u001b[0;36mto_native_types\u001b[0;34m(self, slicer, na_rep, quoting, **kwargs)\u001b[0m\n\u001b[1;32m    764\u001b[0m \u001b[0;34m\u001b[0m\u001b[0m\n\u001b[1;32m    765\u001b[0m         \u001b[0;32mif\u001b[0m \u001b[0;32mnot\u001b[0m \u001b[0mself\u001b[0m\u001b[0;34m.\u001b[0m\u001b[0mis_object\u001b[0m \u001b[0;32mand\u001b[0m \u001b[0;32mnot\u001b[0m \u001b[0mquoting\u001b[0m\u001b[0;34m:\u001b[0m\u001b[0;34m\u001b[0m\u001b[0m\n\u001b[0;32m--> 766\u001b[0;31m             \u001b[0mvalues\u001b[0m \u001b[0;34m=\u001b[0m \u001b[0mvalues\u001b[0m\u001b[0;34m.\u001b[0m\u001b[0mastype\u001b[0m\u001b[0;34m(\u001b[0m\u001b[0mstr\u001b[0m\u001b[0;34m)\u001b[0m\u001b[0;34m\u001b[0m\u001b[0m\n\u001b[0m\u001b[1;32m    767\u001b[0m         \u001b[0;32melse\u001b[0m\u001b[0;34m:\u001b[0m\u001b[0;34m\u001b[0m\u001b[0m\n\u001b[1;32m    768\u001b[0m             \u001b[0mvalues\u001b[0m \u001b[0;34m=\u001b[0m \u001b[0mnp\u001b[0m\u001b[0;34m.\u001b[0m\u001b[0marray\u001b[0m\u001b[0;34m(\u001b[0m\u001b[0mvalues\u001b[0m\u001b[0;34m,\u001b[0m \u001b[0mdtype\u001b[0m\u001b[0;34m=\u001b[0m\u001b[0;34m'object'\u001b[0m\u001b[0;34m)\u001b[0m\u001b[0;34m\u001b[0m\u001b[0m\n",
      "\u001b[0;31mKeyboardInterrupt\u001b[0m: "
     ]
    }
   ],
   "source": [
    "## NUMBER OF GRIDS IS NOT LIMITED TO intersection off all three datasets \n",
    "\n",
    "icd_ob_df.to_csv(os.path.join(FEAT_DIR, 'icd9_ob_w_na_feat_mat.tsv'), sep=\"\\t\", \n",
    "                 index=False, na_rep=\"NA\")\n",
    "icd_ob_age_df.to_csv(os.path.join(FEAT_DIR, 'icd9_ob_age_w_na_feat_mat.tsv'), sep=\"\\t\", \n",
    "                 index=False, na_rep=\"NA\")\n",
    "icd_ob_age_race_df.to_csv(os.path.join(FEAT_DIR, 'icd9_ob_age_race_w_na_feat_mat.tsv'), sep=\"\\t\", \n",
    "                  index=False, na_rep=\"NA\")\n",
    "icd_df.to_csv(os.path.join(FEAT_DIR, 'icd9_w_na_feat_mat.tsv'), sep=\"\\t\", \n",
    "                  index=False, na_rep=\"NA\")\n",
    "\n"
   ]
  },
  {
   "cell_type": "markdown",
   "metadata": {
    "heading_collapsed": true
   },
   "source": [
    "### Other"
   ]
  },
  {
   "cell_type": "code",
   "execution_count": 20,
   "metadata": {
    "ExecuteTime": {
     "end_time": "2019-01-02T06:54:28.362337Z",
     "start_time": "2019-01-02T06:54:28.356674Z"
    },
    "collapsed": true,
    "hidden": true
   },
   "outputs": [],
   "source": [
    "DATA_ROOT = \"/dors/capra_lab/users/abraha1/projects/PTB_phenotyping/data/combined_cohorts_07_12_2018/\"\n",
    "ICD10_FILE = os.path.join(DATA_ROOT, \"full_dataset/full_ICD10_cohort.tsv\")"
   ]
  },
  {
   "cell_type": "code",
   "execution_count": 21,
   "metadata": {
    "ExecuteTime": {
     "end_time": "2019-01-02T06:54:28.382145Z",
     "start_time": "2019-01-02T06:54:28.366840Z"
    },
    "collapsed": true,
    "hidden": true
   },
   "outputs": [],
   "source": [
    "# load icd10 and see overlap \n",
    "after_icd10_file = \"/dors/capra_lab/users/abraha1/projects/PTB_phenotyping/data/ptb_predict_machine_learning/billing_codes_long_table/icd10_after_first_delivery.tsv\"\n",
    "before_icd10_file = \"/dors/capra_lab/users/abraha1/projects/PTB_phenotyping/data/ptb_predict_machine_learning/billing_codes_long_table/icd10_before_first_delivery.tsv\""
   ]
  },
  {
   "cell_type": "code",
   "execution_count": 22,
   "metadata": {
    "ExecuteTime": {
     "end_time": "2019-01-02T06:54:30.811196Z",
     "start_time": "2019-01-02T06:54:28.386183Z"
    },
    "collapsed": true,
    "hidden": true
   },
   "outputs": [],
   "source": [
    "icd10_df = pd.read_csv(ICD10_FILE, sep=\"\\t\")"
   ]
  },
  {
   "cell_type": "code",
   "execution_count": 23,
   "metadata": {
    "ExecuteTime": {
     "end_time": "2019-01-02T06:54:30.821209Z",
     "start_time": "2019-01-02T06:54:30.814491Z"
    },
    "collapsed": true,
    "hidden": true
   },
   "outputs": [],
   "source": [
    "icd10_grids = icd10_df.GRID.values"
   ]
  },
  {
   "cell_type": "code",
   "execution_count": 24,
   "metadata": {
    "ExecuteTime": {
     "end_time": "2019-01-02T06:54:30.882763Z",
     "start_time": "2019-01-02T06:54:30.825158Z"
    },
    "hidden": true
   },
   "outputs": [
    {
     "data": {
      "text/plain": [
       "(2838, 95)"
      ]
     },
     "execution_count": 24,
     "metadata": {},
     "output_type": "execute_result"
    },
    {
     "data": {
      "text/plain": [
       "1043520"
      ]
     },
     "execution_count": 24,
     "metadata": {},
     "output_type": "execute_result"
    },
    {
     "data": {
      "text/plain": [
       "(1378, 95)"
      ]
     },
     "execution_count": 24,
     "metadata": {},
     "output_type": "execute_result"
    }
   ],
   "source": [
    "ob_df.shape\n",
    "len(icd10_grids)\n",
    "ob_df[ob_df.GRID.isin(icd10_grids)].shape"
   ]
  },
  {
   "cell_type": "markdown",
   "metadata": {
    "hidden": true
   },
   "source": [
    "1376 from icd10 and 199 from icd9 is only 1575. <br> \n",
    "1,263 GRIDS are still missing..."
   ]
  },
  {
   "cell_type": "markdown",
   "metadata": {
    "hidden": true
   },
   "source": [
    "check if these grids are present in estimated delivery date..."
   ]
  },
  {
   "cell_type": "code",
   "execution_count": 25,
   "metadata": {
    "ExecuteTime": {
     "end_time": "2019-01-02T06:54:31.095710Z",
     "start_time": "2019-01-02T06:54:30.886554Z"
    },
    "collapsed": true,
    "hidden": true
   },
   "outputs": [],
   "source": [
    "# load delivery dates lable \n",
    "delivery_date_file = \"/dors/capra_lab/users/abraha1/projects/PTB_phenotyping/data/combined_cohorts_07_12_2018/full_dataset_characterization/est_delivery_date_at_least_one_icd_cpt_ega.tsv\"\n",
    "delivery_df = pd.read_csv(delivery_date_file, sep=\"\\t\")"
   ]
  },
  {
   "cell_type": "code",
   "execution_count": 26,
   "metadata": {
    "ExecuteTime": {
     "end_time": "2019-01-02T06:54:31.129594Z",
     "start_time": "2019-01-02T06:54:31.099452Z"
    },
    "hidden": true
   },
   "outputs": [
    {
     "data": {
      "text/html": [
       "<div>\n",
       "<style scoped>\n",
       "    .dataframe tbody tr th:only-of-type {\n",
       "        vertical-align: middle;\n",
       "    }\n",
       "\n",
       "    .dataframe tbody tr th {\n",
       "        vertical-align: top;\n",
       "    }\n",
       "\n",
       "    .dataframe thead th {\n",
       "        text-align: right;\n",
       "    }\n",
       "</style>\n",
       "<table border=\"1\" class=\"dataframe\">\n",
       "  <thead>\n",
       "    <tr style=\"text-align: right;\">\n",
       "      <th></th>\n",
       "      <th>GRID</th>\n",
       "      <th>consensus_delivery</th>\n",
       "      <th>num_codes</th>\n",
       "      <th>max_diff_days</th>\n",
       "      <th>icd_exists</th>\n",
       "      <th>cpt_exists</th>\n",
       "      <th>ega_exists</th>\n",
       "      <th>icd_label</th>\n",
       "      <th>ega_label</th>\n",
       "      <th>consensus_label</th>\n",
       "      <th>delivery_id</th>\n",
       "    </tr>\n",
       "  </thead>\n",
       "  <tbody>\n",
       "    <tr>\n",
       "      <th>0</th>\n",
       "      <td>R200000594</td>\n",
       "      <td>2006-04-05</td>\n",
       "      <td>2</td>\n",
       "      <td>2</td>\n",
       "      <td>True</td>\n",
       "      <td>True</td>\n",
       "      <td>False</td>\n",
       "      <td>preterm</td>\n",
       "      <td>None</td>\n",
       "      <td>preterm</td>\n",
       "      <td>2006-04-05_R200000594</td>\n",
       "    </tr>\n",
       "    <tr>\n",
       "      <th>1</th>\n",
       "      <td>R200006865</td>\n",
       "      <td>2015-12-19</td>\n",
       "      <td>2</td>\n",
       "      <td>2</td>\n",
       "      <td>True</td>\n",
       "      <td>True</td>\n",
       "      <td>False</td>\n",
       "      <td>preterm, term</td>\n",
       "      <td>None</td>\n",
       "      <td>term</td>\n",
       "      <td>2015-12-19_R200006865</td>\n",
       "    </tr>\n",
       "    <tr>\n",
       "      <th>2</th>\n",
       "      <td>R200009152</td>\n",
       "      <td>2007-04-26</td>\n",
       "      <td>2</td>\n",
       "      <td>0</td>\n",
       "      <td>True</td>\n",
       "      <td>True</td>\n",
       "      <td>False</td>\n",
       "      <td>postterm, term</td>\n",
       "      <td>None</td>\n",
       "      <td>postterm</td>\n",
       "      <td>2007-04-26_R200009152</td>\n",
       "    </tr>\n",
       "    <tr>\n",
       "      <th>3</th>\n",
       "      <td>R200009182</td>\n",
       "      <td>2014-07-13</td>\n",
       "      <td>2</td>\n",
       "      <td>0</td>\n",
       "      <td>False</td>\n",
       "      <td>True</td>\n",
       "      <td>True</td>\n",
       "      <td>None</td>\n",
       "      <td>term</td>\n",
       "      <td>term</td>\n",
       "      <td>2014-07-13_R200009182</td>\n",
       "    </tr>\n",
       "    <tr>\n",
       "      <th>4</th>\n",
       "      <td>R200009647</td>\n",
       "      <td>2014-01-15</td>\n",
       "      <td>3</td>\n",
       "      <td>3</td>\n",
       "      <td>True</td>\n",
       "      <td>True</td>\n",
       "      <td>True</td>\n",
       "      <td>preterm</td>\n",
       "      <td>preterm</td>\n",
       "      <td>preterm</td>\n",
       "      <td>2014-01-15_R200009647</td>\n",
       "    </tr>\n",
       "  </tbody>\n",
       "</table>\n",
       "</div>"
      ],
      "text/plain": [
       "         GRID consensus_delivery  num_codes  max_diff_days  icd_exists  \\\n",
       "0  R200000594         2006-04-05          2              2        True   \n",
       "1  R200006865         2015-12-19          2              2        True   \n",
       "2  R200009152         2007-04-26          2              0        True   \n",
       "3  R200009182         2014-07-13          2              0       False   \n",
       "4  R200009647         2014-01-15          3              3        True   \n",
       "\n",
       "   cpt_exists  ega_exists       icd_label ega_label consensus_label  \\\n",
       "0        True       False         preterm      None         preterm   \n",
       "1        True       False   preterm, term      None            term   \n",
       "2        True       False  postterm, term      None        postterm   \n",
       "3        True        True            None      term            term   \n",
       "4        True        True         preterm   preterm         preterm   \n",
       "\n",
       "             delivery_id  \n",
       "0  2006-04-05_R200000594  \n",
       "1  2015-12-19_R200006865  \n",
       "2  2007-04-26_R200009152  \n",
       "3  2014-07-13_R200009182  \n",
       "4  2014-01-15_R200009647  "
      ]
     },
     "execution_count": 26,
     "metadata": {},
     "output_type": "execute_result"
    },
    {
     "data": {
      "text/plain": [
       "(54286, 11)"
      ]
     },
     "execution_count": 26,
     "metadata": {},
     "output_type": "execute_result"
    }
   ],
   "source": [
    "delivery_df.head()\n",
    "delivery_df.shape"
   ]
  },
  {
   "cell_type": "code",
   "execution_count": 27,
   "metadata": {
    "ExecuteTime": {
     "end_time": "2019-01-02T06:54:31.330121Z",
     "start_time": "2019-01-02T06:54:31.131962Z"
    },
    "hidden": true,
    "scrolled": true
   },
   "outputs": [
    {
     "data": {
      "text/plain": [
       "(2838, 95)"
      ]
     },
     "execution_count": 27,
     "metadata": {},
     "output_type": "execute_result"
    },
    {
     "data": {
      "text/plain": [
       "(2838, 95)"
      ]
     },
     "execution_count": 27,
     "metadata": {},
     "output_type": "execute_result"
    }
   ],
   "source": [
    "ob_df.shape\n",
    "ob_df[ob_df.GRID.isin(delivery_df.GRID)].shape"
   ]
  },
  {
   "cell_type": "markdown",
   "metadata": {
    "ExecuteTime": {
     "end_time": "2019-01-02T05:02:38.626901Z",
     "start_time": "2019-01-02T05:02:38.596515Z"
    },
    "hidden": true
   },
   "source": [
    "Yes, they are all there...  <br> \n",
    "So I have icd or cpt or ega data for them ... check cpt raw file  \n"
   ]
  },
  {
   "cell_type": "code",
   "execution_count": 28,
   "metadata": {
    "ExecuteTime": {
     "end_time": "2019-01-02T06:54:31.346588Z",
     "start_time": "2019-01-02T06:54:31.332642Z"
    },
    "collapsed": true,
    "hidden": true
   },
   "outputs": [],
   "source": [
    "cpt_file = \"/dors/capra_lab/users/abraha1/projects/PTB_phenotyping/data/combined_cohorts_07_12_2018/full_cpt_codes/delivery_CPT_only-cohort.tsv\""
   ]
  },
  {
   "cell_type": "code",
   "execution_count": 29,
   "metadata": {
    "ExecuteTime": {
     "end_time": "2019-01-02T06:54:31.767696Z",
     "start_time": "2019-01-02T06:54:31.353353Z"
    },
    "collapsed": true,
    "hidden": true
   },
   "outputs": [],
   "source": [
    "cpt_df = pd.read_csv(cpt_file, sep=\"\\t\")"
   ]
  },
  {
   "cell_type": "code",
   "execution_count": 30,
   "metadata": {
    "ExecuteTime": {
     "end_time": "2019-01-02T06:54:31.809383Z",
     "start_time": "2019-01-02T06:54:31.774515Z"
    },
    "hidden": true
   },
   "outputs": [
    {
     "data": {
      "text/html": [
       "<div>\n",
       "<style scoped>\n",
       "    .dataframe tbody tr th:only-of-type {\n",
       "        vertical-align: middle;\n",
       "    }\n",
       "\n",
       "    .dataframe tbody tr th {\n",
       "        vertical-align: top;\n",
       "    }\n",
       "\n",
       "    .dataframe thead th {\n",
       "        text-align: right;\n",
       "    }\n",
       "</style>\n",
       "<table border=\"1\" class=\"dataframe\">\n",
       "  <thead>\n",
       "    <tr style=\"text-align: right;\">\n",
       "      <th></th>\n",
       "      <th>GRID</th>\n",
       "      <th>CPT</th>\n",
       "      <th>Date</th>\n",
       "      <th>concat_row</th>\n",
       "    </tr>\n",
       "  </thead>\n",
       "  <tbody>\n",
       "    <tr>\n",
       "      <th>0</th>\n",
       "      <td>R222925390</td>\n",
       "      <td>59400</td>\n",
       "      <td>2003-07-26</td>\n",
       "      <td>R222925390_59400_2003-07-26</td>\n",
       "    </tr>\n",
       "    <tr>\n",
       "      <th>1</th>\n",
       "      <td>R299008218</td>\n",
       "      <td>59510</td>\n",
       "      <td>2003-09-26</td>\n",
       "      <td>R299008218_59510_2003-09-26</td>\n",
       "    </tr>\n",
       "    <tr>\n",
       "      <th>2</th>\n",
       "      <td>R212583382</td>\n",
       "      <td>59409</td>\n",
       "      <td>2002-12-04</td>\n",
       "      <td>R212583382_59409_2002-12-04</td>\n",
       "    </tr>\n",
       "    <tr>\n",
       "      <th>3</th>\n",
       "      <td>R212583382</td>\n",
       "      <td>59610</td>\n",
       "      <td>2002-12-04</td>\n",
       "      <td>R212583382_59610_2002-12-04</td>\n",
       "    </tr>\n",
       "    <tr>\n",
       "      <th>4</th>\n",
       "      <td>R284418194</td>\n",
       "      <td>59514</td>\n",
       "      <td>2001-07-27</td>\n",
       "      <td>R284418194_59514_2001-07-27</td>\n",
       "    </tr>\n",
       "  </tbody>\n",
       "</table>\n",
       "</div>"
      ],
      "text/plain": [
       "         GRID    CPT        Date                   concat_row\n",
       "0  R222925390  59400  2003-07-26  R222925390_59400_2003-07-26\n",
       "1  R299008218  59510  2003-09-26  R299008218_59510_2003-09-26\n",
       "2  R212583382  59409  2002-12-04  R212583382_59409_2002-12-04\n",
       "3  R212583382  59610  2002-12-04  R212583382_59610_2002-12-04\n",
       "4  R284418194  59514  2001-07-27  R284418194_59514_2001-07-27"
      ]
     },
     "execution_count": 30,
     "metadata": {},
     "output_type": "execute_result"
    }
   ],
   "source": [
    "cpt_df.head()"
   ]
  },
  {
   "cell_type": "code",
   "execution_count": 31,
   "metadata": {
    "ExecuteTime": {
     "end_time": "2019-01-02T06:54:31.883263Z",
     "start_time": "2019-01-02T06:54:31.816995Z"
    },
    "hidden": true
   },
   "outputs": [
    {
     "data": {
      "text/plain": [
       "(2838, 95)"
      ]
     },
     "execution_count": 31,
     "metadata": {},
     "output_type": "execute_result"
    },
    {
     "data": {
      "text/plain": [
       "(2820, 95)"
      ]
     },
     "execution_count": 31,
     "metadata": {},
     "output_type": "execute_result"
    }
   ],
   "source": [
    "ob_df.shape\n",
    "ob_df[ob_df.GRID.isin(cpt_df.GRID)].shape"
   ]
  },
  {
   "cell_type": "markdown",
   "metadata": {
    "hidden": true
   },
   "source": [
    "AHA! CPT dataet contains almost all of them ..."
   ]
  },
  {
   "cell_type": "markdown",
   "metadata": {
    "hidden": true
   },
   "source": [
    "now, i want to know if icd9/icd10 raw data has these grids... "
   ]
  },
  {
   "cell_type": "code",
   "execution_count": 200,
   "metadata": {
    "ExecuteTime": {
     "end_time": "2019-01-02T05:36:12.134468Z",
     "start_time": "2019-01-02T05:36:12.127532Z"
    },
    "collapsed": true,
    "hidden": true
   },
   "outputs": [],
   "source": [
    "raw_icd9 = \"/dors/capra_lab/users/abraha1/projects/PTB_phenotyping/data/combined_cohorts_07_12_2018/full_dataset/full_ICD9_cohort.tsv\"\n",
    "raw_icd10 = \"/dors/capra_lab/users/abraha1/projects/PTB_phenotyping/data/combined_cohorts_07_12_2018/full_dataset/full_ICD10_cohort.tsv\""
   ]
  },
  {
   "cell_type": "code",
   "execution_count": 201,
   "metadata": {
    "ExecuteTime": {
     "end_time": "2019-01-02T05:36:54.412703Z",
     "start_time": "2019-01-02T05:36:42.416525Z"
    },
    "collapsed": true,
    "hidden": true
   },
   "outputs": [],
   "source": [
    "ricd9 = pd.read_csv(raw_icd9, sep='\\t')\n",
    "ricd10 = pd.read_csv(raw_icd10, sep='\\t')"
   ]
  },
  {
   "cell_type": "code",
   "execution_count": 204,
   "metadata": {
    "ExecuteTime": {
     "end_time": "2019-01-02T05:37:53.021557Z",
     "start_time": "2019-01-02T05:37:52.734663Z"
    },
    "hidden": true
   },
   "outputs": [
    {
     "data": {
      "text/plain": [
       "(2838, 95)"
      ]
     },
     "execution_count": 204,
     "metadata": {},
     "output_type": "execute_result"
    },
    {
     "data": {
      "text/plain": [
       "(1378, 95)"
      ]
     },
     "execution_count": 204,
     "metadata": {},
     "output_type": "execute_result"
    }
   ],
   "source": [
    "ob_df[ob_df.GRID.isin(ricd9.GRID)].shape\n",
    "ob_df[ob_df.GRID.isin(ricd10.GRID)].shape"
   ]
  },
  {
   "cell_type": "markdown",
   "metadata": {
    "hidden": true
   },
   "source": [
    "I want to intersect with EGA data pulled from the ob record ..."
   ]
  },
  {
   "cell_type": "code",
   "execution_count": 205,
   "metadata": {
    "ExecuteTime": {
     "end_time": "2019-01-02T05:51:03.090033Z",
     "start_time": "2019-01-02T05:51:03.083218Z"
    },
    "collapsed": true,
    "hidden": true
   },
   "outputs": [],
   "source": [
    "ob_ega = \"/dors/capra_lab/users/abraha1/projects/PTB_phenotyping/data/combined_cohorts_07_12_2018/full_dataset_characterization/ega_based_est_delivery.tsv\""
   ]
  },
  {
   "cell_type": "code",
   "execution_count": 207,
   "metadata": {
    "ExecuteTime": {
     "end_time": "2019-01-02T05:51:25.789404Z",
     "start_time": "2019-01-02T05:51:25.688754Z"
    },
    "collapsed": true,
    "hidden": true
   },
   "outputs": [],
   "source": [
    "ob_ega_df = pd.read_csv(ob_ega, sep=\"\\t\")"
   ]
  },
  {
   "cell_type": "code",
   "execution_count": 210,
   "metadata": {
    "ExecuteTime": {
     "end_time": "2019-01-02T05:52:34.869106Z",
     "start_time": "2019-01-02T05:52:34.841073Z"
    },
    "hidden": true
   },
   "outputs": [
    {
     "data": {
      "text/plain": [
       "(2838, 95)"
      ]
     },
     "execution_count": 210,
     "metadata": {},
     "output_type": "execute_result"
    },
    {
     "data": {
      "text/plain": [
       "(2505, 95)"
      ]
     },
     "execution_count": 210,
     "metadata": {},
     "output_type": "execute_result"
    }
   ],
   "source": [
    "ob_df.shape\n",
    "ob_df[ob_df.GRID.isin(ob_ega_df.GRID)].shape"
   ]
  }
 ],
 "metadata": {
  "kernelspec": {
   "display_name": "Python 3",
   "language": "python",
   "name": "python3"
  },
  "language_info": {
   "codemirror_mode": {
    "name": "ipython",
    "version": 3
   },
   "file_extension": ".py",
   "mimetype": "text/x-python",
   "name": "python",
   "nbconvert_exporter": "python",
   "pygments_lexer": "ipython3",
   "version": "3.8.2"
  },
  "notify_time": "5",
  "toc": {
   "base_numbering": 1,
   "nav_menu": {},
   "number_sections": true,
   "sideBar": false,
   "skip_h1_title": true,
   "title_cell": "Table of Contents",
   "title_sidebar": "Contents",
   "toc_cell": false,
   "toc_position": {
    "height": "444px",
    "left": "1100.02px",
    "top": "95.957px",
    "width": "283px"
   },
   "toc_section_display": true,
   "toc_window_display": false
  }
 },
 "nbformat": 4,
 "nbformat_minor": 2
}
